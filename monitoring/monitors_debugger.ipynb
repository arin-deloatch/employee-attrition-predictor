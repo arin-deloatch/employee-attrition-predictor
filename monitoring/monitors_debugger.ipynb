{
 "cells": [
  {
   "cell_type": "markdown",
   "id": "a16a42bd-1bc1-4b04-9182-ac89b45e8ae0",
   "metadata": {},
   "source": [
    "# Monitors Debugger Notebook - Verify Monitors Setup and Execution (Optionally)"
   ]
  },
  {
   "cell_type": "code",
   "execution_count": 14,
   "id": "8022d51f-c0a7-47ec-950f-180e55236183",
   "metadata": {},
   "outputs": [
    {
     "name": "stdout",
     "output_type": "stream",
     "text": [
      "CPU times: user 128 μs, sys: 0 ns, total: 128 μs\n",
      "Wall time: 133 μs\n"
     ]
    }
   ],
   "source": [
    "%%time\n",
    "\n",
    "from datetime import datetime, timedelta, timezone\n",
    "import json\n",
    "import os\n",
    "import re\n",
    "import boto3\n",
    "from time import sleep\n",
    "from threading import Thread\n",
    "\n",
    "import io\n",
    "import random\n",
    "import pandas as pd\n",
    "\n",
    "from sagemaker import get_execution_role, session, Session, image_uris\n",
    "from sagemaker.s3 import S3Downloader, S3Uploader\n",
    "from sagemaker.processing import ProcessingJob\n",
    "from sagemaker.serializers import CSVSerializer\n",
    "\n",
    "from sagemaker.model import Model\n",
    "from sagemaker.model_monitor import (\n",
    "    BiasAnalysisConfig,\n",
    "    CronExpressionGenerator,\n",
    "    DataCaptureConfig,\n",
    "    EndpointInput,\n",
    "    ExplainabilityAnalysisConfig,\n",
    "    ModelBiasMonitor,\n",
    "    ModelExplainabilityMonitor,\n",
    ")\n",
    "\n",
    "from sagemaker.clarify import (\n",
    "    BiasConfig,\n",
    "    DataConfig,\n",
    "    ModelConfig,\n",
    "    ModelPredictedLabelConfig,\n",
    "    SHAPConfig,\n",
    ")\n",
    "\n",
    "from threading import Timer"
   ]
  },
  {
   "cell_type": "code",
   "execution_count": 15,
   "id": "a19b1fa5-7129-40be-9d89-6bd2b2bb710a",
   "metadata": {
    "tags": []
   },
   "outputs": [
    {
     "name": "stdout",
     "output_type": "stream",
     "text": [
      "Bucket: sagemaker-us-east-1-084375567266\n",
      "RoleArn: arn:aws:iam::084375567266:role/service-role/SageMaker-ExecutionRole-20250222T162355\n",
      "Region us-east-1\n"
     ]
    }
   ],
   "source": [
    "sagemaker_session = Session()\n",
    "sagemaker_client = sagemaker_session.sagemaker_client\n",
    "sagemaker_runtime_client = sagemaker_session.sagemaker_runtime_client\n",
    "\n",
    "# Retrieve the default Amazon S3 bucket associated with the SageMaker session.\n",
    "bucket = sagemaker_session.default_bucket()\n",
    "print(\"Bucket:\", bucket)\n",
    "\n",
    "# Get the IAM role associated with the current SageMaker notebook or environment.\n",
    "role = get_execution_role()\n",
    "print(\"RoleArn:\", role)\n",
    "\n",
    "# Get the AWS region name for the current session.\n",
    "region = boto3.Session().region_name\n",
    "print(\"Region\", region)\n",
    "\n",
    "# Retrieve the AWS account ID of the caller using the Security Token Service (STS) client.\n",
    "account_id = boto3.client(\"sts\").get_caller_identity().get(\"Account\")\n",
    "\n",
    "# Create a Boto3 client for the SageMaker service, specifying the AWS region.\n",
    "sm = boto3.Session().client(service_name=\"sagemaker\", region_name=region)\n",
    "\n",
    "# Create an S3 client\n",
    "s3 = boto3.client('s3')"
   ]
  },
  {
   "cell_type": "code",
   "execution_count": 19,
   "id": "165216fe-8af5-42d8-a2e4-8078dec9d86f",
   "metadata": {},
   "outputs": [
    {
     "name": "stdout",
     "output_type": "stream",
     "text": [
      "{\n",
      "    \"MonitoringScheduleSummaries\": []\n",
      "}\n"
     ]
    }
   ],
   "source": [
    "!aws sagemaker list-monitoring-schedules --endpoint-name \"retain-ai-xgb-endpoint\""
   ]
  },
  {
   "cell_type": "code",
   "execution_count": 18,
   "id": "d1793f16-dedf-4508-a2ee-6fb9b36accd4",
   "metadata": {},
   "outputs": [
    {
     "name": "stdout",
     "output_type": "stream",
     "text": [
      "\n",
      "An error occurred (ResourceNotFound) when calling the DeleteMonitoringSchedule operation: Monitoring Schedule arn:aws:sagemaker:us-east-1:084375567266:monitoring-schedule/monitoring-schedule-2025-02-24-04-07-06-105 not found\n"
     ]
    }
   ],
   "source": [
    "# !aws sagemaker delete-monitoring-schedule --monitoring-schedule-name \"monitoring-schedule-2025-02-24-04-07-06-105\""
   ]
  },
  {
   "cell_type": "code",
   "execution_count": 23,
   "id": "3ecc49a4-61c3-4c05-8e62-94aba4ecb172",
   "metadata": {},
   "outputs": [
    {
     "name": "stdout",
     "output_type": "stream",
     "text": [
      "2025-02-24 05:33:32       2274 aai-540-group-3-final-project/ground_truth_data/2025-02-24-05/2025/02/24/04/3331.jsonl\n",
      "2025-02-24 05:34:32      11388 aai-540-group-3-final-project/ground_truth_data/2025-02-24-05/2025/02/24/05/3431.jsonl\n",
      "2025-02-24 05:35:32      13660 aai-540-group-3-final-project/ground_truth_data/2025-02-24-05/2025/02/24/05/3531.jsonl\n",
      "2025-02-24 05:36:33      13660 aai-540-group-3-final-project/ground_truth_data/2025-02-24-05/2025/02/24/05/3631.jsonl\n",
      "2025-02-24 05:37:33      13657 aai-540-group-3-final-project/ground_truth_data/2025-02-24-05/2025/02/24/05/3732.jsonl\n",
      "2025-02-24 05:38:33      13662 aai-540-group-3-final-project/ground_truth_data/2025-02-24-05/2025/02/24/05/3832.jsonl\n",
      "2025-02-24 05:39:33      13661 aai-540-group-3-final-project/ground_truth_data/2025-02-24-05/2025/02/24/05/3932.jsonl\n",
      "2025-02-24 05:40:33      11380 aai-540-group-3-final-project/ground_truth_data/2025-02-24-05/2025/02/24/05/4032.jsonl\n",
      "2025-02-24 05:41:33      13657 aai-540-group-3-final-project/ground_truth_data/2025-02-24-05/2025/02/24/05/4132.jsonl\n",
      "2025-02-24 05:42:34      13666 aai-540-group-3-final-project/ground_truth_data/2025-02-24-05/2025/02/24/05/4232.jsonl\n",
      "2025-02-24 05:43:34      13663 aai-540-group-3-final-project/ground_truth_data/2025-02-24-05/2025/02/24/05/4333.jsonl\n",
      "2025-02-24 05:44:34      13650 aai-540-group-3-final-project/ground_truth_data/2025-02-24-05/2025/02/24/05/4433.jsonl\n",
      "2025-02-24 05:45:34      13659 aai-540-group-3-final-project/ground_truth_data/2025-02-24-05/2025/02/24/05/4533.jsonl\n",
      "2025-02-24 05:46:34      13661 aai-540-group-3-final-project/ground_truth_data/2025-02-24-05/2025/02/24/05/4633.jsonl\n",
      "2025-02-24 05:47:35      11382 aai-540-group-3-final-project/ground_truth_data/2025-02-24-05/2025/02/24/05/4733.jsonl\n",
      "2025-02-24 05:48:35      13662 aai-540-group-3-final-project/ground_truth_data/2025-02-24-05/2025/02/24/05/4834.jsonl\n",
      "2025-02-24 05:49:35      13659 aai-540-group-3-final-project/ground_truth_data/2025-02-24-05/2025/02/24/05/4934.jsonl\n",
      "2025-02-24 05:50:35      13660 aai-540-group-3-final-project/ground_truth_data/2025-02-24-05/2025/02/24/05/5034.jsonl\n",
      "2025-02-24 05:51:35      13653 aai-540-group-3-final-project/ground_truth_data/2025-02-24-05/2025/02/24/05/5134.jsonl\n",
      "2025-02-24 05:52:35      13658 aai-540-group-3-final-project/ground_truth_data/2025-02-24-05/2025/02/24/05/5234.jsonl\n",
      "2025-02-24 05:53:36      13660 aai-540-group-3-final-project/ground_truth_data/2025-02-24-05/2025/02/24/05/5335.jsonl\n",
      "2025-02-24 05:54:36      13661 aai-540-group-3-final-project/ground_truth_data/2025-02-24-05/2025/02/24/05/5435.jsonl\n",
      "2025-02-24 05:55:37      11384 aai-540-group-3-final-project/ground_truth_data/2025-02-24-05/2025/02/24/05/5535.jsonl\n",
      "2025-02-24 05:56:37      13658 aai-540-group-3-final-project/ground_truth_data/2025-02-24-05/2025/02/24/05/5636.jsonl\n",
      "2025-02-24 05:57:37      13664 aai-540-group-3-final-project/ground_truth_data/2025-02-24-05/2025/02/24/05/5736.jsonl\n",
      "2025-02-24 05:58:37      13669 aai-540-group-3-final-project/ground_truth_data/2025-02-24-05/2025/02/24/05/5836.jsonl\n",
      "2025-02-24 05:59:37      13659 aai-540-group-3-final-project/ground_truth_data/2025-02-24-05/2025/02/24/05/5936.jsonl\n",
      "2025-02-24 06:00:38      13661 aai-540-group-3-final-project/ground_truth_data/2025-02-24-05/2025/02/24/06/0037.jsonl\n",
      "2025-02-24 06:01:38      13660 aai-540-group-3-final-project/ground_truth_data/2025-02-24-05/2025/02/24/06/0137.jsonl\n",
      "2025-02-24 06:02:38      11387 aai-540-group-3-final-project/ground_truth_data/2025-02-24-05/2025/02/24/06/0237.jsonl\n",
      "2025-02-24 06:03:38      13659 aai-540-group-3-final-project/ground_truth_data/2025-02-24-05/2025/02/24/06/0337.jsonl\n",
      "2025-02-24 06:04:38      13659 aai-540-group-3-final-project/ground_truth_data/2025-02-24-05/2025/02/24/06/0437.jsonl\n",
      "2025-02-24 06:05:39      13667 aai-540-group-3-final-project/ground_truth_data/2025-02-24-05/2025/02/24/06/0537.jsonl\n",
      "2025-02-24 06:06:39      13658 aai-540-group-3-final-project/ground_truth_data/2025-02-24-05/2025/02/24/06/0638.jsonl\n",
      "2025-02-24 06:07:39      13669 aai-540-group-3-final-project/ground_truth_data/2025-02-24-05/2025/02/24/06/0738.jsonl\n",
      "2025-02-24 06:08:39      13656 aai-540-group-3-final-project/ground_truth_data/2025-02-24-05/2025/02/24/06/0838.jsonl\n",
      "2025-02-24 06:09:39      11387 aai-540-group-3-final-project/ground_truth_data/2025-02-24-05/2025/02/24/06/0938.jsonl\n",
      "2025-02-24 06:10:39      13662 aai-540-group-3-final-project/ground_truth_data/2025-02-24-05/2025/02/24/06/1038.jsonl\n"
     ]
    }
   ],
   "source": [
    "!aws s3 ls s3://sagemaker-us-east-1-084375567266/aai-540-group-3-final-project/ground_truth_data/ --recursive"
   ]
  }
 ],
 "metadata": {
  "kernelspec": {
   "display_name": "Python 3 (ipykernel)",
   "language": "python",
   "name": "python3"
  },
  "language_info": {
   "codemirror_mode": {
    "name": "ipython",
    "version": 3
   },
   "file_extension": ".py",
   "mimetype": "text/x-python",
   "name": "python",
   "nbconvert_exporter": "python",
   "pygments_lexer": "ipython3",
   "version": "3.11.11"
  }
 },
 "nbformat": 4,
 "nbformat_minor": 5
}
