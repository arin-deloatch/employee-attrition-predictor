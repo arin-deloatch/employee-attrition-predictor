{
 "cells": [
  {
   "cell_type": "markdown",
   "metadata": {},
   "source": [
    "# Amazon SageMaker Model - Model Runner with Holdout Data"
   ]
  },
  {
   "cell_type": "markdown",
   "metadata": {},
   "source": [
    "## Section 1 - Setup <a id='setup'></a>"
   ]
  },
  {
   "cell_type": "markdown",
   "metadata": {},
   "source": [
    "#### 1.1 Import necessary libraries"
   ]
  },
  {
   "cell_type": "code",
   "execution_count": 1,
   "metadata": {},
   "outputs": [
    {
     "name": "stdout",
     "output_type": "stream",
     "text": [
      "sagemaker.config INFO - Not applying SDK defaults from location: /etc/xdg/sagemaker/config.yaml\n",
      "sagemaker.config INFO - Not applying SDK defaults from location: /home/sagemaker-user/.config/sagemaker/config.yaml\n",
      "CPU times: user 1.22 s, sys: 139 ms, total: 1.36 s\n",
      "Wall time: 1.56 s\n"
     ]
    }
   ],
   "source": [
    "%%time\n",
    "\n",
    "from datetime import datetime, timedelta, timezone\n",
    "import json\n",
    "import os\n",
    "import re\n",
    "import boto3\n",
    "from time import sleep\n",
    "from threading import Thread\n",
    "\n",
    "import io\n",
    "import random\n",
    "import pandas as pd\n",
    "\n",
    "from sagemaker import get_execution_role, session, Session, image_uris\n",
    "from sagemaker.s3 import S3Downloader, S3Uploader\n",
    "from sagemaker.processing import ProcessingJob\n",
    "from sagemaker.serializers import CSVSerializer\n",
    "\n",
    "from sagemaker.model import Model\n",
    "from sagemaker.model_monitor import (\n",
    "    BiasAnalysisConfig,\n",
    "    CronExpressionGenerator,\n",
    "    DataCaptureConfig,\n",
    "    EndpointInput,\n",
    "    ExplainabilityAnalysisConfig,\n",
    "    ModelBiasMonitor,\n",
    "    ModelExplainabilityMonitor,\n",
    ")\n",
    "\n",
    "from sagemaker.clarify import (\n",
    "    BiasConfig,\n",
    "    DataConfig,\n",
    "    ModelConfig,\n",
    "    ModelPredictedLabelConfig,\n",
    "    SHAPConfig,\n",
    ")\n",
    "\n",
    "from threading import Timer"
   ]
  },
  {
   "cell_type": "markdown",
   "metadata": {},
   "source": [
    "#### 1.2 AWS region and IAM Role & Sagemaker Clients and Bucket Details"
   ]
  },
  {
   "cell_type": "code",
   "execution_count": 2,
   "metadata": {
    "tags": []
   },
   "outputs": [
    {
     "name": "stdout",
     "output_type": "stream",
     "text": [
      "Bucket: sagemaker-us-east-1-084375567266\n",
      "RoleArn: arn:aws:iam::084375567266:role/service-role/SageMaker-ExecutionRole-20250222T162355\n",
      "Region us-east-1\n"
     ]
    }
   ],
   "source": [
    "sagemaker_session = Session()\n",
    "sagemaker_client = sagemaker_session.sagemaker_client\n",
    "sagemaker_runtime_client = sagemaker_session.sagemaker_runtime_client\n",
    "\n",
    "# Retrieve the default Amazon S3 bucket associated with the SageMaker session.\n",
    "bucket = sagemaker_session.default_bucket()\n",
    "print(\"Bucket:\", bucket)\n",
    "\n",
    "# Get the IAM role associated with the current SageMaker notebook or environment.\n",
    "role = get_execution_role()\n",
    "print(\"RoleArn:\", role)\n",
    "\n",
    "# Get the AWS region name for the current session.\n",
    "region = boto3.Session().region_name\n",
    "print(\"Region\", region)\n",
    "\n",
    "# Retrieve the AWS account ID of the caller using the Security Token Service (STS) client.\n",
    "account_id = boto3.client(\"sts\").get_caller_identity().get(\"Account\")\n",
    "\n",
    "# Create a Boto3 client for the SageMaker service, specifying the AWS region.\n",
    "sm = boto3.Session().client(service_name=\"sagemaker\", region_name=region)\n",
    "\n",
    "# Create an S3 client\n",
    "s3 = boto3.client('s3')"
   ]
  },
  {
   "cell_type": "code",
   "execution_count": 3,
   "metadata": {},
   "outputs": [
    {
     "data": {
      "text/plain": [
       "{'EndpointName': 'retain-ai-xgb-endpoint',\n",
       " 'EndpointArn': 'arn:aws:sagemaker:us-east-1:084375567266:endpoint/retain-ai-xgb-endpoint',\n",
       " 'EndpointConfigName': 'retain-ai-xgb-endpoint',\n",
       " 'ProductionVariants': [{'VariantName': 'AllTraffic',\n",
       "   'DeployedImages': [{'SpecifiedImage': '683313688378.dkr.ecr.us-east-1.amazonaws.com/sagemaker-xgboost:0.90-1-cpu-py3',\n",
       "     'ResolvedImage': '683313688378.dkr.ecr.us-east-1.amazonaws.com/sagemaker-xgboost@sha256:4814427c3e0a6cf99e637704da3ada04219ac7cd5727ff62284153761d36d7d3',\n",
       "     'ResolutionTime': datetime.datetime(2025, 2, 24, 3, 30, 46, 86000, tzinfo=tzlocal())}],\n",
       "   'CurrentWeight': 1.0,\n",
       "   'DesiredWeight': 1.0,\n",
       "   'CurrentInstanceCount': 1,\n",
       "   'DesiredInstanceCount': 1}],\n",
       " 'DataCaptureConfig': {'EnableCapture': True,\n",
       "  'CaptureStatus': 'Started',\n",
       "  'CurrentSamplingPercentage': 100,\n",
       "  'DestinationS3Uri': 's3://sagemaker-us-east-1-084375567266/aai-540-group-3-final-project/data/monitoring'},\n",
       " 'EndpointStatus': 'InService',\n",
       " 'CreationTime': datetime.datetime(2025, 2, 24, 3, 30, 45, 492000, tzinfo=tzlocal()),\n",
       " 'LastModifiedTime': datetime.datetime(2025, 2, 24, 3, 34, 54, 342000, tzinfo=tzlocal()),\n",
       " 'ResponseMetadata': {'RequestId': '3b817240-6231-47b9-9b93-07115f6e52ba',\n",
       "  'HTTPStatusCode': 200,\n",
       "  'HTTPHeaders': {'x-amzn-requestid': '3b817240-6231-47b9-9b93-07115f6e52ba',\n",
       "   'content-type': 'application/x-amz-json-1.1',\n",
       "   'content-length': '926',\n",
       "   'date': 'Tue, 25 Feb 2025 03:00:36 GMT'},\n",
       "  'RetryAttempts': 0}}"
      ]
     },
     "metadata": {},
     "output_type": "display_data"
    }
   ],
   "source": [
    "endpoint_name = \"retain-ai-xgb-endpoint\"\n",
    "response = sagemaker_client.describe_endpoint(EndpointName=endpoint_name)\n",
    "display(response)"
   ]
  },
  {
   "cell_type": "code",
   "execution_count": 4,
   "metadata": {},
   "outputs": [
    {
     "data": {
      "text/html": [
       "<div>\n",
       "<style scoped>\n",
       "    .dataframe tbody tr th:only-of-type {\n",
       "        vertical-align: middle;\n",
       "    }\n",
       "\n",
       "    .dataframe tbody tr th {\n",
       "        vertical-align: top;\n",
       "    }\n",
       "\n",
       "    .dataframe thead th {\n",
       "        text-align: right;\n",
       "    }\n",
       "</style>\n",
       "<table border=\"1\" class=\"dataframe\">\n",
       "  <thead>\n",
       "    <tr style=\"text-align: right;\">\n",
       "      <th></th>\n",
       "      <th>Employee ID</th>\n",
       "      <th>Age</th>\n",
       "      <th>Gender</th>\n",
       "      <th>Years at Company</th>\n",
       "      <th>Job Role</th>\n",
       "      <th>Monthly Income</th>\n",
       "      <th>Work-Life Balance</th>\n",
       "      <th>Job Satisfaction</th>\n",
       "      <th>Performance Rating</th>\n",
       "      <th>Number of Promotions</th>\n",
       "      <th>...</th>\n",
       "      <th>Number of Dependents</th>\n",
       "      <th>Job Level</th>\n",
       "      <th>Company Size</th>\n",
       "      <th>Company Tenure</th>\n",
       "      <th>Remote Work</th>\n",
       "      <th>Leadership Opportunities</th>\n",
       "      <th>Innovation Opportunities</th>\n",
       "      <th>Company Reputation</th>\n",
       "      <th>Employee Recognition</th>\n",
       "      <th>Attrition</th>\n",
       "    </tr>\n",
       "  </thead>\n",
       "  <tbody>\n",
       "    <tr>\n",
       "      <th>0</th>\n",
       "      <td>44132</td>\n",
       "      <td>38</td>\n",
       "      <td>1</td>\n",
       "      <td>23</td>\n",
       "      <td>1</td>\n",
       "      <td>10351</td>\n",
       "      <td>0</td>\n",
       "      <td>2</td>\n",
       "      <td>1</td>\n",
       "      <td>2</td>\n",
       "      <td>...</td>\n",
       "      <td>4</td>\n",
       "      <td>0</td>\n",
       "      <td>2</td>\n",
       "      <td>54</td>\n",
       "      <td>0</td>\n",
       "      <td>0</td>\n",
       "      <td>0</td>\n",
       "      <td>3</td>\n",
       "      <td>2</td>\n",
       "      <td>1</td>\n",
       "    </tr>\n",
       "    <tr>\n",
       "      <th>1</th>\n",
       "      <td>67355</td>\n",
       "      <td>22</td>\n",
       "      <td>1</td>\n",
       "      <td>13</td>\n",
       "      <td>2</td>\n",
       "      <td>8012</td>\n",
       "      <td>1</td>\n",
       "      <td>0</td>\n",
       "      <td>2</td>\n",
       "      <td>0</td>\n",
       "      <td>...</td>\n",
       "      <td>1</td>\n",
       "      <td>2</td>\n",
       "      <td>1</td>\n",
       "      <td>74</td>\n",
       "      <td>0</td>\n",
       "      <td>0</td>\n",
       "      <td>0</td>\n",
       "      <td>2</td>\n",
       "      <td>0</td>\n",
       "      <td>1</td>\n",
       "    </tr>\n",
       "    <tr>\n",
       "      <th>2</th>\n",
       "      <td>67290</td>\n",
       "      <td>40</td>\n",
       "      <td>0</td>\n",
       "      <td>32</td>\n",
       "      <td>4</td>\n",
       "      <td>6157</td>\n",
       "      <td>1</td>\n",
       "      <td>1</td>\n",
       "      <td>1</td>\n",
       "      <td>0</td>\n",
       "      <td>...</td>\n",
       "      <td>4</td>\n",
       "      <td>1</td>\n",
       "      <td>2</td>\n",
       "      <td>62</td>\n",
       "      <td>0</td>\n",
       "      <td>0</td>\n",
       "      <td>0</td>\n",
       "      <td>3</td>\n",
       "      <td>1</td>\n",
       "      <td>0</td>\n",
       "    </tr>\n",
       "    <tr>\n",
       "      <th>3</th>\n",
       "      <td>25581</td>\n",
       "      <td>33</td>\n",
       "      <td>0</td>\n",
       "      <td>8</td>\n",
       "      <td>2</td>\n",
       "      <td>9281</td>\n",
       "      <td>2</td>\n",
       "      <td>0</td>\n",
       "      <td>0</td>\n",
       "      <td>2</td>\n",
       "      <td>...</td>\n",
       "      <td>0</td>\n",
       "      <td>0</td>\n",
       "      <td>1</td>\n",
       "      <td>25</td>\n",
       "      <td>0</td>\n",
       "      <td>0</td>\n",
       "      <td>0</td>\n",
       "      <td>2</td>\n",
       "      <td>1</td>\n",
       "      <td>0</td>\n",
       "    </tr>\n",
       "    <tr>\n",
       "      <th>4</th>\n",
       "      <td>39986</td>\n",
       "      <td>57</td>\n",
       "      <td>1</td>\n",
       "      <td>22</td>\n",
       "      <td>3</td>\n",
       "      <td>6116</td>\n",
       "      <td>3</td>\n",
       "      <td>0</td>\n",
       "      <td>0</td>\n",
       "      <td>2</td>\n",
       "      <td>...</td>\n",
       "      <td>2</td>\n",
       "      <td>1</td>\n",
       "      <td>1</td>\n",
       "      <td>38</td>\n",
       "      <td>0</td>\n",
       "      <td>0</td>\n",
       "      <td>0</td>\n",
       "      <td>1</td>\n",
       "      <td>0</td>\n",
       "      <td>1</td>\n",
       "    </tr>\n",
       "    <tr>\n",
       "      <th>...</th>\n",
       "      <td>...</td>\n",
       "      <td>...</td>\n",
       "      <td>...</td>\n",
       "      <td>...</td>\n",
       "      <td>...</td>\n",
       "      <td>...</td>\n",
       "      <td>...</td>\n",
       "      <td>...</td>\n",
       "      <td>...</td>\n",
       "      <td>...</td>\n",
       "      <td>...</td>\n",
       "      <td>...</td>\n",
       "      <td>...</td>\n",
       "      <td>...</td>\n",
       "      <td>...</td>\n",
       "      <td>...</td>\n",
       "      <td>...</td>\n",
       "      <td>...</td>\n",
       "      <td>...</td>\n",
       "      <td>...</td>\n",
       "      <td>...</td>\n",
       "    </tr>\n",
       "    <tr>\n",
       "      <th>29794</th>\n",
       "      <td>37472</td>\n",
       "      <td>32</td>\n",
       "      <td>1</td>\n",
       "      <td>13</td>\n",
       "      <td>2</td>\n",
       "      <td>8809</td>\n",
       "      <td>1</td>\n",
       "      <td>2</td>\n",
       "      <td>0</td>\n",
       "      <td>2</td>\n",
       "      <td>...</td>\n",
       "      <td>4</td>\n",
       "      <td>1</td>\n",
       "      <td>1</td>\n",
       "      <td>26</td>\n",
       "      <td>0</td>\n",
       "      <td>0</td>\n",
       "      <td>0</td>\n",
       "      <td>2</td>\n",
       "      <td>2</td>\n",
       "      <td>1</td>\n",
       "    </tr>\n",
       "    <tr>\n",
       "      <th>29795</th>\n",
       "      <td>16814</td>\n",
       "      <td>45</td>\n",
       "      <td>0</td>\n",
       "      <td>16</td>\n",
       "      <td>4</td>\n",
       "      <td>9907</td>\n",
       "      <td>2</td>\n",
       "      <td>0</td>\n",
       "      <td>0</td>\n",
       "      <td>0</td>\n",
       "      <td>...</td>\n",
       "      <td>1</td>\n",
       "      <td>0</td>\n",
       "      <td>2</td>\n",
       "      <td>79</td>\n",
       "      <td>1</td>\n",
       "      <td>0</td>\n",
       "      <td>0</td>\n",
       "      <td>3</td>\n",
       "      <td>2</td>\n",
       "      <td>0</td>\n",
       "    </tr>\n",
       "    <tr>\n",
       "      <th>29796</th>\n",
       "      <td>15541</td>\n",
       "      <td>28</td>\n",
       "      <td>1</td>\n",
       "      <td>3</td>\n",
       "      <td>3</td>\n",
       "      <td>5238</td>\n",
       "      <td>0</td>\n",
       "      <td>0</td>\n",
       "      <td>3</td>\n",
       "      <td>0</td>\n",
       "      <td>...</td>\n",
       "      <td>1</td>\n",
       "      <td>1</td>\n",
       "      <td>1</td>\n",
       "      <td>5</td>\n",
       "      <td>0</td>\n",
       "      <td>0</td>\n",
       "      <td>0</td>\n",
       "      <td>2</td>\n",
       "      <td>0</td>\n",
       "      <td>0</td>\n",
       "    </tr>\n",
       "    <tr>\n",
       "      <th>29797</th>\n",
       "      <td>56431</td>\n",
       "      <td>39</td>\n",
       "      <td>1</td>\n",
       "      <td>2</td>\n",
       "      <td>1</td>\n",
       "      <td>4814</td>\n",
       "      <td>2</td>\n",
       "      <td>2</td>\n",
       "      <td>0</td>\n",
       "      <td>2</td>\n",
       "      <td>...</td>\n",
       "      <td>2</td>\n",
       "      <td>1</td>\n",
       "      <td>1</td>\n",
       "      <td>74</td>\n",
       "      <td>0</td>\n",
       "      <td>1</td>\n",
       "      <td>0</td>\n",
       "      <td>2</td>\n",
       "      <td>1</td>\n",
       "      <td>0</td>\n",
       "    </tr>\n",
       "    <tr>\n",
       "      <th>29798</th>\n",
       "      <td>62481</td>\n",
       "      <td>28</td>\n",
       "      <td>0</td>\n",
       "      <td>16</td>\n",
       "      <td>1</td>\n",
       "      <td>10304</td>\n",
       "      <td>2</td>\n",
       "      <td>2</td>\n",
       "      <td>1</td>\n",
       "      <td>0</td>\n",
       "      <td>...</td>\n",
       "      <td>3</td>\n",
       "      <td>0</td>\n",
       "      <td>0</td>\n",
       "      <td>82</td>\n",
       "      <td>0</td>\n",
       "      <td>0</td>\n",
       "      <td>0</td>\n",
       "      <td>2</td>\n",
       "      <td>2</td>\n",
       "      <td>0</td>\n",
       "    </tr>\n",
       "  </tbody>\n",
       "</table>\n",
       "<p>29799 rows × 24 columns</p>\n",
       "</div>"
      ],
      "text/plain": [
       "       Employee ID  Age  Gender  Years at Company  Job Role  Monthly Income  \\\n",
       "0            44132   38       1                23         1           10351   \n",
       "1            67355   22       1                13         2            8012   \n",
       "2            67290   40       0                32         4            6157   \n",
       "3            25581   33       0                 8         2            9281   \n",
       "4            39986   57       1                22         3            6116   \n",
       "...            ...  ...     ...               ...       ...             ...   \n",
       "29794        37472   32       1                13         2            8809   \n",
       "29795        16814   45       0                16         4            9907   \n",
       "29796        15541   28       1                 3         3            5238   \n",
       "29797        56431   39       1                 2         1            4814   \n",
       "29798        62481   28       0                16         1           10304   \n",
       "\n",
       "       Work-Life Balance  Job Satisfaction  Performance Rating  \\\n",
       "0                      0                 2                   1   \n",
       "1                      1                 0                   2   \n",
       "2                      1                 1                   1   \n",
       "3                      2                 0                   0   \n",
       "4                      3                 0                   0   \n",
       "...                  ...               ...                 ...   \n",
       "29794                  1                 2                   0   \n",
       "29795                  2                 0                   0   \n",
       "29796                  0                 0                   3   \n",
       "29797                  2                 2                   0   \n",
       "29798                  2                 2                   1   \n",
       "\n",
       "       Number of Promotions  ...  Number of Dependents  Job Level  \\\n",
       "0                         2  ...                     4          0   \n",
       "1                         0  ...                     1          2   \n",
       "2                         0  ...                     4          1   \n",
       "3                         2  ...                     0          0   \n",
       "4                         2  ...                     2          1   \n",
       "...                     ...  ...                   ...        ...   \n",
       "29794                     2  ...                     4          1   \n",
       "29795                     0  ...                     1          0   \n",
       "29796                     0  ...                     1          1   \n",
       "29797                     2  ...                     2          1   \n",
       "29798                     0  ...                     3          0   \n",
       "\n",
       "       Company Size  Company Tenure  Remote Work  Leadership Opportunities  \\\n",
       "0                 2              54            0                         0   \n",
       "1                 1              74            0                         0   \n",
       "2                 2              62            0                         0   \n",
       "3                 1              25            0                         0   \n",
       "4                 1              38            0                         0   \n",
       "...             ...             ...          ...                       ...   \n",
       "29794             1              26            0                         0   \n",
       "29795             2              79            1                         0   \n",
       "29796             1               5            0                         0   \n",
       "29797             1              74            0                         1   \n",
       "29798             0              82            0                         0   \n",
       "\n",
       "       Innovation Opportunities  Company Reputation  Employee Recognition  \\\n",
       "0                             0                   3                     2   \n",
       "1                             0                   2                     0   \n",
       "2                             0                   3                     1   \n",
       "3                             0                   2                     1   \n",
       "4                             0                   1                     0   \n",
       "...                         ...                 ...                   ...   \n",
       "29794                         0                   2                     2   \n",
       "29795                         0                   3                     2   \n",
       "29796                         0                   2                     0   \n",
       "29797                         0                   2                     1   \n",
       "29798                         0                   2                     2   \n",
       "\n",
       "       Attrition  \n",
       "0              1  \n",
       "1              1  \n",
       "2              0  \n",
       "3              0  \n",
       "4              1  \n",
       "...          ...  \n",
       "29794          1  \n",
       "29795          0  \n",
       "29796          0  \n",
       "29797          0  \n",
       "29798          0  \n",
       "\n",
       "[29799 rows x 24 columns]"
      ]
     },
     "metadata": {},
     "output_type": "display_data"
    },
    {
     "name": "stdout",
     "output_type": "stream",
     "text": [
      "['Employee ID', 'Age', 'Gender', 'Years at Company', 'Job Role', 'Monthly Income', 'Work-Life Balance', 'Job Satisfaction', 'Performance Rating', 'Number of Promotions', 'Overtime', 'Distance from Home', 'Education Level', 'Marital Status', 'Number of Dependents', 'Job Level', 'Company Size', 'Company Tenure', 'Remote Work', 'Leadership Opportunities', 'Innovation Opportunities', 'Company Reputation', 'Employee Recognition', 'Attrition']\n",
      "Attrition\n"
     ]
    }
   ],
   "source": [
    "# Download the file from S3 to a local file object\n",
    "houldout_file_key = \"aai-540-group-3-final-project/data/holdout/holdout.csv\"\n",
    "response = s3.get_object(Bucket=bucket, Key=houldout_file_key)\n",
    "\n",
    "# Read the content of the file into a pandas DataFrame\n",
    "data_df = pd.read_csv(response['Body'])\n",
    "\n",
    "# Display the DataFrame\n",
    "display(data_df)\n",
    "\n",
    "all_headers = data_df.columns.to_list()\n",
    "print(all_headers)\n",
    "\n",
    "label_header = all_headers[len(all_headers) - 1]\n",
    "print(label_header)"
   ]
  },
  {
   "cell_type": "markdown",
   "metadata": {},
   "source": [
    "#### 1.3 S3 bucket and prefixes"
   ]
  },
  {
   "cell_type": "code",
   "execution_count": 5,
   "metadata": {},
   "outputs": [
    {
     "name": "stdout",
     "output_type": "stream",
     "text": [
      "Image URI: 156813124566.dkr.ecr.us-east-1.amazonaws.com/sagemaker-model-monitor-analyzer\n",
      "Capture path: s3://sagemaker-us-east-1-084375567266/aai-540-group-3-final-project/data/monitoring\n",
      "Ground truth path: s3://sagemaker-us-east-1-084375567266/aai-540-group-3-final-project/ground_truth_data/2025-02-25\n",
      "Report path: s3://sagemaker-us-east-1-084375567266/aai-540-group-3-final-project/reports\n"
     ]
    }
   ],
   "source": [
    "# Bucket prefix to store details for the monitor\n",
    "prefix = \"aai-540-group-3-final-project\"\n",
    "\n",
    "# Other prefixes\n",
    "data_capture_prefix = f\"{prefix}/data/monitoring\"\n",
    "s3_capture_upload_path = f\"s3://{bucket}/{data_capture_prefix}\"\n",
    "\n",
    "ground_truth_upload_path = (\n",
    "    f\"s3://{bucket}/{prefix}/ground_truth_data/{datetime.now():%Y-%m-%d}\"\n",
    ")\n",
    "\n",
    "reports_prefix = f\"{prefix}/reports\"\n",
    "s3_report_path = f\"s3://{bucket}/{reports_prefix}\"\n",
    "\n",
    "##Get the model monitor image\n",
    "monitor_image_uri = image_uris.retrieve(framework=\"model-monitor\", region=region)\n",
    "\n",
    "print(\"Image URI:\", monitor_image_uri)\n",
    "print(f\"Capture path: {s3_capture_upload_path}\")\n",
    "print(f\"Ground truth path: {ground_truth_upload_path}\")\n",
    "print(f\"Report path: {s3_report_path}\")"
   ]
  },
  {
   "cell_type": "markdown",
   "metadata": {},
   "source": [
    "## 2. Call Endpoint with Houldout Data & Upload Ground Truth"
   ]
  },
  {
   "cell_type": "code",
   "execution_count": 26,
   "metadata": {},
   "outputs": [],
   "source": [
    "import matplotlib.pyplot as plt\n",
    "\n",
    "def print_predictions_graphically(predictions):\n",
    "    \"\"\"\n",
    "    Print predictions graphically as dots and dashes.\n",
    "\n",
    "    Parameters:\n",
    "    - predictions (list): List of predictions (either probabilities or class labels).\n",
    "    \"\"\"\n",
    "    for prediction in predictions:\n",
    "        try:\n",
    "            # Convert prediction to float if it's not already\n",
    "            pred_value = float(prediction)\n",
    "\n",
    "            # Print a dot for values >= 0.5, and a dash for values < 0.5\n",
    "            if pred_value >= 0.5:\n",
    "                print(\".\", end=\"\", flush=True)\n",
    "            else:\n",
    "                print(\"-\", end=\"\", flush=True)\n",
    "\n",
    "        except ValueError:\n",
    "            print(\"Invalid prediction value:\", prediction)\n",
    "    \n",
    "    print()  # Move to the next line after all predictions are printed"
   ]
  },
  {
   "cell_type": "code",
   "execution_count": 44,
   "metadata": {},
   "outputs": [],
   "source": [
    "# Function to invoke SageMaker endpoint and track predictions\n",
    "def invoke_sagemaker_endpoint(data_df=data_df, num_rows=20, endpoint_name=\"retain-ai-xgb-endpoint\"):\n",
    "    \"\"\"\n",
    "    Prepare data and send it to a SageMaker endpoint for prediction.\n",
    "    \"\"\"\n",
    "    # Select random rows\n",
    "    rows = random.sample(range(len(data_df)), num_rows)\n",
    "    selected_data = data_df.iloc[rows]\n",
    "    \n",
    "    # Drop the 'Attrition' column as it's the target variable\n",
    "    input_data = selected_data.drop(columns=['Attrition'])\n",
    "    \n",
    "    # Create a SageMaker runtime client\n",
    "    runtime_client = boto3.client('sagemaker-runtime')\n",
    "\n",
    "    # Loop through the selected rows\n",
    "    predictions = []\n",
    "    employee_ids = []\n",
    "\n",
    "    for index, row in input_data.iterrows():\n",
    "        row_data = row.to_frame().T  # Convert the row to a DataFrame (single-row)\n",
    "        \n",
    "        # Convert to CSV format without the header\n",
    "        csv_buffer = io.StringIO()\n",
    "        row_data.to_csv(csv_buffer, index=False, header=False)\n",
    "        row_payload = csv_buffer.getvalue()  # Get the CSV payload for the row\n",
    "        \n",
    "        # Invoke the endpoint for the row\n",
    "        response = runtime_client.invoke_endpoint(\n",
    "            EndpointName=endpoint_name,\n",
    "            ContentType='text/csv',  # Assuming the model expects CSV input\n",
    "            Body=row_payload,\n",
    "            InferenceId=str(row['Employee ID'])\n",
    "        )\n",
    "        \n",
    "        # Get the prediction from the response\n",
    "        prediction = response['Body'].read().decode('utf-8')\n",
    "        predictions.append(prediction)\n",
    "        # Store the Employee ID for the prediction\n",
    "        employee_ids.append(row['Employee ID'])\n",
    "        \n",
    "    return predictions, employee_ids"
   ]
  },
  {
   "cell_type": "code",
   "execution_count": 48,
   "metadata": {},
   "outputs": [
    {
     "data": {
      "text/plain": [
       "(['0.8406565189361572',\n",
       "  '0.3030962347984314',\n",
       "  '0.4130893051624298',\n",
       "  '0.8846337199211121',\n",
       "  '0.9124721884727478',\n",
       "  '0.1122896745800972',\n",
       "  '0.818571925163269',\n",
       "  '0.9331226944923401',\n",
       "  '0.7598685622215271',\n",
       "  '0.8436989784240723',\n",
       "  '0.15304571390151978',\n",
       "  '0.27725473046302795',\n",
       "  '0.34751754999160767',\n",
       "  '0.39823800325393677',\n",
       "  '0.8239598274230957',\n",
       "  '0.935815691947937',\n",
       "  '0.9508293271064758',\n",
       "  '0.7514158487319946',\n",
       "  '0.6431967616081238',\n",
       "  '0.830248236656189'],\n",
       " [66561,\n",
       "  50726,\n",
       "  43405,\n",
       "  74243,\n",
       "  2806,\n",
       "  21954,\n",
       "  43669,\n",
       "  48977,\n",
       "  53638,\n",
       "  26519,\n",
       "  15183,\n",
       "  72354,\n",
       "  53410,\n",
       "  55247,\n",
       "  1406,\n",
       "  17578,\n",
       "  22715,\n",
       "  25489,\n",
       "  8757,\n",
       "  28279])"
      ]
     },
     "metadata": {},
     "output_type": "display_data"
    }
   ],
   "source": [
    "# Do some test predictions \n",
    "display(invoke_sagemaker_endpoint(data_df, 20))"
   ]
  },
  {
   "cell_type": "code",
   "execution_count": 12,
   "metadata": {},
   "outputs": [],
   "source": [
    "# !aws s3 ls $s3_capture_upload_path  --recursive"
   ]
  },
  {
   "cell_type": "code",
   "execution_count": 49,
   "metadata": {},
   "outputs": [
    {
     "name": "stdout",
     "output_type": "stream",
     "text": [
      "Waiting for captures to show up"
     ]
    },
    {
     "data": {
      "text/plain": [
       "{'captureData': {'endpointInput': {'observedContentType': 'text/csv',\n",
       "   'mode': 'INPUT',\n",
       "   'data': '23435,57,1,14,3,5812,3,0,0,0,0,91,3,2,4,1,1,78,0,0,0,3,0\\n',\n",
       "   'encoding': 'CSV'},\n",
       "  'endpointOutput': {'observedContentType': 'text/csv; charset=utf-8',\n",
       "   'mode': 'OUTPUT',\n",
       "   'data': '0.3607085049152374',\n",
       "   'encoding': 'CSV'}},\n",
       " 'eventMetadata': {'eventId': '8043caff-e40d-4f8b-9568-aa478ba1b9f6',\n",
       "  'inferenceId': '23435',\n",
       "  'inferenceTime': '2025-02-25T05:00:11Z'},\n",
       " 'eventVersion': '0'}"
      ]
     },
     "metadata": {},
     "output_type": "display_data"
    },
    {
     "name": "stdout",
     "output_type": "stream",
     "text": [
      "\n",
      "Found Capture Files:\n",
      "s3://sagemaker-us-east-1-084375567266/aai-540-group-3-final-project/data/monitoring/retain-ai-xgb-endpoint/AllTraffic/2025/02/25/04/34-25-689-a470d254-2652-4cf7-98cd-7793652fceb7.jsonl\n",
      " s3://sagemaker-us-east-1-084375567266/aai-540-group-3-final-project/data/monitoring/retain-ai-xgb-endpoint/AllTraffic/2025/02/25/04/35-27-225-a384fb7c-f9f2-4821-a1ff-731d43d081ec.jsonl\n",
      " s3://sagemaker-us-east-1-084375567266/aai-540-group-3-final-project/data/monitoring/retain-ai-xgb-endpoint/AllTraffic/2025/02/25/05/00-11-355-15ce83eb-3497-4fd8-84cd-868e76d534a4.jsonl\n"
     ]
    }
   ],
   "source": [
    "# View Capture data\n",
    "print(\"Waiting for captures to show up\", end=\"\")\n",
    "capture_files = sorted(S3Downloader.list(f\"{s3_capture_upload_path}/{endpoint_name}\"))\n",
    "if capture_files:\n",
    "    capture_file = S3Downloader.read_file(capture_files[-1]).split(\"\\n\")\n",
    "    capture_record = json.loads(capture_file[0])\n",
    "    display(capture_record)\n",
    "print()\n",
    "print(\"Found Capture Files:\")\n",
    "print(\"\\n \".join(capture_files[-3:]))"
   ]
  },
  {
   "cell_type": "code",
   "execution_count": 50,
   "metadata": {},
   "outputs": [],
   "source": [
    "# To store predictions and their corresponding employee IDs\n",
    "predictions_store = []\n",
    "employee_ids_store = []\n",
    "\n",
    "# Flag to stop the scheduler\n",
    "stop_scheduler = False\n",
    "\n",
    "# Function to invoke SageMaker endpoint and track predictions\n",
    "def invoke_sagemaker_endpoint_with_schedule(data_df=data_df, num_rows=20, endpoint_name=\"retain-ai-xgb-endpoint\"):\n",
    "    if stop_scheduler:\n",
    "        print(\"Prediction scheduler stopped.\")\n",
    "        return\n",
    "        \n",
    "    predictions, employee_ids = invoke_sagemaker_endpoint(data_df=data_df, num_rows=20, endpoint_name=\"retain-ai-xgb-endpoint\")\n",
    "    print_predictions_graphically(predictions)\n",
    "    # Store predictions and IDs for later ground truth upload\n",
    "    predictions_store.append(predictions)\n",
    "    employee_ids_store.append(employee_ids)\n",
    "\n",
    "    # Rescedule every 10 secs \n",
    "    Timer(10, invoke_sagemaker_endpoint_with_schedule).start()"
   ]
  },
  {
   "cell_type": "code",
   "execution_count": 51,
   "metadata": {},
   "outputs": [],
   "source": [
    "# Function to upload ground truth every hour\n",
    "def upload_ground_truth(upload_time=None):\n",
    "    if stop_scheduler:\n",
    "        print(\"Upload scheduler stopped.\")\n",
    "        return\n",
    "        \n",
    "    if upload_time is None:\n",
    "        # Get current time for timestamping the folder in S3\n",
    "        upload_time = datetime.utcnow()\n",
    "\n",
    "    # Flatten the stored Employee IDs into a list of ground truth records\n",
    "    ground_truth_records = []\n",
    "    for ids in employee_ids_store:  # Only need employee_ids for actual labels\n",
    "        for emp_id in ids:  # For each Employee ID\n",
    "            # Fetch the actual Attrition label from data_df for the given Employee ID\n",
    "            actual_attrition = data_df.loc[data_df['Employee ID'] == emp_id, 'Attrition'].values[0]\n",
    "\n",
    "            # Now use the actual Attrition label (not the predicted one) for ground truth\n",
    "            ground_truth_records.append({\n",
    "                \"groundTruthData\": {\n",
    "                    \"data\": str(actual_attrition),  # Use the actual Attrition value (1 or 0)\n",
    "                    \"encoding\": \"CSV\",\n",
    "                },\n",
    "                \"eventMetadata\": {\n",
    "                    \"eventId\": str(emp_id),  # Use Employee ID as the unique identifier\n",
    "                },\n",
    "                \"eventVersion\": \"0\",\n",
    "            })\n",
    "\n",
    "    # Convert ground truth records to JSONL (newline-delimited JSON)\n",
    "    upload_records = [json.dumps(record) for record in ground_truth_records]\n",
    "    data_to_upload = \"\\n\".join(upload_records)\n",
    "    \n",
    "    # Upload to S3\n",
    "    target_s3_uri = f\"{ground_truth_upload_path}/{upload_time:%Y/%m/%d/%H/%M%S}.jsonl\"\n",
    "    print(f\"Uploading {len(upload_records)} records to\", target_s3_uri)\n",
    "    S3Uploader.upload_string_as_file_body(data_to_upload, target_s3_uri)\n",
    "   \n",
    "    # Clear the stored Employee IDs after uploading\n",
    "    employee_ids_store.clear()\n",
    "   \n",
    "    # Rescedule every 60 secs \n",
    "    Timer(60, upload_ground_truth).start()"
   ]
  },
  {
   "cell_type": "code",
   "execution_count": 52,
   "metadata": {},
   "outputs": [],
   "source": [
    "# Start the prediction scheduler\n",
    "def start_predictions():\n",
    "    global stop_scheduler\n",
    "    stop_scheduler = False  # Ensure that the scheduler is running\n",
    "    invoke_sagemaker_endpoint_with_schedule()"
   ]
  },
  {
   "cell_type": "code",
   "execution_count": 53,
   "metadata": {},
   "outputs": [],
   "source": [
    "def start_upload():\n",
    "    global stop_scheduler\n",
    "    stop_scheduler = False  # Ensure that the upload scheduler is running\n",
    "    upload_ground_truth(datetime.utcnow() - timedelta(hours=1))"
   ]
  },
  {
   "cell_type": "code",
   "execution_count": 54,
   "metadata": {},
   "outputs": [],
   "source": [
    "def stop():\n",
    "    global stop_scheduler\n",
    "    stop_scheduler = True  # Stop the upload scheduler"
   ]
  },
  {
   "cell_type": "code",
   "execution_count": 55,
   "metadata": {},
   "outputs": [
    {
     "name": "stdout",
     "output_type": "stream",
     "text": [
      ".....-...-..-...--..\n",
      "Uploading 20 records to s3://sagemaker-us-east-1-084375567266/aai-540-group-3-final-project/ground_truth_data/2025-02-25/2025/02/25/04/0221.jsonl\n",
      "-..--..---....---..-\n",
      "-..--..----.-.-.-.-.\n",
      "-..-.---.-...--..-.-\n",
      ".--.--.--....--..-.-\n",
      ".-..-..-.-..-.-----.\n",
      "Uploading 100 records to s3://sagemaker-us-east-1-084375567266/aai-540-group-3-final-project/ground_truth_data/2025-02-25/2025/02/25/05/0321.jsonl\n",
      "-.--...---.-..---.--\n",
      "...-...-.-.-...-....\n",
      ".-.-....--.-..-..--.\n",
      ".......--..-..-.---.\n",
      "--..-.------.----..-\n",
      "....---.-..--...--..\n",
      "Uploading 120 records to s3://sagemaker-us-east-1-084375567266/aai-540-group-3-final-project/ground_truth_data/2025-02-25/2025/02/25/05/0421.jsonl\n",
      "----.--.--..--...--.\n",
      "----...-.-.----..--.\n",
      "..---..---..----.--.\n",
      "--....-...-.--.-..-.\n",
      "-...-----.--.--...-.\n",
      ".-.-..---....--.----\n",
      "Uploading 120 records to s3://sagemaker-us-east-1-084375567266/aai-540-group-3-final-project/ground_truth_data/2025-02-25/2025/02/25/05/0522.jsonl\n",
      "..-..-.....---...-..\n",
      "...-.----..-..-.-...\n",
      "..-.---.-.-.--..-...\n",
      "..-.---...---..-...-\n",
      "---.-.--.---...-----\n",
      "--....-..-.--..--...\n",
      "Uploading 120 records to s3://sagemaker-us-east-1-084375567266/aai-540-group-3-final-project/ground_truth_data/2025-02-25/2025/02/25/05/0622.jsonl\n",
      ".-..--.....-..--.-.-\n",
      "...-.......--.--....\n",
      "..-.--...-.---....--\n",
      "------....-..--.....\n",
      "..--..-.-.-..-.---..\n",
      ".-..--------..-.-...\n",
      "Uploading 120 records to s3://sagemaker-us-east-1-084375567266/aai-540-group-3-final-project/ground_truth_data/2025-02-25/2025/02/25/05/0722.jsonl\n",
      "-.-..-..-.-...----..\n",
      ".----...--...---.---\n",
      "--.--..-.----.-..-..\n",
      "-..----.-......-...-\n",
      "-..-------.--.-...-.\n",
      "-----..--...-..-....\n",
      "Uploading 120 records to s3://sagemaker-us-east-1-084375567266/aai-540-group-3-final-project/ground_truth_data/2025-02-25/2025/02/25/05/0822.jsonl\n",
      ".---....----.-..--..\n",
      "--..-.....--.-....-.\n",
      ".-.-.-..-..--...---.\n",
      ".---..--..-...------\n",
      ".-..-.--.-.-.--.-.--\n",
      ".--...--.---..-.-...\n",
      "Uploading 120 records to s3://sagemaker-us-east-1-084375567266/aai-540-group-3-final-project/ground_truth_data/2025-02-25/2025/02/25/05/0922.jsonl\n",
      "--.-...--.-.-.....--\n",
      ".-...-.-..---..-.---\n",
      "-.-..-.-..-----.--..\n",
      "-.---.--.-----....--\n",
      ".---.-.-..-.-.......\n",
      "Uploading 100 records to s3://sagemaker-us-east-1-084375567266/aai-540-group-3-final-project/ground_truth_data/2025-02-25/2025/02/25/05/1022.jsonl\n",
      "-......-....---.-...\n",
      "-.-.-...-.--.-.---..\n",
      "-..---.--..--.-..---\n",
      "---..--.--.-.-...---\n",
      "...-.----...--..---.\n",
      "--..---.......-....-\n",
      "Uploading 120 records to s3://sagemaker-us-east-1-084375567266/aai-540-group-3-final-project/ground_truth_data/2025-02-25/2025/02/25/05/1123.jsonl\n",
      "..--.--.-------.-.--\n",
      "-.-.-..-.-..-..-...-\n",
      "-.-------...----.-..\n",
      "-.--.-.-.--.--...-.-\n",
      "--.----.-...--.-.-..\n",
      ".---...-....--..-...\n",
      "Uploading 120 records to s3://sagemaker-us-east-1-084375567266/aai-540-group-3-final-project/ground_truth_data/2025-02-25/2025/02/25/05/1223.jsonl\n",
      "-.-.-..-.-.-.--.---.\n",
      "..---.--.--.--.-..-.\n",
      "---.----.----...-.-.\n",
      "-.-.--......--.--...\n",
      ".-.---.-....-.-....-\n",
      "...-..-..-..-....---\n",
      "Uploading 120 records to s3://sagemaker-us-east-1-084375567266/aai-540-group-3-final-project/ground_truth_data/2025-02-25/2025/02/25/05/1323.jsonl\n",
      "...-..--.--.-..---.-\n",
      "-..---.-.-.-.-.-...-\n",
      "..-.--.----...--.---\n",
      "-.---.-.-.-.--..-...\n",
      ".-.--.--.--.-.------\n",
      "-..-..-.-.-..--....-\n",
      "Uploading 120 records to s3://sagemaker-us-east-1-084375567266/aai-540-group-3-final-project/ground_truth_data/2025-02-25/2025/02/25/05/1423.jsonl\n",
      ".....-.--...----...-\n",
      "--...----...-...-..-\n",
      "--..-.-..--.-...--..\n",
      "-..-..-..---....----\n",
      "--....---.-.-....---\n",
      "--...----...---.....\n",
      "Uploading 120 records to s3://sagemaker-us-east-1-084375567266/aai-540-group-3-final-project/ground_truth_data/2025-02-25/2025/02/25/05/1523.jsonl\n",
      "-..-----.-.-..--.-..\n",
      ".--..-..--.--..-....\n",
      "-.---.---..-..-...--\n",
      "..-...-...-----.....\n",
      ".-...----..---..-.-.\n",
      "..-....--..-....-.-.\n",
      "Uploading 120 records to s3://sagemaker-us-east-1-084375567266/aai-540-group-3-final-project/ground_truth_data/2025-02-25/2025/02/25/05/1624.jsonl\n",
      "----.......-.---....\n",
      "--...--..-.--..-.---\n",
      "...-...--...--..-..-\n",
      "-...---...--....---.\n",
      "..-..-.----..--.-.--\n",
      ".-..-...--.-..-....-\n",
      "Uploading 120 records to s3://sagemaker-us-east-1-084375567266/aai-540-group-3-final-project/ground_truth_data/2025-02-25/2025/02/25/05/1724.jsonl\n",
      "..-.....-.----..-...\n",
      "---...-.--.--.-----.\n",
      ".......----.---..--.\n",
      ".-...--.-.----...--.\n",
      "-.-.--.-..-..-..--..\n",
      "Uploading 100 records to s3://sagemaker-us-east-1-084375567266/aai-540-group-3-final-project/ground_truth_data/2025-02-25/2025/02/25/05/1824.jsonl\n",
      "-----.....-..-..-.-.\n",
      ".--...-.--.--.--....\n",
      "----.-.-..---.--.-..\n",
      "--.---...-......-.-.\n",
      ".----.-.......-.---.\n",
      "-.-....-..--.----...\n",
      "Uploading 120 records to s3://sagemaker-us-east-1-084375567266/aai-540-group-3-final-project/ground_truth_data/2025-02-25/2025/02/25/05/1924.jsonl\n",
      "..--...-...--.-.-...\n",
      ".---...--.--.-.-.-..\n",
      "-..--.----.--.-.....\n",
      "..-.---.-.--.-.-..--\n",
      "--...--..--..--..-..\n",
      ".-.-......-...--..-.\n",
      "Uploading 120 records to s3://sagemaker-us-east-1-084375567266/aai-540-group-3-final-project/ground_truth_data/2025-02-25/2025/02/25/05/2025.jsonl\n",
      "..-....-.--...-..-.-\n"
     ]
    }
   ],
   "source": [
    "start_predictions()  # Start the prediction task every 20 seconds\n",
    "start_upload()   # Start the upload task every minute"
   ]
  },
  {
   "cell_type": "code",
   "execution_count": 22,
   "metadata": {},
   "outputs": [
    {
     "name": "stdout",
     "output_type": "stream",
     "text": [
      "Upload scheduler stopped.\n",
      "Upload scheduler stopped.\n"
     ]
    }
   ],
   "source": [
    "# To stop the scheduler at any point, set the flag to True\n",
    "# Example: to stop the schedule, call the following line\n",
    "stop()\n",
    "# clear the stored Employee IDs after uploading\n",
    "employee_ids_store.clear()"
   ]
  },
  {
   "cell_type": "code",
   "execution_count": 25,
   "metadata": {},
   "outputs": [
    {
     "data": {
      "text/plain": [
       "'{\"groundTruthData\": {\"data\": \"0\", \"encoding\": \"CSV\"}, \"eventMetadata\": {\"eventId\": \"47280\"}, \"eventVersion\": \"0\"}'"
      ]
     },
     "metadata": {},
     "output_type": "display_data"
    },
    {
     "data": {
      "text/plain": [
       "'{\"groundTruthData\": {\"data\": \"0\", \"encoding\": \"CSV\"}, \"eventMetadata\": {\"eventId\": \"51909\"}, \"eventVersion\": \"0\"}'"
      ]
     },
     "metadata": {},
     "output_type": "display_data"
    },
    {
     "data": {
      "text/plain": [
       "'{\"groundTruthData\": {\"data\": \"0\", \"encoding\": \"CSV\"}, \"eventMetadata\": {\"eventId\": \"28878\"}, \"eventVersion\": \"0\"}'"
      ]
     },
     "metadata": {},
     "output_type": "display_data"
    },
    {
     "data": {
      "text/plain": [
       "'{\"groundTruthData\": {\"data\": \"0\", \"encoding\": \"CSV\"}, \"eventMetadata\": {\"eventId\": \"62022\"}, \"eventVersion\": \"0\"}'"
      ]
     },
     "metadata": {},
     "output_type": "display_data"
    },
    {
     "data": {
      "text/plain": [
       "'{\"groundTruthData\": {\"data\": \"1\", \"encoding\": \"CSV\"}, \"eventMetadata\": {\"eventId\": \"14988\"}, \"eventVersion\": \"0\"}'"
      ]
     },
     "metadata": {},
     "output_type": "display_data"
    },
    {
     "data": {
      "text/plain": [
       "'{\"groundTruthData\": {\"data\": \"1\", \"encoding\": \"CSV\"}, \"eventMetadata\": {\"eventId\": \"18759\"}, \"eventVersion\": \"0\"}'"
      ]
     },
     "metadata": {},
     "output_type": "display_data"
    },
    {
     "data": {
      "text/plain": [
       "'{\"groundTruthData\": {\"data\": \"1\", \"encoding\": \"CSV\"}, \"eventMetadata\": {\"eventId\": \"26372\"}, \"eventVersion\": \"0\"}'"
      ]
     },
     "metadata": {},
     "output_type": "display_data"
    },
    {
     "data": {
      "text/plain": [
       "'{\"groundTruthData\": {\"data\": \"0\", \"encoding\": \"CSV\"}, \"eventMetadata\": {\"eventId\": \"66269\"}, \"eventVersion\": \"0\"}'"
      ]
     },
     "metadata": {},
     "output_type": "display_data"
    },
    {
     "data": {
      "text/plain": [
       "'{\"groundTruthData\": {\"data\": \"1\", \"encoding\": \"CSV\"}, \"eventMetadata\": {\"eventId\": \"43312\"}, \"eventVersion\": \"0\"}'"
      ]
     },
     "metadata": {},
     "output_type": "display_data"
    },
    {
     "data": {
      "text/plain": [
       "'{\"groundTruthData\": {\"data\": \"0\", \"encoding\": \"CSV\"}, \"eventMetadata\": {\"eventId\": \"42028\"}, \"eventVersion\": \"0\"}'"
      ]
     },
     "metadata": {},
     "output_type": "display_data"
    },
    {
     "data": {
      "text/plain": [
       "'{\"groundTruthData\": {\"data\": \"0\", \"encoding\": \"CSV\"}, \"eventMetadata\": {\"eventId\": \"23498\"}, \"eventVersion\": \"0\"}'"
      ]
     },
     "metadata": {},
     "output_type": "display_data"
    },
    {
     "data": {
      "text/plain": [
       "'{\"groundTruthData\": {\"data\": \"0\", \"encoding\": \"CSV\"}, \"eventMetadata\": {\"eventId\": \"47470\"}, \"eventVersion\": \"0\"}'"
      ]
     },
     "metadata": {},
     "output_type": "display_data"
    },
    {
     "data": {
      "text/plain": [
       "'{\"groundTruthData\": {\"data\": \"1\", \"encoding\": \"CSV\"}, \"eventMetadata\": {\"eventId\": \"69982\"}, \"eventVersion\": \"0\"}'"
      ]
     },
     "metadata": {},
     "output_type": "display_data"
    },
    {
     "data": {
      "text/plain": [
       "'{\"groundTruthData\": {\"data\": \"0\", \"encoding\": \"CSV\"}, \"eventMetadata\": {\"eventId\": \"11943\"}, \"eventVersion\": \"0\"}'"
      ]
     },
     "metadata": {},
     "output_type": "display_data"
    },
    {
     "data": {
      "text/plain": [
       "'{\"groundTruthData\": {\"data\": \"0\", \"encoding\": \"CSV\"}, \"eventMetadata\": {\"eventId\": \"42323\"}, \"eventVersion\": \"0\"}'"
      ]
     },
     "metadata": {},
     "output_type": "display_data"
    },
    {
     "data": {
      "text/plain": [
       "'{\"groundTruthData\": {\"data\": \"0\", \"encoding\": \"CSV\"}, \"eventMetadata\": {\"eventId\": \"12415\"}, \"eventVersion\": \"0\"}'"
      ]
     },
     "metadata": {},
     "output_type": "display_data"
    },
    {
     "data": {
      "text/plain": [
       "'{\"groundTruthData\": {\"data\": \"1\", \"encoding\": \"CSV\"}, \"eventMetadata\": {\"eventId\": \"43204\"}, \"eventVersion\": \"0\"}'"
      ]
     },
     "metadata": {},
     "output_type": "display_data"
    },
    {
     "data": {
      "text/plain": [
       "'{\"groundTruthData\": {\"data\": \"1\", \"encoding\": \"CSV\"}, \"eventMetadata\": {\"eventId\": \"12635\"}, \"eventVersion\": \"0\"}'"
      ]
     },
     "metadata": {},
     "output_type": "display_data"
    },
    {
     "data": {
      "text/plain": [
       "'{\"groundTruthData\": {\"data\": \"0\", \"encoding\": \"CSV\"}, \"eventMetadata\": {\"eventId\": \"4196\"}, \"eventVersion\": \"0\"}'"
      ]
     },
     "metadata": {},
     "output_type": "display_data"
    },
    {
     "data": {
      "text/plain": [
       "'{\"groundTruthData\": {\"data\": \"1\", \"encoding\": \"CSV\"}, \"eventMetadata\": {\"eventId\": \"33793\"}, \"eventVersion\": \"0\"}'"
      ]
     },
     "metadata": {},
     "output_type": "display_data"
    },
    {
     "data": {
      "text/plain": [
       "'{\"groundTruthData\": {\"data\": \"1\", \"encoding\": \"CSV\"}, \"eventMetadata\": {\"eventId\": \"60657\"}, \"eventVersion\": \"0\"}'"
      ]
     },
     "metadata": {},
     "output_type": "display_data"
    },
    {
     "data": {
      "text/plain": [
       "'{\"groundTruthData\": {\"data\": \"0\", \"encoding\": \"CSV\"}, \"eventMetadata\": {\"eventId\": \"16414\"}, \"eventVersion\": \"0\"}'"
      ]
     },
     "metadata": {},
     "output_type": "display_data"
    },
    {
     "data": {
      "text/plain": [
       "'{\"groundTruthData\": {\"data\": \"0\", \"encoding\": \"CSV\"}, \"eventMetadata\": {\"eventId\": \"60933\"}, \"eventVersion\": \"0\"}'"
      ]
     },
     "metadata": {},
     "output_type": "display_data"
    },
    {
     "data": {
      "text/plain": [
       "'{\"groundTruthData\": {\"data\": \"0\", \"encoding\": \"CSV\"}, \"eventMetadata\": {\"eventId\": \"21916\"}, \"eventVersion\": \"0\"}'"
      ]
     },
     "metadata": {},
     "output_type": "display_data"
    },
    {
     "data": {
      "text/plain": [
       "'{\"groundTruthData\": {\"data\": \"1\", \"encoding\": \"CSV\"}, \"eventMetadata\": {\"eventId\": \"4302\"}, \"eventVersion\": \"0\"}'"
      ]
     },
     "metadata": {},
     "output_type": "display_data"
    },
    {
     "data": {
      "text/plain": [
       "'{\"groundTruthData\": {\"data\": \"1\", \"encoding\": \"CSV\"}, \"eventMetadata\": {\"eventId\": \"53069\"}, \"eventVersion\": \"0\"}'"
      ]
     },
     "metadata": {},
     "output_type": "display_data"
    },
    {
     "data": {
      "text/plain": [
       "'{\"groundTruthData\": {\"data\": \"1\", \"encoding\": \"CSV\"}, \"eventMetadata\": {\"eventId\": \"26191\"}, \"eventVersion\": \"0\"}'"
      ]
     },
     "metadata": {},
     "output_type": "display_data"
    },
    {
     "data": {
      "text/plain": [
       "'{\"groundTruthData\": {\"data\": \"0\", \"encoding\": \"CSV\"}, \"eventMetadata\": {\"eventId\": \"64057\"}, \"eventVersion\": \"0\"}'"
      ]
     },
     "metadata": {},
     "output_type": "display_data"
    },
    {
     "data": {
      "text/plain": [
       "'{\"groundTruthData\": {\"data\": \"0\", \"encoding\": \"CSV\"}, \"eventMetadata\": {\"eventId\": \"11642\"}, \"eventVersion\": \"0\"}'"
      ]
     },
     "metadata": {},
     "output_type": "display_data"
    },
    {
     "data": {
      "text/plain": [
       "'{\"groundTruthData\": {\"data\": \"0\", \"encoding\": \"CSV\"}, \"eventMetadata\": {\"eventId\": \"6747\"}, \"eventVersion\": \"0\"}'"
      ]
     },
     "metadata": {},
     "output_type": "display_data"
    },
    {
     "data": {
      "text/plain": [
       "'{\"groundTruthData\": {\"data\": \"1\", \"encoding\": \"CSV\"}, \"eventMetadata\": {\"eventId\": \"30476\"}, \"eventVersion\": \"0\"}'"
      ]
     },
     "metadata": {},
     "output_type": "display_data"
    },
    {
     "data": {
      "text/plain": [
       "'{\"groundTruthData\": {\"data\": \"1\", \"encoding\": \"CSV\"}, \"eventMetadata\": {\"eventId\": \"14872\"}, \"eventVersion\": \"0\"}'"
      ]
     },
     "metadata": {},
     "output_type": "display_data"
    },
    {
     "data": {
      "text/plain": [
       "'{\"groundTruthData\": {\"data\": \"1\", \"encoding\": \"CSV\"}, \"eventMetadata\": {\"eventId\": \"13253\"}, \"eventVersion\": \"0\"}'"
      ]
     },
     "metadata": {},
     "output_type": "display_data"
    },
    {
     "data": {
      "text/plain": [
       "'{\"groundTruthData\": {\"data\": \"1\", \"encoding\": \"CSV\"}, \"eventMetadata\": {\"eventId\": \"39865\"}, \"eventVersion\": \"0\"}'"
      ]
     },
     "metadata": {},
     "output_type": "display_data"
    },
    {
     "data": {
      "text/plain": [
       "'{\"groundTruthData\": {\"data\": \"0\", \"encoding\": \"CSV\"}, \"eventMetadata\": {\"eventId\": \"38160\"}, \"eventVersion\": \"0\"}'"
      ]
     },
     "metadata": {},
     "output_type": "display_data"
    },
    {
     "data": {
      "text/plain": [
       "'{\"groundTruthData\": {\"data\": \"1\", \"encoding\": \"CSV\"}, \"eventMetadata\": {\"eventId\": \"40736\"}, \"eventVersion\": \"0\"}'"
      ]
     },
     "metadata": {},
     "output_type": "display_data"
    },
    {
     "data": {
      "text/plain": [
       "'{\"groundTruthData\": {\"data\": \"1\", \"encoding\": \"CSV\"}, \"eventMetadata\": {\"eventId\": \"62913\"}, \"eventVersion\": \"0\"}'"
      ]
     },
     "metadata": {},
     "output_type": "display_data"
    },
    {
     "data": {
      "text/plain": [
       "'{\"groundTruthData\": {\"data\": \"0\", \"encoding\": \"CSV\"}, \"eventMetadata\": {\"eventId\": \"3475\"}, \"eventVersion\": \"0\"}'"
      ]
     },
     "metadata": {},
     "output_type": "display_data"
    },
    {
     "data": {
      "text/plain": [
       "'{\"groundTruthData\": {\"data\": \"0\", \"encoding\": \"CSV\"}, \"eventMetadata\": {\"eventId\": \"531\"}, \"eventVersion\": \"0\"}'"
      ]
     },
     "metadata": {},
     "output_type": "display_data"
    },
    {
     "data": {
      "text/plain": [
       "'{\"groundTruthData\": {\"data\": \"0\", \"encoding\": \"CSV\"}, \"eventMetadata\": {\"eventId\": \"72055\"}, \"eventVersion\": \"0\"}'"
      ]
     },
     "metadata": {},
     "output_type": "display_data"
    }
   ],
   "source": [
    "# View Capture data\n",
    "gt_file_splits = S3Downloader.read_file(\"s3://sagemaker-us-east-1-084375567266/aai-540-group-3-final-project/ground_truth_data/2025-02-25/2025/02/25/04/1647.jsonl\").split(\"\\n\")\n",
    "for split in gt_file_splits:\n",
    "    json.loads(split)\n",
    "    display(split)"
   ]
  }
 ],
 "metadata": {
  "availableInstances": [
   {
    "_defaultOrder": 0,
    "_isFastLaunch": true,
    "category": "General purpose",
    "gpuNum": 0,
    "hideHardwareSpecs": false,
    "memoryGiB": 4,
    "name": "ml.t3.medium",
    "vcpuNum": 2
   },
   {
    "_defaultOrder": 1,
    "_isFastLaunch": false,
    "category": "General purpose",
    "gpuNum": 0,
    "hideHardwareSpecs": false,
    "memoryGiB": 8,
    "name": "ml.t3.large",
    "vcpuNum": 2
   },
   {
    "_defaultOrder": 2,
    "_isFastLaunch": false,
    "category": "General purpose",
    "gpuNum": 0,
    "hideHardwareSpecs": false,
    "memoryGiB": 16,
    "name": "ml.t3.xlarge",
    "vcpuNum": 4
   },
   {
    "_defaultOrder": 3,
    "_isFastLaunch": false,
    "category": "General purpose",
    "gpuNum": 0,
    "hideHardwareSpecs": false,
    "memoryGiB": 32,
    "name": "ml.t3.2xlarge",
    "vcpuNum": 8
   },
   {
    "_defaultOrder": 4,
    "_isFastLaunch": true,
    "category": "General purpose",
    "gpuNum": 0,
    "hideHardwareSpecs": false,
    "memoryGiB": 8,
    "name": "ml.m5.large",
    "vcpuNum": 2
   },
   {
    "_defaultOrder": 5,
    "_isFastLaunch": false,
    "category": "General purpose",
    "gpuNum": 0,
    "hideHardwareSpecs": false,
    "memoryGiB": 16,
    "name": "ml.m5.xlarge",
    "vcpuNum": 4
   },
   {
    "_defaultOrder": 6,
    "_isFastLaunch": false,
    "category": "General purpose",
    "gpuNum": 0,
    "hideHardwareSpecs": false,
    "memoryGiB": 32,
    "name": "ml.m5.2xlarge",
    "vcpuNum": 8
   },
   {
    "_defaultOrder": 7,
    "_isFastLaunch": false,
    "category": "General purpose",
    "gpuNum": 0,
    "hideHardwareSpecs": false,
    "memoryGiB": 64,
    "name": "ml.m5.4xlarge",
    "vcpuNum": 16
   },
   {
    "_defaultOrder": 8,
    "_isFastLaunch": false,
    "category": "General purpose",
    "gpuNum": 0,
    "hideHardwareSpecs": false,
    "memoryGiB": 128,
    "name": "ml.m5.8xlarge",
    "vcpuNum": 32
   },
   {
    "_defaultOrder": 9,
    "_isFastLaunch": false,
    "category": "General purpose",
    "gpuNum": 0,
    "hideHardwareSpecs": false,
    "memoryGiB": 192,
    "name": "ml.m5.12xlarge",
    "vcpuNum": 48
   },
   {
    "_defaultOrder": 10,
    "_isFastLaunch": false,
    "category": "General purpose",
    "gpuNum": 0,
    "hideHardwareSpecs": false,
    "memoryGiB": 256,
    "name": "ml.m5.16xlarge",
    "vcpuNum": 64
   },
   {
    "_defaultOrder": 11,
    "_isFastLaunch": false,
    "category": "General purpose",
    "gpuNum": 0,
    "hideHardwareSpecs": false,
    "memoryGiB": 384,
    "name": "ml.m5.24xlarge",
    "vcpuNum": 96
   },
   {
    "_defaultOrder": 12,
    "_isFastLaunch": false,
    "category": "General purpose",
    "gpuNum": 0,
    "hideHardwareSpecs": false,
    "memoryGiB": 8,
    "name": "ml.m5d.large",
    "vcpuNum": 2
   },
   {
    "_defaultOrder": 13,
    "_isFastLaunch": false,
    "category": "General purpose",
    "gpuNum": 0,
    "hideHardwareSpecs": false,
    "memoryGiB": 16,
    "name": "ml.m5d.xlarge",
    "vcpuNum": 4
   },
   {
    "_defaultOrder": 14,
    "_isFastLaunch": false,
    "category": "General purpose",
    "gpuNum": 0,
    "hideHardwareSpecs": false,
    "memoryGiB": 32,
    "name": "ml.m5d.2xlarge",
    "vcpuNum": 8
   },
   {
    "_defaultOrder": 15,
    "_isFastLaunch": false,
    "category": "General purpose",
    "gpuNum": 0,
    "hideHardwareSpecs": false,
    "memoryGiB": 64,
    "name": "ml.m5d.4xlarge",
    "vcpuNum": 16
   },
   {
    "_defaultOrder": 16,
    "_isFastLaunch": false,
    "category": "General purpose",
    "gpuNum": 0,
    "hideHardwareSpecs": false,
    "memoryGiB": 128,
    "name": "ml.m5d.8xlarge",
    "vcpuNum": 32
   },
   {
    "_defaultOrder": 17,
    "_isFastLaunch": false,
    "category": "General purpose",
    "gpuNum": 0,
    "hideHardwareSpecs": false,
    "memoryGiB": 192,
    "name": "ml.m5d.12xlarge",
    "vcpuNum": 48
   },
   {
    "_defaultOrder": 18,
    "_isFastLaunch": false,
    "category": "General purpose",
    "gpuNum": 0,
    "hideHardwareSpecs": false,
    "memoryGiB": 256,
    "name": "ml.m5d.16xlarge",
    "vcpuNum": 64
   },
   {
    "_defaultOrder": 19,
    "_isFastLaunch": false,
    "category": "General purpose",
    "gpuNum": 0,
    "hideHardwareSpecs": false,
    "memoryGiB": 384,
    "name": "ml.m5d.24xlarge",
    "vcpuNum": 96
   },
   {
    "_defaultOrder": 20,
    "_isFastLaunch": false,
    "category": "General purpose",
    "gpuNum": 0,
    "hideHardwareSpecs": true,
    "memoryGiB": 0,
    "name": "ml.geospatial.interactive",
    "supportedImageNames": [
     "sagemaker-geospatial-v1-0"
    ],
    "vcpuNum": 0
   },
   {
    "_defaultOrder": 21,
    "_isFastLaunch": true,
    "category": "Compute optimized",
    "gpuNum": 0,
    "hideHardwareSpecs": false,
    "memoryGiB": 4,
    "name": "ml.c5.large",
    "vcpuNum": 2
   },
   {
    "_defaultOrder": 22,
    "_isFastLaunch": false,
    "category": "Compute optimized",
    "gpuNum": 0,
    "hideHardwareSpecs": false,
    "memoryGiB": 8,
    "name": "ml.c5.xlarge",
    "vcpuNum": 4
   },
   {
    "_defaultOrder": 23,
    "_isFastLaunch": false,
    "category": "Compute optimized",
    "gpuNum": 0,
    "hideHardwareSpecs": false,
    "memoryGiB": 16,
    "name": "ml.c5.2xlarge",
    "vcpuNum": 8
   },
   {
    "_defaultOrder": 24,
    "_isFastLaunch": false,
    "category": "Compute optimized",
    "gpuNum": 0,
    "hideHardwareSpecs": false,
    "memoryGiB": 32,
    "name": "ml.c5.4xlarge",
    "vcpuNum": 16
   },
   {
    "_defaultOrder": 25,
    "_isFastLaunch": false,
    "category": "Compute optimized",
    "gpuNum": 0,
    "hideHardwareSpecs": false,
    "memoryGiB": 72,
    "name": "ml.c5.9xlarge",
    "vcpuNum": 36
   },
   {
    "_defaultOrder": 26,
    "_isFastLaunch": false,
    "category": "Compute optimized",
    "gpuNum": 0,
    "hideHardwareSpecs": false,
    "memoryGiB": 96,
    "name": "ml.c5.12xlarge",
    "vcpuNum": 48
   },
   {
    "_defaultOrder": 27,
    "_isFastLaunch": false,
    "category": "Compute optimized",
    "gpuNum": 0,
    "hideHardwareSpecs": false,
    "memoryGiB": 144,
    "name": "ml.c5.18xlarge",
    "vcpuNum": 72
   },
   {
    "_defaultOrder": 28,
    "_isFastLaunch": false,
    "category": "Compute optimized",
    "gpuNum": 0,
    "hideHardwareSpecs": false,
    "memoryGiB": 192,
    "name": "ml.c5.24xlarge",
    "vcpuNum": 96
   },
   {
    "_defaultOrder": 29,
    "_isFastLaunch": true,
    "category": "Accelerated computing",
    "gpuNum": 1,
    "hideHardwareSpecs": false,
    "memoryGiB": 16,
    "name": "ml.g4dn.xlarge",
    "vcpuNum": 4
   },
   {
    "_defaultOrder": 30,
    "_isFastLaunch": false,
    "category": "Accelerated computing",
    "gpuNum": 1,
    "hideHardwareSpecs": false,
    "memoryGiB": 32,
    "name": "ml.g4dn.2xlarge",
    "vcpuNum": 8
   },
   {
    "_defaultOrder": 31,
    "_isFastLaunch": false,
    "category": "Accelerated computing",
    "gpuNum": 1,
    "hideHardwareSpecs": false,
    "memoryGiB": 64,
    "name": "ml.g4dn.4xlarge",
    "vcpuNum": 16
   },
   {
    "_defaultOrder": 32,
    "_isFastLaunch": false,
    "category": "Accelerated computing",
    "gpuNum": 1,
    "hideHardwareSpecs": false,
    "memoryGiB": 128,
    "name": "ml.g4dn.8xlarge",
    "vcpuNum": 32
   },
   {
    "_defaultOrder": 33,
    "_isFastLaunch": false,
    "category": "Accelerated computing",
    "gpuNum": 4,
    "hideHardwareSpecs": false,
    "memoryGiB": 192,
    "name": "ml.g4dn.12xlarge",
    "vcpuNum": 48
   },
   {
    "_defaultOrder": 34,
    "_isFastLaunch": false,
    "category": "Accelerated computing",
    "gpuNum": 1,
    "hideHardwareSpecs": false,
    "memoryGiB": 256,
    "name": "ml.g4dn.16xlarge",
    "vcpuNum": 64
   },
   {
    "_defaultOrder": 35,
    "_isFastLaunch": false,
    "category": "Accelerated computing",
    "gpuNum": 1,
    "hideHardwareSpecs": false,
    "memoryGiB": 61,
    "name": "ml.p3.2xlarge",
    "vcpuNum": 8
   },
   {
    "_defaultOrder": 36,
    "_isFastLaunch": false,
    "category": "Accelerated computing",
    "gpuNum": 4,
    "hideHardwareSpecs": false,
    "memoryGiB": 244,
    "name": "ml.p3.8xlarge",
    "vcpuNum": 32
   },
   {
    "_defaultOrder": 37,
    "_isFastLaunch": false,
    "category": "Accelerated computing",
    "gpuNum": 8,
    "hideHardwareSpecs": false,
    "memoryGiB": 488,
    "name": "ml.p3.16xlarge",
    "vcpuNum": 64
   },
   {
    "_defaultOrder": 38,
    "_isFastLaunch": false,
    "category": "Accelerated computing",
    "gpuNum": 8,
    "hideHardwareSpecs": false,
    "memoryGiB": 768,
    "name": "ml.p3dn.24xlarge",
    "vcpuNum": 96
   },
   {
    "_defaultOrder": 39,
    "_isFastLaunch": false,
    "category": "Memory Optimized",
    "gpuNum": 0,
    "hideHardwareSpecs": false,
    "memoryGiB": 16,
    "name": "ml.r5.large",
    "vcpuNum": 2
   },
   {
    "_defaultOrder": 40,
    "_isFastLaunch": false,
    "category": "Memory Optimized",
    "gpuNum": 0,
    "hideHardwareSpecs": false,
    "memoryGiB": 32,
    "name": "ml.r5.xlarge",
    "vcpuNum": 4
   },
   {
    "_defaultOrder": 41,
    "_isFastLaunch": false,
    "category": "Memory Optimized",
    "gpuNum": 0,
    "hideHardwareSpecs": false,
    "memoryGiB": 64,
    "name": "ml.r5.2xlarge",
    "vcpuNum": 8
   },
   {
    "_defaultOrder": 42,
    "_isFastLaunch": false,
    "category": "Memory Optimized",
    "gpuNum": 0,
    "hideHardwareSpecs": false,
    "memoryGiB": 128,
    "name": "ml.r5.4xlarge",
    "vcpuNum": 16
   },
   {
    "_defaultOrder": 43,
    "_isFastLaunch": false,
    "category": "Memory Optimized",
    "gpuNum": 0,
    "hideHardwareSpecs": false,
    "memoryGiB": 256,
    "name": "ml.r5.8xlarge",
    "vcpuNum": 32
   },
   {
    "_defaultOrder": 44,
    "_isFastLaunch": false,
    "category": "Memory Optimized",
    "gpuNum": 0,
    "hideHardwareSpecs": false,
    "memoryGiB": 384,
    "name": "ml.r5.12xlarge",
    "vcpuNum": 48
   },
   {
    "_defaultOrder": 45,
    "_isFastLaunch": false,
    "category": "Memory Optimized",
    "gpuNum": 0,
    "hideHardwareSpecs": false,
    "memoryGiB": 512,
    "name": "ml.r5.16xlarge",
    "vcpuNum": 64
   },
   {
    "_defaultOrder": 46,
    "_isFastLaunch": false,
    "category": "Memory Optimized",
    "gpuNum": 0,
    "hideHardwareSpecs": false,
    "memoryGiB": 768,
    "name": "ml.r5.24xlarge",
    "vcpuNum": 96
   },
   {
    "_defaultOrder": 47,
    "_isFastLaunch": false,
    "category": "Accelerated computing",
    "gpuNum": 1,
    "hideHardwareSpecs": false,
    "memoryGiB": 16,
    "name": "ml.g5.xlarge",
    "vcpuNum": 4
   },
   {
    "_defaultOrder": 48,
    "_isFastLaunch": false,
    "category": "Accelerated computing",
    "gpuNum": 1,
    "hideHardwareSpecs": false,
    "memoryGiB": 32,
    "name": "ml.g5.2xlarge",
    "vcpuNum": 8
   },
   {
    "_defaultOrder": 49,
    "_isFastLaunch": false,
    "category": "Accelerated computing",
    "gpuNum": 1,
    "hideHardwareSpecs": false,
    "memoryGiB": 64,
    "name": "ml.g5.4xlarge",
    "vcpuNum": 16
   },
   {
    "_defaultOrder": 50,
    "_isFastLaunch": false,
    "category": "Accelerated computing",
    "gpuNum": 1,
    "hideHardwareSpecs": false,
    "memoryGiB": 128,
    "name": "ml.g5.8xlarge",
    "vcpuNum": 32
   },
   {
    "_defaultOrder": 51,
    "_isFastLaunch": false,
    "category": "Accelerated computing",
    "gpuNum": 1,
    "hideHardwareSpecs": false,
    "memoryGiB": 256,
    "name": "ml.g5.16xlarge",
    "vcpuNum": 64
   },
   {
    "_defaultOrder": 52,
    "_isFastLaunch": false,
    "category": "Accelerated computing",
    "gpuNum": 4,
    "hideHardwareSpecs": false,
    "memoryGiB": 192,
    "name": "ml.g5.12xlarge",
    "vcpuNum": 48
   },
   {
    "_defaultOrder": 53,
    "_isFastLaunch": false,
    "category": "Accelerated computing",
    "gpuNum": 4,
    "hideHardwareSpecs": false,
    "memoryGiB": 384,
    "name": "ml.g5.24xlarge",
    "vcpuNum": 96
   },
   {
    "_defaultOrder": 54,
    "_isFastLaunch": false,
    "category": "Accelerated computing",
    "gpuNum": 8,
    "hideHardwareSpecs": false,
    "memoryGiB": 768,
    "name": "ml.g5.48xlarge",
    "vcpuNum": 192
   },
   {
    "_defaultOrder": 55,
    "_isFastLaunch": false,
    "category": "Accelerated computing",
    "gpuNum": 8,
    "hideHardwareSpecs": false,
    "memoryGiB": 1152,
    "name": "ml.p4d.24xlarge",
    "vcpuNum": 96
   },
   {
    "_defaultOrder": 56,
    "_isFastLaunch": false,
    "category": "Accelerated computing",
    "gpuNum": 8,
    "hideHardwareSpecs": false,
    "memoryGiB": 1152,
    "name": "ml.p4de.24xlarge",
    "vcpuNum": 96
   },
   {
    "_defaultOrder": 57,
    "_isFastLaunch": false,
    "category": "Accelerated computing",
    "gpuNum": 0,
    "hideHardwareSpecs": false,
    "memoryGiB": 32,
    "name": "ml.trn1.2xlarge",
    "vcpuNum": 8
   },
   {
    "_defaultOrder": 58,
    "_isFastLaunch": false,
    "category": "Accelerated computing",
    "gpuNum": 0,
    "hideHardwareSpecs": false,
    "memoryGiB": 512,
    "name": "ml.trn1.32xlarge",
    "vcpuNum": 128
   },
   {
    "_defaultOrder": 59,
    "_isFastLaunch": false,
    "category": "Accelerated computing",
    "gpuNum": 0,
    "hideHardwareSpecs": false,
    "memoryGiB": 512,
    "name": "ml.trn1n.32xlarge",
    "vcpuNum": 128
   }
  ],
  "instance_type": "ml.t3.medium",
  "kernelspec": {
   "display_name": "Python 3 (ipykernel)",
   "language": "python",
   "name": "python3"
  },
  "language_info": {
   "codemirror_mode": {
    "name": "ipython",
    "version": 3
   },
   "file_extension": ".py",
   "mimetype": "text/x-python",
   "name": "python",
   "nbconvert_exporter": "python",
   "pygments_lexer": "ipython3",
   "version": "3.11.11"
  }
 },
 "nbformat": 4,
 "nbformat_minor": 4
}
