{
 "cells": [
  {
   "cell_type": "markdown",
   "id": "2eebcdfa-e1ad-407a-afb2-ede300a2a111",
   "metadata": {},
   "source": [
    "# Modeling with XGBoost\n",
    "\n",
    "### Steps Covered:  \n",
    "1. **Load Data from Feature Store / S3**\n",
    "2. **Train XGBoost Model using SageMaker Training Job**\n",
    "3. **Evaluate Performance with Processing Job** (accuracy, precision, recall, F1-score, etc.)\n",
    "4. **Register Model in SageMaker Model Registry**\n",
    "5. **Deploy Model as a SageMaker Endpoint**\n",
    "6. **Decomission Endpoint** (optional)"
   ]
  },
  {
   "cell_type": "code",
   "execution_count": null,
   "id": "fa63374a-eaff-475d-84f5-2e2146025ff9",
   "metadata": {},
   "outputs": [],
   "source": [
    "import pandas as pd\n",
    "import sagemaker\n",
    "from sagemaker.feature_store.feature_group import FeatureGroup\n",
    "import boto3\n",
    "from sklearn.model_selection import train_test_split\n",
    "\n",
    "from sagemaker.estimator import Estimator\n",
    "from sagemaker.predictor import Predictor\n",
    "from sagemaker.model import Model\n",
    "from sagemaker import ModelPackage\n",
    "\n"
   ]
  },
  {
   "cell_type": "markdown",
   "id": "7498eff6-796c-44a4-a1c7-27e3bccb93bd",
   "metadata": {},
   "source": [
    "## Setting up Retrieval from Feature Store"
   ]
  },
  {
   "cell_type": "code",
   "execution_count": null,
   "id": "324ef6bf-557b-419e-a8a0-6d72822b6c1a",
   "metadata": {},
   "outputs": [],
   "source": []
  },
  {
   "cell_type": "markdown",
   "id": "c5b7343c-5b3f-4b0c-a2de-6426a775787e",
   "metadata": {},
   "source": [
    "## Data Splits and Push to New Bucket"
   ]
  },
  {
   "cell_type": "code",
   "execution_count": null,
   "id": "609a7b38-1bec-4d8f-a701-c6d80be19c99",
   "metadata": {},
   "outputs": [],
   "source": [
    "# Splitting Data from our feature store into training and testing splits\n",
    "X = feature_data.drop(columns=['Attrition'])\n",
    "y = feature_data['Attrition']\n",
    "\n",
    "# Split dataset for training\n",
    "X_train, X_test, y_train, y_test = train_test_split(X, y, test_size=0.2, random_state=42)\n",
    "\n",
    "# Save data for training\n",
    "train_data = pd.concat([y_train, X_train], axis=1)\n",
    "test_data = pd.concat([y_test, X_test], axis=1)\n",
    "\n",
    "train_path = \"train.csv\"\n",
    "test_path = \"test.csv\"\n",
    "\n",
    "train_data.to_csv(train_path, index=False, header=False)\n",
    "test_data.to_csv(test_path, index=False, header=False)"
   ]
  },
  {
   "cell_type": "markdown",
   "id": "bb5dfc41-8e9f-4a34-9ac9-a7df07171bf9",
   "metadata": {},
   "source": [
    "### Uploading to S3"
   ]
  },
  {
   "cell_type": "code",
   "execution_count": null,
   "id": "6f343e4b-5003-4d71-9864-4edc19fce000",
   "metadata": {},
   "outputs": [],
   "source": [
    "# TODO: ALTER PATHS SO THEY ALIGN WITH THE REST OF THE PROJECT ##\n",
    "\n",
    "\n",
    "# Upload data to S3\n",
    "s3 = boto3.client(\"s3\")\n",
    "s3.upload_file(train_path, bucket, f\"{prefix}/{train_path}\")\n",
    "s3.upload_file(test_path, bucket, f\"{prefix}/{test_path}\")\n",
    "\n",
    "s3_train_path = f\"s3://{bucket}/{prefix}/{train_path}\"\n",
    "s3_test_path = f\"s3://{bucket}/{prefix}/{test_path}\"\n",
    "\n",
    "print(s3_train_path)\n",
    "print(s3_test_path)"
   ]
  },
  {
   "cell_type": "markdown",
   "id": "682ef130-c8ca-4693-9017-c2ddcc17a3a6",
   "metadata": {},
   "source": [
    "## XGBoost Training"
   ]
  },
  {
   "cell_type": "code",
   "execution_count": 1,
   "id": "c7c17308-f175-4cd7-b599-bf3ec21d9314",
   "metadata": {},
   "outputs": [],
   "source": [
    "#TODO: DEFINE OUTPUT PATH VARIABLES AND ADJUST EVAL METRICS \n",
    "\n"
   ]
  },
  {
   "cell_type": "code",
   "execution_count": null,
   "id": "bb558820-1409-412c-a20d-00b328b90936",
   "metadata": {},
   "outputs": [],
   "source": [
    "# Define a unique model name\n",
    "model_name = f\"assignment5-xgb-pred-model-monitor-{datetime.utcnow():%Y-%m-%d-%H%M}\"\n",
    "\n",
    "# Retrieve AWS SageMaker XGBoost container image\n",
    "image_uri = image_uris.retrieve(framework=\"xgboost\", version=\"0.90-1\", region=region)\n",
    "\n",
    "# Train the XGBoost model\n",
    "xgb = Estimator(\n",
    "    image_uri=image_uri,\n",
    "    role=role,\n",
    "    instance_count=1,\n",
    "    instance_type=\"ml.m5.large\",\n",
    "    output_path=f\"s3://{bucket}/{prefix}/output\", # TODO: FIX OUTPUT PATH\n",
    "    sagemaker_session=session\n",
    ")\n",
    "\n",
    "xgb.set_hyperparameters(\n",
    "    objective=\"binary:logistic\",\n",
    "    num_round=100,\n",
    "    max_depth=5,\n",
    "    eta=0.2,\n",
    "    subsample=0.8,\n",
    "    eval_metric=\"auc\"\n",
    ")\n",
    "\n",
    "xgb.fit({\"train\": TrainingInput(s3_train_path, content_type=\"csv\"), \"validation\": TrainingInput(s3_test_path, content_type=\"csv\")}"
   ]
  },
  {
   "cell_type": "markdown",
   "id": "99103970-6800-4797-a379-12d89848a55c",
   "metadata": {},
   "source": [
    "## Model Evaluation"
   ]
  },
  {
   "cell_type": "code",
   "execution_count": null,
   "id": "f4d9c858-5389-4203-88e3-4bd318d28afc",
   "metadata": {},
   "outputs": [],
   "source": []
  },
  {
   "cell_type": "markdown",
   "id": "36539c9e-ffa8-4b9c-89db-f071a3c6bd8b",
   "metadata": {},
   "source": [
    "## Registering Model"
   ]
  },
  {
   "cell_type": "code",
   "execution_count": null,
   "id": "31954a30-2cf2-41d9-92a2-11890146910b",
   "metadata": {},
   "outputs": [],
   "source": [
    "# Create model object\n",
    "model = Model(\n",
    "    image_uri=xgboost_image_uri,\n",
    "    model_data=xgb_estimator.model_data,\n",
    "    role=role,\n",
    "    sagemaker_session=sagemaker_session\n",
    ")\n",
    "\n",
    "# Register model in SageMaker Model Registry\n",
    "model_package = model.register(\n",
    "    model_package_group_name=\"xgboost-model-group\",\n",
    "    approval_status=\"Approved\"\n",
    ")\n",
    "\n",
    "print(f\"Model registered: {model_package.model_package_arn}\")\n"
   ]
  },
  {
   "cell_type": "markdown",
   "id": "8bd92a53-6213-41b6-ac94-8118a152edee",
   "metadata": {},
   "source": [
    "## Deploying Endpoint"
   ]
  },
  {
   "cell_type": "code",
   "execution_count": null,
   "id": "dc3173ec-10b1-40d0-a04d-05abe56ba06e",
   "metadata": {},
   "outputs": [],
   "source": [
    "# Define model S3 path\n",
    "\n",
    "# TODO: ADJUST MODEL URL AND ENDPOINT TO REFLECT FINAL PROJECT\n",
    "model_url = \"ADJUST_ME\"\n",
    "\n",
    "\n",
    "# Create SageMaker Model\n",
    "model = Model(\n",
    "    image_uri=image_uri,\n",
    "    model_data=model_url,\n",
    "    role=role,\n",
    "    sagemaker_session=session\n",
    ")\n",
    "\n",
    "# Define an endpoint name\n",
    "endpoint_name = f\"{model_name}-endpoint\"\n",
    "\n",
    "# Enable data capture for bias monitoring\n",
    "data_capture_config = DataCaptureConfig(\n",
    "    enable_capture=True,\n",
    "    sampling_percentage=100,  # Capture 100% of requests\n",
    "    destination_s3_uri=f\"s3://{bucket}/{prefix}/monitoring\"\n",
    ")\n",
    "\n",
    "# Deploy model with data capture\n",
    "model.deploy(\n",
    "    initial_instance_count=1,\n",
    "    instance_type=\"ml.m4.xlarge\",\n",
    "    endpoint_name=endpoint_name,\n",
    "    data_capture_config=data_capture_config\n",
    ")"
   ]
  },
  {
   "cell_type": "code",
   "execution_count": null,
   "id": "628669f9-9dfb-4e83-846b-1d81830611b3",
   "metadata": {},
   "outputs": [],
   "source": [
    "\n",
    "predictor = Predictor(\n",
    "    endpoint_name=endpoint_name, sagemaker_session=session, serializer=CSVSerializer()\n",
    ")"
   ]
  },
  {
   "cell_type": "code",
   "execution_count": null,
   "id": "2606283e-17a5-474a-a2cc-70812fc177ca",
   "metadata": {},
   "outputs": [],
   "source": [
    "print(f\"Model deployed at endpoint: {endpoint_name}\")"
   ]
  },
  {
   "cell_type": "markdown",
   "id": "00ee87c1-2cae-4c23-8e2a-f3aae65a9843",
   "metadata": {},
   "source": [
    "## Spinning Down Endpoint"
   ]
  },
  {
   "cell_type": "code",
   "execution_count": null,
   "id": "6d3c2c10-33bd-4d4d-9009-8749bbd7a1c0",
   "metadata": {},
   "outputs": [],
   "source": []
  }
 ],
 "metadata": {
  "kernelspec": {
   "display_name": "Python 3 (ipykernel)",
   "language": "python",
   "name": "python3"
  },
  "language_info": {
   "codemirror_mode": {
    "name": "ipython",
    "version": 3
   },
   "file_extension": ".py",
   "mimetype": "text/x-python",
   "name": "python",
   "nbconvert_exporter": "python",
   "pygments_lexer": "ipython3",
   "version": "3.11.11"
  }
 },
 "nbformat": 4,
 "nbformat_minor": 5
}
