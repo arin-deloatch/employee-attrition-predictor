{
 "cells": [
  {
   "cell_type": "markdown",
   "id": "a8e72a94-b9af-4640-9d99-b92f875043dd",
   "metadata": {},
   "source": [
    "## Dependency Setup\n",
    "\n",
    "We'll use this section to ensure that all of the necessary dependencies for this project are installed."
   ]
  },
  {
   "cell_type": "code",
   "execution_count": 1,
   "id": "7c1dc915-11b1-4649-8385-a9f6d5fc2bfe",
   "metadata": {},
   "outputs": [
    {
     "name": "stdout",
     "output_type": "stream",
     "text": [
      "Python 3.11.11\n"
     ]
    }
   ],
   "source": [
    "!python --version"
   ]
  },
  {
   "cell_type": "code",
   "execution_count": 6,
   "id": "7f3d45fb-9114-4da4-bfd6-bb2490513c8c",
   "metadata": {},
   "outputs": [],
   "source": [
    "!pip install --disable-pip-version-check -q awswrangler --quiet\n",
    "!pip install --disable-pip-version-check -q kagglehub --quiet"
   ]
  },
  {
   "cell_type": "code",
   "execution_count": null,
   "id": "55aaf555-e856-4684-b7ab-be42c6c6d56d",
   "metadata": {},
   "outputs": [],
   "source": [
    "!pip list"
   ]
  },
  {
   "cell_type": "code",
   "execution_count": 22,
   "id": "acf21a04-f75f-4b7f-9892-11a435a7c6a8",
   "metadata": {},
   "outputs": [
    {
     "name": "stdout",
     "output_type": "stream",
     "text": [
      "sagemaker.config INFO - Not applying SDK defaults from location: /etc/xdg/sagemaker/config.yaml\n",
      "sagemaker.config INFO - Not applying SDK defaults from location: /home/sagemaker-user/.config/sagemaker/config.yaml\n"
     ]
    }
   ],
   "source": [
    "import boto3\n",
    "from botocore.client import ClientError\n",
    "import sagemaker\n",
    "import pandas as pd"
   ]
  },
  {
   "cell_type": "markdown",
   "id": "3aba97a6-7316-49e6-aa30-6af7ebfa5198",
   "metadata": {},
   "source": [
    "## Create S3 Bucket and Upload Objects\n",
    "\n",
    "Here, we're downloading the raw datasets from kaggle and using boto3 to write those local files to our S3 bucket. For those attempting to reproduce the download, you can do so programmatically via cURL request or kagglehub API.\n",
    "\n",
    "**cURL command**: \n",
    "```\n",
    "!curl -L -o ~/Downloads/employee-attrition-dataset.zip\\\n",
    "  https://www.kaggle.com/api/v1/datasets/download/stealthtechnologies/employee-attrition-dataset\n",
    "```\n",
    "**kagglehub snippet**:\n",
    "```\n",
    "kagglehub.dataset_download(\"stealthtechnologies/employee-attrition-dataset\")\n",
    "```"
   ]
  },
  {
   "cell_type": "code",
   "execution_count": 23,
   "id": "1d2e94c4-85ce-464f-b736-89a8839a8224",
   "metadata": {},
   "outputs": [],
   "source": [
    "# Create a SageMaker session object, which is used to manage interactions with SageMaker resources.\n",
    "sess = sagemaker.Session()\n",
    "\n",
    "# Retrieve the default Amazon S3 bucket associated with the SageMaker session.\n",
    "bucket = sess.default_bucket()\n",
    "\n",
    "# Get the IAM role associated with the current SageMaker notebook or environment.\n",
    "role = sagemaker.get_execution_role()\n",
    "\n",
    "# Get the AWS region name for the current session.\n",
    "region = boto3.Session().region_name\n",
    "\n",
    "# Retrieve the AWS account ID of the caller using the Security Token Service (STS) client.\n",
    "account_id = boto3.client(\"sts\").get_caller_identity().get(\"Account\")\n",
    "\n",
    "# Create a Boto3 client for the SageMaker service, specifying the AWS region.\n",
    "sm = boto3.Session().client(service_name=\"sagemaker\", region_name=region)"
   ]
  },
  {
   "cell_type": "markdown",
   "id": "e025a425-93d6-488f-8e27-31cf3ff11a3d",
   "metadata": {},
   "source": [
    "## Setting Object Destination and Copying Data to Bucket\n",
    "\n",
    "In this section, we are configuring the destination for our data within an Amazon S3 bucket. The bucket name is determined dynamically based on the SageMaker session, ensuring that each user interacts with their own unique bucket. By obtaining the default bucket associated with each user’s session, we ensure that data storage remains consistent and personalized."
   ]
  },
  {
   "cell_type": "code",
   "execution_count": 24,
   "id": "794fc9b0-b9d7-4499-980d-378d2fef913d",
   "metadata": {},
   "outputs": [
    {
     "data": {
      "text/plain": [
       "'s3://sagemaker-us-east-1-203012117619/aai-540-group-3-final-project/data'"
      ]
     },
     "execution_count": 24,
     "metadata": {},
     "output_type": "execute_result"
    }
   ],
   "source": [
    "bucket_path = \"s3://{}/aai-540-group-3-final-project/data\".format(bucket)\n",
    "bucket_path"
   ]
  },
  {
   "cell_type": "code",
   "execution_count": 25,
   "id": "7effe302-0597-49a1-8d6d-531e4e54ffed",
   "metadata": {},
   "outputs": [
    {
     "name": "stdout",
     "output_type": "stream",
     "text": [
      "Stored 'bucket_path' (str)\n"
     ]
    }
   ],
   "source": [
    "%store bucket_path\n"
   ]
  },
  {
   "cell_type": "code",
   "execution_count": 26,
   "id": "672c9bae-1315-4827-83ec-d40691531356",
   "metadata": {},
   "outputs": [
    {
     "name": "stdout",
     "output_type": "stream",
     "text": [
      "upload: ./train.csv to s3://sagemaker-us-east-1-203012117619/aai-540-group-3-final-project/data/train.csv\n"
     ]
    }
   ],
   "source": [
    "!aws s3 cp \"train.csv\" $bucket_path/"
   ]
  },
  {
   "cell_type": "code",
   "execution_count": 27,
   "id": "20433c65-d5be-4458-b8d5-5c5262488a33",
   "metadata": {},
   "outputs": [
    {
     "name": "stdout",
     "output_type": "stream",
     "text": [
      "upload: ./test.csv to s3://sagemaker-us-east-1-203012117619/aai-540-group-3-final-project/data/test.csv\n"
     ]
    }
   ],
   "source": [
    "!aws s3 cp \"test.csv\" $bucket_path/"
   ]
  },
  {
   "cell_type": "markdown",
   "id": "87cd34ed-a025-4df6-a427-38a598ec6249",
   "metadata": {},
   "source": [
    "## Listing Files in our Bucket\n",
    "\n",
    "In this section, we will programmatically list the files stored in the Amazon S3 bucket associated with this notebook. By dynamically identifying the bucket through the SageMaker session, we ensure that the code remains reproducible for anyone using it, regardless of their account or environment. This approach avoids hardcoding bucket names and guarantees compatibility across different users.\n"
   ]
  },
  {
   "cell_type": "code",
   "execution_count": 29,
   "id": "df1919a0-f840-4d05-99f5-6c35ac142cf6",
   "metadata": {},
   "outputs": [
    {
     "name": "stdout",
     "output_type": "stream",
     "text": [
      "2025-01-25 05:02:58    1910316 test.csv\n",
      "2025-01-25 05:02:57    7640348 train.csv\n"
     ]
    }
   ],
   "source": [
    "!aws s3 ls $bucket_path/"
   ]
  },
  {
   "cell_type": "markdown",
   "id": "6797fad8-d3d5-4fe0-a428-e73bc01a42e6",
   "metadata": {},
   "source": [
    "## Release Resources"
   ]
  },
  {
   "cell_type": "code",
   "execution_count": null,
   "id": "b1487333-ebb0-4c8c-acfa-99bd72fac5f8",
   "metadata": {},
   "outputs": [],
   "source": [
    "%%html\n",
    "\n",
    "<p><b>Shutting down your kernel for this notebook to release resources.</b></p>\n",
    "<button class=\"sm-command-button\" data-commandlinker-command=\"kernelmenu:shutdown\" style=\"display:none;\">Shutdown Kernel</button>\n",
    "        \n",
    "<script>\n",
    "try {\n",
    "    els = document.getElementsByClassName(\"sm-command-button\");\n",
    "    els[0].click();\n",
    "}\n",
    "catch(err) {\n",
    "    // NoOp\n",
    "}    \n",
    "</script>"
   ]
  },
  {
   "cell_type": "code",
   "execution_count": null,
   "id": "134ab954-a06b-45f1-b519-ab628b5f0591",
   "metadata": {},
   "outputs": [],
   "source": [
    "%%javascript\n",
    "\n",
    "try {\n",
    "    Jupyter.notebook.save_checkpoint();\n",
    "    Jupyter.notebook.session.delete();\n",
    "}\n",
    "catch(err) {\n",
    "    // NoOp\n",
    "}"
   ]
  }
 ],
 "metadata": {
  "kernelspec": {
   "display_name": "Python 3 (ipykernel)",
   "language": "python",
   "name": "python3"
  },
  "language_info": {
   "codemirror_mode": {
    "name": "ipython",
    "version": 3
   },
   "file_extension": ".py",
   "mimetype": "text/x-python",
   "name": "python",
   "nbconvert_exporter": "python",
   "pygments_lexer": "ipython3",
   "version": "3.11.11"
  }
 },
 "nbformat": 4,
 "nbformat_minor": 5
}
