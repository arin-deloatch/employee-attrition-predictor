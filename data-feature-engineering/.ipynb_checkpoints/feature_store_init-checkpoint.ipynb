{
 "cells": [
  {
   "cell_type": "code",
   "execution_count": 15,
   "id": "5d43c533-4647-4158-9d0a-4eb7fbc220ef",
   "metadata": {},
   "outputs": [
    {
     "name": "stdout",
     "output_type": "stream",
     "text": [
      "\u001b[33mWARNING: Running pip as the 'root' user can result in broken permissions and conflicting behaviour with the system package manager. It is recommended to use a virtual environment instead: https://pip.pypa.io/warnings/venv\u001b[0m\u001b[33m\n",
      "\u001b[0m"
     ]
    }
   ],
   "source": [
    "!pip install sagemaker pandas boto3 awswrangler --quiet\n"
   ]
  },
  {
   "cell_type": "code",
   "execution_count": 16,
   "id": "bca51094-9d75-47fd-b9cb-2535be7e7670",
   "metadata": {},
   "outputs": [],
   "source": [
    "# AWS Imports\n",
    "import boto3\n",
    "from botocore.client import ClientError\n",
    "import sagemaker\n",
    "from pyathena import connect\n",
    "import awswrangler as wr\n",
    "import pandas as pd\n",
    "from sagemaker.feature_store.feature_group import FeatureGroup\n",
    "from time import gmtime, strftime\n",
    "\n",
    "# Data Transformation Imports\n",
    "from io import StringIO\n",
    "\n",
    "# Misc Imports\n",
    "from IPython.display import display, HTML"
   ]
  },
  {
   "cell_type": "code",
   "execution_count": 17,
   "id": "20e02ca0-58ca-4af6-8f5d-fcd4e8207209",
   "metadata": {},
   "outputs": [],
   "source": [
    "# Create a SageMaker session object, which is used to manage interactions with SageMaker resources.\n",
    "sess = sagemaker.Session()\n",
    "\n",
    "# Retrieve the default Amazon S3 bucket associated with the SageMaker session.\n",
    "bucket = sess.default_bucket()\n",
    "\n",
    "# Get the IAM role associated with the current SageMaker notebook or environment.\n",
    "role = sagemaker.get_execution_role()\n",
    "\n",
    "# Get the AWS region name for the current session.\n",
    "region = boto3.Session().region_name\n",
    "\n",
    "# Retrieve the AWS account ID of the caller using the Security Token Service (STS) client.\n",
    "account_id = boto3.client(\"sts\").get_caller_identity().get(\"Account\")\n",
    "\n",
    "# Create a Boto3 client for the SageMaker service, specifying the AWS region.\n",
    "sm = boto3.Session().client(service_name=\"sagemaker\", region_name=region)\n",
    "\n",
    "# Create an S3 client\n",
    "s3 = boto3.client('s3')\n",
    "\n",
    "featurestore_runtime = boto3.client(\"sagemaker-featurestore-runtime\")\n",
    "\n",
    "FILE_NAME=\"data.csv\"\n",
    "DATA_SOURCE=\"db_source\"\n",
    "DATA_FOLDER =f\"s3://{bucket}/aai-540-group-3-final-project/data/\"\n",
    "FILE_LOCATION=f\"{DATA_FOLDER}{FILE_NAME}\"\n",
    "DATA_PATH = f\"{DATA_FOLDER}{DATA_SOURCE}/\"\n"
   ]
  },
  {
   "cell_type": "code",
   "execution_count": 18,
   "id": "6f385079-021b-4b56-8fbd-c7901eeae393",
   "metadata": {
    "tags": []
   },
   "outputs": [],
   "source": [
    "# Define the Feature Group Schema\n",
    "\n",
    "feature_group_name = \"employee-attrition-feature-store\"\n",
    "record_identifier_name = \"Employee ID\"  # Unique identifier for each record\n",
    "event_time_feature_name = \"EventTime\"  # Required timestamp field\n",
    "\n",
    "# Define feature group\n",
    "feature_group = FeatureGroup(name=feature_group_name, sagemaker_session=sess)\n"
   ]
  },
  {
   "cell_type": "code",
   "execution_count": 19,
   "id": "b3a3b287-a242-401e-b1c2-82ac1a842a00",
   "metadata": {
    "tags": []
   },
   "outputs": [
    {
     "data": {
      "text/html": [
       "<pre style=\"white-space:pre;overflow-x:auto;line-height:normal;font-family:Menlo,'DejaVu Sans Mono',consolas,'Courier New',monospace\"><span style=\"color: #7fbfbf; text-decoration-color: #7fbfbf\">[02/03/25 05:52:37] </span><span style=\"color: #0069ff; text-decoration-color: #0069ff; font-weight: bold\">INFO    </span> Skipping checksum validation. Response did not contain one of the  <a href=\"file:///opt/conda/lib/python3.11/site-packages/botocore/httpchecksum.py\" target=\"_blank\"><span style=\"color: #7f7f7f; text-decoration-color: #7f7f7f\">httpchecksum.py</span></a><span style=\"color: #7f7f7f; text-decoration-color: #7f7f7f\">:</span><a href=\"file:///opt/conda/lib/python3.11/site-packages/botocore/httpchecksum.py#487\" target=\"_blank\"><span style=\"color: #7f7f7f; text-decoration-color: #7f7f7f\">487</span></a>\n",
       "<span style=\"color: #7fbfbf; text-decoration-color: #7fbfbf\">                    </span>         following algorithms: <span style=\"font-weight: bold\">[</span><span style=\"color: #008700; text-decoration-color: #008700\">'crc32'</span>, <span style=\"color: #008700; text-decoration-color: #008700\">'sha1'</span>, <span style=\"color: #008700; text-decoration-color: #008700\">'sha256'</span><span style=\"font-weight: bold\">]</span>.                 <span style=\"color: #7f7f7f; text-decoration-color: #7f7f7f\">                   </span>\n",
       "</pre>\n"
      ],
      "text/plain": [
       "\u001b[2;36m[02/03/25 05:52:37]\u001b[0m\u001b[2;36m \u001b[0m\u001b[1;38;2;0;105;255mINFO    \u001b[0m Skipping checksum validation. Response did not contain one of the  \u001b]8;id=512134;file:///opt/conda/lib/python3.11/site-packages/botocore/httpchecksum.py\u001b\\\u001b[2mhttpchecksum.py\u001b[0m\u001b]8;;\u001b\\\u001b[2m:\u001b[0m\u001b]8;id=121637;file:///opt/conda/lib/python3.11/site-packages/botocore/httpchecksum.py#487\u001b\\\u001b[2m487\u001b[0m\u001b]8;;\u001b\\\n",
       "\u001b[2;36m                    \u001b[0m         following algorithms: \u001b[1m[\u001b[0m\u001b[38;2;0;135;0m'crc32'\u001b[0m, \u001b[38;2;0;135;0m'sha1'\u001b[0m, \u001b[38;2;0;135;0m'sha256'\u001b[0m\u001b[1m]\u001b[0m.                 \u001b[2m                   \u001b[0m\n"
      ]
     },
     "metadata": {},
     "output_type": "display_data"
    },
    {
     "data": {
      "text/html": [
       "<div>\n",
       "<style scoped>\n",
       "    .dataframe tbody tr th:only-of-type {\n",
       "        vertical-align: middle;\n",
       "    }\n",
       "\n",
       "    .dataframe tbody tr th {\n",
       "        vertical-align: top;\n",
       "    }\n",
       "\n",
       "    .dataframe thead th {\n",
       "        text-align: right;\n",
       "    }\n",
       "</style>\n",
       "<table border=\"1\" class=\"dataframe\">\n",
       "  <thead>\n",
       "    <tr style=\"text-align: right;\">\n",
       "      <th></th>\n",
       "      <th>Employee ID</th>\n",
       "      <th>Age</th>\n",
       "      <th>Gender</th>\n",
       "      <th>Years at Company</th>\n",
       "      <th>Job Role</th>\n",
       "      <th>Monthly Income</th>\n",
       "      <th>Work-Life Balance</th>\n",
       "      <th>Job Satisfaction</th>\n",
       "      <th>Performance Rating</th>\n",
       "      <th>Number of Promotions</th>\n",
       "      <th>...</th>\n",
       "      <th>Number of Dependents</th>\n",
       "      <th>Job Level</th>\n",
       "      <th>Company Size</th>\n",
       "      <th>Company Tenure</th>\n",
       "      <th>Remote Work</th>\n",
       "      <th>Leadership Opportunities</th>\n",
       "      <th>Innovation Opportunities</th>\n",
       "      <th>Company Reputation</th>\n",
       "      <th>Employee Recognition</th>\n",
       "      <th>Attrition</th>\n",
       "    </tr>\n",
       "  </thead>\n",
       "  <tbody>\n",
       "    <tr>\n",
       "      <th>0</th>\n",
       "      <td>8410</td>\n",
       "      <td>31</td>\n",
       "      <td>Male</td>\n",
       "      <td>19</td>\n",
       "      <td>Education</td>\n",
       "      <td>5390</td>\n",
       "      <td>Excellent</td>\n",
       "      <td>Medium</td>\n",
       "      <td>Average</td>\n",
       "      <td>2</td>\n",
       "      <td>...</td>\n",
       "      <td>0</td>\n",
       "      <td>Mid</td>\n",
       "      <td>Medium</td>\n",
       "      <td>89</td>\n",
       "      <td>No</td>\n",
       "      <td>No</td>\n",
       "      <td>No</td>\n",
       "      <td>Excellent</td>\n",
       "      <td>Medium</td>\n",
       "      <td>Stayed</td>\n",
       "    </tr>\n",
       "    <tr>\n",
       "      <th>1</th>\n",
       "      <td>64756</td>\n",
       "      <td>59</td>\n",
       "      <td>Female</td>\n",
       "      <td>4</td>\n",
       "      <td>Media</td>\n",
       "      <td>5534</td>\n",
       "      <td>Poor</td>\n",
       "      <td>High</td>\n",
       "      <td>Low</td>\n",
       "      <td>3</td>\n",
       "      <td>...</td>\n",
       "      <td>3</td>\n",
       "      <td>Mid</td>\n",
       "      <td>Medium</td>\n",
       "      <td>21</td>\n",
       "      <td>No</td>\n",
       "      <td>No</td>\n",
       "      <td>No</td>\n",
       "      <td>Fair</td>\n",
       "      <td>Low</td>\n",
       "      <td>Stayed</td>\n",
       "    </tr>\n",
       "    <tr>\n",
       "      <th>2</th>\n",
       "      <td>30257</td>\n",
       "      <td>24</td>\n",
       "      <td>Female</td>\n",
       "      <td>10</td>\n",
       "      <td>Healthcare</td>\n",
       "      <td>8159</td>\n",
       "      <td>Good</td>\n",
       "      <td>High</td>\n",
       "      <td>Low</td>\n",
       "      <td>0</td>\n",
       "      <td>...</td>\n",
       "      <td>3</td>\n",
       "      <td>Mid</td>\n",
       "      <td>Medium</td>\n",
       "      <td>74</td>\n",
       "      <td>No</td>\n",
       "      <td>No</td>\n",
       "      <td>No</td>\n",
       "      <td>Poor</td>\n",
       "      <td>Low</td>\n",
       "      <td>Stayed</td>\n",
       "    </tr>\n",
       "    <tr>\n",
       "      <th>3</th>\n",
       "      <td>65791</td>\n",
       "      <td>36</td>\n",
       "      <td>Female</td>\n",
       "      <td>7</td>\n",
       "      <td>Education</td>\n",
       "      <td>3989</td>\n",
       "      <td>Good</td>\n",
       "      <td>High</td>\n",
       "      <td>High</td>\n",
       "      <td>1</td>\n",
       "      <td>...</td>\n",
       "      <td>2</td>\n",
       "      <td>Mid</td>\n",
       "      <td>Small</td>\n",
       "      <td>50</td>\n",
       "      <td>Yes</td>\n",
       "      <td>No</td>\n",
       "      <td>No</td>\n",
       "      <td>Good</td>\n",
       "      <td>Medium</td>\n",
       "      <td>Stayed</td>\n",
       "    </tr>\n",
       "    <tr>\n",
       "      <th>4</th>\n",
       "      <td>65026</td>\n",
       "      <td>56</td>\n",
       "      <td>Male</td>\n",
       "      <td>41</td>\n",
       "      <td>Education</td>\n",
       "      <td>4821</td>\n",
       "      <td>Fair</td>\n",
       "      <td>Very High</td>\n",
       "      <td>Average</td>\n",
       "      <td>0</td>\n",
       "      <td>...</td>\n",
       "      <td>0</td>\n",
       "      <td>Senior</td>\n",
       "      <td>Medium</td>\n",
       "      <td>68</td>\n",
       "      <td>No</td>\n",
       "      <td>No</td>\n",
       "      <td>No</td>\n",
       "      <td>Fair</td>\n",
       "      <td>Medium</td>\n",
       "      <td>Stayed</td>\n",
       "    </tr>\n",
       "    <tr>\n",
       "      <th>...</th>\n",
       "      <td>...</td>\n",
       "      <td>...</td>\n",
       "      <td>...</td>\n",
       "      <td>...</td>\n",
       "      <td>...</td>\n",
       "      <td>...</td>\n",
       "      <td>...</td>\n",
       "      <td>...</td>\n",
       "      <td>...</td>\n",
       "      <td>...</td>\n",
       "      <td>...</td>\n",
       "      <td>...</td>\n",
       "      <td>...</td>\n",
       "      <td>...</td>\n",
       "      <td>...</td>\n",
       "      <td>...</td>\n",
       "      <td>...</td>\n",
       "      <td>...</td>\n",
       "      <td>...</td>\n",
       "      <td>...</td>\n",
       "      <td>...</td>\n",
       "    </tr>\n",
       "    <tr>\n",
       "      <th>74493</th>\n",
       "      <td>16243</td>\n",
       "      <td>56</td>\n",
       "      <td>Female</td>\n",
       "      <td>42</td>\n",
       "      <td>Healthcare</td>\n",
       "      <td>7830</td>\n",
       "      <td>Poor</td>\n",
       "      <td>Medium</td>\n",
       "      <td>Average</td>\n",
       "      <td>0</td>\n",
       "      <td>...</td>\n",
       "      <td>0</td>\n",
       "      <td>Senior</td>\n",
       "      <td>Medium</td>\n",
       "      <td>60</td>\n",
       "      <td>No</td>\n",
       "      <td>No</td>\n",
       "      <td>No</td>\n",
       "      <td>Poor</td>\n",
       "      <td>Medium</td>\n",
       "      <td>Stayed</td>\n",
       "    </tr>\n",
       "    <tr>\n",
       "      <th>74494</th>\n",
       "      <td>47175</td>\n",
       "      <td>30</td>\n",
       "      <td>Female</td>\n",
       "      <td>15</td>\n",
       "      <td>Education</td>\n",
       "      <td>3856</td>\n",
       "      <td>Good</td>\n",
       "      <td>Medium</td>\n",
       "      <td>Average</td>\n",
       "      <td>2</td>\n",
       "      <td>...</td>\n",
       "      <td>0</td>\n",
       "      <td>Entry</td>\n",
       "      <td>Medium</td>\n",
       "      <td>20</td>\n",
       "      <td>No</td>\n",
       "      <td>No</td>\n",
       "      <td>No</td>\n",
       "      <td>Good</td>\n",
       "      <td>Medium</td>\n",
       "      <td>Left</td>\n",
       "    </tr>\n",
       "    <tr>\n",
       "      <th>74495</th>\n",
       "      <td>12409</td>\n",
       "      <td>52</td>\n",
       "      <td>Male</td>\n",
       "      <td>5</td>\n",
       "      <td>Education</td>\n",
       "      <td>5654</td>\n",
       "      <td>Good</td>\n",
       "      <td>Very High</td>\n",
       "      <td>Below Average</td>\n",
       "      <td>0</td>\n",
       "      <td>...</td>\n",
       "      <td>4</td>\n",
       "      <td>Mid</td>\n",
       "      <td>Small</td>\n",
       "      <td>7</td>\n",
       "      <td>No</td>\n",
       "      <td>No</td>\n",
       "      <td>No</td>\n",
       "      <td>Good</td>\n",
       "      <td>High</td>\n",
       "      <td>Left</td>\n",
       "    </tr>\n",
       "    <tr>\n",
       "      <th>74496</th>\n",
       "      <td>9554</td>\n",
       "      <td>18</td>\n",
       "      <td>Male</td>\n",
       "      <td>4</td>\n",
       "      <td>Education</td>\n",
       "      <td>5276</td>\n",
       "      <td>Fair</td>\n",
       "      <td>High</td>\n",
       "      <td>Average</td>\n",
       "      <td>0</td>\n",
       "      <td>...</td>\n",
       "      <td>3</td>\n",
       "      <td>Mid</td>\n",
       "      <td>Large</td>\n",
       "      <td>5</td>\n",
       "      <td>No</td>\n",
       "      <td>No</td>\n",
       "      <td>No</td>\n",
       "      <td>Poor</td>\n",
       "      <td>High</td>\n",
       "      <td>Stayed</td>\n",
       "    </tr>\n",
       "    <tr>\n",
       "      <th>74497</th>\n",
       "      <td>73042</td>\n",
       "      <td>59</td>\n",
       "      <td>Female</td>\n",
       "      <td>48</td>\n",
       "      <td>Education</td>\n",
       "      <td>3774</td>\n",
       "      <td>Good</td>\n",
       "      <td>High</td>\n",
       "      <td>Below Average</td>\n",
       "      <td>1</td>\n",
       "      <td>...</td>\n",
       "      <td>4</td>\n",
       "      <td>Mid</td>\n",
       "      <td>Large</td>\n",
       "      <td>118</td>\n",
       "      <td>No</td>\n",
       "      <td>No</td>\n",
       "      <td>No</td>\n",
       "      <td>Good</td>\n",
       "      <td>Very High</td>\n",
       "      <td>Left</td>\n",
       "    </tr>\n",
       "  </tbody>\n",
       "</table>\n",
       "<p>74498 rows × 24 columns</p>\n",
       "</div>"
      ],
      "text/plain": [
       "       Employee ID  Age  Gender  Years at Company    Job Role  Monthly Income  \\\n",
       "0             8410   31    Male                19   Education            5390   \n",
       "1            64756   59  Female                 4       Media            5534   \n",
       "2            30257   24  Female                10  Healthcare            8159   \n",
       "3            65791   36  Female                 7   Education            3989   \n",
       "4            65026   56    Male                41   Education            4821   \n",
       "...            ...  ...     ...               ...         ...             ...   \n",
       "74493        16243   56  Female                42  Healthcare            7830   \n",
       "74494        47175   30  Female                15   Education            3856   \n",
       "74495        12409   52    Male                 5   Education            5654   \n",
       "74496         9554   18    Male                 4   Education            5276   \n",
       "74497        73042   59  Female                48   Education            3774   \n",
       "\n",
       "      Work-Life Balance Job Satisfaction Performance Rating  \\\n",
       "0             Excellent           Medium            Average   \n",
       "1                  Poor             High                Low   \n",
       "2                  Good             High                Low   \n",
       "3                  Good             High               High   \n",
       "4                  Fair        Very High            Average   \n",
       "...                 ...              ...                ...   \n",
       "74493              Poor           Medium            Average   \n",
       "74494              Good           Medium            Average   \n",
       "74495              Good        Very High      Below Average   \n",
       "74496              Fair             High            Average   \n",
       "74497              Good             High      Below Average   \n",
       "\n",
       "       Number of Promotions  ... Number of Dependents  Job Level Company Size  \\\n",
       "0                         2  ...                    0        Mid       Medium   \n",
       "1                         3  ...                    3        Mid       Medium   \n",
       "2                         0  ...                    3        Mid       Medium   \n",
       "3                         1  ...                    2        Mid        Small   \n",
       "4                         0  ...                    0     Senior       Medium   \n",
       "...                     ...  ...                  ...        ...          ...   \n",
       "74493                     0  ...                    0     Senior       Medium   \n",
       "74494                     2  ...                    0      Entry       Medium   \n",
       "74495                     0  ...                    4        Mid        Small   \n",
       "74496                     0  ...                    3        Mid        Large   \n",
       "74497                     1  ...                    4        Mid        Large   \n",
       "\n",
       "      Company Tenure  Remote Work Leadership Opportunities  \\\n",
       "0                 89           No                       No   \n",
       "1                 21           No                       No   \n",
       "2                 74           No                       No   \n",
       "3                 50          Yes                       No   \n",
       "4                 68           No                       No   \n",
       "...              ...          ...                      ...   \n",
       "74493             60           No                       No   \n",
       "74494             20           No                       No   \n",
       "74495              7           No                       No   \n",
       "74496              5           No                       No   \n",
       "74497            118           No                       No   \n",
       "\n",
       "      Innovation Opportunities  Company Reputation Employee Recognition  \\\n",
       "0                           No           Excellent               Medium   \n",
       "1                           No                Fair                  Low   \n",
       "2                           No                Poor                  Low   \n",
       "3                           No                Good               Medium   \n",
       "4                           No                Fair               Medium   \n",
       "...                        ...                 ...                  ...   \n",
       "74493                       No                Poor               Medium   \n",
       "74494                       No                Good               Medium   \n",
       "74495                       No                Good                 High   \n",
       "74496                       No                Poor                 High   \n",
       "74497                       No                Good            Very High   \n",
       "\n",
       "      Attrition  \n",
       "0        Stayed  \n",
       "1        Stayed  \n",
       "2        Stayed  \n",
       "3        Stayed  \n",
       "4        Stayed  \n",
       "...         ...  \n",
       "74493    Stayed  \n",
       "74494      Left  \n",
       "74495      Left  \n",
       "74496    Stayed  \n",
       "74497      Left  \n",
       "\n",
       "[74498 rows x 24 columns]"
      ]
     },
     "metadata": {},
     "output_type": "display_data"
    }
   ],
   "source": [
    "# Load and Prepare Data\n",
    "file_key = \"aai-540-group-3-final-project/data/db_source/data.csv\"\n",
    "\n",
    "# Download the file from S3 to a local file object\n",
    "response = s3.get_object(Bucket=bucket, Key=file_key)\n",
    "\n",
    "# Read the content of the file into a pandas DataFrame\n",
    "data = pd.read_csv(response['Body'])\n",
    "\n",
    "# Display the DataFrame\n",
    "display(data)"
   ]
  },
  {
   "cell_type": "code",
   "execution_count": 20,
   "id": "e29f8e18-a6e2-4444-b6b2-d48f018bf1ac",
   "metadata": {},
   "outputs": [
    {
     "name": "stdout",
     "output_type": "stream",
     "text": [
      "Index(['Employee_ID', 'Age', 'Gender', 'Years_at_Company', 'Job_Role',\n",
      "       'Monthly_Income', 'Work_Life_Balance', 'Job_Satisfaction',\n",
      "       'Performance_Rating', 'Number_of_Promotions', 'Overtime',\n",
      "       'Distance_from_Home', 'Education_Level', 'Marital_Status',\n",
      "       'Number_of_Dependents', 'Job_Level', 'Company_Size', 'Company_Tenure',\n",
      "       'Remote_Work', 'Leadership_Opportunities', 'Innovation_Opportunities',\n",
      "       'Company_Reputation', 'Employee_Recognition', 'Attrition'],\n",
      "      dtype='object')\n"
     ]
    }
   ],
   "source": [
    "# Rename feature names to remove spaces\n",
    "data.columns = (\n",
    "    data.columns\n",
    "    .str.replace(\" \", \"_\")  # Replace spaces with underscores\n",
    "    .str.replace(\"-\", \"_\")  # Replace hyphens with underscores (optional)\n",
    "    .str.replace(\"/\", \"_\")  # Replace slashes with underscores (optional)\n",
    ")\n",
    "\n",
    "# Verify updated column names\n",
    "print(data.columns)\n"
   ]
  },
  {
   "cell_type": "code",
   "execution_count": 21,
   "id": "4b11ceb4-ec28-4150-ba42-d4816cd7c96f",
   "metadata": {
    "tags": []
   },
   "outputs": [
    {
     "name": "stdout",
     "output_type": "stream",
     "text": [
      "✅ Feature Group 'employee-attrition-feature-store' already exists. Skipping creation.\n"
     ]
    }
   ],
   "source": [
    "from sagemaker.feature_store.feature_group import FeatureGroup\n",
    "import pandas as pd\n",
    "import sagemaker\n",
    "\n",
    "# Initialize SageMaker session\n",
    "sagemaker_session = sagemaker.Session()\n",
    "\n",
    "# Feature Group Name\n",
    "feature_group_name = \"employee-attrition-feature-store\"\n",
    "\n",
    "# Check if Feature Group already exists\n",
    "try:\n",
    "    existing_feature_group = sagemaker_session.sagemaker_client.describe_feature_group(\n",
    "        FeatureGroupName=feature_group_name\n",
    "    )\n",
    "    print(f\"✅ Feature Group '{feature_group_name}' already exists. Skipping creation.\")\n",
    "except sagemaker_session.sagemaker_client.exceptions.ResourceNotFoundException:\n",
    "    print(f\"🔄 Feature Group '{feature_group_name}' not found. Creating a new one...\")\n",
    "\n",
    "    # Ensure the EventTime column exists and is properly formatted\n",
    "    data[\"EventTime\"] = pd.to_datetime(\"now\").strftime(\"%Y-%m-%dT%H:%M:%SZ\")\n",
    "\n",
    "    # Verify EventTime is present\n",
    "    print(data.columns)  # Check if 'EventTime' appears in the list\n",
    "\n",
    "    # Ensure Employee ID is properly named\n",
    "    data.rename(columns={\"Employee ID\": \"Employee_ID\"}, inplace=True)\n",
    "\n",
    "    # Fix all column names to remove spaces\n",
    "    data.columns = data.columns.str.replace(\" \", \"_\")\n",
    "\n",
    "    # Verify DataFrame structure before loading to Feature Store\n",
    "    print(data.head())\n",
    "\n",
    "    # Initialize Feature Group\n",
    "    feature_group = FeatureGroup(name=feature_group_name, sagemaker_session=sagemaker_session)\n",
    "\n",
    "    # Reload feature definitions after column renaming\n",
    "    feature_group.load_feature_definitions(data_frame=data)\n",
    "\n",
    "    # Create Feature Group with corrected names\n",
    "    feature_group.create(\n",
    "        record_identifier_name=\"Employee_ID\",  # Ensure matches renamed column\n",
    "        event_time_feature_name=\"EventTime\",  # Ensure this column exists\n",
    "        role_arn=role,\n",
    "        description=\"Feature store for employee attrition prediction\",\n",
    "        s3_uri=DATA_PATH  # ✅ Required for Offline Store\n",
    "    )\n",
    "    print(f\"🚀 Feature Group '{feature_group_name}' has been successfully created.\")\n"
   ]
  },
  {
   "cell_type": "code",
   "execution_count": 22,
   "id": "d3b7a06e-4eab-411b-9f8c-9ef6520b2d95",
   "metadata": {},
   "outputs": [
    {
     "data": {
      "text/plain": [
       "{'FeatureGroupArn': 'arn:aws:sagemaker:us-east-1:095342792399:feature-group/employee-attrition-feature-store',\n",
       " 'FeatureGroupName': 'employee-attrition-feature-store',\n",
       " 'RecordIdentifierFeatureName': 'Employee_ID',\n",
       " 'EventTimeFeatureName': 'EventTime',\n",
       " 'FeatureDefinitions': [{'FeatureName': 'Employee_ID',\n",
       "   'FeatureType': 'String'},\n",
       "  {'FeatureName': 'Age', 'FeatureType': 'Integral'},\n",
       "  {'FeatureName': 'Gender', 'FeatureType': 'String'},\n",
       "  {'FeatureName': 'Years_at_Company', 'FeatureType': 'Integral'},\n",
       "  {'FeatureName': 'Job_Role', 'FeatureType': 'String'},\n",
       "  {'FeatureName': 'Monthly_Income', 'FeatureType': 'Integral'},\n",
       "  {'FeatureName': 'Work_Life_Balance', 'FeatureType': 'String'},\n",
       "  {'FeatureName': 'Job_Satisfaction', 'FeatureType': 'String'},\n",
       "  {'FeatureName': 'Performance_Rating', 'FeatureType': 'String'},\n",
       "  {'FeatureName': 'Number_of_Promotions', 'FeatureType': 'Integral'},\n",
       "  {'FeatureName': 'Overtime', 'FeatureType': 'String'},\n",
       "  {'FeatureName': 'Distance_from_Home', 'FeatureType': 'Integral'},\n",
       "  {'FeatureName': 'Education_Level', 'FeatureType': 'String'},\n",
       "  {'FeatureName': 'Marital_Status', 'FeatureType': 'String'},\n",
       "  {'FeatureName': 'Number_of_Dependents', 'FeatureType': 'Integral'},\n",
       "  {'FeatureName': 'Job_Level', 'FeatureType': 'String'},\n",
       "  {'FeatureName': 'Company_Size', 'FeatureType': 'String'},\n",
       "  {'FeatureName': 'Company_Tenure', 'FeatureType': 'Integral'},\n",
       "  {'FeatureName': 'Remote_Work', 'FeatureType': 'String'},\n",
       "  {'FeatureName': 'Leadership_Opportunities', 'FeatureType': 'String'},\n",
       "  {'FeatureName': 'Innovation_Opportunities', 'FeatureType': 'String'},\n",
       "  {'FeatureName': 'Company_Reputation', 'FeatureType': 'String'},\n",
       "  {'FeatureName': 'Employee_Recognition', 'FeatureType': 'String'},\n",
       "  {'FeatureName': 'Attrition', 'FeatureType': 'String'},\n",
       "  {'FeatureName': 'EventTime', 'FeatureType': 'String'}],\n",
       " 'CreationTime': datetime.datetime(2025, 2, 1, 6, 9, 55, 639000, tzinfo=tzlocal()),\n",
       " 'OfflineStoreConfig': {'S3StorageConfig': {'S3Uri': 's3://sagemaker-us-east-1-095342792399/aai-540-group-3-final-project/data/db_source/',\n",
       "   'ResolvedOutputS3Uri': 's3://sagemaker-us-east-1-095342792399/aai-540-group-3-final-project/data/db_source/095342792399/sagemaker/us-east-1/offline-store/employee-attrition-feature-store-1738390195/data'},\n",
       "  'DisableGlueTableCreation': False,\n",
       "  'DataCatalogConfig': {'TableName': 'employee_attrition_feature_store_1738390195',\n",
       "   'Catalog': 'AwsDataCatalog',\n",
       "   'Database': 'sagemaker_featurestore'}},\n",
       " 'ThroughputConfig': {'ThroughputMode': 'OnDemand'},\n",
       " 'RoleArn': 'arn:aws:iam::095342792399:role/LabRole',\n",
       " 'FeatureGroupStatus': 'Created',\n",
       " 'OfflineStoreStatus': {'Status': 'Active'},\n",
       " 'Description': 'Feature store for employee attrition prediction',\n",
       " 'ResponseMetadata': {'RequestId': '14fb5146-fc29-44a0-87c5-8f11f8677f4e',\n",
       "  'HTTPStatusCode': 200,\n",
       "  'HTTPHeaders': {'x-amzn-requestid': '14fb5146-fc29-44a0-87c5-8f11f8677f4e',\n",
       "   'content-type': 'application/x-amz-json-1.1',\n",
       "   'content-length': '2816',\n",
       "   'date': 'Mon, 03 Feb 2025 05:52:38 GMT'},\n",
       "  'RetryAttempts': 0}}"
      ]
     },
     "execution_count": 22,
     "metadata": {},
     "output_type": "execute_result"
    }
   ],
   "source": [
    "feature_group.describe()\n"
   ]
  },
  {
   "cell_type": "code",
   "execution_count": 23,
   "id": "a87444b1-05d1-4620-bae6-38df722eb33f",
   "metadata": {
    "tags": []
   },
   "outputs": [
    {
     "name": "stdout",
     "output_type": "stream",
     "text": [
      "✅ Data Types After Conversion:\n",
      " Employee_ID                 object\n",
      "Age                          int64\n",
      "Gender                      object\n",
      "Years_at_Company             int64\n",
      "Job_Role                    object\n",
      "Monthly_Income               int64\n",
      "Work_Life_Balance           object\n",
      "Job_Satisfaction            object\n",
      "Performance_Rating          object\n",
      "Number_of_Promotions         int64\n",
      "Overtime                    object\n",
      "Distance_from_Home           int64\n",
      "Education_Level             object\n",
      "Marital_Status              object\n",
      "Number_of_Dependents         int64\n",
      "Job_Level                   object\n",
      "Company_Size                object\n",
      "Company_Tenure               int64\n",
      "Remote_Work                 object\n",
      "Leadership_Opportunities    object\n",
      "Innovation_Opportunities    object\n",
      "Company_Reputation          object\n",
      "Employee_Recognition        object\n",
      "Attrition                   object\n",
      "EventTime                   object\n",
      "dtype: object\n",
      "✅ Sample Data After Conversion:\n",
      "   Employee_ID  Age  Gender  Years_at_Company    Job_Role  Monthly_Income  \\\n",
      "0        8410   31    Male                19   Education            5390   \n",
      "1       64756   59  Female                 4       Media            5534   \n",
      "2       30257   24  Female                10  Healthcare            8159   \n",
      "3       65791   36  Female                 7   Education            3989   \n",
      "4       65026   56    Male                41   Education            4821   \n",
      "\n",
      "  Work_Life_Balance Job_Satisfaction Performance_Rating  Number_of_Promotions  \\\n",
      "0         Excellent           Medium            Average                     2   \n",
      "1              Poor             High                Low                     3   \n",
      "2              Good             High                Low                     0   \n",
      "3              Good             High               High                     1   \n",
      "4              Fair        Very High            Average                     0   \n",
      "\n",
      "   ... Job_Level  Company_Size Company_Tenure Remote_Work  \\\n",
      "0  ...       Mid        Medium             89          No   \n",
      "1  ...       Mid        Medium             21          No   \n",
      "2  ...       Mid        Medium             74          No   \n",
      "3  ...       Mid         Small             50         Yes   \n",
      "4  ...    Senior        Medium             68          No   \n",
      "\n",
      "   Leadership_Opportunities Innovation_Opportunities Company_Reputation  \\\n",
      "0                        No                       No          Excellent   \n",
      "1                        No                       No               Fair   \n",
      "2                        No                       No               Poor   \n",
      "3                        No                       No               Good   \n",
      "4                        No                       No               Fair   \n",
      "\n",
      "   Employee_Recognition Attrition             EventTime  \n",
      "0                Medium    Stayed  2025-02-03T05:52:38Z  \n",
      "1                   Low    Stayed  2025-02-03T05:52:38Z  \n",
      "2                   Low    Stayed  2025-02-03T05:52:38Z  \n",
      "3                Medium    Stayed  2025-02-03T05:52:38Z  \n",
      "4                Medium    Stayed  2025-02-03T05:52:38Z  \n",
      "\n",
      "[5 rows x 25 columns]\n"
     ]
    }
   ],
   "source": [
    "# Convert Employee_ID to string\n",
    "data[\"Employee_ID\"] = data[\"Employee_ID\"].astype(str)\n",
    "\n",
    "# Convert EventTime to correct format\n",
    "data[\"EventTime\"] = pd.to_datetime(\"now\").strftime(\"%Y-%m-%dT%H:%M:%SZ\")\n",
    "\n",
    "# Verify again\n",
    "print(\"✅ Data Types After Conversion:\\n\", data.dtypes)\n",
    "print(\"✅ Sample Data After Conversion:\\n\", data.head())\n"
   ]
  },
  {
   "cell_type": "code",
   "execution_count": 24,
   "id": "e2a47137-2035-4afb-8f8b-cafb6b9a8350",
   "metadata": {
    "tags": []
   },
   "outputs": [
    {
     "name": "stdout",
     "output_type": "stream",
     "text": [
      "🔍 Column Names: Index(['Employee_ID', 'Age', 'Gender', 'Years_at_Company', 'Job_Role',\n",
      "       'Monthly_Income', 'Work_Life_Balance', 'Job_Satisfaction',\n",
      "       'Performance_Rating', 'Number_of_Promotions', 'Overtime',\n",
      "       'Distance_from_Home', 'Education_Level', 'Marital_Status',\n",
      "       'Number_of_Dependents', 'Job_Level', 'Company_Size', 'Company_Tenure',\n",
      "       'Remote_Work', 'Leadership_Opportunities', 'Innovation_Opportunities',\n",
      "       'Company_Reputation', 'Employee_Recognition', 'Attrition', 'EventTime'],\n",
      "      dtype='object')\n",
      "🔍 Data Types:\n",
      " Employee_ID                 object\n",
      "Age                          int64\n",
      "Gender                      object\n",
      "Years_at_Company             int64\n",
      "Job_Role                    object\n",
      "Monthly_Income               int64\n",
      "Work_Life_Balance           object\n",
      "Job_Satisfaction            object\n",
      "Performance_Rating          object\n",
      "Number_of_Promotions         int64\n",
      "Overtime                    object\n",
      "Distance_from_Home           int64\n",
      "Education_Level             object\n",
      "Marital_Status              object\n",
      "Number_of_Dependents         int64\n",
      "Job_Level                   object\n",
      "Company_Size                object\n",
      "Company_Tenure               int64\n",
      "Remote_Work                 object\n",
      "Leadership_Opportunities    object\n",
      "Innovation_Opportunities    object\n",
      "Company_Reputation          object\n",
      "Employee_Recognition        object\n",
      "Attrition                   object\n",
      "EventTime                   object\n",
      "dtype: object\n",
      "🔍 First Few Rows:\n",
      "   Employee_ID  Age  Gender  Years_at_Company    Job_Role  Monthly_Income  \\\n",
      "0        8410   31    Male                19   Education            5390   \n",
      "1       64756   59  Female                 4       Media            5534   \n",
      "2       30257   24  Female                10  Healthcare            8159   \n",
      "3       65791   36  Female                 7   Education            3989   \n",
      "4       65026   56    Male                41   Education            4821   \n",
      "\n",
      "  Work_Life_Balance Job_Satisfaction Performance_Rating  Number_of_Promotions  \\\n",
      "0         Excellent           Medium            Average                     2   \n",
      "1              Poor             High                Low                     3   \n",
      "2              Good             High                Low                     0   \n",
      "3              Good             High               High                     1   \n",
      "4              Fair        Very High            Average                     0   \n",
      "\n",
      "   ... Job_Level  Company_Size Company_Tenure Remote_Work  \\\n",
      "0  ...       Mid        Medium             89          No   \n",
      "1  ...       Mid        Medium             21          No   \n",
      "2  ...       Mid        Medium             74          No   \n",
      "3  ...       Mid         Small             50         Yes   \n",
      "4  ...    Senior        Medium             68          No   \n",
      "\n",
      "   Leadership_Opportunities Innovation_Opportunities Company_Reputation  \\\n",
      "0                        No                       No          Excellent   \n",
      "1                        No                       No               Fair   \n",
      "2                        No                       No               Poor   \n",
      "3                        No                       No               Good   \n",
      "4                        No                       No               Fair   \n",
      "\n",
      "   Employee_Recognition Attrition             EventTime  \n",
      "0                Medium    Stayed  2025-02-03T05:52:38Z  \n",
      "1                   Low    Stayed  2025-02-03T05:52:38Z  \n",
      "2                   Low    Stayed  2025-02-03T05:52:38Z  \n",
      "3                Medium    Stayed  2025-02-03T05:52:38Z  \n",
      "4                Medium    Stayed  2025-02-03T05:52:38Z  \n",
      "\n",
      "[5 rows x 25 columns]\n"
     ]
    }
   ],
   "source": [
    "# Verify column names and data types before ingestion\n",
    "print(\"🔍 Column Names:\", data.columns)\n",
    "print(\"🔍 Data Types:\\n\", data.dtypes)\n",
    "print(\"🔍 First Few Rows:\\n\", data.head())\n"
   ]
  },
  {
   "cell_type": "code",
   "execution_count": 25,
   "id": "527e01f2-7d07-402a-88de-778f280fd3e5",
   "metadata": {
    "tags": []
   },
   "outputs": [
    {
     "data": {
      "text/html": [
       "<pre style=\"white-space:pre;overflow-x:auto;line-height:normal;font-family:Menlo,'DejaVu Sans Mono',consolas,'Courier New',monospace\"><span style=\"color: #7fbfbf; text-decoration-color: #7fbfbf\">[02/03/25 05:52:38] </span><span style=\"color: #0069ff; text-decoration-color: #0069ff; font-weight: bold\">INFO    </span> Started ingesting index %d to %d                                  <a href=\"file:///opt/conda/lib/python3.11/site-packages/sagemaker/feature_store/feature_group.py\" target=\"_blank\"><span style=\"color: #7f7f7f; text-decoration-color: #7f7f7f\">feature_group.py</span></a><span style=\"color: #7f7f7f; text-decoration-color: #7f7f7f\">:</span><a href=\"file:///opt/conda/lib/python3.11/site-packages/sagemaker/feature_store/feature_group.py#448\" target=\"_blank\"><span style=\"color: #7f7f7f; text-decoration-color: #7f7f7f\">448</span></a>\n",
       "</pre>\n"
      ],
      "text/plain": [
       "\u001b[2;36m[02/03/25 05:52:38]\u001b[0m\u001b[2;36m \u001b[0m\u001b[1;38;2;0;105;255mINFO    \u001b[0m Started ingesting index %d to %d                                  \u001b]8;id=263382;file:///opt/conda/lib/python3.11/site-packages/sagemaker/feature_store/feature_group.py\u001b\\\u001b[2mfeature_group.py\u001b[0m\u001b]8;;\u001b\\\u001b[2m:\u001b[0m\u001b]8;id=523123;file:///opt/conda/lib/python3.11/site-packages/sagemaker/feature_store/feature_group.py#448\u001b\\\u001b[2m448\u001b[0m\u001b]8;;\u001b\\\n"
      ]
     },
     "metadata": {},
     "output_type": "display_data"
    },
    {
     "data": {
      "text/plain": [
       "IngestionManagerPandas(feature_group_name='employee-attrition-feature-store', feature_definitions={'Employee_ID': {'FeatureName': 'Employee_ID', 'FeatureType': 'String'}, 'Age': {'FeatureName': 'Age', 'FeatureType': 'Integral'}, 'Gender': {'FeatureName': 'Gender', 'FeatureType': 'String'}, 'Years_at_Company': {'FeatureName': 'Years_at_Company', 'FeatureType': 'Integral'}, 'Job_Role': {'FeatureName': 'Job_Role', 'FeatureType': 'String'}, 'Monthly_Income': {'FeatureName': 'Monthly_Income', 'FeatureType': 'Integral'}, 'Work_Life_Balance': {'FeatureName': 'Work_Life_Balance', 'FeatureType': 'String'}, 'Job_Satisfaction': {'FeatureName': 'Job_Satisfaction', 'FeatureType': 'String'}, 'Performance_Rating': {'FeatureName': 'Performance_Rating', 'FeatureType': 'String'}, 'Number_of_Promotions': {'FeatureName': 'Number_of_Promotions', 'FeatureType': 'Integral'}, 'Overtime': {'FeatureName': 'Overtime', 'FeatureType': 'String'}, 'Distance_from_Home': {'FeatureName': 'Distance_from_Home', 'FeatureType': 'Integral'}, 'Education_Level': {'FeatureName': 'Education_Level', 'FeatureType': 'String'}, 'Marital_Status': {'FeatureName': 'Marital_Status', 'FeatureType': 'String'}, 'Number_of_Dependents': {'FeatureName': 'Number_of_Dependents', 'FeatureType': 'Integral'}, 'Job_Level': {'FeatureName': 'Job_Level', 'FeatureType': 'String'}, 'Company_Size': {'FeatureName': 'Company_Size', 'FeatureType': 'String'}, 'Company_Tenure': {'FeatureName': 'Company_Tenure', 'FeatureType': 'Integral'}, 'Remote_Work': {'FeatureName': 'Remote_Work', 'FeatureType': 'String'}, 'Leadership_Opportunities': {'FeatureName': 'Leadership_Opportunities', 'FeatureType': 'String'}, 'Innovation_Opportunities': {'FeatureName': 'Innovation_Opportunities', 'FeatureType': 'String'}, 'Company_Reputation': {'FeatureName': 'Company_Reputation', 'FeatureType': 'String'}, 'Employee_Recognition': {'FeatureName': 'Employee_Recognition', 'FeatureType': 'String'}, 'Attrition': {'FeatureName': 'Attrition', 'FeatureType': 'String'}, 'EventTime': {'FeatureName': 'EventTime', 'FeatureType': 'String'}}, sagemaker_fs_runtime_client_config=<botocore.config.Config object at 0x7f5aa0d00190>, sagemaker_session=<sagemaker.session.Session object at 0x7f5aa23b2bd0>, max_workers=1, max_processes=1, profile_name=None, _async_result=None, _processing_pool=None, _failed_indices=[])"
      ]
     },
     "execution_count": 25,
     "metadata": {},
     "output_type": "execute_result"
    }
   ],
   "source": [
    "# Reload feature definitions with corrected data\n",
    "feature_group.load_feature_definitions(data_frame=data)\n",
    "\n",
    "# Ingest data into Feature Store with reduced parallel workers\n",
    "feature_group.ingest(data_frame=data, max_workers=1, wait=True)\n"
   ]
  },
  {
   "cell_type": "code",
   "execution_count": 26,
   "id": "1f0cb7dd-f44f-441e-af13-24df5014a36e",
   "metadata": {
    "tags": []
   },
   "outputs": [
    {
     "data": {
      "text/plain": [
       "{'FeatureGroupArn': 'arn:aws:sagemaker:us-east-1:095342792399:feature-group/employee-attrition-feature-store',\n",
       " 'FeatureGroupName': 'employee-attrition-feature-store',\n",
       " 'RecordIdentifierFeatureName': 'Employee_ID',\n",
       " 'EventTimeFeatureName': 'EventTime',\n",
       " 'FeatureDefinitions': [{'FeatureName': 'Employee_ID',\n",
       "   'FeatureType': 'String'},\n",
       "  {'FeatureName': 'Age', 'FeatureType': 'Integral'},\n",
       "  {'FeatureName': 'Gender', 'FeatureType': 'String'},\n",
       "  {'FeatureName': 'Years_at_Company', 'FeatureType': 'Integral'},\n",
       "  {'FeatureName': 'Job_Role', 'FeatureType': 'String'},\n",
       "  {'FeatureName': 'Monthly_Income', 'FeatureType': 'Integral'},\n",
       "  {'FeatureName': 'Work_Life_Balance', 'FeatureType': 'String'},\n",
       "  {'FeatureName': 'Job_Satisfaction', 'FeatureType': 'String'},\n",
       "  {'FeatureName': 'Performance_Rating', 'FeatureType': 'String'},\n",
       "  {'FeatureName': 'Number_of_Promotions', 'FeatureType': 'Integral'},\n",
       "  {'FeatureName': 'Overtime', 'FeatureType': 'String'},\n",
       "  {'FeatureName': 'Distance_from_Home', 'FeatureType': 'Integral'},\n",
       "  {'FeatureName': 'Education_Level', 'FeatureType': 'String'},\n",
       "  {'FeatureName': 'Marital_Status', 'FeatureType': 'String'},\n",
       "  {'FeatureName': 'Number_of_Dependents', 'FeatureType': 'Integral'},\n",
       "  {'FeatureName': 'Job_Level', 'FeatureType': 'String'},\n",
       "  {'FeatureName': 'Company_Size', 'FeatureType': 'String'},\n",
       "  {'FeatureName': 'Company_Tenure', 'FeatureType': 'Integral'},\n",
       "  {'FeatureName': 'Remote_Work', 'FeatureType': 'String'},\n",
       "  {'FeatureName': 'Leadership_Opportunities', 'FeatureType': 'String'},\n",
       "  {'FeatureName': 'Innovation_Opportunities', 'FeatureType': 'String'},\n",
       "  {'FeatureName': 'Company_Reputation', 'FeatureType': 'String'},\n",
       "  {'FeatureName': 'Employee_Recognition', 'FeatureType': 'String'},\n",
       "  {'FeatureName': 'Attrition', 'FeatureType': 'String'},\n",
       "  {'FeatureName': 'EventTime', 'FeatureType': 'String'}],\n",
       " 'CreationTime': datetime.datetime(2025, 2, 1, 6, 9, 55, 639000, tzinfo=tzlocal()),\n",
       " 'OfflineStoreConfig': {'S3StorageConfig': {'S3Uri': 's3://sagemaker-us-east-1-095342792399/aai-540-group-3-final-project/data/db_source/',\n",
       "   'ResolvedOutputS3Uri': 's3://sagemaker-us-east-1-095342792399/aai-540-group-3-final-project/data/db_source/095342792399/sagemaker/us-east-1/offline-store/employee-attrition-feature-store-1738390195/data'},\n",
       "  'DisableGlueTableCreation': False,\n",
       "  'DataCatalogConfig': {'TableName': 'employee_attrition_feature_store_1738390195',\n",
       "   'Catalog': 'AwsDataCatalog',\n",
       "   'Database': 'sagemaker_featurestore'}},\n",
       " 'ThroughputConfig': {'ThroughputMode': 'OnDemand'},\n",
       " 'RoleArn': 'arn:aws:iam::095342792399:role/LabRole',\n",
       " 'FeatureGroupStatus': 'Created',\n",
       " 'OfflineStoreStatus': {'Status': 'Active'},\n",
       " 'Description': 'Feature store for employee attrition prediction',\n",
       " 'ResponseMetadata': {'RequestId': '3883183a-b9b3-4610-84ae-dda6a94b9723',\n",
       "  'HTTPStatusCode': 200,\n",
       "  'HTTPHeaders': {'x-amzn-requestid': '3883183a-b9b3-4610-84ae-dda6a94b9723',\n",
       "   'content-type': 'application/x-amz-json-1.1',\n",
       "   'content-length': '2816',\n",
       "   'date': 'Mon, 03 Feb 2025 06:06:51 GMT'},\n",
       "  'RetryAttempts': 0}}"
      ]
     },
     "execution_count": 26,
     "metadata": {},
     "output_type": "execute_result"
    }
   ],
   "source": [
    "# Describe the Feature Group to check ingestion status\n",
    "feature_group.describe()\n"
   ]
  },
  {
   "cell_type": "code",
   "execution_count": 37,
   "id": "275d4e60-704f-4840-83cc-258bb1da77a0",
   "metadata": {
    "tags": []
   },
   "outputs": [
    {
     "name": "stdout",
     "output_type": "stream",
     "text": [
      "✅ Athena table 'employee_table' created in database 'retainAI'.\n"
     ]
    }
   ],
   "source": [
    "wr.catalog.create_parquet_table(\n",
    "    database=\"retainAI\",\n",
    "    table=\"employee_table\",\n",
    "    path=\"s3://sagemaker-us-east-1-095342792399/aai-540-group-3-final-project/data/db_source/\",\n",
    "    columns_types={\n",
    "        \"Employee_ID\": \"string\",\n",
    "        \"Age\": \"int\",\n",
    "        \"Gender\": \"string\",\n",
    "        \"Years_at_Company\": \"int\",\n",
    "        \"Job_Role\": \"string\",\n",
    "        \"Monthly_Income\": \"int\",\n",
    "        \"Work_Life_Balance\": \"string\",\n",
    "        \"Job_Satisfaction\": \"string\",\n",
    "        \"Performance_Rating\": \"string\",\n",
    "        \"Number_of_Promotions\": \"int\",\n",
    "        \"Overtime\": \"string\",\n",
    "        \"Distance_from_Home\": \"int\",\n",
    "        \"Education_Level\": \"string\",\n",
    "        \"Marital_Status\": \"string\",\n",
    "        \"Number_of_Dependents\": \"int\",\n",
    "        \"Job_Level\": \"string\",\n",
    "        \"Company_Size\": \"string\",\n",
    "        \"Company_Tenure\": \"int\",\n",
    "        \"Remote_Work\": \"string\",\n",
    "        \"Leadership_Opportunities\": \"string\",\n",
    "        \"Innovation_Opportunities\": \"string\",\n",
    "        \"Company_Reputation\": \"string\",\n",
    "        \"Employee_Recognition\": \"string\",\n",
    "        \"Attrition\": \"string\",\n",
    "        \"EventTime\": \"string\"\n",
    "    }\n",
    ")\n",
    "\n",
    "print(\"✅ Athena table 'employee_table' created in database 'retainAI'.\")\n"
   ]
  },
  {
   "cell_type": "code",
   "execution_count": 38,
   "id": "167bd439-00ce-4373-b0d6-1e466871796a",
   "metadata": {
    "tags": []
   },
   "outputs": [
    {
     "name": "stdout",
     "output_type": "stream",
     "text": [
      "✅ Tables in 'retainAI': ['employee_table']\n"
     ]
    }
   ],
   "source": [
    "tables = wr.catalog.get_tables(database=\"retainAI\")\n",
    "print(\"✅ Tables in 'retainAI':\", [t[\"Name\"] for t in tables])\n"
   ]
  },
  {
   "cell_type": "code",
   "execution_count": 41,
   "id": "f80bcaea-77e1-4c5c-82cd-ed24627abb80",
   "metadata": {
    "tags": []
   },
   "outputs": [
    {
     "data": {
      "text/html": [
       "<pre style=\"white-space:pre;overflow-x:auto;line-height:normal;font-family:Menlo,'DejaVu Sans Mono',consolas,'Courier New',monospace\"><span style=\"color: #7fbfbf; text-decoration-color: #7fbfbf\">[02/03/25 06:45:45] </span><span style=\"color: #0069ff; text-decoration-color: #0069ff; font-weight: bold\">INFO    </span> Created CTAS table                                                       <a href=\"file:///opt/conda/lib/python3.11/site-packages/awswrangler/athena/_utils.py\" target=\"_blank\"><span style=\"color: #7f7f7f; text-decoration-color: #7f7f7f\">_utils.py</span></a><span style=\"color: #7f7f7f; text-decoration-color: #7f7f7f\">:</span><a href=\"file:///opt/conda/lib/python3.11/site-packages/awswrangler/athena/_utils.py#872\" target=\"_blank\"><span style=\"color: #7f7f7f; text-decoration-color: #7f7f7f\">872</span></a>\n",
       "<span style=\"color: #7fbfbf; text-decoration-color: #7fbfbf\">                    </span>         <span style=\"color: #008700; text-decoration-color: #008700\">\"retainAI\"</span>.<span style=\"color: #008700; text-decoration-color: #008700\">\"temp_table_706cf235d7434656bef456d85500c9d4\"</span>                 <span style=\"color: #7f7f7f; text-decoration-color: #7f7f7f\">             </span>\n",
       "</pre>\n"
      ],
      "text/plain": [
       "\u001b[2;36m[02/03/25 06:45:45]\u001b[0m\u001b[2;36m \u001b[0m\u001b[1;38;2;0;105;255mINFO    \u001b[0m Created CTAS table                                                       \u001b]8;id=51649;file:///opt/conda/lib/python3.11/site-packages/awswrangler/athena/_utils.py\u001b\\\u001b[2m_utils.py\u001b[0m\u001b]8;;\u001b\\\u001b[2m:\u001b[0m\u001b]8;id=193230;file:///opt/conda/lib/python3.11/site-packages/awswrangler/athena/_utils.py#872\u001b\\\u001b[2m872\u001b[0m\u001b]8;;\u001b\\\n",
       "\u001b[2;36m                    \u001b[0m         \u001b[38;2;0;135;0m\"retainAI\"\u001b[0m.\u001b[38;2;0;135;0m\"temp_table_706cf235d7434656bef456d85500c9d4\"\u001b[0m                 \u001b[2m             \u001b[0m\n"
      ]
     },
     "metadata": {},
     "output_type": "display_data"
    },
    {
     "data": {
      "text/html": [
       "<pre style=\"white-space:pre;overflow-x:auto;line-height:normal;font-family:Menlo,'DejaVu Sans Mono',consolas,'Courier New',monospace\"><span style=\"color: #7fbfbf; text-decoration-color: #7fbfbf\">                    </span><span style=\"color: #0069ff; text-decoration-color: #0069ff; font-weight: bold\">INFO    </span> Skipping checksum validation. Response did not contain one of the  <a href=\"file:///opt/conda/lib/python3.11/site-packages/botocore/httpchecksum.py\" target=\"_blank\"><span style=\"color: #7f7f7f; text-decoration-color: #7f7f7f\">httpchecksum.py</span></a><span style=\"color: #7f7f7f; text-decoration-color: #7f7f7f\">:</span><a href=\"file:///opt/conda/lib/python3.11/site-packages/botocore/httpchecksum.py#487\" target=\"_blank\"><span style=\"color: #7f7f7f; text-decoration-color: #7f7f7f\">487</span></a>\n",
       "<span style=\"color: #7fbfbf; text-decoration-color: #7fbfbf\">                    </span>         following algorithms: <span style=\"font-weight: bold\">[</span><span style=\"color: #008700; text-decoration-color: #008700\">'crc32'</span>, <span style=\"color: #008700; text-decoration-color: #008700\">'sha1'</span>, <span style=\"color: #008700; text-decoration-color: #008700\">'sha256'</span><span style=\"font-weight: bold\">]</span>.                 <span style=\"color: #7f7f7f; text-decoration-color: #7f7f7f\">                   </span>\n",
       "</pre>\n"
      ],
      "text/plain": [
       "\u001b[2;36m                   \u001b[0m\u001b[2;36m \u001b[0m\u001b[1;38;2;0;105;255mINFO    \u001b[0m Skipping checksum validation. Response did not contain one of the  \u001b]8;id=448319;file:///opt/conda/lib/python3.11/site-packages/botocore/httpchecksum.py\u001b\\\u001b[2mhttpchecksum.py\u001b[0m\u001b]8;;\u001b\\\u001b[2m:\u001b[0m\u001b]8;id=585989;file:///opt/conda/lib/python3.11/site-packages/botocore/httpchecksum.py#487\u001b\\\u001b[2m487\u001b[0m\u001b]8;;\u001b\\\n",
       "\u001b[2;36m                    \u001b[0m         following algorithms: \u001b[1m[\u001b[0m\u001b[38;2;0;135;0m'crc32'\u001b[0m, \u001b[38;2;0;135;0m'sha1'\u001b[0m, \u001b[38;2;0;135;0m'sha256'\u001b[0m\u001b[1m]\u001b[0m.                 \u001b[2m                   \u001b[0m\n"
      ]
     },
     "metadata": {},
     "output_type": "display_data"
    },
    {
     "data": {
      "text/html": [
       "<pre style=\"white-space:pre;overflow-x:auto;line-height:normal;font-family:Menlo,'DejaVu Sans Mono',consolas,'Courier New',monospace\"><span style=\"color: #7fbfbf; text-decoration-color: #7fbfbf\">                    </span><span style=\"color: #0069ff; text-decoration-color: #0069ff; font-weight: bold\">INFO    </span> Skipping checksum validation. Response did not contain one of the  <a href=\"file:///opt/conda/lib/python3.11/site-packages/botocore/httpchecksum.py\" target=\"_blank\"><span style=\"color: #7f7f7f; text-decoration-color: #7f7f7f\">httpchecksum.py</span></a><span style=\"color: #7f7f7f; text-decoration-color: #7f7f7f\">:</span><a href=\"file:///opt/conda/lib/python3.11/site-packages/botocore/httpchecksum.py#487\" target=\"_blank\"><span style=\"color: #7f7f7f; text-decoration-color: #7f7f7f\">487</span></a>\n",
       "<span style=\"color: #7fbfbf; text-decoration-color: #7fbfbf\">                    </span>         following algorithms: <span style=\"font-weight: bold\">[</span><span style=\"color: #008700; text-decoration-color: #008700\">'crc32'</span>, <span style=\"color: #008700; text-decoration-color: #008700\">'sha1'</span>, <span style=\"color: #008700; text-decoration-color: #008700\">'sha256'</span><span style=\"font-weight: bold\">]</span>.                 <span style=\"color: #7f7f7f; text-decoration-color: #7f7f7f\">                   </span>\n",
       "</pre>\n"
      ],
      "text/plain": [
       "\u001b[2;36m                   \u001b[0m\u001b[2;36m \u001b[0m\u001b[1;38;2;0;105;255mINFO    \u001b[0m Skipping checksum validation. Response did not contain one of the  \u001b]8;id=859134;file:///opt/conda/lib/python3.11/site-packages/botocore/httpchecksum.py\u001b\\\u001b[2mhttpchecksum.py\u001b[0m\u001b]8;;\u001b\\\u001b[2m:\u001b[0m\u001b]8;id=479399;file:///opt/conda/lib/python3.11/site-packages/botocore/httpchecksum.py#487\u001b\\\u001b[2m487\u001b[0m\u001b]8;;\u001b\\\n",
       "\u001b[2;36m                    \u001b[0m         following algorithms: \u001b[1m[\u001b[0m\u001b[38;2;0;135;0m'crc32'\u001b[0m, \u001b[38;2;0;135;0m'sha1'\u001b[0m, \u001b[38;2;0;135;0m'sha256'\u001b[0m\u001b[1m]\u001b[0m.                 \u001b[2m                   \u001b[0m\n"
      ]
     },
     "metadata": {},
     "output_type": "display_data"
    },
    {
     "name": "stdout",
     "output_type": "stream",
     "text": [
      "✅ Query executed successfully! Displaying results:\n",
      "  employee_id  age  gender  years_at_company    job_role  monthly_income  \\\n",
      "0       37311   58  Female                 5   Education            4950   \n",
      "1       41832   36  Female                12  Technology            8354   \n",
      "2       35671   49  Female                17       Media            6264   \n",
      "3       53020   49    Male                 2   Education            4828   \n",
      "4       57558   45  Female                 4   Education            4425   \n",
      "\n",
      "  work_life_balance job_satisfaction performance_rating  number_of_promotions  \\\n",
      "0              Fair           Medium            Average                     0   \n",
      "1              Good              Low            Average                     0   \n",
      "2              Poor             High            Average                     1   \n",
      "3              Poor           Medium            Average                     1   \n",
      "4              Fair           Medium            Average                     1   \n",
      "\n",
      "   ... job_level  company_size company_tenure remote_work  \\\n",
      "0  ...    Senior         Small             22         Yes   \n",
      "1  ...       Mid        Medium             46          No   \n",
      "2  ...       Mid        Medium             88          No   \n",
      "3  ...     Entry         Large             21          No   \n",
      "4  ...     Entry        Medium             82          No   \n",
      "\n",
      "   leadership_opportunities innovation_opportunities company_reputation  \\\n",
      "0                        No                       No               Good   \n",
      "1                        No                       No               Poor   \n",
      "2                        No                       No               Fair   \n",
      "3                        No                       No               Good   \n",
      "4                        No                       No               Good   \n",
      "\n",
      "   employee_recognition attrition             eventtime  \n",
      "0                  High    Stayed  2025-02-03T05:52:38Z  \n",
      "1                  High      Left  2025-02-03T05:52:38Z  \n",
      "2                Medium      Left  2025-02-03T05:52:38Z  \n",
      "3                  High    Stayed  2025-02-03T05:52:38Z  \n",
      "4                Medium      Left  2025-02-03T05:52:38Z  \n",
      "\n",
      "[5 rows x 25 columns]\n"
     ]
    },
    {
     "data": {
      "text/html": [
       "<div>\n",
       "<style scoped>\n",
       "    .dataframe tbody tr th:only-of-type {\n",
       "        vertical-align: middle;\n",
       "    }\n",
       "\n",
       "    .dataframe tbody tr th {\n",
       "        vertical-align: top;\n",
       "    }\n",
       "\n",
       "    .dataframe thead th {\n",
       "        text-align: right;\n",
       "    }\n",
       "</style>\n",
       "<table border=\"1\" class=\"dataframe\">\n",
       "  <thead>\n",
       "    <tr style=\"text-align: right;\">\n",
       "      <th></th>\n",
       "      <th>employee_id</th>\n",
       "      <th>age</th>\n",
       "      <th>gender</th>\n",
       "      <th>years_at_company</th>\n",
       "      <th>job_role</th>\n",
       "      <th>monthly_income</th>\n",
       "      <th>work_life_balance</th>\n",
       "      <th>job_satisfaction</th>\n",
       "      <th>performance_rating</th>\n",
       "      <th>number_of_promotions</th>\n",
       "      <th>...</th>\n",
       "      <th>job_level</th>\n",
       "      <th>company_size</th>\n",
       "      <th>company_tenure</th>\n",
       "      <th>remote_work</th>\n",
       "      <th>leadership_opportunities</th>\n",
       "      <th>innovation_opportunities</th>\n",
       "      <th>company_reputation</th>\n",
       "      <th>employee_recognition</th>\n",
       "      <th>attrition</th>\n",
       "      <th>eventtime</th>\n",
       "    </tr>\n",
       "  </thead>\n",
       "  <tbody>\n",
       "    <tr>\n",
       "      <th>0</th>\n",
       "      <td>37311</td>\n",
       "      <td>58</td>\n",
       "      <td>Female</td>\n",
       "      <td>5</td>\n",
       "      <td>Education</td>\n",
       "      <td>4950</td>\n",
       "      <td>Fair</td>\n",
       "      <td>Medium</td>\n",
       "      <td>Average</td>\n",
       "      <td>0</td>\n",
       "      <td>...</td>\n",
       "      <td>Senior</td>\n",
       "      <td>Small</td>\n",
       "      <td>22</td>\n",
       "      <td>Yes</td>\n",
       "      <td>No</td>\n",
       "      <td>No</td>\n",
       "      <td>Good</td>\n",
       "      <td>High</td>\n",
       "      <td>Stayed</td>\n",
       "      <td>2025-02-03T05:52:38Z</td>\n",
       "    </tr>\n",
       "    <tr>\n",
       "      <th>1</th>\n",
       "      <td>41832</td>\n",
       "      <td>36</td>\n",
       "      <td>Female</td>\n",
       "      <td>12</td>\n",
       "      <td>Technology</td>\n",
       "      <td>8354</td>\n",
       "      <td>Good</td>\n",
       "      <td>Low</td>\n",
       "      <td>Average</td>\n",
       "      <td>0</td>\n",
       "      <td>...</td>\n",
       "      <td>Mid</td>\n",
       "      <td>Medium</td>\n",
       "      <td>46</td>\n",
       "      <td>No</td>\n",
       "      <td>No</td>\n",
       "      <td>No</td>\n",
       "      <td>Poor</td>\n",
       "      <td>High</td>\n",
       "      <td>Left</td>\n",
       "      <td>2025-02-03T05:52:38Z</td>\n",
       "    </tr>\n",
       "    <tr>\n",
       "      <th>2</th>\n",
       "      <td>35671</td>\n",
       "      <td>49</td>\n",
       "      <td>Female</td>\n",
       "      <td>17</td>\n",
       "      <td>Media</td>\n",
       "      <td>6264</td>\n",
       "      <td>Poor</td>\n",
       "      <td>High</td>\n",
       "      <td>Average</td>\n",
       "      <td>1</td>\n",
       "      <td>...</td>\n",
       "      <td>Mid</td>\n",
       "      <td>Medium</td>\n",
       "      <td>88</td>\n",
       "      <td>No</td>\n",
       "      <td>No</td>\n",
       "      <td>No</td>\n",
       "      <td>Fair</td>\n",
       "      <td>Medium</td>\n",
       "      <td>Left</td>\n",
       "      <td>2025-02-03T05:52:38Z</td>\n",
       "    </tr>\n",
       "    <tr>\n",
       "      <th>3</th>\n",
       "      <td>53020</td>\n",
       "      <td>49</td>\n",
       "      <td>Male</td>\n",
       "      <td>2</td>\n",
       "      <td>Education</td>\n",
       "      <td>4828</td>\n",
       "      <td>Poor</td>\n",
       "      <td>Medium</td>\n",
       "      <td>Average</td>\n",
       "      <td>1</td>\n",
       "      <td>...</td>\n",
       "      <td>Entry</td>\n",
       "      <td>Large</td>\n",
       "      <td>21</td>\n",
       "      <td>No</td>\n",
       "      <td>No</td>\n",
       "      <td>No</td>\n",
       "      <td>Good</td>\n",
       "      <td>High</td>\n",
       "      <td>Stayed</td>\n",
       "      <td>2025-02-03T05:52:38Z</td>\n",
       "    </tr>\n",
       "    <tr>\n",
       "      <th>4</th>\n",
       "      <td>57558</td>\n",
       "      <td>45</td>\n",
       "      <td>Female</td>\n",
       "      <td>4</td>\n",
       "      <td>Education</td>\n",
       "      <td>4425</td>\n",
       "      <td>Fair</td>\n",
       "      <td>Medium</td>\n",
       "      <td>Average</td>\n",
       "      <td>1</td>\n",
       "      <td>...</td>\n",
       "      <td>Entry</td>\n",
       "      <td>Medium</td>\n",
       "      <td>82</td>\n",
       "      <td>No</td>\n",
       "      <td>No</td>\n",
       "      <td>No</td>\n",
       "      <td>Good</td>\n",
       "      <td>Medium</td>\n",
       "      <td>Left</td>\n",
       "      <td>2025-02-03T05:52:38Z</td>\n",
       "    </tr>\n",
       "  </tbody>\n",
       "</table>\n",
       "<p>5 rows × 25 columns</p>\n",
       "</div>"
      ],
      "text/plain": [
       "  employee_id  age  gender  years_at_company    job_role  monthly_income  \\\n",
       "0       37311   58  Female                 5   Education            4950   \n",
       "1       41832   36  Female                12  Technology            8354   \n",
       "2       35671   49  Female                17       Media            6264   \n",
       "3       53020   49    Male                 2   Education            4828   \n",
       "4       57558   45  Female                 4   Education            4425   \n",
       "\n",
       "  work_life_balance job_satisfaction performance_rating  number_of_promotions  \\\n",
       "0              Fair           Medium            Average                     0   \n",
       "1              Good              Low            Average                     0   \n",
       "2              Poor             High            Average                     1   \n",
       "3              Poor           Medium            Average                     1   \n",
       "4              Fair           Medium            Average                     1   \n",
       "\n",
       "   ... job_level  company_size company_tenure remote_work  \\\n",
       "0  ...    Senior         Small             22         Yes   \n",
       "1  ...       Mid        Medium             46          No   \n",
       "2  ...       Mid        Medium             88          No   \n",
       "3  ...     Entry         Large             21          No   \n",
       "4  ...     Entry        Medium             82          No   \n",
       "\n",
       "   leadership_opportunities innovation_opportunities company_reputation  \\\n",
       "0                        No                       No               Good   \n",
       "1                        No                       No               Poor   \n",
       "2                        No                       No               Fair   \n",
       "3                        No                       No               Good   \n",
       "4                        No                       No               Good   \n",
       "\n",
       "   employee_recognition attrition             eventtime  \n",
       "0                  High    Stayed  2025-02-03T05:52:38Z  \n",
       "1                  High      Left  2025-02-03T05:52:38Z  \n",
       "2                Medium      Left  2025-02-03T05:52:38Z  \n",
       "3                  High    Stayed  2025-02-03T05:52:38Z  \n",
       "4                Medium      Left  2025-02-03T05:52:38Z  \n",
       "\n",
       "[5 rows x 25 columns]"
      ]
     },
     "metadata": {},
     "output_type": "display_data"
    }
   ],
   "source": [
    "query = \"SELECT * FROM retainAI.employee_table LIMIT 5\"\n",
    "\n",
    "# Execute Athena query\n",
    "athena_df = wr.athena.read_sql_query(query, database=\"retainAI\")\n",
    "\n",
    "# Display results\n",
    "import pandas as pd\n",
    "\n",
    "# Display the first few rows of the Athena query results\n",
    "print(\"✅ Query executed successfully! Displaying results:\")\n",
    "print(athena_df.head())\n",
    "\n",
    "# Optionally, if running in Jupyter Notebook\n",
    "from IPython.display import display\n",
    "display(athena_df)\n",
    "\n"
   ]
  },
  {
   "cell_type": "code",
   "execution_count": 46,
   "id": "cc146fbd-ac91-4281-862d-4099e503663d",
   "metadata": {
    "tags": []
   },
   "outputs": [
    {
     "data": {
      "text/html": [
       "<pre style=\"white-space:pre;overflow-x:auto;line-height:normal;font-family:Menlo,'DejaVu Sans Mono',consolas,'Courier New',monospace\"><span style=\"color: #ff0000; text-decoration-color: #ff0000\">╭─────────────────────────────── </span><span style=\"color: #ff0000; text-decoration-color: #ff0000; font-weight: bold\">Traceback </span><span style=\"color: #ff7f7f; text-decoration-color: #ff7f7f; font-weight: bold\">(most recent call last)</span><span style=\"color: #ff0000; text-decoration-color: #ff0000\"> ────────────────────────────────╮</span>\n",
       "<span style=\"color: #ff0000; text-decoration-color: #ff0000\">│</span> in <span style=\"color: #00ff00; text-decoration-color: #00ff00\">&lt;module&gt;</span>:<span style=\"color: #0000ff; text-decoration-color: #0000ff\">4</span>                                                                                    <span style=\"color: #ff0000; text-decoration-color: #ff0000\">│</span>\n",
       "<span style=\"color: #ff0000; text-decoration-color: #ff0000\">│</span>                                                                                                  <span style=\"color: #ff0000; text-decoration-color: #ff0000\">│</span>\n",
       "<span style=\"color: #ff0000; text-decoration-color: #ff0000\">│</span>   <span style=\"color: #7f7f7f; text-decoration-color: #7f7f7f\">1 </span><span style=\"color: #0000ff; text-decoration-color: #0000ff\">import</span> <span style=\"color: #00ffff; text-decoration-color: #00ffff; text-decoration: underline\">awswrangler</span> <span style=\"color: #0000ff; text-decoration-color: #0000ff\">as</span> <span style=\"color: #00ffff; text-decoration-color: #00ffff; text-decoration: underline\">wr</span>                                                                     <span style=\"color: #ff0000; text-decoration-color: #ff0000\">│</span>\n",
       "<span style=\"color: #ff0000; text-decoration-color: #ff0000\">│</span>   <span style=\"color: #7f7f7f; text-decoration-color: #7f7f7f\">2 </span>                                                                                             <span style=\"color: #ff0000; text-decoration-color: #ff0000\">│</span>\n",
       "<span style=\"color: #ff0000; text-decoration-color: #ff0000\">│</span>   <span style=\"color: #7f7f7f; text-decoration-color: #7f7f7f\">3 # Create the staging and production databases</span>                                                <span style=\"color: #ff0000; text-decoration-color: #ff0000\">│</span>\n",
       "<span style=\"color: #ff0000; text-decoration-color: #ff0000\">│</span> <span style=\"color: #800000; text-decoration-color: #800000\">❱ </span>4 <span style=\"font-weight: bold; text-decoration: underline\">wr.catalog.create_database(</span><span style=\"color: #808000; text-decoration-color: #808000; font-weight: bold; text-decoration: underline\">\"retainAI_staging\"</span><span style=\"font-weight: bold; text-decoration: underline\">)</span>                                               <span style=\"color: #ff0000; text-decoration-color: #ff0000\">│</span>\n",
       "<span style=\"color: #ff0000; text-decoration-color: #ff0000\">│</span>   <span style=\"color: #7f7f7f; text-decoration-color: #7f7f7f\">5 </span>wr.catalog.create_database(<span style=\"color: #808000; text-decoration-color: #808000\">\"retainAI_prod\"</span>)                                                  <span style=\"color: #ff0000; text-decoration-color: #ff0000\">│</span>\n",
       "<span style=\"color: #ff0000; text-decoration-color: #ff0000\">│</span>   <span style=\"color: #7f7f7f; text-decoration-color: #7f7f7f\">6 </span>                                                                                             <span style=\"color: #ff0000; text-decoration-color: #ff0000\">│</span>\n",
       "<span style=\"color: #ff0000; text-decoration-color: #ff0000\">│</span>   <span style=\"color: #7f7f7f; text-decoration-color: #7f7f7f\">7 </span><span style=\"color: #00ffff; text-decoration-color: #00ffff\">print</span>(<span style=\"color: #808000; text-decoration-color: #808000\">\"✅ Staging and Production databases created successfully.\"</span>)                           <span style=\"color: #ff0000; text-decoration-color: #ff0000\">│</span>\n",
       "<span style=\"color: #ff0000; text-decoration-color: #ff0000\">│</span>                                                                                                  <span style=\"color: #ff0000; text-decoration-color: #ff0000\">│</span>\n",
       "<span style=\"color: #ff0000; text-decoration-color: #ff0000\">│</span> <span style=\"color: #bfbf7f; text-decoration-color: #bfbf7f\">/opt/conda/lib/python3.11/site-packages/awswrangler/</span><span style=\"color: #808000; text-decoration-color: #808000; font-weight: bold\">_config.py</span>:<span style=\"color: #0000ff; text-decoration-color: #0000ff\">712</span> in <span style=\"color: #00ff00; text-decoration-color: #00ff00\">wrapper</span>                    <span style=\"color: #ff0000; text-decoration-color: #ff0000\">│</span>\n",
       "<span style=\"color: #ff0000; text-decoration-color: #ff0000\">│</span>                                                                                                  <span style=\"color: #ff0000; text-decoration-color: #ff0000\">│</span>\n",
       "<span style=\"color: #ff0000; text-decoration-color: #ff0000\">│</span>   <span style=\"color: #7f7f7f; text-decoration-color: #7f7f7f\">709 </span><span style=\"color: #7f7f7f; text-decoration-color: #7f7f7f\">│   │   │   │   </span>keywords: <span style=\"color: #00ffff; text-decoration-color: #00ffff\">dict</span>[<span style=\"color: #00ffff; text-decoration-color: #00ffff\">str</span>, Any] = args[name]                                      <span style=\"color: #ff0000; text-decoration-color: #ff0000\">│</span>\n",
       "<span style=\"color: #ff0000; text-decoration-color: #ff0000\">│</span>   <span style=\"color: #7f7f7f; text-decoration-color: #7f7f7f\">710 </span><span style=\"color: #7f7f7f; text-decoration-color: #7f7f7f\">│   │   │   │   </span><span style=\"color: #0000ff; text-decoration-color: #0000ff\">del</span> args[name]                                                             <span style=\"color: #ff0000; text-decoration-color: #ff0000\">│</span>\n",
       "<span style=\"color: #ff0000; text-decoration-color: #ff0000\">│</span>   <span style=\"color: #7f7f7f; text-decoration-color: #7f7f7f\">711 </span><span style=\"color: #7f7f7f; text-decoration-color: #7f7f7f\">│   │   │   │   </span>args = {**args, **keywords}                                                <span style=\"color: #ff0000; text-decoration-color: #ff0000\">│</span>\n",
       "<span style=\"color: #ff0000; text-decoration-color: #ff0000\">│</span> <span style=\"color: #800000; text-decoration-color: #800000\">❱ </span>712 <span style=\"color: #7f7f7f; text-decoration-color: #7f7f7f\">│   │   </span><span style=\"color: #0000ff; text-decoration-color: #0000ff\">return</span> <span style=\"font-weight: bold; text-decoration: underline\">function(**args)</span>                                                            <span style=\"color: #ff0000; text-decoration-color: #ff0000\">│</span>\n",
       "<span style=\"color: #ff0000; text-decoration-color: #ff0000\">│</span>   <span style=\"color: #7f7f7f; text-decoration-color: #7f7f7f\">713 </span><span style=\"color: #7f7f7f; text-decoration-color: #7f7f7f\">│   </span>                                                                                       <span style=\"color: #ff0000; text-decoration-color: #ff0000\">│</span>\n",
       "<span style=\"color: #ff0000; text-decoration-color: #ff0000\">│</span>   <span style=\"color: #7f7f7f; text-decoration-color: #7f7f7f\">714 </span><span style=\"color: #7f7f7f; text-decoration-color: #7f7f7f\">│   </span>wrapper.<span style=\"color: #ff0000; text-decoration-color: #ff0000\">__doc__</span> = _inject_config_doc(doc=function.<span style=\"color: #ff0000; text-decoration-color: #ff0000\">__doc__</span>, available_configs=availab   <span style=\"color: #ff0000; text-decoration-color: #ff0000\">│</span>\n",
       "<span style=\"color: #ff0000; text-decoration-color: #ff0000\">│</span>   <span style=\"color: #7f7f7f; text-decoration-color: #7f7f7f\">715 </span><span style=\"color: #7f7f7f; text-decoration-color: #7f7f7f\">│   </span>wrapper.<span style=\"color: #ff0000; text-decoration-color: #ff0000\">__name__</span> = function.<span style=\"color: #ff0000; text-decoration-color: #ff0000\">__name__</span>                                                   <span style=\"color: #ff0000; text-decoration-color: #ff0000\">│</span>\n",
       "<span style=\"color: #ff0000; text-decoration-color: #ff0000\">│</span>                                                                                                  <span style=\"color: #ff0000; text-decoration-color: #ff0000\">│</span>\n",
       "<span style=\"color: #ff0000; text-decoration-color: #ff0000\">│</span> <span style=\"color: #bfbf7f; text-decoration-color: #bfbf7f\">/opt/conda/lib/python3.11/site-packages/awswrangler/catalog/</span><span style=\"color: #808000; text-decoration-color: #808000; font-weight: bold\">_create.py</span>:<span style=\"color: #0000ff; text-decoration-color: #0000ff\">712</span> in <span style=\"color: #00ff00; text-decoration-color: #00ff00\">create_database</span>    <span style=\"color: #ff0000; text-decoration-color: #ff0000\">│</span>\n",
       "<span style=\"color: #ff0000; text-decoration-color: #ff0000\">│</span>                                                                                                  <span style=\"color: #ff0000; text-decoration-color: #ff0000\">│</span>\n",
       "<span style=\"color: #ff0000; text-decoration-color: #ff0000\">│</span>   <span style=\"color: #7f7f7f; text-decoration-color: #7f7f7f\"> 709 </span><span style=\"color: #7f7f7f; text-decoration-color: #7f7f7f\">│   </span><span style=\"color: #0000ff; text-decoration-color: #0000ff\">try</span>:                                                                                  <span style=\"color: #ff0000; text-decoration-color: #ff0000\">│</span>\n",
       "<span style=\"color: #ff0000; text-decoration-color: #ff0000\">│</span>   <span style=\"color: #7f7f7f; text-decoration-color: #7f7f7f\"> 710 </span><span style=\"color: #7f7f7f; text-decoration-color: #7f7f7f\">│   │   </span>r = client_glue.get_database(**_catalog_id(catalog_id=catalog_id, Name=name))     <span style=\"color: #ff0000; text-decoration-color: #ff0000\">│</span>\n",
       "<span style=\"color: #ff0000; text-decoration-color: #ff0000\">│</span>   <span style=\"color: #7f7f7f; text-decoration-color: #7f7f7f\"> 711 </span><span style=\"color: #7f7f7f; text-decoration-color: #7f7f7f\">│   │   </span><span style=\"color: #0000ff; text-decoration-color: #0000ff\">if</span> <span style=\"color: #ff00ff; text-decoration-color: #ff00ff\">not</span> exist_ok:                                                                  <span style=\"color: #ff0000; text-decoration-color: #ff0000\">│</span>\n",
       "<span style=\"color: #ff0000; text-decoration-color: #ff0000\">│</span> <span style=\"color: #800000; text-decoration-color: #800000\">❱ </span> 712 <span style=\"color: #7f7f7f; text-decoration-color: #7f7f7f\">│   │   │   </span><span style=\"color: #0000ff; text-decoration-color: #0000ff\">raise</span> exceptions.AlreadyExists(<span style=\"color: #808000; text-decoration-color: #808000\">f\"Database {</span>name<span style=\"color: #808000; text-decoration-color: #808000\">} already exists and &lt;exist_o</span>  <span style=\"color: #ff0000; text-decoration-color: #ff0000\">│</span>\n",
       "<span style=\"color: #ff0000; text-decoration-color: #ff0000\">│</span>   <span style=\"color: #7f7f7f; text-decoration-color: #7f7f7f\"> 713 </span><span style=\"color: #7f7f7f; text-decoration-color: #7f7f7f\">│   │   </span><span style=\"color: #0000ff; text-decoration-color: #0000ff\">for</span> k, v <span style=\"color: #ff00ff; text-decoration-color: #ff00ff\">in</span> args.items():                                                         <span style=\"color: #ff0000; text-decoration-color: #ff0000\">│</span>\n",
       "<span style=\"color: #ff0000; text-decoration-color: #ff0000\">│</span>   <span style=\"color: #7f7f7f; text-decoration-color: #7f7f7f\"> 714 </span><span style=\"color: #7f7f7f; text-decoration-color: #7f7f7f\">│   │   │   </span><span style=\"color: #0000ff; text-decoration-color: #0000ff\">if</span> v != r[<span style=\"color: #808000; text-decoration-color: #808000\">\"Database\"</span>].get(k, <span style=\"color: #808000; text-decoration-color: #808000\">\"\"</span>):                                             <span style=\"color: #ff0000; text-decoration-color: #ff0000\">│</span>\n",
       "<span style=\"color: #ff0000; text-decoration-color: #ff0000\">│</span>   <span style=\"color: #7f7f7f; text-decoration-color: #7f7f7f\"> 715 </span><span style=\"color: #7f7f7f; text-decoration-color: #7f7f7f\">│   │   │   │   </span>client_glue.update_database(**_catalog_id(catalog_id=catalog_id, Name=na  <span style=\"color: #ff0000; text-decoration-color: #ff0000\">│</span>\n",
       "<span style=\"color: #ff0000; text-decoration-color: #ff0000\">╰──────────────────────────────────────────────────────────────────────────────────────────────────╯</span>\n",
       "<span style=\"color: #ff0000; text-decoration-color: #ff0000; font-weight: bold\">AlreadyExists: </span>Database retainAI_staging already exists and <span style=\"font-weight: bold\">&lt;</span><span style=\"color: #e100e1; text-decoration-color: #e100e1; font-weight: bold\">exist_ok</span><span style=\"font-weight: bold\">&gt;</span> is set to <span style=\"color: #d70000; text-decoration-color: #d70000; font-style: italic\">False</span>.\n",
       "</pre>\n"
      ],
      "text/plain": [
       "\u001b[38;2;255;0;0m╭─\u001b[0m\u001b[38;2;255;0;0m──────────────────────────────\u001b[0m\u001b[38;2;255;0;0m \u001b[0m\u001b[1;38;2;255;0;0mTraceback \u001b[0m\u001b[1;2;38;2;255;0;0m(most recent call last)\u001b[0m\u001b[38;2;255;0;0m \u001b[0m\u001b[38;2;255;0;0m───────────────────────────────\u001b[0m\u001b[38;2;255;0;0m─╮\u001b[0m\n",
       "\u001b[38;2;255;0;0m│\u001b[0m in \u001b[92m<module>\u001b[0m:\u001b[94m4\u001b[0m                                                                                    \u001b[38;2;255;0;0m│\u001b[0m\n",
       "\u001b[38;2;255;0;0m│\u001b[0m                                                                                                  \u001b[38;2;255;0;0m│\u001b[0m\n",
       "\u001b[38;2;255;0;0m│\u001b[0m   \u001b[2m1 \u001b[0m\u001b[94mimport\u001b[0m \u001b[4;96mawswrangler\u001b[0m \u001b[94mas\u001b[0m \u001b[4;96mwr\u001b[0m                                                                     \u001b[38;2;255;0;0m│\u001b[0m\n",
       "\u001b[38;2;255;0;0m│\u001b[0m   \u001b[2m2 \u001b[0m                                                                                             \u001b[38;2;255;0;0m│\u001b[0m\n",
       "\u001b[38;2;255;0;0m│\u001b[0m   \u001b[2m3 \u001b[0m\u001b[2m# Create the staging and production databases\u001b[0m                                                \u001b[38;2;255;0;0m│\u001b[0m\n",
       "\u001b[38;2;255;0;0m│\u001b[0m \u001b[31m❱ \u001b[0m4 \u001b[1;4mwr.catalog.create_database(\u001b[0m\u001b[1;4;33m\"\u001b[0m\u001b[1;4;33mretainAI_staging\u001b[0m\u001b[1;4;33m\"\u001b[0m\u001b[1;4m)\u001b[0m                                               \u001b[38;2;255;0;0m│\u001b[0m\n",
       "\u001b[38;2;255;0;0m│\u001b[0m   \u001b[2m5 \u001b[0mwr.catalog.create_database(\u001b[33m\"\u001b[0m\u001b[33mretainAI_prod\u001b[0m\u001b[33m\"\u001b[0m)                                                  \u001b[38;2;255;0;0m│\u001b[0m\n",
       "\u001b[38;2;255;0;0m│\u001b[0m   \u001b[2m6 \u001b[0m                                                                                             \u001b[38;2;255;0;0m│\u001b[0m\n",
       "\u001b[38;2;255;0;0m│\u001b[0m   \u001b[2m7 \u001b[0m\u001b[96mprint\u001b[0m(\u001b[33m\"\u001b[0m\u001b[33m✅ Staging and Production databases created successfully.\u001b[0m\u001b[33m\"\u001b[0m)                           \u001b[38;2;255;0;0m│\u001b[0m\n",
       "\u001b[38;2;255;0;0m│\u001b[0m                                                                                                  \u001b[38;2;255;0;0m│\u001b[0m\n",
       "\u001b[38;2;255;0;0m│\u001b[0m \u001b[2;33m/opt/conda/lib/python3.11/site-packages/awswrangler/\u001b[0m\u001b[1;33m_config.py\u001b[0m:\u001b[94m712\u001b[0m in \u001b[92mwrapper\u001b[0m                    \u001b[38;2;255;0;0m│\u001b[0m\n",
       "\u001b[38;2;255;0;0m│\u001b[0m                                                                                                  \u001b[38;2;255;0;0m│\u001b[0m\n",
       "\u001b[38;2;255;0;0m│\u001b[0m   \u001b[2m709 \u001b[0m\u001b[2m│   │   │   │   \u001b[0mkeywords: \u001b[96mdict\u001b[0m[\u001b[96mstr\u001b[0m, Any] = args[name]                                      \u001b[38;2;255;0;0m│\u001b[0m\n",
       "\u001b[38;2;255;0;0m│\u001b[0m   \u001b[2m710 \u001b[0m\u001b[2m│   │   │   │   \u001b[0m\u001b[94mdel\u001b[0m args[name]                                                             \u001b[38;2;255;0;0m│\u001b[0m\n",
       "\u001b[38;2;255;0;0m│\u001b[0m   \u001b[2m711 \u001b[0m\u001b[2m│   │   │   │   \u001b[0margs = {**args, **keywords}                                                \u001b[38;2;255;0;0m│\u001b[0m\n",
       "\u001b[38;2;255;0;0m│\u001b[0m \u001b[31m❱ \u001b[0m712 \u001b[2m│   │   \u001b[0m\u001b[94mreturn\u001b[0m \u001b[1;4mfunction(**args)\u001b[0m                                                            \u001b[38;2;255;0;0m│\u001b[0m\n",
       "\u001b[38;2;255;0;0m│\u001b[0m   \u001b[2m713 \u001b[0m\u001b[2m│   \u001b[0m                                                                                       \u001b[38;2;255;0;0m│\u001b[0m\n",
       "\u001b[38;2;255;0;0m│\u001b[0m   \u001b[2m714 \u001b[0m\u001b[2m│   \u001b[0mwrapper.\u001b[91m__doc__\u001b[0m = _inject_config_doc(doc=function.\u001b[91m__doc__\u001b[0m, available_configs=availab   \u001b[38;2;255;0;0m│\u001b[0m\n",
       "\u001b[38;2;255;0;0m│\u001b[0m   \u001b[2m715 \u001b[0m\u001b[2m│   \u001b[0mwrapper.\u001b[91m__name__\u001b[0m = function.\u001b[91m__name__\u001b[0m                                                   \u001b[38;2;255;0;0m│\u001b[0m\n",
       "\u001b[38;2;255;0;0m│\u001b[0m                                                                                                  \u001b[38;2;255;0;0m│\u001b[0m\n",
       "\u001b[38;2;255;0;0m│\u001b[0m \u001b[2;33m/opt/conda/lib/python3.11/site-packages/awswrangler/catalog/\u001b[0m\u001b[1;33m_create.py\u001b[0m:\u001b[94m712\u001b[0m in \u001b[92mcreate_database\u001b[0m    \u001b[38;2;255;0;0m│\u001b[0m\n",
       "\u001b[38;2;255;0;0m│\u001b[0m                                                                                                  \u001b[38;2;255;0;0m│\u001b[0m\n",
       "\u001b[38;2;255;0;0m│\u001b[0m   \u001b[2m 709 \u001b[0m\u001b[2m│   \u001b[0m\u001b[94mtry\u001b[0m:                                                                                  \u001b[38;2;255;0;0m│\u001b[0m\n",
       "\u001b[38;2;255;0;0m│\u001b[0m   \u001b[2m 710 \u001b[0m\u001b[2m│   │   \u001b[0mr = client_glue.get_database(**_catalog_id(catalog_id=catalog_id, Name=name))     \u001b[38;2;255;0;0m│\u001b[0m\n",
       "\u001b[38;2;255;0;0m│\u001b[0m   \u001b[2m 711 \u001b[0m\u001b[2m│   │   \u001b[0m\u001b[94mif\u001b[0m \u001b[95mnot\u001b[0m exist_ok:                                                                  \u001b[38;2;255;0;0m│\u001b[0m\n",
       "\u001b[38;2;255;0;0m│\u001b[0m \u001b[31m❱ \u001b[0m 712 \u001b[2m│   │   │   \u001b[0m\u001b[94mraise\u001b[0m exceptions.AlreadyExists(\u001b[33mf\u001b[0m\u001b[33m\"\u001b[0m\u001b[33mDatabase \u001b[0m\u001b[33m{\u001b[0mname\u001b[33m}\u001b[0m\u001b[33m already exists and <exist_o\u001b[0m  \u001b[38;2;255;0;0m│\u001b[0m\n",
       "\u001b[38;2;255;0;0m│\u001b[0m   \u001b[2m 713 \u001b[0m\u001b[2m│   │   \u001b[0m\u001b[94mfor\u001b[0m k, v \u001b[95min\u001b[0m args.items():                                                         \u001b[38;2;255;0;0m│\u001b[0m\n",
       "\u001b[38;2;255;0;0m│\u001b[0m   \u001b[2m 714 \u001b[0m\u001b[2m│   │   │   \u001b[0m\u001b[94mif\u001b[0m v != r[\u001b[33m\"\u001b[0m\u001b[33mDatabase\u001b[0m\u001b[33m\"\u001b[0m].get(k, \u001b[33m\"\u001b[0m\u001b[33m\"\u001b[0m):                                             \u001b[38;2;255;0;0m│\u001b[0m\n",
       "\u001b[38;2;255;0;0m│\u001b[0m   \u001b[2m 715 \u001b[0m\u001b[2m│   │   │   │   \u001b[0mclient_glue.update_database(**_catalog_id(catalog_id=catalog_id, Name=na  \u001b[38;2;255;0;0m│\u001b[0m\n",
       "\u001b[38;2;255;0;0m╰──────────────────────────────────────────────────────────────────────────────────────────────────╯\u001b[0m\n",
       "\u001b[1;91mAlreadyExists: \u001b[0mDatabase retainAI_staging already exists and \u001b[1m<\u001b[0m\u001b[1;38;2;225;0;225mexist_ok\u001b[0m\u001b[1m>\u001b[0m is set to \u001b[3;38;2;215;0;0mFalse\u001b[0m.\n"
      ]
     },
     "metadata": {},
     "output_type": "display_data"
    }
   ],
   "source": [
    "import awswrangler as wr\n",
    "\n",
    "# Create the staging and production databases\n",
    "wr.catalog.create_database(\"retainAI_staging\")\n",
    "wr.catalog.create_database(\"retainAI_prod\")\n",
    "\n",
    "print(\"✅ Staging and Production databases created successfully.\")\n"
   ]
  },
  {
   "cell_type": "code",
   "execution_count": 62,
   "id": "3f5403b0-db0f-4c82-8884-aeef698494b1",
   "metadata": {
    "tags": []
   },
   "outputs": [
    {
     "data": {
      "text/html": [
       "<pre style=\"white-space:pre;overflow-x:auto;line-height:normal;font-family:Menlo,'DejaVu Sans Mono',consolas,'Courier New',monospace\"><span style=\"color: #7fbfbf; text-decoration-color: #7fbfbf\">[02/03/25 07:02:47] </span><span style=\"color: #0069ff; text-decoration-color: #0069ff; font-weight: bold\">INFO    </span> Skipping checksum validation. Response did not contain one of the  <a href=\"file:///opt/conda/lib/python3.11/site-packages/botocore/httpchecksum.py\" target=\"_blank\"><span style=\"color: #7f7f7f; text-decoration-color: #7f7f7f\">httpchecksum.py</span></a><span style=\"color: #7f7f7f; text-decoration-color: #7f7f7f\">:</span><a href=\"file:///opt/conda/lib/python3.11/site-packages/botocore/httpchecksum.py#487\" target=\"_blank\"><span style=\"color: #7f7f7f; text-decoration-color: #7f7f7f\">487</span></a>\n",
       "<span style=\"color: #7fbfbf; text-decoration-color: #7fbfbf\">                    </span>         following algorithms: <span style=\"font-weight: bold\">[</span><span style=\"color: #008700; text-decoration-color: #008700\">'crc32'</span>, <span style=\"color: #008700; text-decoration-color: #008700\">'sha1'</span>, <span style=\"color: #008700; text-decoration-color: #008700\">'sha256'</span><span style=\"font-weight: bold\">]</span>.                 <span style=\"color: #7f7f7f; text-decoration-color: #7f7f7f\">                   </span>\n",
       "</pre>\n"
      ],
      "text/plain": [
       "\u001b[2;36m[02/03/25 07:02:47]\u001b[0m\u001b[2;36m \u001b[0m\u001b[1;38;2;0;105;255mINFO    \u001b[0m Skipping checksum validation. Response did not contain one of the  \u001b]8;id=229446;file:///opt/conda/lib/python3.11/site-packages/botocore/httpchecksum.py\u001b\\\u001b[2mhttpchecksum.py\u001b[0m\u001b]8;;\u001b\\\u001b[2m:\u001b[0m\u001b]8;id=55619;file:///opt/conda/lib/python3.11/site-packages/botocore/httpchecksum.py#487\u001b\\\u001b[2m487\u001b[0m\u001b]8;;\u001b\\\n",
       "\u001b[2;36m                    \u001b[0m         following algorithms: \u001b[1m[\u001b[0m\u001b[38;2;0;135;0m'crc32'\u001b[0m, \u001b[38;2;0;135;0m'sha1'\u001b[0m, \u001b[38;2;0;135;0m'sha256'\u001b[0m\u001b[1m]\u001b[0m.                 \u001b[2m                   \u001b[0m\n"
      ]
     },
     "metadata": {},
     "output_type": "display_data"
    },
    {
     "name": "stdout",
     "output_type": "stream",
     "text": [
      "🔍 Column Names in CSV: ['Employee ID', 'Age', 'Gender', 'Years at Company', 'Job Role', 'Monthly Income', 'Work-Life Balance', 'Job Satisfaction', 'Performance Rating', 'Number of Promotions', 'Overtime', 'Distance from Home', 'Education Level', 'Marital Status', 'Number of Dependents', 'Job Level', 'Company Size', 'Company Tenure', 'Remote Work', 'Leadership Opportunities', 'Innovation Opportunities', 'Company Reputation', 'Employee Recognition', 'Attrition']\n",
      "✅ Sample Data After Fixing EventTime:\n",
      "   Employee_ID             EventTime\n",
      "0        8410  2025-02-03T07:02:48Z\n",
      "1       64756  2025-02-03T07:02:48Z\n",
      "2       30257  2025-02-03T07:02:48Z\n",
      "3       65791  2025-02-03T07:02:48Z\n",
      "4       65026  2025-02-03T07:02:48Z\n",
      "✅ CSV converted to Parquet with corrected schema and saved at: s3://sagemaker-us-east-1-095342792399/athena/staging/employee_table/\n",
      "✅ CSV converted to Parquet with corrected schema and saved at: s3://sagemaker-us-east-1-095342792399/athena/prod/employee_table/\n",
      "✅ Employee table deployed to Staging & Production successfully.\n"
     ]
    }
   ],
   "source": [
    "import awswrangler as wr\n",
    "import pandas as pd\n",
    "\n",
    "# ✅ Correct CSV path\n",
    "csv_path = \"s3://sagemaker-us-east-1-095342792399/aai-540-group-3-final-project/data/db_source/data.csv\"\n",
    "\n",
    "# ✅ Define Parquet paths for Staging & Production\n",
    "staging_parquet_path = \"s3://sagemaker-us-east-1-095342792399/athena/staging/employee_table/\"\n",
    "prod_parquet_path = \"s3://sagemaker-us-east-1-095342792399/athena/prod/employee_table/\"\n",
    "\n",
    "# 1️⃣ Load CSV and Fix Column Names\n",
    "df = wr.s3.read_csv(csv_path)\n",
    "\n",
    "# ✅ Print column names to check for inconsistencies\n",
    "print(\"🔍 Column Names in CSV:\", df.columns.tolist())\n",
    "\n",
    "# ✅ Clean column names by stripping spaces and replacing unexpected characters\n",
    "df.columns = df.columns.str.strip().str.replace(\" \", \"_\").str.replace(\"-\", \"_\").str.replace(\"/\", \"_\")\n",
    "\n",
    "# ✅ Convert Employee_ID to STRING (Fix the error)\n",
    "if \"Employee_ID\" in df.columns:\n",
    "    df[\"Employee_ID\"] = df[\"Employee_ID\"].astype(str)\n",
    "else:\n",
    "    raise KeyError(\"❌ Column 'Employee_ID' not found in CSV. Check the column names.\")\n",
    "\n",
    "# ✅ Fix EventTime column to ensure it is properly formatted\n",
    "df[\"EventTime\"] = pd.to_datetime(\"now\").strftime(\"%Y-%m-%dT%H:%M:%SZ\")\n",
    "\n",
    "# ✅ Verify EventTime is correctly populated\n",
    "print(\"✅ Sample Data After Fixing EventTime:\\n\", df[[\"Employee_ID\", \"EventTime\"]].head())\n",
    "\n",
    "# Save as Parquet for Staging\n",
    "wr.s3.to_parquet(df=df, path=staging_parquet_path, dataset=True, mode=\"overwrite\")\n",
    "print(f\"✅ CSV converted to Parquet with corrected schema and saved at: {staging_parquet_path}\")\n",
    "\n",
    "# Save as Parquet for Production\n",
    "wr.s3.to_parquet(df=df, path=prod_parquet_path, dataset=True, mode=\"overwrite\")\n",
    "print(f\"✅ CSV converted to Parquet with corrected schema and saved at: {prod_parquet_path}\")\n",
    "\n",
    "# 2️⃣ Register Employee Table in Athena (Staging)\n",
    "wr.catalog.create_parquet_table(\n",
    "    database=\"retainAI_staging\",\n",
    "    table=\"employee_table\",\n",
    "    path=staging_parquet_path,\n",
    "    columns_types={\n",
    "        \"Employee_ID\": \"string\",\n",
    "        \"Age\": \"int\",\n",
    "        \"Gender\": \"string\",\n",
    "        \"Years_at_Company\": \"int\",\n",
    "        \"Job_Role\": \"string\",\n",
    "        \"Monthly_Income\": \"int\",\n",
    "        \"Work_Life_Balance\": \"string\",\n",
    "        \"Job_Satisfaction\": \"string\",\n",
    "        \"Performance_Rating\": \"string\",\n",
    "        \"Number_of_Promotions\": \"int\",\n",
    "        \"Overtime\": \"string\",\n",
    "        \"Distance_from_Home\": \"int\",\n",
    "        \"Education_Level\": \"string\",\n",
    "        \"Marital_Status\": \"string\",\n",
    "        \"Number_of_Dependents\": \"int\",\n",
    "        \"Job_Level\": \"string\",\n",
    "        \"Company_Size\": \"string\",\n",
    "        \"Company_Tenure\": \"int\",\n",
    "        \"Remote_Work\": \"string\",\n",
    "        \"Leadership_Opportunities\": \"string\",\n",
    "        \"Innovation_Opportunities\": \"string\",\n",
    "        \"Company_Reputation\": \"string\",\n",
    "        \"Employee_Recognition\": \"string\",\n",
    "        \"Attrition\": \"string\",\n",
    "        \"EventTime\": \"string\"  # ✅ Ensure EventTime is treated as a string for Athena\n",
    "    }\n",
    ")\n",
    "\n",
    "# 3️⃣ Register Employee Table in Athena (Production)\n",
    "wr.catalog.create_parquet_table(\n",
    "    database=\"retainAI_prod\",\n",
    "    table=\"employee_table\",\n",
    "    path=prod_parquet_path,\n",
    "    columns_types={\n",
    "        \"Employee_ID\": \"string\",\n",
    "        \"Age\": \"int\",\n",
    "        \"Gender\": \"string\",\n",
    "        \"Years_at_Company\": \"int\",\n",
    "        \"Job_Role\": \"string\",\n",
    "        \"Monthly_Income\": \"int\",\n",
    "        \"Work_Life_Balance\": \"string\",\n",
    "        \"Job_Satisfaction\": \"string\",\n",
    "        \"Performance_Rating\": \"string\",\n",
    "        \"Number_of_Promotions\": \"int\",\n",
    "        \"Overtime\": \"string\",\n",
    "        \"Distance_from_Home\": \"int\",\n",
    "        \"Education_Level\": \"string\",\n",
    "        \"Marital_Status\": \"string\",\n",
    "        \"Number_of_Dependents\": \"int\",\n",
    "        \"Job_Level\": \"string\",\n",
    "        \"Company_Size\": \"string\",\n",
    "        \"Company_Tenure\": \"int\",\n",
    "        \"Remote_Work\": \"string\",\n",
    "        \"Leadership_Opportunities\": \"string\",\n",
    "        \"Innovation_Opportunities\": \"string\",\n",
    "        \"Company_Reputation\": \"string\",\n",
    "        \"Employee_Recognition\": \"string\",\n",
    "        \"Attrition\": \"string\",\n",
    "        \"EventTime\": \"string\"  # ✅ Ensure EventTime is treated as a string for Athena\n",
    "    }\n",
    ")\n",
    "\n",
    "print(\"✅ Employee table deployed to Staging & Production successfully.\")\n"
   ]
  },
  {
   "cell_type": "code",
   "execution_count": 63,
   "id": "b654b946-028a-40ec-9db2-e4fdc88553d9",
   "metadata": {
    "tags": []
   },
   "outputs": [
    {
     "name": "stdout",
     "output_type": "stream",
     "text": [
      "✅ Tables in 'retainAI_staging': ['employee_table']\n",
      "✅ Tables in 'retainAI_prod': ['employee_table']\n"
     ]
    }
   ],
   "source": [
    "staging_tables = wr.catalog.get_tables(database=\"retainAI_staging\")\n",
    "prod_tables = wr.catalog.get_tables(database=\"retainAI_prod\")\n",
    "\n",
    "print(\"✅ Tables in 'retainAI_staging':\", [t[\"Name\"] for t in staging_tables])\n",
    "print(\"✅ Tables in 'retainAI_prod':\", [t[\"Name\"] for t in prod_tables])\n"
   ]
  },
  {
   "cell_type": "code",
   "execution_count": 64,
   "id": "f9d8b389-fed9-4b3a-a052-12291f7fa81e",
   "metadata": {
    "tags": []
   },
   "outputs": [
    {
     "data": {
      "text/html": [
       "<pre style=\"white-space:pre;overflow-x:auto;line-height:normal;font-family:Menlo,'DejaVu Sans Mono',consolas,'Courier New',monospace\"><span style=\"color: #7fbfbf; text-decoration-color: #7fbfbf\">[02/03/25 07:02:59] </span><span style=\"color: #0069ff; text-decoration-color: #0069ff; font-weight: bold\">INFO    </span> Created CTAS table                                                       <a href=\"file:///opt/conda/lib/python3.11/site-packages/awswrangler/athena/_utils.py\" target=\"_blank\"><span style=\"color: #7f7f7f; text-decoration-color: #7f7f7f\">_utils.py</span></a><span style=\"color: #7f7f7f; text-decoration-color: #7f7f7f\">:</span><a href=\"file:///opt/conda/lib/python3.11/site-packages/awswrangler/athena/_utils.py#872\" target=\"_blank\"><span style=\"color: #7f7f7f; text-decoration-color: #7f7f7f\">872</span></a>\n",
       "<span style=\"color: #7fbfbf; text-decoration-color: #7fbfbf\">                    </span>         <span style=\"color: #008700; text-decoration-color: #008700\">\"retainAI_staging\"</span>.<span style=\"color: #008700; text-decoration-color: #008700\">\"temp_table_24f6ad8fe7204462a4a683f8137bf9e4\"</span>         <span style=\"color: #7f7f7f; text-decoration-color: #7f7f7f\">             </span>\n",
       "</pre>\n"
      ],
      "text/plain": [
       "\u001b[2;36m[02/03/25 07:02:59]\u001b[0m\u001b[2;36m \u001b[0m\u001b[1;38;2;0;105;255mINFO    \u001b[0m Created CTAS table                                                       \u001b]8;id=344880;file:///opt/conda/lib/python3.11/site-packages/awswrangler/athena/_utils.py\u001b\\\u001b[2m_utils.py\u001b[0m\u001b]8;;\u001b\\\u001b[2m:\u001b[0m\u001b]8;id=385352;file:///opt/conda/lib/python3.11/site-packages/awswrangler/athena/_utils.py#872\u001b\\\u001b[2m872\u001b[0m\u001b]8;;\u001b\\\n",
       "\u001b[2;36m                    \u001b[0m         \u001b[38;2;0;135;0m\"retainAI_staging\"\u001b[0m.\u001b[38;2;0;135;0m\"temp_table_24f6ad8fe7204462a4a683f8137bf9e4\"\u001b[0m         \u001b[2m             \u001b[0m\n"
      ]
     },
     "metadata": {},
     "output_type": "display_data"
    },
    {
     "data": {
      "text/html": [
       "<pre style=\"white-space:pre;overflow-x:auto;line-height:normal;font-family:Menlo,'DejaVu Sans Mono',consolas,'Courier New',monospace\"><span style=\"color: #7fbfbf; text-decoration-color: #7fbfbf\">                    </span><span style=\"color: #0069ff; text-decoration-color: #0069ff; font-weight: bold\">INFO    </span> Skipping checksum validation. Response did not contain one of the  <a href=\"file:///opt/conda/lib/python3.11/site-packages/botocore/httpchecksum.py\" target=\"_blank\"><span style=\"color: #7f7f7f; text-decoration-color: #7f7f7f\">httpchecksum.py</span></a><span style=\"color: #7f7f7f; text-decoration-color: #7f7f7f\">:</span><a href=\"file:///opt/conda/lib/python3.11/site-packages/botocore/httpchecksum.py#487\" target=\"_blank\"><span style=\"color: #7f7f7f; text-decoration-color: #7f7f7f\">487</span></a>\n",
       "<span style=\"color: #7fbfbf; text-decoration-color: #7fbfbf\">                    </span>         following algorithms: <span style=\"font-weight: bold\">[</span><span style=\"color: #008700; text-decoration-color: #008700\">'crc32'</span>, <span style=\"color: #008700; text-decoration-color: #008700\">'sha1'</span>, <span style=\"color: #008700; text-decoration-color: #008700\">'sha256'</span><span style=\"font-weight: bold\">]</span>.                 <span style=\"color: #7f7f7f; text-decoration-color: #7f7f7f\">                   </span>\n",
       "</pre>\n"
      ],
      "text/plain": [
       "\u001b[2;36m                   \u001b[0m\u001b[2;36m \u001b[0m\u001b[1;38;2;0;105;255mINFO    \u001b[0m Skipping checksum validation. Response did not contain one of the  \u001b]8;id=856829;file:///opt/conda/lib/python3.11/site-packages/botocore/httpchecksum.py\u001b\\\u001b[2mhttpchecksum.py\u001b[0m\u001b]8;;\u001b\\\u001b[2m:\u001b[0m\u001b]8;id=422227;file:///opt/conda/lib/python3.11/site-packages/botocore/httpchecksum.py#487\u001b\\\u001b[2m487\u001b[0m\u001b]8;;\u001b\\\n",
       "\u001b[2;36m                    \u001b[0m         following algorithms: \u001b[1m[\u001b[0m\u001b[38;2;0;135;0m'crc32'\u001b[0m, \u001b[38;2;0;135;0m'sha1'\u001b[0m, \u001b[38;2;0;135;0m'sha256'\u001b[0m\u001b[1m]\u001b[0m.                 \u001b[2m                   \u001b[0m\n"
      ]
     },
     "metadata": {},
     "output_type": "display_data"
    },
    {
     "data": {
      "text/html": [
       "<pre style=\"white-space:pre;overflow-x:auto;line-height:normal;font-family:Menlo,'DejaVu Sans Mono',consolas,'Courier New',monospace\"><span style=\"color: #7fbfbf; text-decoration-color: #7fbfbf\">                    </span><span style=\"color: #0069ff; text-decoration-color: #0069ff; font-weight: bold\">INFO    </span> Skipping checksum validation. Response did not contain one of the  <a href=\"file:///opt/conda/lib/python3.11/site-packages/botocore/httpchecksum.py\" target=\"_blank\"><span style=\"color: #7f7f7f; text-decoration-color: #7f7f7f\">httpchecksum.py</span></a><span style=\"color: #7f7f7f; text-decoration-color: #7f7f7f\">:</span><a href=\"file:///opt/conda/lib/python3.11/site-packages/botocore/httpchecksum.py#487\" target=\"_blank\"><span style=\"color: #7f7f7f; text-decoration-color: #7f7f7f\">487</span></a>\n",
       "<span style=\"color: #7fbfbf; text-decoration-color: #7fbfbf\">                    </span>         following algorithms: <span style=\"font-weight: bold\">[</span><span style=\"color: #008700; text-decoration-color: #008700\">'crc32'</span>, <span style=\"color: #008700; text-decoration-color: #008700\">'sha1'</span>, <span style=\"color: #008700; text-decoration-color: #008700\">'sha256'</span><span style=\"font-weight: bold\">]</span>.                 <span style=\"color: #7f7f7f; text-decoration-color: #7f7f7f\">                   </span>\n",
       "</pre>\n"
      ],
      "text/plain": [
       "\u001b[2;36m                   \u001b[0m\u001b[2;36m \u001b[0m\u001b[1;38;2;0;105;255mINFO    \u001b[0m Skipping checksum validation. Response did not contain one of the  \u001b]8;id=342459;file:///opt/conda/lib/python3.11/site-packages/botocore/httpchecksum.py\u001b\\\u001b[2mhttpchecksum.py\u001b[0m\u001b]8;;\u001b\\\u001b[2m:\u001b[0m\u001b]8;id=321363;file:///opt/conda/lib/python3.11/site-packages/botocore/httpchecksum.py#487\u001b\\\u001b[2m487\u001b[0m\u001b]8;;\u001b\\\n",
       "\u001b[2;36m                    \u001b[0m         following algorithms: \u001b[1m[\u001b[0m\u001b[38;2;0;135;0m'crc32'\u001b[0m, \u001b[38;2;0;135;0m'sha1'\u001b[0m, \u001b[38;2;0;135;0m'sha256'\u001b[0m\u001b[1m]\u001b[0m.                 \u001b[2m                   \u001b[0m\n"
      ]
     },
     "metadata": {},
     "output_type": "display_data"
    },
    {
     "data": {
      "text/html": [
       "<pre style=\"white-space:pre;overflow-x:auto;line-height:normal;font-family:Menlo,'DejaVu Sans Mono',consolas,'Courier New',monospace\"><span style=\"color: #7fbfbf; text-decoration-color: #7fbfbf\">[02/03/25 07:03:02] </span><span style=\"color: #0069ff; text-decoration-color: #0069ff; font-weight: bold\">INFO    </span> Created CTAS table                                                       <a href=\"file:///opt/conda/lib/python3.11/site-packages/awswrangler/athena/_utils.py\" target=\"_blank\"><span style=\"color: #7f7f7f; text-decoration-color: #7f7f7f\">_utils.py</span></a><span style=\"color: #7f7f7f; text-decoration-color: #7f7f7f\">:</span><a href=\"file:///opt/conda/lib/python3.11/site-packages/awswrangler/athena/_utils.py#872\" target=\"_blank\"><span style=\"color: #7f7f7f; text-decoration-color: #7f7f7f\">872</span></a>\n",
       "<span style=\"color: #7fbfbf; text-decoration-color: #7fbfbf\">                    </span>         <span style=\"color: #008700; text-decoration-color: #008700\">\"retainAI_prod\"</span>.<span style=\"color: #008700; text-decoration-color: #008700\">\"temp_table_b49735d6366d40069bd468450f793bc7\"</span>            <span style=\"color: #7f7f7f; text-decoration-color: #7f7f7f\">             </span>\n",
       "</pre>\n"
      ],
      "text/plain": [
       "\u001b[2;36m[02/03/25 07:03:02]\u001b[0m\u001b[2;36m \u001b[0m\u001b[1;38;2;0;105;255mINFO    \u001b[0m Created CTAS table                                                       \u001b]8;id=282261;file:///opt/conda/lib/python3.11/site-packages/awswrangler/athena/_utils.py\u001b\\\u001b[2m_utils.py\u001b[0m\u001b]8;;\u001b\\\u001b[2m:\u001b[0m\u001b]8;id=192265;file:///opt/conda/lib/python3.11/site-packages/awswrangler/athena/_utils.py#872\u001b\\\u001b[2m872\u001b[0m\u001b]8;;\u001b\\\n",
       "\u001b[2;36m                    \u001b[0m         \u001b[38;2;0;135;0m\"retainAI_prod\"\u001b[0m.\u001b[38;2;0;135;0m\"temp_table_b49735d6366d40069bd468450f793bc7\"\u001b[0m            \u001b[2m             \u001b[0m\n"
      ]
     },
     "metadata": {},
     "output_type": "display_data"
    },
    {
     "data": {
      "text/html": [
       "<pre style=\"white-space:pre;overflow-x:auto;line-height:normal;font-family:Menlo,'DejaVu Sans Mono',consolas,'Courier New',monospace\"><span style=\"color: #7fbfbf; text-decoration-color: #7fbfbf\">[02/03/25 07:03:03] </span><span style=\"color: #0069ff; text-decoration-color: #0069ff; font-weight: bold\">INFO    </span> Skipping checksum validation. Response did not contain one of the  <a href=\"file:///opt/conda/lib/python3.11/site-packages/botocore/httpchecksum.py\" target=\"_blank\"><span style=\"color: #7f7f7f; text-decoration-color: #7f7f7f\">httpchecksum.py</span></a><span style=\"color: #7f7f7f; text-decoration-color: #7f7f7f\">:</span><a href=\"file:///opt/conda/lib/python3.11/site-packages/botocore/httpchecksum.py#487\" target=\"_blank\"><span style=\"color: #7f7f7f; text-decoration-color: #7f7f7f\">487</span></a>\n",
       "<span style=\"color: #7fbfbf; text-decoration-color: #7fbfbf\">                    </span>         following algorithms: <span style=\"font-weight: bold\">[</span><span style=\"color: #008700; text-decoration-color: #008700\">'crc32'</span>, <span style=\"color: #008700; text-decoration-color: #008700\">'sha1'</span>, <span style=\"color: #008700; text-decoration-color: #008700\">'sha256'</span><span style=\"font-weight: bold\">]</span>.                 <span style=\"color: #7f7f7f; text-decoration-color: #7f7f7f\">                   </span>\n",
       "</pre>\n"
      ],
      "text/plain": [
       "\u001b[2;36m[02/03/25 07:03:03]\u001b[0m\u001b[2;36m \u001b[0m\u001b[1;38;2;0;105;255mINFO    \u001b[0m Skipping checksum validation. Response did not contain one of the  \u001b]8;id=338120;file:///opt/conda/lib/python3.11/site-packages/botocore/httpchecksum.py\u001b\\\u001b[2mhttpchecksum.py\u001b[0m\u001b]8;;\u001b\\\u001b[2m:\u001b[0m\u001b]8;id=608245;file:///opt/conda/lib/python3.11/site-packages/botocore/httpchecksum.py#487\u001b\\\u001b[2m487\u001b[0m\u001b]8;;\u001b\\\n",
       "\u001b[2;36m                    \u001b[0m         following algorithms: \u001b[1m[\u001b[0m\u001b[38;2;0;135;0m'crc32'\u001b[0m, \u001b[38;2;0;135;0m'sha1'\u001b[0m, \u001b[38;2;0;135;0m'sha256'\u001b[0m\u001b[1m]\u001b[0m.                 \u001b[2m                   \u001b[0m\n"
      ]
     },
     "metadata": {},
     "output_type": "display_data"
    },
    {
     "data": {
      "text/html": [
       "<pre style=\"white-space:pre;overflow-x:auto;line-height:normal;font-family:Menlo,'DejaVu Sans Mono',consolas,'Courier New',monospace\"><span style=\"color: #7fbfbf; text-decoration-color: #7fbfbf\">                    </span><span style=\"color: #0069ff; text-decoration-color: #0069ff; font-weight: bold\">INFO    </span> Skipping checksum validation. Response did not contain one of the  <a href=\"file:///opt/conda/lib/python3.11/site-packages/botocore/httpchecksum.py\" target=\"_blank\"><span style=\"color: #7f7f7f; text-decoration-color: #7f7f7f\">httpchecksum.py</span></a><span style=\"color: #7f7f7f; text-decoration-color: #7f7f7f\">:</span><a href=\"file:///opt/conda/lib/python3.11/site-packages/botocore/httpchecksum.py#487\" target=\"_blank\"><span style=\"color: #7f7f7f; text-decoration-color: #7f7f7f\">487</span></a>\n",
       "<span style=\"color: #7fbfbf; text-decoration-color: #7fbfbf\">                    </span>         following algorithms: <span style=\"font-weight: bold\">[</span><span style=\"color: #008700; text-decoration-color: #008700\">'crc32'</span>, <span style=\"color: #008700; text-decoration-color: #008700\">'sha1'</span>, <span style=\"color: #008700; text-decoration-color: #008700\">'sha256'</span><span style=\"font-weight: bold\">]</span>.                 <span style=\"color: #7f7f7f; text-decoration-color: #7f7f7f\">                   </span>\n",
       "</pre>\n"
      ],
      "text/plain": [
       "\u001b[2;36m                   \u001b[0m\u001b[2;36m \u001b[0m\u001b[1;38;2;0;105;255mINFO    \u001b[0m Skipping checksum validation. Response did not contain one of the  \u001b]8;id=926206;file:///opt/conda/lib/python3.11/site-packages/botocore/httpchecksum.py\u001b\\\u001b[2mhttpchecksum.py\u001b[0m\u001b]8;;\u001b\\\u001b[2m:\u001b[0m\u001b]8;id=353081;file:///opt/conda/lib/python3.11/site-packages/botocore/httpchecksum.py#487\u001b\\\u001b[2m487\u001b[0m\u001b]8;;\u001b\\\n",
       "\u001b[2;36m                    \u001b[0m         following algorithms: \u001b[1m[\u001b[0m\u001b[38;2;0;135;0m'crc32'\u001b[0m, \u001b[38;2;0;135;0m'sha1'\u001b[0m, \u001b[38;2;0;135;0m'sha256'\u001b[0m\u001b[1m]\u001b[0m.                 \u001b[2m                   \u001b[0m\n"
      ]
     },
     "metadata": {},
     "output_type": "display_data"
    },
    {
     "name": "stdout",
     "output_type": "stream",
     "text": [
      "✅ Staging Data:\n",
      "  employee_id  age  gender  years_at_company    job_role  monthly_income  \\\n",
      "0        8410   31    Male                19   Education            5390   \n",
      "1       64756   59  Female                 4       Media            5534   \n",
      "2       30257   24  Female                10  Healthcare            8159   \n",
      "3       65791   36  Female                 7   Education            3989   \n",
      "4       65026   56    Male                41   Education            4821   \n",
      "\n",
      "  work_life_balance job_satisfaction performance_rating  number_of_promotions  \\\n",
      "0         Excellent           Medium            Average                     2   \n",
      "1              Poor             High                Low                     3   \n",
      "2              Good             High                Low                     0   \n",
      "3              Good             High               High                     1   \n",
      "4              Fair        Very High            Average                     0   \n",
      "\n",
      "   ... job_level  company_size company_tenure remote_work  \\\n",
      "0  ...       Mid        Medium             89          No   \n",
      "1  ...       Mid        Medium             21          No   \n",
      "2  ...       Mid        Medium             74          No   \n",
      "3  ...       Mid         Small             50         Yes   \n",
      "4  ...    Senior        Medium             68          No   \n",
      "\n",
      "   leadership_opportunities innovation_opportunities company_reputation  \\\n",
      "0                        No                       No          Excellent   \n",
      "1                        No                       No               Fair   \n",
      "2                        No                       No               Poor   \n",
      "3                        No                       No               Good   \n",
      "4                        No                       No               Fair   \n",
      "\n",
      "   employee_recognition attrition             eventtime  \n",
      "0                Medium    Stayed  2025-02-03T07:02:48Z  \n",
      "1                   Low    Stayed  2025-02-03T07:02:48Z  \n",
      "2                   Low    Stayed  2025-02-03T07:02:48Z  \n",
      "3                Medium    Stayed  2025-02-03T07:02:48Z  \n",
      "4                Medium    Stayed  2025-02-03T07:02:48Z  \n",
      "\n",
      "[5 rows x 25 columns]\n",
      "✅ Production Data:\n",
      "  employee_id  age  gender  years_at_company    job_role  monthly_income  \\\n",
      "0        8410   31    Male                19   Education            5390   \n",
      "1       64756   59  Female                 4       Media            5534   \n",
      "2       30257   24  Female                10  Healthcare            8159   \n",
      "3       65791   36  Female                 7   Education            3989   \n",
      "4       65026   56    Male                41   Education            4821   \n",
      "\n",
      "  work_life_balance job_satisfaction performance_rating  number_of_promotions  \\\n",
      "0         Excellent           Medium            Average                     2   \n",
      "1              Poor             High                Low                     3   \n",
      "2              Good             High                Low                     0   \n",
      "3              Good             High               High                     1   \n",
      "4              Fair        Very High            Average                     0   \n",
      "\n",
      "   ... job_level  company_size company_tenure remote_work  \\\n",
      "0  ...       Mid        Medium             89          No   \n",
      "1  ...       Mid        Medium             21          No   \n",
      "2  ...       Mid        Medium             74          No   \n",
      "3  ...       Mid         Small             50         Yes   \n",
      "4  ...    Senior        Medium             68          No   \n",
      "\n",
      "   leadership_opportunities innovation_opportunities company_reputation  \\\n",
      "0                        No                       No          Excellent   \n",
      "1                        No                       No               Fair   \n",
      "2                        No                       No               Poor   \n",
      "3                        No                       No               Good   \n",
      "4                        No                       No               Fair   \n",
      "\n",
      "   employee_recognition attrition             eventtime  \n",
      "0                Medium    Stayed  2025-02-03T07:02:48Z  \n",
      "1                   Low    Stayed  2025-02-03T07:02:48Z  \n",
      "2                   Low    Stayed  2025-02-03T07:02:48Z  \n",
      "3                Medium    Stayed  2025-02-03T07:02:48Z  \n",
      "4                Medium    Stayed  2025-02-03T07:02:48Z  \n",
      "\n",
      "[5 rows x 25 columns]\n"
     ]
    }
   ],
   "source": [
    "#Query Staging & Production to verify data\n",
    "\n",
    "\n",
    "query_staging = \"SELECT * FROM retainAI_staging.employee_table LIMIT 5\"\n",
    "athena_df_staging = wr.athena.read_sql_query(query_staging, database=\"retainAI_staging\")\n",
    "\n",
    "query_prod = \"SELECT * FROM retainAI_prod.employee_table LIMIT 5\"\n",
    "athena_df_prod = wr.athena.read_sql_query(query_prod, database=\"retainAI_prod\")\n",
    "\n",
    "print(\"✅ Staging Data:\")\n",
    "print(athena_df_staging.head())\n",
    "\n",
    "print(\"✅ Production Data:\")\n",
    "print(athena_df_prod.head())\n"
   ]
  },
  {
   "cell_type": "code",
   "execution_count": 66,
   "id": "020098a9-8b8f-4d38-8eac-098eef3340cd",
   "metadata": {
    "tags": []
   },
   "outputs": [
    {
     "data": {
      "text/html": [
       "<pre style=\"white-space:pre;overflow-x:auto;line-height:normal;font-family:Menlo,'DejaVu Sans Mono',consolas,'Courier New',monospace\"><span style=\"color: #7fbfbf; text-decoration-color: #7fbfbf\">[02/03/25 07:03:37] </span><span style=\"color: #0069ff; text-decoration-color: #0069ff; font-weight: bold\">INFO    </span> Created CTAS table                                                       <a href=\"file:///opt/conda/lib/python3.11/site-packages/awswrangler/athena/_utils.py\" target=\"_blank\"><span style=\"color: #7f7f7f; text-decoration-color: #7f7f7f\">_utils.py</span></a><span style=\"color: #7f7f7f; text-decoration-color: #7f7f7f\">:</span><a href=\"file:///opt/conda/lib/python3.11/site-packages/awswrangler/athena/_utils.py#872\" target=\"_blank\"><span style=\"color: #7f7f7f; text-decoration-color: #7f7f7f\">872</span></a>\n",
       "<span style=\"color: #7fbfbf; text-decoration-color: #7fbfbf\">                    </span>         <span style=\"color: #008700; text-decoration-color: #008700\">\"retainAI_staging\"</span>.<span style=\"color: #008700; text-decoration-color: #008700\">\"temp_table_cb497f51463a49a7af7bbcd66c505687\"</span>         <span style=\"color: #7f7f7f; text-decoration-color: #7f7f7f\">             </span>\n",
       "</pre>\n"
      ],
      "text/plain": [
       "\u001b[2;36m[02/03/25 07:03:37]\u001b[0m\u001b[2;36m \u001b[0m\u001b[1;38;2;0;105;255mINFO    \u001b[0m Created CTAS table                                                       \u001b]8;id=647521;file:///opt/conda/lib/python3.11/site-packages/awswrangler/athena/_utils.py\u001b\\\u001b[2m_utils.py\u001b[0m\u001b]8;;\u001b\\\u001b[2m:\u001b[0m\u001b]8;id=900370;file:///opt/conda/lib/python3.11/site-packages/awswrangler/athena/_utils.py#872\u001b\\\u001b[2m872\u001b[0m\u001b]8;;\u001b\\\n",
       "\u001b[2;36m                    \u001b[0m         \u001b[38;2;0;135;0m\"retainAI_staging\"\u001b[0m.\u001b[38;2;0;135;0m\"temp_table_cb497f51463a49a7af7bbcd66c505687\"\u001b[0m         \u001b[2m             \u001b[0m\n"
      ]
     },
     "metadata": {},
     "output_type": "display_data"
    },
    {
     "data": {
      "text/html": [
       "<pre style=\"white-space:pre;overflow-x:auto;line-height:normal;font-family:Menlo,'DejaVu Sans Mono',consolas,'Courier New',monospace\"><span style=\"color: #7fbfbf; text-decoration-color: #7fbfbf\">                    </span><span style=\"color: #0069ff; text-decoration-color: #0069ff; font-weight: bold\">INFO    </span> Skipping checksum validation. Response did not contain one of the  <a href=\"file:///opt/conda/lib/python3.11/site-packages/botocore/httpchecksum.py\" target=\"_blank\"><span style=\"color: #7f7f7f; text-decoration-color: #7f7f7f\">httpchecksum.py</span></a><span style=\"color: #7f7f7f; text-decoration-color: #7f7f7f\">:</span><a href=\"file:///opt/conda/lib/python3.11/site-packages/botocore/httpchecksum.py#487\" target=\"_blank\"><span style=\"color: #7f7f7f; text-decoration-color: #7f7f7f\">487</span></a>\n",
       "<span style=\"color: #7fbfbf; text-decoration-color: #7fbfbf\">                    </span>         following algorithms: <span style=\"font-weight: bold\">[</span><span style=\"color: #008700; text-decoration-color: #008700\">'crc32'</span>, <span style=\"color: #008700; text-decoration-color: #008700\">'sha1'</span>, <span style=\"color: #008700; text-decoration-color: #008700\">'sha256'</span><span style=\"font-weight: bold\">]</span>.                 <span style=\"color: #7f7f7f; text-decoration-color: #7f7f7f\">                   </span>\n",
       "</pre>\n"
      ],
      "text/plain": [
       "\u001b[2;36m                   \u001b[0m\u001b[2;36m \u001b[0m\u001b[1;38;2;0;105;255mINFO    \u001b[0m Skipping checksum validation. Response did not contain one of the  \u001b]8;id=287529;file:///opt/conda/lib/python3.11/site-packages/botocore/httpchecksum.py\u001b\\\u001b[2mhttpchecksum.py\u001b[0m\u001b]8;;\u001b\\\u001b[2m:\u001b[0m\u001b]8;id=405524;file:///opt/conda/lib/python3.11/site-packages/botocore/httpchecksum.py#487\u001b\\\u001b[2m487\u001b[0m\u001b]8;;\u001b\\\n",
       "\u001b[2;36m                    \u001b[0m         following algorithms: \u001b[1m[\u001b[0m\u001b[38;2;0;135;0m'crc32'\u001b[0m, \u001b[38;2;0;135;0m'sha1'\u001b[0m, \u001b[38;2;0;135;0m'sha256'\u001b[0m\u001b[1m]\u001b[0m.                 \u001b[2m                   \u001b[0m\n"
      ]
     },
     "metadata": {},
     "output_type": "display_data"
    },
    {
     "data": {
      "text/html": [
       "<pre style=\"white-space:pre;overflow-x:auto;line-height:normal;font-family:Menlo,'DejaVu Sans Mono',consolas,'Courier New',monospace\"><span style=\"color: #7fbfbf; text-decoration-color: #7fbfbf\">                    </span><span style=\"color: #0069ff; text-decoration-color: #0069ff; font-weight: bold\">INFO    </span> Skipping checksum validation. Response did not contain one of the  <a href=\"file:///opt/conda/lib/python3.11/site-packages/botocore/httpchecksum.py\" target=\"_blank\"><span style=\"color: #7f7f7f; text-decoration-color: #7f7f7f\">httpchecksum.py</span></a><span style=\"color: #7f7f7f; text-decoration-color: #7f7f7f\">:</span><a href=\"file:///opt/conda/lib/python3.11/site-packages/botocore/httpchecksum.py#487\" target=\"_blank\"><span style=\"color: #7f7f7f; text-decoration-color: #7f7f7f\">487</span></a>\n",
       "<span style=\"color: #7fbfbf; text-decoration-color: #7fbfbf\">                    </span>         following algorithms: <span style=\"font-weight: bold\">[</span><span style=\"color: #008700; text-decoration-color: #008700\">'crc32'</span>, <span style=\"color: #008700; text-decoration-color: #008700\">'sha1'</span>, <span style=\"color: #008700; text-decoration-color: #008700\">'sha256'</span><span style=\"font-weight: bold\">]</span>.                 <span style=\"color: #7f7f7f; text-decoration-color: #7f7f7f\">                   </span>\n",
       "</pre>\n"
      ],
      "text/plain": [
       "\u001b[2;36m                   \u001b[0m\u001b[2;36m \u001b[0m\u001b[1;38;2;0;105;255mINFO    \u001b[0m Skipping checksum validation. Response did not contain one of the  \u001b]8;id=346808;file:///opt/conda/lib/python3.11/site-packages/botocore/httpchecksum.py\u001b\\\u001b[2mhttpchecksum.py\u001b[0m\u001b]8;;\u001b\\\u001b[2m:\u001b[0m\u001b]8;id=289365;file:///opt/conda/lib/python3.11/site-packages/botocore/httpchecksum.py#487\u001b\\\u001b[2m487\u001b[0m\u001b]8;;\u001b\\\n",
       "\u001b[2;36m                    \u001b[0m         following algorithms: \u001b[1m[\u001b[0m\u001b[38;2;0;135;0m'crc32'\u001b[0m, \u001b[38;2;0;135;0m'sha1'\u001b[0m, \u001b[38;2;0;135;0m'sha256'\u001b[0m\u001b[1m]\u001b[0m.                 \u001b[2m                   \u001b[0m\n"
      ]
     },
     "metadata": {},
     "output_type": "display_data"
    },
    {
     "data": {
      "text/html": [
       "<pre style=\"white-space:pre;overflow-x:auto;line-height:normal;font-family:Menlo,'DejaVu Sans Mono',consolas,'Courier New',monospace\"><span style=\"color: #7fbfbf; text-decoration-color: #7fbfbf\">[02/03/25 07:03:40] </span><span style=\"color: #0069ff; text-decoration-color: #0069ff; font-weight: bold\">INFO    </span> Created CTAS table                                                       <a href=\"file:///opt/conda/lib/python3.11/site-packages/awswrangler/athena/_utils.py\" target=\"_blank\"><span style=\"color: #7f7f7f; text-decoration-color: #7f7f7f\">_utils.py</span></a><span style=\"color: #7f7f7f; text-decoration-color: #7f7f7f\">:</span><a href=\"file:///opt/conda/lib/python3.11/site-packages/awswrangler/athena/_utils.py#872\" target=\"_blank\"><span style=\"color: #7f7f7f; text-decoration-color: #7f7f7f\">872</span></a>\n",
       "<span style=\"color: #7fbfbf; text-decoration-color: #7fbfbf\">                    </span>         <span style=\"color: #008700; text-decoration-color: #008700\">\"retainAI_prod\"</span>.<span style=\"color: #008700; text-decoration-color: #008700\">\"temp_table_b7a3dc1dc47f46d798e9c8aeafb898a6\"</span>            <span style=\"color: #7f7f7f; text-decoration-color: #7f7f7f\">             </span>\n",
       "</pre>\n"
      ],
      "text/plain": [
       "\u001b[2;36m[02/03/25 07:03:40]\u001b[0m\u001b[2;36m \u001b[0m\u001b[1;38;2;0;105;255mINFO    \u001b[0m Created CTAS table                                                       \u001b]8;id=127562;file:///opt/conda/lib/python3.11/site-packages/awswrangler/athena/_utils.py\u001b\\\u001b[2m_utils.py\u001b[0m\u001b]8;;\u001b\\\u001b[2m:\u001b[0m\u001b]8;id=481427;file:///opt/conda/lib/python3.11/site-packages/awswrangler/athena/_utils.py#872\u001b\\\u001b[2m872\u001b[0m\u001b]8;;\u001b\\\n",
       "\u001b[2;36m                    \u001b[0m         \u001b[38;2;0;135;0m\"retainAI_prod\"\u001b[0m.\u001b[38;2;0;135;0m\"temp_table_b7a3dc1dc47f46d798e9c8aeafb898a6\"\u001b[0m            \u001b[2m             \u001b[0m\n"
      ]
     },
     "metadata": {},
     "output_type": "display_data"
    },
    {
     "data": {
      "text/html": [
       "<pre style=\"white-space:pre;overflow-x:auto;line-height:normal;font-family:Menlo,'DejaVu Sans Mono',consolas,'Courier New',monospace\"><span style=\"color: #7fbfbf; text-decoration-color: #7fbfbf\">                    </span><span style=\"color: #0069ff; text-decoration-color: #0069ff; font-weight: bold\">INFO    </span> Skipping checksum validation. Response did not contain one of the  <a href=\"file:///opt/conda/lib/python3.11/site-packages/botocore/httpchecksum.py\" target=\"_blank\"><span style=\"color: #7f7f7f; text-decoration-color: #7f7f7f\">httpchecksum.py</span></a><span style=\"color: #7f7f7f; text-decoration-color: #7f7f7f\">:</span><a href=\"file:///opt/conda/lib/python3.11/site-packages/botocore/httpchecksum.py#487\" target=\"_blank\"><span style=\"color: #7f7f7f; text-decoration-color: #7f7f7f\">487</span></a>\n",
       "<span style=\"color: #7fbfbf; text-decoration-color: #7fbfbf\">                    </span>         following algorithms: <span style=\"font-weight: bold\">[</span><span style=\"color: #008700; text-decoration-color: #008700\">'crc32'</span>, <span style=\"color: #008700; text-decoration-color: #008700\">'sha1'</span>, <span style=\"color: #008700; text-decoration-color: #008700\">'sha256'</span><span style=\"font-weight: bold\">]</span>.                 <span style=\"color: #7f7f7f; text-decoration-color: #7f7f7f\">                   </span>\n",
       "</pre>\n"
      ],
      "text/plain": [
       "\u001b[2;36m                   \u001b[0m\u001b[2;36m \u001b[0m\u001b[1;38;2;0;105;255mINFO    \u001b[0m Skipping checksum validation. Response did not contain one of the  \u001b]8;id=235480;file:///opt/conda/lib/python3.11/site-packages/botocore/httpchecksum.py\u001b\\\u001b[2mhttpchecksum.py\u001b[0m\u001b]8;;\u001b\\\u001b[2m:\u001b[0m\u001b]8;id=384233;file:///opt/conda/lib/python3.11/site-packages/botocore/httpchecksum.py#487\u001b\\\u001b[2m487\u001b[0m\u001b]8;;\u001b\\\n",
       "\u001b[2;36m                    \u001b[0m         following algorithms: \u001b[1m[\u001b[0m\u001b[38;2;0;135;0m'crc32'\u001b[0m, \u001b[38;2;0;135;0m'sha1'\u001b[0m, \u001b[38;2;0;135;0m'sha256'\u001b[0m\u001b[1m]\u001b[0m.                 \u001b[2m                   \u001b[0m\n"
      ]
     },
     "metadata": {},
     "output_type": "display_data"
    },
    {
     "data": {
      "text/html": [
       "<pre style=\"white-space:pre;overflow-x:auto;line-height:normal;font-family:Menlo,'DejaVu Sans Mono',consolas,'Courier New',monospace\"><span style=\"color: #7fbfbf; text-decoration-color: #7fbfbf\">                    </span><span style=\"color: #0069ff; text-decoration-color: #0069ff; font-weight: bold\">INFO    </span> Skipping checksum validation. Response did not contain one of the  <a href=\"file:///opt/conda/lib/python3.11/site-packages/botocore/httpchecksum.py\" target=\"_blank\"><span style=\"color: #7f7f7f; text-decoration-color: #7f7f7f\">httpchecksum.py</span></a><span style=\"color: #7f7f7f; text-decoration-color: #7f7f7f\">:</span><a href=\"file:///opt/conda/lib/python3.11/site-packages/botocore/httpchecksum.py#487\" target=\"_blank\"><span style=\"color: #7f7f7f; text-decoration-color: #7f7f7f\">487</span></a>\n",
       "<span style=\"color: #7fbfbf; text-decoration-color: #7fbfbf\">                    </span>         following algorithms: <span style=\"font-weight: bold\">[</span><span style=\"color: #008700; text-decoration-color: #008700\">'crc32'</span>, <span style=\"color: #008700; text-decoration-color: #008700\">'sha1'</span>, <span style=\"color: #008700; text-decoration-color: #008700\">'sha256'</span><span style=\"font-weight: bold\">]</span>.                 <span style=\"color: #7f7f7f; text-decoration-color: #7f7f7f\">                   </span>\n",
       "</pre>\n"
      ],
      "text/plain": [
       "\u001b[2;36m                   \u001b[0m\u001b[2;36m \u001b[0m\u001b[1;38;2;0;105;255mINFO    \u001b[0m Skipping checksum validation. Response did not contain one of the  \u001b]8;id=243995;file:///opt/conda/lib/python3.11/site-packages/botocore/httpchecksum.py\u001b\\\u001b[2mhttpchecksum.py\u001b[0m\u001b]8;;\u001b\\\u001b[2m:\u001b[0m\u001b]8;id=498100;file:///opt/conda/lib/python3.11/site-packages/botocore/httpchecksum.py#487\u001b\\\u001b[2m487\u001b[0m\u001b]8;;\u001b\\\n",
       "\u001b[2;36m                    \u001b[0m         following algorithms: \u001b[1m[\u001b[0m\u001b[38;2;0;135;0m'crc32'\u001b[0m, \u001b[38;2;0;135;0m'sha1'\u001b[0m, \u001b[38;2;0;135;0m'sha256'\u001b[0m\u001b[1m]\u001b[0m.                 \u001b[2m                   \u001b[0m\n"
      ]
     },
     "metadata": {},
     "output_type": "display_data"
    },
    {
     "name": "stdout",
     "output_type": "stream",
     "text": [
      "✅ Total Rows in Staging: 74498\n",
      "✅ Total Rows in Production: 74498\n"
     ]
    }
   ],
   "source": [
    "query_staging_count = \"SELECT COUNT(*) AS total_rows FROM retainAI_staging.employee_table\"\n",
    "query_prod_count = \"SELECT COUNT(*) AS total_rows FROM retainAI_prod.employee_table\"\n",
    "\n",
    "staging_count = wr.athena.read_sql_query(query_staging_count, database=\"retainAI_staging\")\n",
    "prod_count = wr.athena.read_sql_query(query_prod_count, database=\"retainAI_prod\")\n",
    "\n",
    "print(\"✅ Total Rows in Staging:\", staging_count.iloc[0]['total_rows'])\n",
    "print(\"✅ Total Rows in Production:\", prod_count.iloc[0]['total_rows'])\n"
   ]
  },
  {
   "cell_type": "code",
   "execution_count": 74,
   "id": "e5bad9d0-6e4e-4ef3-845f-c6c22ce83bf5",
   "metadata": {
    "tags": []
   },
   "outputs": [
    {
     "data": {
      "image/png": "[encoded data removed]",
      "text/plain": [
       "<Figure size 600x400 with 1 Axes>"
      ]
     },
     "metadata": {},
     "output_type": "display_data"
    }
   ],
   "source": [
    "import matplotlib.pyplot as plt\n",
    "\n",
    "# Create a bar chart for attrition trends\n",
    "plt.figure(figsize=(6,4))\n",
    "plt.bar(attrition_df[\"attrition\"], attrition_df[\"count\"], color=[\"green\", \"red\"])\n",
    "plt.xlabel(\"Attrition Status\")\n",
    "plt.ylabel(\"Number of Employees\")\n",
    "plt.title(\"Employee Attrition Trends\")\n",
    "plt.xticks(rotation=0)\n",
    "plt.grid(axis=\"y\", linestyle=\"--\", alpha=0.7)\n",
    "plt.show()\n"
   ]
  },
  {
   "cell_type": "code",
   "execution_count": 77,
   "id": "f8b7b5c3-7156-4621-b0e0-dcc9274311ec",
   "metadata": {},
   "outputs": [
    {
     "data": {
      "application/javascript": [
       "\n",
       "try {\n",
       "    Jupyter.notebook.save_checkpoint();\n",
       "    Jupyter.notebook.session.delete();\n",
       "}\n",
       "catch(err) {\n",
       "    // NoOp\n",
       "}\n"
      ],
      "text/plain": [
       "<IPython.core.display.Javascript object>"
      ]
     },
     "metadata": {},
     "output_type": "display_data"
    }
   ],
   "source": [
    "%%javascript\n",
    "\n",
    "try {\n",
    "    Jupyter.notebook.save_checkpoint();\n",
    "    Jupyter.notebook.session.delete();\n",
    "}\n",
    "catch(err) {\n",
    "    // NoOp\n",
    "}"
   ]
  },
  {
   "cell_type": "code",
   "execution_count": 78,
   "id": "c473d7dd-cd98-43bc-b42d-eff28385738a",
   "metadata": {
    "tags": []
   },
   "outputs": [
    {
     "data": {
      "text/html": [
       "\n",
       "<p><b>Shutting down your kernel for this notebook to release resources.</b></p>\n",
       "<button class=\"sm-command-button\" data-commandlinker-command=\"kernelmenu:shutdown\" style=\"display:none;\">Shutdown Kernel</button>\n",
       "        \n",
       "<script>\n",
       "try {\n",
       "    els = document.getElementsByClassName(\"sm-command-button\");\n",
       "    els[0].click();\n",
       "}\n",
       "catch(err) {\n",
       "    // NoOp\n",
       "}    \n",
       "</script>\n"
      ],
      "text/plain": [
       "<IPython.core.display.HTML object>"
      ]
     },
     "metadata": {},
     "output_type": "display_data"
    }
   ],
   "source": [
    "%%html\n",
    "\n",
    "<p><b>Shutting down your kernel for this notebook to release resources.</b></p>\n",
    "<button class=\"sm-command-button\" data-commandlinker-command=\"kernelmenu:shutdown\" style=\"display:none;\">Shutdown Kernel</button>\n",
    "        \n",
    "<script>\n",
    "try {\n",
    "    els = document.getElementsByClassName(\"sm-command-button\");\n",
    "    els[0].click();\n",
    "}\n",
    "catch(err) {\n",
    "    // NoOp\n",
    "}    \n",
    "</script>"
   ]
  },
  {
   "cell_type": "code",
   "execution_count": null,
   "id": "eba4f343-e9fd-4244-9766-d78b6dddacca",
   "metadata": {},
   "outputs": [],
   "source": []
  }
 ],
 "metadata": {
  "availableInstances": [
   {
    "_defaultOrder": 0,
    "_isFastLaunch": true,
    "category": "General purpose",
    "gpuNum": 0,
    "hideHardwareSpecs": false,
    "memoryGiB": 4,
    "name": "ml.t3.medium",
    "vcpuNum": 2
   },
   {
    "_defaultOrder": 1,
    "_isFastLaunch": false,
    "category": "General purpose",
    "gpuNum": 0,
    "hideHardwareSpecs": false,
    "memoryGiB": 8,
    "name": "ml.t3.large",
    "vcpuNum": 2
   },
   {
    "_defaultOrder": 2,
    "_isFastLaunch": false,
    "category": "General purpose",
    "gpuNum": 0,
    "hideHardwareSpecs": false,
    "memoryGiB": 16,
    "name": "ml.t3.xlarge",
    "vcpuNum": 4
   },
   {
    "_defaultOrder": 3,
    "_isFastLaunch": false,
    "category": "General purpose",
    "gpuNum": 0,
    "hideHardwareSpecs": false,
    "memoryGiB": 32,
    "name": "ml.t3.2xlarge",
    "vcpuNum": 8
   },
   {
    "_defaultOrder": 4,
    "_isFastLaunch": true,
    "category": "General purpose",
    "gpuNum": 0,
    "hideHardwareSpecs": false,
    "memoryGiB": 8,
    "name": "ml.m5.large",
    "vcpuNum": 2
   },
   {
    "_defaultOrder": 5,
    "_isFastLaunch": false,
    "category": "General purpose",
    "gpuNum": 0,
    "hideHardwareSpecs": false,
    "memoryGiB": 16,
    "name": "ml.m5.xlarge",
    "vcpuNum": 4
   },
   {
    "_defaultOrder": 6,
    "_isFastLaunch": false,
    "category": "General purpose",
    "gpuNum": 0,
    "hideHardwareSpecs": false,
    "memoryGiB": 32,
    "name": "ml.m5.2xlarge",
    "vcpuNum": 8
   },
   {
    "_defaultOrder": 7,
    "_isFastLaunch": false,
    "category": "General purpose",
    "gpuNum": 0,
    "hideHardwareSpecs": false,
    "memoryGiB": 64,
    "name": "ml.m5.4xlarge",
    "vcpuNum": 16
   },
   {
    "_defaultOrder": 8,
    "_isFastLaunch": false,
    "category": "General purpose",
    "gpuNum": 0,
    "hideHardwareSpecs": false,
    "memoryGiB": 128,
    "name": "ml.m5.8xlarge",
    "vcpuNum": 32
   },
   {
    "_defaultOrder": 9,
    "_isFastLaunch": false,
    "category": "General purpose",
    "gpuNum": 0,
    "hideHardwareSpecs": false,
    "memoryGiB": 192,
    "name": "ml.m5.12xlarge",
    "vcpuNum": 48
   },
   {
    "_defaultOrder": 10,
    "_isFastLaunch": false,
    "category": "General purpose",
    "gpuNum": 0,
    "hideHardwareSpecs": false,
    "memoryGiB": 256,
    "name": "ml.m5.16xlarge",
    "vcpuNum": 64
   },
   {
    "_defaultOrder": 11,
    "_isFastLaunch": false,
    "category": "General purpose",
    "gpuNum": 0,
    "hideHardwareSpecs": false,
    "memoryGiB": 384,
    "name": "ml.m5.24xlarge",
    "vcpuNum": 96
   },
   {
    "_defaultOrder": 12,
    "_isFastLaunch": false,
    "category": "General purpose",
    "gpuNum": 0,
    "hideHardwareSpecs": false,
    "memoryGiB": 8,
    "name": "ml.m5d.large",
    "vcpuNum": 2
   },
   {
    "_defaultOrder": 13,
    "_isFastLaunch": false,
    "category": "General purpose",
    "gpuNum": 0,
    "hideHardwareSpecs": false,
    "memoryGiB": 16,
    "name": "ml.m5d.xlarge",
    "vcpuNum": 4
   },
   {
    "_defaultOrder": 14,
    "_isFastLaunch": false,
    "category": "General purpose",
    "gpuNum": 0,
    "hideHardwareSpecs": false,
    "memoryGiB": 32,
    "name": "ml.m5d.2xlarge",
    "vcpuNum": 8
   },
   {
    "_defaultOrder": 15,
    "_isFastLaunch": false,
    "category": "General purpose",
    "gpuNum": 0,
    "hideHardwareSpecs": false,
    "memoryGiB": 64,
    "name": "ml.m5d.4xlarge",
    "vcpuNum": 16
   },
   {
    "_defaultOrder": 16,
    "_isFastLaunch": false,
    "category": "General purpose",
    "gpuNum": 0,
    "hideHardwareSpecs": false,
    "memoryGiB": 128,
    "name": "ml.m5d.8xlarge",
    "vcpuNum": 32
   },
   {
    "_defaultOrder": 17,
    "_isFastLaunch": false,
    "category": "General purpose",
    "gpuNum": 0,
    "hideHardwareSpecs": false,
    "memoryGiB": 192,
    "name": "ml.m5d.12xlarge",
    "vcpuNum": 48
   },
   {
    "_defaultOrder": 18,
    "_isFastLaunch": false,
    "category": "General purpose",
    "gpuNum": 0,
    "hideHardwareSpecs": false,
    "memoryGiB": 256,
    "name": "ml.m5d.16xlarge",
    "vcpuNum": 64
   },
   {
    "_defaultOrder": 19,
    "_isFastLaunch": false,
    "category": "General purpose",
    "gpuNum": 0,
    "hideHardwareSpecs": false,
    "memoryGiB": 384,
    "name": "ml.m5d.24xlarge",
    "vcpuNum": 96
   },
   {
    "_defaultOrder": 20,
    "_isFastLaunch": false,
    "category": "General purpose",
    "gpuNum": 0,
    "hideHardwareSpecs": true,
    "memoryGiB": 0,
    "name": "ml.geospatial.interactive",
    "supportedImageNames": [
     "sagemaker-geospatial-v1-0"
    ],
    "vcpuNum": 0
   },
   {
    "_defaultOrder": 21,
    "_isFastLaunch": true,
    "category": "Compute optimized",
    "gpuNum": 0,
    "hideHardwareSpecs": false,
    "memoryGiB": 4,
    "name": "ml.c5.large",
    "vcpuNum": 2
   },
   {
    "_defaultOrder": 22,
    "_isFastLaunch": false,
    "category": "Compute optimized",
    "gpuNum": 0,
    "hideHardwareSpecs": false,
    "memoryGiB": 8,
    "name": "ml.c5.xlarge",
    "vcpuNum": 4
   },
   {
    "_defaultOrder": 23,
    "_isFastLaunch": false,
    "category": "Compute optimized",
    "gpuNum": 0,
    "hideHardwareSpecs": false,
    "memoryGiB": 16,
    "name": "ml.c5.2xlarge",
    "vcpuNum": 8
   },
   {
    "_defaultOrder": 24,
    "_isFastLaunch": false,
    "category": "Compute optimized",
    "gpuNum": 0,
    "hideHardwareSpecs": false,
    "memoryGiB": 32,
    "name": "ml.c5.4xlarge",
    "vcpuNum": 16
   },
   {
    "_defaultOrder": 25,
    "_isFastLaunch": false,
    "category": "Compute optimized",
    "gpuNum": 0,
    "hideHardwareSpecs": false,
    "memoryGiB": 72,
    "name": "ml.c5.9xlarge",
    "vcpuNum": 36
   },
   {
    "_defaultOrder": 26,
    "_isFastLaunch": false,
    "category": "Compute optimized",
    "gpuNum": 0,
    "hideHardwareSpecs": false,
    "memoryGiB": 96,
    "name": "ml.c5.12xlarge",
    "vcpuNum": 48
   },
   {
    "_defaultOrder": 27,
    "_isFastLaunch": false,
    "category": "Compute optimized",
    "gpuNum": 0,
    "hideHardwareSpecs": false,
    "memoryGiB": 144,
    "name": "ml.c5.18xlarge",
    "vcpuNum": 72
   },
   {
    "_defaultOrder": 28,
    "_isFastLaunch": false,
    "category": "Compute optimized",
    "gpuNum": 0,
    "hideHardwareSpecs": false,
    "memoryGiB": 192,
    "name": "ml.c5.24xlarge",
    "vcpuNum": 96
   },
   {
    "_defaultOrder": 29,
    "_isFastLaunch": true,
    "category": "Accelerated computing",
    "gpuNum": 1,
    "hideHardwareSpecs": false,
    "memoryGiB": 16,
    "name": "ml.g4dn.xlarge",
    "vcpuNum": 4
   },
   {
    "_defaultOrder": 30,
    "_isFastLaunch": false,
    "category": "Accelerated computing",
    "gpuNum": 1,
    "hideHardwareSpecs": false,
    "memoryGiB": 32,
    "name": "ml.g4dn.2xlarge",
    "vcpuNum": 8
   },
   {
    "_defaultOrder": 31,
    "_isFastLaunch": false,
    "category": "Accelerated computing",
    "gpuNum": 1,
    "hideHardwareSpecs": false,
    "memoryGiB": 64,
    "name": "ml.g4dn.4xlarge",
    "vcpuNum": 16
   },
   {
    "_defaultOrder": 32,
    "_isFastLaunch": false,
    "category": "Accelerated computing",
    "gpuNum": 1,
    "hideHardwareSpecs": false,
    "memoryGiB": 128,
    "name": "ml.g4dn.8xlarge",
    "vcpuNum": 32
   },
   {
    "_defaultOrder": 33,
    "_isFastLaunch": false,
    "category": "Accelerated computing",
    "gpuNum": 4,
    "hideHardwareSpecs": false,
    "memoryGiB": 192,
    "name": "ml.g4dn.12xlarge",
    "vcpuNum": 48
   },
   {
    "_defaultOrder": 34,
    "_isFastLaunch": false,
    "category": "Accelerated computing",
    "gpuNum": 1,
    "hideHardwareSpecs": false,
    "memoryGiB": 256,
    "name": "ml.g4dn.16xlarge",
    "vcpuNum": 64
   },
   {
    "_defaultOrder": 35,
    "_isFastLaunch": false,
    "category": "Accelerated computing",
    "gpuNum": 1,
    "hideHardwareSpecs": false,
    "memoryGiB": 61,
    "name": "ml.p3.2xlarge",
    "vcpuNum": 8
   },
   {
    "_defaultOrder": 36,
    "_isFastLaunch": false,
    "category": "Accelerated computing",
    "gpuNum": 4,
    "hideHardwareSpecs": false,
    "memoryGiB": 244,
    "name": "ml.p3.8xlarge",
    "vcpuNum": 32
   },
   {
    "_defaultOrder": 37,
    "_isFastLaunch": false,
    "category": "Accelerated computing",
    "gpuNum": 8,
    "hideHardwareSpecs": false,
    "memoryGiB": 488,
    "name": "ml.p3.16xlarge",
    "vcpuNum": 64
   },
   {
    "_defaultOrder": 38,
    "_isFastLaunch": false,
    "category": "Accelerated computing",
    "gpuNum": 8,
    "hideHardwareSpecs": false,
    "memoryGiB": 768,
    "name": "ml.p3dn.24xlarge",
    "vcpuNum": 96
   },
   {
    "_defaultOrder": 39,
    "_isFastLaunch": false,
    "category": "Memory Optimized",
    "gpuNum": 0,
    "hideHardwareSpecs": false,
    "memoryGiB": 16,
    "name": "ml.r5.large",
    "vcpuNum": 2
   },
   {
    "_defaultOrder": 40,
    "_isFastLaunch": false,
    "category": "Memory Optimized",
    "gpuNum": 0,
    "hideHardwareSpecs": false,
    "memoryGiB": 32,
    "name": "ml.r5.xlarge",
    "vcpuNum": 4
   },
   {
    "_defaultOrder": 41,
    "_isFastLaunch": false,
    "category": "Memory Optimized",
    "gpuNum": 0,
    "hideHardwareSpecs": false,
    "memoryGiB": 64,
    "name": "ml.r5.2xlarge",
    "vcpuNum": 8
   },
   {
    "_defaultOrder": 42,
    "_isFastLaunch": false,
    "category": "Memory Optimized",
    "gpuNum": 0,
    "hideHardwareSpecs": false,
    "memoryGiB": 128,
    "name": "ml.r5.4xlarge",
    "vcpuNum": 16
   },
   {
    "_defaultOrder": 43,
    "_isFastLaunch": false,
    "category": "Memory Optimized",
    "gpuNum": 0,
    "hideHardwareSpecs": false,
    "memoryGiB": 256,
    "name": "ml.r5.8xlarge",
    "vcpuNum": 32
   },
   {
    "_defaultOrder": 44,
    "_isFastLaunch": false,
    "category": "Memory Optimized",
    "gpuNum": 0,
    "hideHardwareSpecs": false,
    "memoryGiB": 384,
    "name": "ml.r5.12xlarge",
    "vcpuNum": 48
   },
   {
    "_defaultOrder": 45,
    "_isFastLaunch": false,
    "category": "Memory Optimized",
    "gpuNum": 0,
    "hideHardwareSpecs": false,
    "memoryGiB": 512,
    "name": "ml.r5.16xlarge",
    "vcpuNum": 64
   },
   {
    "_defaultOrder": 46,
    "_isFastLaunch": false,
    "category": "Memory Optimized",
    "gpuNum": 0,
    "hideHardwareSpecs": false,
    "memoryGiB": 768,
    "name": "ml.r5.24xlarge",
    "vcpuNum": 96
   },
   {
    "_defaultOrder": 47,
    "_isFastLaunch": false,
    "category": "Accelerated computing",
    "gpuNum": 1,
    "hideHardwareSpecs": false,
    "memoryGiB": 16,
    "name": "ml.g5.xlarge",
    "vcpuNum": 4
   },
   {
    "_defaultOrder": 48,
    "_isFastLaunch": false,
    "category": "Accelerated computing",
    "gpuNum": 1,
    "hideHardwareSpecs": false,
    "memoryGiB": 32,
    "name": "ml.g5.2xlarge",
    "vcpuNum": 8
   },
   {
    "_defaultOrder": 49,
    "_isFastLaunch": false,
    "category": "Accelerated computing",
    "gpuNum": 1,
    "hideHardwareSpecs": false,
    "memoryGiB": 64,
    "name": "ml.g5.4xlarge",
    "vcpuNum": 16
   },
   {
    "_defaultOrder": 50,
    "_isFastLaunch": false,
    "category": "Accelerated computing",
    "gpuNum": 1,
    "hideHardwareSpecs": false,
    "memoryGiB": 128,
    "name": "ml.g5.8xlarge",
    "vcpuNum": 32
   },
   {
    "_defaultOrder": 51,
    "_isFastLaunch": false,
    "category": "Accelerated computing",
    "gpuNum": 1,
    "hideHardwareSpecs": false,
    "memoryGiB": 256,
    "name": "ml.g5.16xlarge",
    "vcpuNum": 64
   },
   {
    "_defaultOrder": 52,
    "_isFastLaunch": false,
    "category": "Accelerated computing",
    "gpuNum": 4,
    "hideHardwareSpecs": false,
    "memoryGiB": 192,
    "name": "ml.g5.12xlarge",
    "vcpuNum": 48
   },
   {
    "_defaultOrder": 53,
    "_isFastLaunch": false,
    "category": "Accelerated computing",
    "gpuNum": 4,
    "hideHardwareSpecs": false,
    "memoryGiB": 384,
    "name": "ml.g5.24xlarge",
    "vcpuNum": 96
   },
   {
    "_defaultOrder": 54,
    "_isFastLaunch": false,
    "category": "Accelerated computing",
    "gpuNum": 8,
    "hideHardwareSpecs": false,
    "memoryGiB": 768,
    "name": "ml.g5.48xlarge",
    "vcpuNum": 192
   },
   {
    "_defaultOrder": 55,
    "_isFastLaunch": false,
    "category": "Accelerated computing",
    "gpuNum": 8,
    "hideHardwareSpecs": false,
    "memoryGiB": 1152,
    "name": "ml.p4d.24xlarge",
    "vcpuNum": 96
   },
   {
    "_defaultOrder": 56,
    "_isFastLaunch": false,
    "category": "Accelerated computing",
    "gpuNum": 8,
    "hideHardwareSpecs": false,
    "memoryGiB": 1152,
    "name": "ml.p4de.24xlarge",
    "vcpuNum": 96
   },
   {
    "_defaultOrder": 57,
    "_isFastLaunch": false,
    "category": "Accelerated computing",
    "gpuNum": 0,
    "hideHardwareSpecs": false,
    "memoryGiB": 32,
    "name": "ml.trn1.2xlarge",
    "vcpuNum": 8
   },
   {
    "_defaultOrder": 58,
    "_isFastLaunch": false,
    "category": "Accelerated computing",
    "gpuNum": 0,
    "hideHardwareSpecs": false,
    "memoryGiB": 512,
    "name": "ml.trn1.32xlarge",
    "vcpuNum": 128
   },
   {
    "_defaultOrder": 59,
    "_isFastLaunch": false,
    "category": "Accelerated computing",
    "gpuNum": 0,
    "hideHardwareSpecs": false,
    "memoryGiB": 512,
    "name": "ml.trn1n.32xlarge",
    "vcpuNum": 128
   }
  ],
  "instance_type": "ml.t3.medium",
  "kernelspec": {
   "display_name": "Python 3 (Data Science 4.0)",
   "language": "python",
   "name": "python3__SAGEMAKER_INTERNAL__arn:aws:sagemaker:us-east-1:081325390199:image/sagemaker-data-science-311-v1"
  },
  "language_info": {
   "codemirror_mode": {
    "name": "ipython",
    "version": 3
   },
   "file_extension": ".py",
   "mimetype": "text/x-python",
   "name": "python",
   "nbconvert_exporter": "python",
   "pygments_lexer": "ipython3",
   "version": "3.11.9"
  }
 },
 "nbformat": 4,
 "nbformat_minor": 5
}
