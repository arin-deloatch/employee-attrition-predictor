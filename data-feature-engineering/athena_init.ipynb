{
 "cells": [
  {
   "cell_type": "markdown",
   "id": "410b5666-bba7-437a-89bb-7e2735e9174e",
   "metadata": {},
   "source": [
    "## Athena Data Ingestion\n",
    "\n",
    "In this section, we query and retrieve data from Amazon Athena for further processing. Athena allows us to perform SQL-based queries on structured data stored in Amazon S3, enabling efficient data exploration and analysis without the need for complex ETL pipelines.  "
   ]
  },
  {
   "cell_type": "code",
   "execution_count": 1,
   "id": "5fdde00e-a012-461d-8ab6-e511ea45ce41",
   "metadata": {
    "tags": []
   },
   "outputs": [],
   "source": [
    "!pip install pyathena --quiet"
   ]
  },
  {
   "cell_type": "code",
   "execution_count": 2,
   "id": "96c3ac2b-d030-4dbe-b79b-570ce37d1fe8",
   "metadata": {
    "tags": []
   },
   "outputs": [
    {
     "name": "stderr",
     "output_type": "stream",
     "text": [
      "/home/ec2-user/anaconda3/envs/python3/lib/python3.10/site-packages/pydantic/_internal/_fields.py:192: UserWarning: Field name \"json\" in \"MonitoringDatasetFormat\" shadows an attribute in parent \"Base\"\n",
      "  warnings.warn(\n"
     ]
    },
    {
     "data": {
      "text/html": [
       "<pre style=\"white-space:pre;overflow-x:auto;line-height:normal;font-family:Menlo,'DejaVu Sans Mono',consolas,'Courier New',monospace\"><span style=\"color: #7fbfbf; text-decoration-color: #7fbfbf\">[02/23/25 03:46:45] </span><span style=\"color: #0069ff; text-decoration-color: #0069ff; font-weight: bold\">INFO    </span> Found credentials from IAM Role:                                   <a href=\"file:///home/ec2-user/anaconda3/envs/python3/lib/python3.10/site-packages/botocore/credentials.py\" target=\"_blank\"><span style=\"color: #7f7f7f; text-decoration-color: #7f7f7f\">credentials.py</span></a><span style=\"color: #7f7f7f; text-decoration-color: #7f7f7f\">:</span><a href=\"file:///home/ec2-user/anaconda3/envs/python3/lib/python3.10/site-packages/botocore/credentials.py#1075\" target=\"_blank\"><span style=\"color: #7f7f7f; text-decoration-color: #7f7f7f\">1075</span></a>\n",
       "<span style=\"color: #7fbfbf; text-decoration-color: #7fbfbf\">                    </span>         BaseNotebookInstanceEc2InstanceRole                                <span style=\"color: #7f7f7f; text-decoration-color: #7f7f7f\">                   </span>\n",
       "</pre>\n"
      ],
      "text/plain": [
       "\u001b[2;36m[02/23/25 03:46:45]\u001b[0m\u001b[2;36m \u001b[0m\u001b[1;38;2;0;105;255mINFO    \u001b[0m Found credentials from IAM Role:                                   \u001b]8;id=422487;file:///home/ec2-user/anaconda3/envs/python3/lib/python3.10/site-packages/botocore/credentials.py\u001b\\\u001b[2mcredentials.py\u001b[0m\u001b]8;;\u001b\\\u001b[2m:\u001b[0m\u001b]8;id=807122;file:///home/ec2-user/anaconda3/envs/python3/lib/python3.10/site-packages/botocore/credentials.py#1075\u001b\\\u001b[2m1075\u001b[0m\u001b]8;;\u001b\\\n",
       "\u001b[2;36m                    \u001b[0m         BaseNotebookInstanceEc2InstanceRole                                \u001b[2m                   \u001b[0m\n"
      ]
     },
     "metadata": {},
     "output_type": "display_data"
    },
    {
     "name": "stdout",
     "output_type": "stream",
     "text": [
      "sagemaker.config INFO - Not applying SDK defaults from location: /etc/xdg/sagemaker/config.yaml\n",
      "sagemaker.config INFO - Not applying SDK defaults from location: /home/ec2-user/.config/sagemaker/config.yaml\n"
     ]
    }
   ],
   "source": [
    "# AWS Imports\n",
    "import boto3\n",
    "from botocore.client import ClientError\n",
    "import sagemaker\n",
    "from pyathena import connect\n",
    "import awswrangler as wr\n",
    "\n",
    "# Data Transformation Imports\n",
    "import pandas as pd\n",
    "from io import StringIO\n",
    "\n",
    "# Misc Imports\n",
    "from IPython.display import display, HTML"
   ]
  },
  {
   "cell_type": "code",
   "execution_count": 3,
   "id": "1d56d2f4-951e-45ed-a492-938ff13d3085",
   "metadata": {
    "tags": []
   },
   "outputs": [
    {
     "data": {
      "text/html": [
       "<pre style=\"white-space:pre;overflow-x:auto;line-height:normal;font-family:Menlo,'DejaVu Sans Mono',consolas,'Courier New',monospace\"><span style=\"color: #7fbfbf; text-decoration-color: #7fbfbf\">[02/23/25 03:46:46] </span><span style=\"color: #0069ff; text-decoration-color: #0069ff; font-weight: bold\">INFO    </span> Found credentials from IAM Role:                                   <a href=\"file:///home/ec2-user/anaconda3/envs/python3/lib/python3.10/site-packages/botocore/credentials.py\" target=\"_blank\"><span style=\"color: #7f7f7f; text-decoration-color: #7f7f7f\">credentials.py</span></a><span style=\"color: #7f7f7f; text-decoration-color: #7f7f7f\">:</span><a href=\"file:///home/ec2-user/anaconda3/envs/python3/lib/python3.10/site-packages/botocore/credentials.py#1075\" target=\"_blank\"><span style=\"color: #7f7f7f; text-decoration-color: #7f7f7f\">1075</span></a>\n",
       "<span style=\"color: #7fbfbf; text-decoration-color: #7fbfbf\">                    </span>         BaseNotebookInstanceEc2InstanceRole                                <span style=\"color: #7f7f7f; text-decoration-color: #7f7f7f\">                   </span>\n",
       "</pre>\n"
      ],
      "text/plain": [
       "\u001b[2;36m[02/23/25 03:46:46]\u001b[0m\u001b[2;36m \u001b[0m\u001b[1;38;2;0;105;255mINFO    \u001b[0m Found credentials from IAM Role:                                   \u001b]8;id=214795;file:///home/ec2-user/anaconda3/envs/python3/lib/python3.10/site-packages/botocore/credentials.py\u001b\\\u001b[2mcredentials.py\u001b[0m\u001b]8;;\u001b\\\u001b[2m:\u001b[0m\u001b]8;id=98865;file:///home/ec2-user/anaconda3/envs/python3/lib/python3.10/site-packages/botocore/credentials.py#1075\u001b\\\u001b[2m1075\u001b[0m\u001b]8;;\u001b\\\n",
       "\u001b[2;36m                    \u001b[0m         BaseNotebookInstanceEc2InstanceRole                                \u001b[2m                   \u001b[0m\n"
      ]
     },
     "metadata": {},
     "output_type": "display_data"
    },
    {
     "data": {
      "text/html": [
       "<pre style=\"white-space:pre;overflow-x:auto;line-height:normal;font-family:Menlo,'DejaVu Sans Mono',consolas,'Courier New',monospace\"><span style=\"color: #7fbfbf; text-decoration-color: #7fbfbf\">[02/23/25 03:46:47] </span><span style=\"color: #0069ff; text-decoration-color: #0069ff; font-weight: bold\">INFO    </span> Found credentials from IAM Role:                                   <a href=\"file:///home/ec2-user/anaconda3/envs/python3/lib/python3.10/site-packages/botocore/credentials.py\" target=\"_blank\"><span style=\"color: #7f7f7f; text-decoration-color: #7f7f7f\">credentials.py</span></a><span style=\"color: #7f7f7f; text-decoration-color: #7f7f7f\">:</span><a href=\"file:///home/ec2-user/anaconda3/envs/python3/lib/python3.10/site-packages/botocore/credentials.py#1075\" target=\"_blank\"><span style=\"color: #7f7f7f; text-decoration-color: #7f7f7f\">1075</span></a>\n",
       "<span style=\"color: #7fbfbf; text-decoration-color: #7fbfbf\">                    </span>         BaseNotebookInstanceEc2InstanceRole                                <span style=\"color: #7f7f7f; text-decoration-color: #7f7f7f\">                   </span>\n",
       "</pre>\n"
      ],
      "text/plain": [
       "\u001b[2;36m[02/23/25 03:46:47]\u001b[0m\u001b[2;36m \u001b[0m\u001b[1;38;2;0;105;255mINFO    \u001b[0m Found credentials from IAM Role:                                   \u001b]8;id=428991;file:///home/ec2-user/anaconda3/envs/python3/lib/python3.10/site-packages/botocore/credentials.py\u001b\\\u001b[2mcredentials.py\u001b[0m\u001b]8;;\u001b\\\u001b[2m:\u001b[0m\u001b]8;id=955248;file:///home/ec2-user/anaconda3/envs/python3/lib/python3.10/site-packages/botocore/credentials.py#1075\u001b\\\u001b[2m1075\u001b[0m\u001b]8;;\u001b\\\n",
       "\u001b[2;36m                    \u001b[0m         BaseNotebookInstanceEc2InstanceRole                                \u001b[2m                   \u001b[0m\n"
      ]
     },
     "metadata": {},
     "output_type": "display_data"
    },
    {
     "data": {
      "text/html": [
       "<pre style=\"white-space:pre;overflow-x:auto;line-height:normal;font-family:Menlo,'DejaVu Sans Mono',consolas,'Courier New',monospace\"><span style=\"color: #7fbfbf; text-decoration-color: #7fbfbf\">                    </span><span style=\"color: #0069ff; text-decoration-color: #0069ff; font-weight: bold\">INFO    </span> Found credentials from IAM Role:                                   <a href=\"file:///home/ec2-user/anaconda3/envs/python3/lib/python3.10/site-packages/botocore/credentials.py\" target=\"_blank\"><span style=\"color: #7f7f7f; text-decoration-color: #7f7f7f\">credentials.py</span></a><span style=\"color: #7f7f7f; text-decoration-color: #7f7f7f\">:</span><a href=\"file:///home/ec2-user/anaconda3/envs/python3/lib/python3.10/site-packages/botocore/credentials.py#1075\" target=\"_blank\"><span style=\"color: #7f7f7f; text-decoration-color: #7f7f7f\">1075</span></a>\n",
       "<span style=\"color: #7fbfbf; text-decoration-color: #7fbfbf\">                    </span>         BaseNotebookInstanceEc2InstanceRole                                <span style=\"color: #7f7f7f; text-decoration-color: #7f7f7f\">                   </span>\n",
       "</pre>\n"
      ],
      "text/plain": [
       "\u001b[2;36m                   \u001b[0m\u001b[2;36m \u001b[0m\u001b[1;38;2;0;105;255mINFO    \u001b[0m Found credentials from IAM Role:                                   \u001b]8;id=24227;file:///home/ec2-user/anaconda3/envs/python3/lib/python3.10/site-packages/botocore/credentials.py\u001b\\\u001b[2mcredentials.py\u001b[0m\u001b]8;;\u001b\\\u001b[2m:\u001b[0m\u001b]8;id=621800;file:///home/ec2-user/anaconda3/envs/python3/lib/python3.10/site-packages/botocore/credentials.py#1075\u001b\\\u001b[2m1075\u001b[0m\u001b]8;;\u001b\\\n",
       "\u001b[2;36m                    \u001b[0m         BaseNotebookInstanceEc2InstanceRole                                \u001b[2m                   \u001b[0m\n"
      ]
     },
     "metadata": {},
     "output_type": "display_data"
    },
    {
     "data": {
      "text/html": [
       "<pre style=\"white-space:pre;overflow-x:auto;line-height:normal;font-family:Menlo,'DejaVu Sans Mono',consolas,'Courier New',monospace\"><span style=\"color: #7fbfbf; text-decoration-color: #7fbfbf\">                    </span><span style=\"color: #0069ff; text-decoration-color: #0069ff; font-weight: bold\">INFO    </span> Found credentials from IAM Role:                                   <a href=\"file:///home/ec2-user/anaconda3/envs/python3/lib/python3.10/site-packages/botocore/credentials.py\" target=\"_blank\"><span style=\"color: #7f7f7f; text-decoration-color: #7f7f7f\">credentials.py</span></a><span style=\"color: #7f7f7f; text-decoration-color: #7f7f7f\">:</span><a href=\"file:///home/ec2-user/anaconda3/envs/python3/lib/python3.10/site-packages/botocore/credentials.py#1075\" target=\"_blank\"><span style=\"color: #7f7f7f; text-decoration-color: #7f7f7f\">1075</span></a>\n",
       "<span style=\"color: #7fbfbf; text-decoration-color: #7fbfbf\">                    </span>         BaseNotebookInstanceEc2InstanceRole                                <span style=\"color: #7f7f7f; text-decoration-color: #7f7f7f\">                   </span>\n",
       "</pre>\n"
      ],
      "text/plain": [
       "\u001b[2;36m                   \u001b[0m\u001b[2;36m \u001b[0m\u001b[1;38;2;0;105;255mINFO    \u001b[0m Found credentials from IAM Role:                                   \u001b]8;id=631305;file:///home/ec2-user/anaconda3/envs/python3/lib/python3.10/site-packages/botocore/credentials.py\u001b\\\u001b[2mcredentials.py\u001b[0m\u001b]8;;\u001b\\\u001b[2m:\u001b[0m\u001b]8;id=181011;file:///home/ec2-user/anaconda3/envs/python3/lib/python3.10/site-packages/botocore/credentials.py#1075\u001b\\\u001b[2m1075\u001b[0m\u001b]8;;\u001b\\\n",
       "\u001b[2;36m                    \u001b[0m         BaseNotebookInstanceEc2InstanceRole                                \u001b[2m                   \u001b[0m\n"
      ]
     },
     "metadata": {},
     "output_type": "display_data"
    }
   ],
   "source": [
    "# Create a SageMaker session object, which is used to manage interactions with SageMaker resources.\n",
    "sess = sagemaker.Session()\n",
    "\n",
    "# Retrieve the default Amazon S3 bucket associated with the SageMaker session.\n",
    "bucket = sess.default_bucket()\n",
    "\n",
    "# Get the IAM role associated with the current SageMaker notebook or environment.\n",
    "role = sagemaker.get_execution_role()\n",
    "\n",
    "# Get the AWS region name for the current session.\n",
    "region = boto3.Session().region_name\n",
    "\n",
    "# Retrieve the AWS account ID of the caller using the Security Token Service (STS) client.\n",
    "account_id = boto3.client(\"sts\").get_caller_identity().get(\"Account\")\n",
    "\n",
    "# Create a Boto3 client for the SageMaker service, specifying the AWS region.\n",
    "sm = boto3.Session().client(service_name=\"sagemaker\", region_name=region)\n",
    "\n",
    "# Create an S3 client\n",
    "s3 = boto3.client('s3')\n",
    "\n",
    "# create athena client \n",
    "athena_client = boto3.client('athena', region_name=region)"
   ]
  },
  {
   "cell_type": "markdown",
   "id": "eee844f8-9796-4b77-ac82-aceefb5f7c6e",
   "metadata": {},
   "source": [
    "## Sagemaker Details and Variable Init"
   ]
  },
  {
   "cell_type": "code",
   "execution_count": 4,
   "id": "c3a56901-1715-48a9-bd9a-56eac8099e4e",
   "metadata": {
    "tags": []
   },
   "outputs": [
    {
     "name": "stdout",
     "output_type": "stream",
     "text": [
      "File location with all the data: s3://sagemaker-us-east-1-242201273368/aai-540-group-3-final-project/data/db_source/remaining_data.csv\n",
      "Data Path for database creation: s3://sagemaker-us-east-1-242201273368/aai-540-group-3-final-project/data/db_source/\n",
      "Production and Staging Database Directories: s3://sagemaker-us-east-1-242201273368/athena/prod, s3://sagemaker-us-east-1-242201273368/athena/staging\n",
      "Database Name, Training Table and Testing Table: retainAI, employee_table\n"
     ]
    }
   ],
   "source": [
    "# Initializing variables for reproducibility\n",
    "FILE_NAME=\"remaining_data.csv\"\n",
    "DATA_SOURCE=\"db_source\"\n",
    "DATA_FOLDER =f\"s3://{bucket}/aai-540-group-3-final-project/data/\"\n",
    "FILE_LOCATION=f\"{DATA_FOLDER}{DATA_SOURCE}/{FILE_NAME}\"\n",
    "DATA_PATH = f\"{DATA_FOLDER}{DATA_SOURCE}/\"\n",
    "DATABASE = \"retainAI\"\n",
    "PROD_DIR = f\"s3://{bucket}/athena/prod\"\n",
    "STAGE_DIR = f\"s3://{bucket}/athena/staging\"\n",
    "EMPLOYEE_TABLE = \"employee_table\"\n",
    "\n",
    "# Making sure all variables are correct\n",
    "print(f\"File location with all the data: {FILE_LOCATION}\")\n",
    "print(f\"Data Path for database creation: {DATA_PATH}\")\n",
    "print(f\"Production and Staging Database Directories: {PROD_DIR}, {STAGE_DIR}\")\n",
    "print(f\"Database Name, Training Table and Testing Table: {DATABASE}, {EMPLOYEE_TABLE}\")"
   ]
  },
  {
   "cell_type": "code",
   "execution_count": 5,
   "id": "31480b89-4933-4f5b-ad01-df5cb0a13ef0",
   "metadata": {
    "tags": []
   },
   "outputs": [
    {
     "name": "stdout",
     "output_type": "stream",
     "text": [
      "2025-02-23 03:30:09          0 aai-540-group-3-final-project/data/db_source//242201273368/sagemaker/us-east-1/offline-store/employee-attrition-feature-store-1740280320/employee-attrition-feature-store2025-02-23T03:12:00.262Z.txt\n",
      "2025-02-23 03:18:46      23523 aai-540-group-3-final-project/data/db_source/242201273368/sagemaker/us-east-1/offline-store/employee-attrition-feature-store-1740280320/data/year=2025/month=02/day=23/hour=03/20250223T031159Z_111qhMB3kv2B80lz.parquet\n",
      "2025-02-23 03:18:46      25001 aai-540-group-3-final-project/data/db_source/242201273368/sagemaker/us-east-1/offline-store/employee-attrition-feature-store-1740280320/data/year=2025/month=02/day=23/hour=03/20250223T031159Z_1QzIxyNc7hGCNhd2.parquet\n",
      "2025-02-23 03:18:46      25305 aai-540-group-3-final-project/data/db_source/242201273368/sagemaker/us-east-1/offline-store/employee-attrition-feature-store-1740280320/data/year=2025/month=02/day=23/hour=03/20250223T031159Z_1RMnxfkvYNo5PBx0.parquet\n",
      "2025-02-23 03:18:46      25003 aai-540-group-3-final-project/data/db_source/242201273368/sagemaker/us-east-1/offline-store/employee-attrition-feature-store-1740280320/data/year=2025/month=02/day=23/hour=03/20250223T031159Z_2ExWwtDkvItaPZNW.parquet\n",
      "2025-02-23 03:18:46      23300 aai-540-group-3-final-project/data/db_source/242201273368/sagemaker/us-east-1/offline-store/employee-attrition-feature-store-1740280320/data/year=2025/month=02/day=23/hour=03/20250223T031159Z_2GkTS0pQHIuv4JX3.parquet\n",
      "2025-02-23 03:18:46      24899 aai-540-group-3-final-project/data/db_source/242201273368/sagemaker/us-east-1/offline-store/employee-attrition-feature-store-1740280320/data/year=2025/month=02/day=23/hour=03/20250223T031159Z_2UnGm8GldPQBo0Ev.parquet\n",
      "2025-02-23 03:18:46      25017 aai-540-group-3-final-project/data/db_source/242201273368/sagemaker/us-east-1/offline-store/employee-attrition-feature-store-1740280320/data/year=2025/month=02/day=23/hour=03/20250223T031159Z_2lkoJv36QsubLJl7.parquet\n",
      "2025-02-23 03:18:46      24797 aai-540-group-3-final-project/data/db_source/242201273368/sagemaker/us-east-1/offline-store/employee-attrition-feature-store-1740280320/data/year=2025/month=02/day=23/hour=03/20250223T031159Z_3FypUVTtUxpB83I1.parquet\n",
      "2025-02-23 03:18:46      25005 aai-540-group-3-final-project/data/db_source/242201273368/sagemaker/us-east-1/offline-store/employee-attrition-feature-store-1740280320/data/year=2025/month=02/day=23/hour=03/20250223T031159Z_44ZriBU5BKbMmekb.parquet\n",
      "2025-02-23 03:18:46      25058 aai-540-group-3-final-project/data/db_source/242201273368/sagemaker/us-east-1/offline-store/employee-attrition-feature-store-1740280320/data/year=2025/month=02/day=23/hour=03/20250223T031159Z_47Xoih97QCZl8npn.parquet\n",
      "2025-02-23 03:18:46      24767 aai-540-group-3-final-project/data/db_source/242201273368/sagemaker/us-east-1/offline-store/employee-attrition-feature-store-1740280320/data/year=2025/month=02/day=23/hour=03/20250223T031159Z_4E86H81IK0Fi12oO.parquet\n",
      "2025-02-23 03:18:46      25056 aai-540-group-3-final-project/data/db_source/242201273368/sagemaker/us-east-1/offline-store/employee-attrition-feature-store-1740280320/data/year=2025/month=02/day=23/hour=03/20250223T031159Z_4TX0fUXHA8NGUfIX.parquet\n",
      "2025-02-23 03:18:46      24522 aai-540-group-3-final-project/data/db_source/242201273368/sagemaker/us-east-1/offline-store/employee-attrition-feature-store-1740280320/data/year=2025/month=02/day=23/hour=03/20250223T031159Z_7aPHFmw1Yj4FrVN0.parquet\n",
      "2025-02-23 03:18:46      24178 aai-540-group-3-final-project/data/db_source/242201273368/sagemaker/us-east-1/offline-store/employee-attrition-feature-store-1740280320/data/year=2025/month=02/day=23/hour=03/20250223T031159Z_8Hjl7jmFnKVKbpMD.parquet\n",
      "2025-02-23 03:18:46      23988 aai-540-group-3-final-project/data/db_source/242201273368/sagemaker/us-east-1/offline-store/employee-attrition-feature-store-1740280320/data/year=2025/month=02/day=23/hour=03/20250223T031159Z_E43fgsNhb4p7hnps.parquet\n",
      "2025-02-23 03:18:46      25033 aai-540-group-3-final-project/data/db_source/242201273368/sagemaker/us-east-1/offline-store/employee-attrition-feature-store-1740280320/data/year=2025/month=02/day=23/hour=03/20250223T031159Z_EIRcYrSHlpPm6NX2.parquet\n",
      "2025-02-23 03:18:46      23983 aai-540-group-3-final-project/data/db_source/242201273368/sagemaker/us-east-1/offline-store/employee-attrition-feature-store-1740280320/data/year=2025/month=02/day=23/hour=03/20250223T031159Z_EZYisBrhdv430WaE.parquet\n",
      "2025-02-23 03:18:46      24629 aai-540-group-3-final-project/data/db_source/242201273368/sagemaker/us-east-1/offline-store/employee-attrition-feature-store-1740280320/data/year=2025/month=02/day=23/hour=03/20250223T031159Z_Ev7yPrgUJ5aubUfa.parquet\n",
      "2025-02-23 03:18:46      25488 aai-540-group-3-final-project/data/db_source/242201273368/sagemaker/us-east-1/offline-store/employee-attrition-feature-store-1740280320/data/year=2025/month=02/day=23/hour=03/20250223T031159Z_GJq8GClNHbNPWJML.parquet\n",
      "2025-02-23 03:18:46      26021 aai-540-group-3-final-project/data/db_source/242201273368/sagemaker/us-east-1/offline-store/employee-attrition-feature-store-1740280320/data/year=2025/month=02/day=23/hour=03/20250223T031159Z_GURMcPBdNy2DWyii.parquet\n",
      "2025-02-23 03:18:46      24113 aai-540-group-3-final-project/data/db_source/242201273368/sagemaker/us-east-1/offline-store/employee-attrition-feature-store-1740280320/data/year=2025/month=02/day=23/hour=03/20250223T031159Z_GZ7HQiz2E7zB1a7P.parquet\n",
      "2025-02-23 03:18:46      24145 aai-540-group-3-final-project/data/db_source/242201273368/sagemaker/us-east-1/offline-store/employee-attrition-feature-store-1740280320/data/year=2025/month=02/day=23/hour=03/20250223T031159Z_KO0f608DXS5V7Abn.parquet\n",
      "2025-02-23 03:18:46      24777 aai-540-group-3-final-project/data/db_source/242201273368/sagemaker/us-east-1/offline-store/employee-attrition-feature-store-1740280320/data/year=2025/month=02/day=23/hour=03/20250223T031159Z_MLra5JaToBMcQ2C3.parquet\n",
      "2025-02-23 03:18:46      24769 aai-540-group-3-final-project/data/db_source/242201273368/sagemaker/us-east-1/offline-store/employee-attrition-feature-store-1740280320/data/year=2025/month=02/day=23/hour=03/20250223T031159Z_NClxlhw5Y5rhBuxO.parquet\n",
      "2025-02-23 03:18:46      24899 aai-540-group-3-final-project/data/db_source/242201273368/sagemaker/us-east-1/offline-store/employee-attrition-feature-store-1740280320/data/year=2025/month=02/day=23/hour=03/20250223T031159Z_Pv1zIROS94CNfjLO.parquet\n",
      "2025-02-23 03:18:46      24690 aai-540-group-3-final-project/data/db_source/242201273368/sagemaker/us-east-1/offline-store/employee-attrition-feature-store-1740280320/data/year=2025/month=02/day=23/hour=03/20250223T031159Z_Q8oNZM4YV6hN6qtj.parquet\n",
      "2025-02-23 03:18:46      24148 aai-540-group-3-final-project/data/db_source/242201273368/sagemaker/us-east-1/offline-store/employee-attrition-feature-store-1740280320/data/year=2025/month=02/day=23/hour=03/20250223T031159Z_R5BDqdBfba7fWAEf.parquet\n",
      "2025-02-23 03:18:46      24622 aai-540-group-3-final-project/data/db_source/242201273368/sagemaker/us-east-1/offline-store/employee-attrition-feature-store-1740280320/data/year=2025/month=02/day=23/hour=03/20250223T031159Z_UPq2pMshLAZQWkey.parquet\n",
      "2025-02-23 03:18:46      25235 aai-540-group-3-final-project/data/db_source/242201273368/sagemaker/us-east-1/offline-store/employee-attrition-feature-store-1740280320/data/year=2025/month=02/day=23/hour=03/20250223T031159Z_YZAhE8Iz9iRD1xjb.parquet\n",
      "2025-02-23 03:18:46      24577 aai-540-group-3-final-project/data/db_source/242201273368/sagemaker/us-east-1/offline-store/employee-attrition-feature-store-1740280320/data/year=2025/month=02/day=23/hour=03/20250223T031159Z_YfL2JcVoL5r8QNl6.parquet\n",
      "2025-02-23 03:18:47      25249 aai-540-group-3-final-project/data/db_source/242201273368/sagemaker/us-east-1/offline-store/employee-attrition-feature-store-1740280320/data/year=2025/month=02/day=23/hour=03/20250223T031159Z_ZDpfkGRAoD57cEF2.parquet\n",
      "2025-02-23 03:18:46      24527 aai-540-group-3-final-project/data/db_source/242201273368/sagemaker/us-east-1/offline-store/employee-attrition-feature-store-1740280320/data/year=2025/month=02/day=23/hour=03/20250223T031159Z_ZlKaB6OGWNaBls79.parquet\n",
      "2025-02-23 03:18:46      25051 aai-540-group-3-final-project/data/db_source/242201273368/sagemaker/us-east-1/offline-store/employee-attrition-feature-store-1740280320/data/year=2025/month=02/day=23/hour=03/20250223T031159Z_ZtGdeOjvfC3bOofN.parquet\n",
      "2025-02-23 03:18:46      24789 aai-540-group-3-final-project/data/db_source/242201273368/sagemaker/us-east-1/offline-store/employee-attrition-feature-store-1740280320/data/year=2025/month=02/day=23/hour=03/20250223T031159Z_b1beZcRzdyEnIzW0.parquet\n",
      "2025-02-23 03:18:46      25137 aai-540-group-3-final-project/data/db_source/242201273368/sagemaker/us-east-1/offline-store/employee-attrition-feature-store-1740280320/data/year=2025/month=02/day=23/hour=03/20250223T031159Z_db1eam85VOBf0j0Q.parquet\n",
      "2025-02-23 03:18:46      25121 aai-540-group-3-final-project/data/db_source/242201273368/sagemaker/us-east-1/offline-store/employee-attrition-feature-store-1740280320/data/year=2025/month=02/day=23/hour=03/20250223T031159Z_dwHA39QjzSfKhCO5.parquet\n",
      "2025-02-23 03:18:46      25412 aai-540-group-3-final-project/data/db_source/242201273368/sagemaker/us-east-1/offline-store/employee-attrition-feature-store-1740280320/data/year=2025/month=02/day=23/hour=03/20250223T031159Z_hx0KKZnmli1ntY3r.parquet\n",
      "2025-02-23 03:18:46      25407 aai-540-group-3-final-project/data/db_source/242201273368/sagemaker/us-east-1/offline-store/employee-attrition-feature-store-1740280320/data/year=2025/month=02/day=23/hour=03/20250223T031159Z_j5PYKuStzxeDsKFL.parquet\n",
      "2025-02-23 03:18:46      26075 aai-540-group-3-final-project/data/db_source/242201273368/sagemaker/us-east-1/offline-store/employee-attrition-feature-store-1740280320/data/year=2025/month=02/day=23/hour=03/20250223T031159Z_kfJvK7wKws4jTRYM.parquet\n",
      "2025-02-23 03:18:46      24131 aai-540-group-3-final-project/data/db_source/242201273368/sagemaker/us-east-1/offline-store/employee-attrition-feature-store-1740280320/data/year=2025/month=02/day=23/hour=03/20250223T031159Z_krKWyNpkA9NjWQRs.parquet\n",
      "2025-02-23 03:18:46      25111 aai-540-group-3-final-project/data/db_source/242201273368/sagemaker/us-east-1/offline-store/employee-attrition-feature-store-1740280320/data/year=2025/month=02/day=23/hour=03/20250223T031159Z_nUH1PXYg3132zqwB.parquet\n",
      "2025-02-23 03:18:46      23570 aai-540-group-3-final-project/data/db_source/242201273368/sagemaker/us-east-1/offline-store/employee-attrition-feature-store-1740280320/data/year=2025/month=02/day=23/hour=03/20250223T031159Z_pmezkWH09mvptKTl.parquet\n",
      "2025-02-23 03:18:46      24390 aai-540-group-3-final-project/data/db_source/242201273368/sagemaker/us-east-1/offline-store/employee-attrition-feature-store-1740280320/data/year=2025/month=02/day=23/hour=03/20250223T031159Z_ps1hyjXpIoD1fmGP.parquet\n",
      "2025-02-23 03:18:46      23673 aai-540-group-3-final-project/data/db_source/242201273368/sagemaker/us-east-1/offline-store/employee-attrition-feature-store-1740280320/data/year=2025/month=02/day=23/hour=03/20250223T031159Z_qMGdbmzvULbkK217.parquet\n",
      "2025-02-23 03:18:46      25355 aai-540-group-3-final-project/data/db_source/242201273368/sagemaker/us-east-1/offline-store/employee-attrition-feature-store-1740280320/data/year=2025/month=02/day=23/hour=03/20250223T031159Z_qQyF3mhKBUDM4mXf.parquet\n",
      "2025-02-23 03:18:46      24402 aai-540-group-3-final-project/data/db_source/242201273368/sagemaker/us-east-1/offline-store/employee-attrition-feature-store-1740280320/data/year=2025/month=02/day=23/hour=03/20250223T031159Z_rtOn6joulyyyWATY.parquet\n",
      "2025-02-23 03:18:46      23481 aai-540-group-3-final-project/data/db_source/242201273368/sagemaker/us-east-1/offline-store/employee-attrition-feature-store-1740280320/data/year=2025/month=02/day=23/hour=03/20250223T031159Z_tIigeRyeuFcAE6VF.parquet\n",
      "2025-02-23 03:18:46      24575 aai-540-group-3-final-project/data/db_source/242201273368/sagemaker/us-east-1/offline-store/employee-attrition-feature-store-1740280320/data/year=2025/month=02/day=23/hour=03/20250223T031159Z_u06nMhaSFpwGQB7r.parquet\n",
      "2025-02-23 03:18:46      24038 aai-540-group-3-final-project/data/db_source/242201273368/sagemaker/us-east-1/offline-store/employee-attrition-feature-store-1740280320/data/year=2025/month=02/day=23/hour=03/20250223T031159Z_ucWd0hhUZan1R1wV.parquet\n",
      "2025-02-23 03:18:46      25026 aai-540-group-3-final-project/data/db_source/242201273368/sagemaker/us-east-1/offline-store/employee-attrition-feature-store-1740280320/data/year=2025/month=02/day=23/hour=03/20250223T031159Z_uegwAkf95E4t3zOQ.parquet\n",
      "2025-02-23 03:18:46      24492 aai-540-group-3-final-project/data/db_source/242201273368/sagemaker/us-east-1/offline-store/employee-attrition-feature-store-1740280320/data/year=2025/month=02/day=23/hour=03/20250223T031159Z_ugPaAHQgvucNEPoQ.parquet\n",
      "2025-02-23 03:18:46      24975 aai-540-group-3-final-project/data/db_source/242201273368/sagemaker/us-east-1/offline-store/employee-attrition-feature-store-1740280320/data/year=2025/month=02/day=23/hour=03/20250223T031159Z_vGcmv17okZ0NbUll.parquet\n",
      "2025-02-23 03:18:46      23838 aai-540-group-3-final-project/data/db_source/242201273368/sagemaker/us-east-1/offline-store/employee-attrition-feature-store-1740280320/data/year=2025/month=02/day=23/hour=03/20250223T031159Z_vWD15KymFTI01Zph.parquet\n",
      "2025-02-23 03:18:46      23514 aai-540-group-3-final-project/data/db_source/242201273368/sagemaker/us-east-1/offline-store/employee-attrition-feature-store-1740280320/data/year=2025/month=02/day=23/hour=03/20250223T031159Z_wGQxu1xOre4uNzRm.parquet\n",
      "2025-02-23 03:23:46      24902 aai-540-group-3-final-project/data/db_source/242201273368/sagemaker/us-east-1/offline-store/employee-attrition-feature-store-1740280320/data/year=2025/month=02/day=23/hour=03/20250223T032153Z_08BtNRiGu7rTy3rn.parquet\n",
      "2025-02-23 03:23:46      23490 aai-540-group-3-final-project/data/db_source/242201273368/sagemaker/us-east-1/offline-store/employee-attrition-feature-store-1740280320/data/year=2025/month=02/day=23/hour=03/20250223T032153Z_0D38np1pVdGPBXgr.parquet\n",
      "2025-02-23 03:28:46      22805 aai-540-group-3-final-project/data/db_source/242201273368/sagemaker/us-east-1/offline-store/employee-attrition-feature-store-1740280320/data/year=2025/month=02/day=23/hour=03/20250223T032153Z_0J65ZfBUgbZOmpoh.parquet\n",
      "2025-02-23 03:28:46      23271 aai-540-group-3-final-project/data/db_source/242201273368/sagemaker/us-east-1/offline-store/employee-attrition-feature-store-1740280320/data/year=2025/month=02/day=23/hour=03/20250223T032153Z_0ZfKfZkamkGFOTfT.parquet\n",
      "2025-02-23 03:33:49      12899 aai-540-group-3-final-project/data/db_source/242201273368/sagemaker/us-east-1/offline-store/employee-attrition-feature-store-1740280320/data/year=2025/month=02/day=23/hour=03/20250223T032153Z_1xNWfBmNeMfppPdM.parquet\n",
      "2025-02-23 03:23:46      24029 aai-540-group-3-final-project/data/db_source/242201273368/sagemaker/us-east-1/offline-store/employee-attrition-feature-store-1740280320/data/year=2025/month=02/day=23/hour=03/20250223T032153Z_1xeXeWoycNZ5A2Sl.parquet\n",
      "2025-02-23 03:28:46      24443 aai-540-group-3-final-project/data/db_source/242201273368/sagemaker/us-east-1/offline-store/employee-attrition-feature-store-1740280320/data/year=2025/month=02/day=23/hour=03/20250223T032153Z_2eKKIp0VGsTV4WbB.parquet\n",
      "2025-02-23 03:28:46      24589 aai-540-group-3-final-project/data/db_source/242201273368/sagemaker/us-east-1/offline-store/employee-attrition-feature-store-1740280320/data/year=2025/month=02/day=23/hour=03/20250223T032153Z_2kHFLUepUoY6LMf1.parquet\n",
      "2025-02-23 03:28:46      24199 aai-540-group-3-final-project/data/db_source/242201273368/sagemaker/us-east-1/offline-store/employee-attrition-feature-store-1740280320/data/year=2025/month=02/day=23/hour=03/20250223T032153Z_3OpTyM426diLUiiU.parquet\n",
      "2025-02-23 03:28:46      24580 aai-540-group-3-final-project/data/db_source/242201273368/sagemaker/us-east-1/offline-store/employee-attrition-feature-store-1740280320/data/year=2025/month=02/day=23/hour=03/20250223T032153Z_3fV9xMXe1sGAEbsq.parquet\n",
      "2025-02-23 03:28:46      22977 aai-540-group-3-final-project/data/db_source/242201273368/sagemaker/us-east-1/offline-store/employee-attrition-feature-store-1740280320/data/year=2025/month=02/day=23/hour=03/20250223T032153Z_3p0YqoC05dRgVwEb.parquet\n",
      "2025-02-23 03:33:55      12943 aai-540-group-3-final-project/data/db_source/242201273368/sagemaker/us-east-1/offline-store/employee-attrition-feature-store-1740280320/data/year=2025/month=02/day=23/hour=03/20250223T032153Z_3uJGTai4cPak2xxV.parquet\n",
      "2025-02-23 03:33:46      12850 aai-540-group-3-final-project/data/db_source/242201273368/sagemaker/us-east-1/offline-store/employee-attrition-feature-store-1740280320/data/year=2025/month=02/day=23/hour=03/20250223T032153Z_4MuBZxUUGGEU6Gq8.parquet\n",
      "2025-02-23 03:23:46      23168 aai-540-group-3-final-project/data/db_source/242201273368/sagemaker/us-east-1/offline-store/employee-attrition-feature-store-1740280320/data/year=2025/month=02/day=23/hour=03/20250223T032153Z_4kCdes3doC5Yie4U.parquet\n",
      "2025-02-23 03:33:55      12228 aai-540-group-3-final-project/data/db_source/242201273368/sagemaker/us-east-1/offline-store/employee-attrition-feature-store-1740280320/data/year=2025/month=02/day=23/hour=03/20250223T032153Z_55nn9KNJyM6OUwLG.parquet\n",
      "2025-02-23 03:33:46      12876 aai-540-group-3-final-project/data/db_source/242201273368/sagemaker/us-east-1/offline-store/employee-attrition-feature-store-1740280320/data/year=2025/month=02/day=23/hour=03/20250223T032153Z_6U22BkCOFOdmANMu.parquet\n",
      "2025-02-23 03:23:46      23391 aai-540-group-3-final-project/data/db_source/242201273368/sagemaker/us-east-1/offline-store/employee-attrition-feature-store-1740280320/data/year=2025/month=02/day=23/hour=03/20250223T032153Z_6mipPSenlg28jaaM.parquet\n",
      "2025-02-23 03:28:46      24255 aai-540-group-3-final-project/data/db_source/242201273368/sagemaker/us-east-1/offline-store/employee-attrition-feature-store-1740280320/data/year=2025/month=02/day=23/hour=03/20250223T032153Z_71JjaUTguI2SyJMP.parquet\n",
      "2025-02-23 03:33:46      13175 aai-540-group-3-final-project/data/db_source/242201273368/sagemaker/us-east-1/offline-store/employee-attrition-feature-store-1740280320/data/year=2025/month=02/day=23/hour=03/20250223T032153Z_7Y95AGAICEWU3IX0.parquet\n",
      "2025-02-23 03:28:46      24536 aai-540-group-3-final-project/data/db_source/242201273368/sagemaker/us-east-1/offline-store/employee-attrition-feature-store-1740280320/data/year=2025/month=02/day=23/hour=03/20250223T032153Z_7dK8arMMNxUEDGmo.parquet\n",
      "2025-02-23 03:28:46      24635 aai-540-group-3-final-project/data/db_source/242201273368/sagemaker/us-east-1/offline-store/employee-attrition-feature-store-1740280320/data/year=2025/month=02/day=23/hour=03/20250223T032153Z_7hjiTcIFbTdhkiht.parquet\n",
      "2025-02-23 03:28:46      24572 aai-540-group-3-final-project/data/db_source/242201273368/sagemaker/us-east-1/offline-store/employee-attrition-feature-store-1740280320/data/year=2025/month=02/day=23/hour=03/20250223T032153Z_8bAAHmXewDdRUNQ2.parquet\n",
      "2025-02-23 03:33:55      12880 aai-540-group-3-final-project/data/db_source/242201273368/sagemaker/us-east-1/offline-store/employee-attrition-feature-store-1740280320/data/year=2025/month=02/day=23/hour=03/20250223T032153Z_8n1QtPF6tgYRfn3s.parquet\n",
      "2025-02-23 03:23:46      23834 aai-540-group-3-final-project/data/db_source/242201273368/sagemaker/us-east-1/offline-store/employee-attrition-feature-store-1740280320/data/year=2025/month=02/day=23/hour=03/20250223T032153Z_8o008VQC7iC4qnEW.parquet\n",
      "2025-02-23 03:23:46      23868 aai-540-group-3-final-project/data/db_source/242201273368/sagemaker/us-east-1/offline-store/employee-attrition-feature-store-1740280320/data/year=2025/month=02/day=23/hour=03/20250223T032153Z_8zlOnnQ0kBS0rRCz.parquet\n",
      "2025-02-23 03:23:46      24056 aai-540-group-3-final-project/data/db_source/242201273368/sagemaker/us-east-1/offline-store/employee-attrition-feature-store-1740280320/data/year=2025/month=02/day=23/hour=03/20250223T032153Z_9ILJsBrE4cpueXk3.parquet\n",
      "2025-02-23 03:23:46      24350 aai-540-group-3-final-project/data/db_source/242201273368/sagemaker/us-east-1/offline-store/employee-attrition-feature-store-1740280320/data/year=2025/month=02/day=23/hour=03/20250223T032153Z_9jmojrjmzHIWbg1J.parquet\n",
      "2025-02-23 03:33:54      13102 aai-540-group-3-final-project/data/db_source/242201273368/sagemaker/us-east-1/offline-store/employee-attrition-feature-store-1740280320/data/year=2025/month=02/day=23/hour=03/20250223T032153Z_9kAOjQ8WR5fG1GKj.parquet\n",
      "2025-02-23 03:28:46      23245 aai-540-group-3-final-project/data/db_source/242201273368/sagemaker/us-east-1/offline-store/employee-attrition-feature-store-1740280320/data/year=2025/month=02/day=23/hour=03/20250223T032153Z_B2eI2mExrenFcdeI.parquet\n",
      "2025-02-23 03:23:46      23720 aai-540-group-3-final-project/data/db_source/242201273368/sagemaker/us-east-1/offline-store/employee-attrition-feature-store-1740280320/data/year=2025/month=02/day=23/hour=03/20250223T032153Z_B8gRrlA7fwvHZM8b.parquet\n",
      "2025-02-23 03:33:56      12964 aai-540-group-3-final-project/data/db_source/242201273368/sagemaker/us-east-1/offline-store/employee-attrition-feature-store-1740280320/data/year=2025/month=02/day=23/hour=03/20250223T032153Z_CjD9aLnpUBuQbFcx.parquet\n",
      "2025-02-23 03:33:56      13701 aai-540-group-3-final-project/data/db_source/242201273368/sagemaker/us-east-1/offline-store/employee-attrition-feature-store-1740280320/data/year=2025/month=02/day=23/hour=03/20250223T032153Z_DGgZOhtRoyeStrZb.parquet\n",
      "2025-02-23 03:28:46      24267 aai-540-group-3-final-project/data/db_source/242201273368/sagemaker/us-east-1/offline-store/employee-attrition-feature-store-1740280320/data/year=2025/month=02/day=23/hour=03/20250223T032153Z_E6A6KTpYPHtIDIyg.parquet\n",
      "2025-02-23 03:33:55      13077 aai-540-group-3-final-project/data/db_source/242201273368/sagemaker/us-east-1/offline-store/employee-attrition-feature-store-1740280320/data/year=2025/month=02/day=23/hour=03/20250223T032153Z_FHdQK0oxnELI3V6Y.parquet\n",
      "2025-02-23 03:28:46      23727 aai-540-group-3-final-project/data/db_source/242201273368/sagemaker/us-east-1/offline-store/employee-attrition-feature-store-1740280320/data/year=2025/month=02/day=23/hour=03/20250223T032153Z_FRfbpqXW6Z3U0TGe.parquet\n",
      "2025-02-23 03:28:46      23849 aai-540-group-3-final-project/data/db_source/242201273368/sagemaker/us-east-1/offline-store/employee-attrition-feature-store-1740280320/data/year=2025/month=02/day=23/hour=03/20250223T032153Z_Fmz9EYw2AJnNigFO.parquet\n",
      "2025-02-23 03:23:46      24358 aai-540-group-3-final-project/data/db_source/242201273368/sagemaker/us-east-1/offline-store/employee-attrition-feature-store-1740280320/data/year=2025/month=02/day=23/hour=03/20250223T032153Z_GCYubwjr2txvoRUh.parquet\n",
      "2025-02-23 03:23:46      23583 aai-540-group-3-final-project/data/db_source/242201273368/sagemaker/us-east-1/offline-store/employee-attrition-feature-store-1740280320/data/year=2025/month=02/day=23/hour=03/20250223T032153Z_GPI545HWEW7r9FQy.parquet\n",
      "2025-02-23 03:33:56      13354 aai-540-group-3-final-project/data/db_source/242201273368/sagemaker/us-east-1/offline-store/employee-attrition-feature-store-1740280320/data/year=2025/month=02/day=23/hour=03/20250223T032153Z_Gaqa9Yg4ueCAsJqv.parquet\n",
      "2025-02-23 03:23:46      23027 aai-540-group-3-final-project/data/db_source/242201273368/sagemaker/us-east-1/offline-store/employee-attrition-feature-store-1740280320/data/year=2025/month=02/day=23/hour=03/20250223T032153Z_H5gwIvQl7de2VqfC.parquet\n",
      "2025-02-23 03:23:46      23673 aai-540-group-3-final-project/data/db_source/242201273368/sagemaker/us-east-1/offline-store/employee-attrition-feature-store-1740280320/data/year=2025/month=02/day=23/hour=03/20250223T032153Z_HQZhtAyHgsK5mgm1.parquet\n",
      "2025-02-23 03:23:46      24076 aai-540-group-3-final-project/data/db_source/242201273368/sagemaker/us-east-1/offline-store/employee-attrition-feature-store-1740280320/data/year=2025/month=02/day=23/hour=03/20250223T032153Z_I1aSWjlxowezH6P5.parquet\n",
      "2025-02-23 03:28:46      24310 aai-540-group-3-final-project/data/db_source/242201273368/sagemaker/us-east-1/offline-store/employee-attrition-feature-store-1740280320/data/year=2025/month=02/day=23/hour=03/20250223T032153Z_IHeT3RtxvhaAdeN7.parquet\n",
      "2025-02-23 03:33:46      12325 aai-540-group-3-final-project/data/db_source/242201273368/sagemaker/us-east-1/offline-store/employee-attrition-feature-store-1740280320/data/year=2025/month=02/day=23/hour=03/20250223T032153Z_IRYKc931mXFu3D7c.parquet\n",
      "2025-02-23 03:33:46      13423 aai-540-group-3-final-project/data/db_source/242201273368/sagemaker/us-east-1/offline-store/employee-attrition-feature-store-1740280320/data/year=2025/month=02/day=23/hour=03/20250223T032153Z_JbhU1afqInUXU1jK.parquet\n",
      "2025-02-23 03:23:46      23915 aai-540-group-3-final-project/data/db_source/242201273368/sagemaker/us-east-1/offline-store/employee-attrition-feature-store-1740280320/data/year=2025/month=02/day=23/hour=03/20250223T032153Z_K0qOxg3Nee9lp1DN.parquet\n",
      "2025-02-23 03:23:46      24171 aai-540-group-3-final-project/data/db_source/242201273368/sagemaker/us-east-1/offline-store/employee-attrition-feature-store-1740280320/data/year=2025/month=02/day=23/hour=03/20250223T032153Z_KFU51Tmc88wOVCnd.parquet\n",
      "2025-02-23 03:28:46      23652 aai-540-group-3-final-project/data/db_source/242201273368/sagemaker/us-east-1/offline-store/employee-attrition-feature-store-1740280320/data/year=2025/month=02/day=23/hour=03/20250223T032153Z_KnAhfEP5tpPncK9T.parquet\n",
      "2025-02-23 03:28:46      24207 aai-540-group-3-final-project/data/db_source/242201273368/sagemaker/us-east-1/offline-store/employee-attrition-feature-store-1740280320/data/year=2025/month=02/day=23/hour=03/20250223T032153Z_KxF13GPIxNMET2NJ.parquet\n",
      "2025-02-23 03:33:46      12628 aai-540-group-3-final-project/data/db_source/242201273368/sagemaker/us-east-1/offline-store/employee-attrition-feature-store-1740280320/data/year=2025/month=02/day=23/hour=03/20250223T032153Z_LrsEwoVlgJWbrOeB.parquet\n",
      "2025-02-23 03:23:46      23660 aai-540-group-3-final-project/data/db_source/242201273368/sagemaker/us-east-1/offline-store/employee-attrition-feature-store-1740280320/data/year=2025/month=02/day=23/hour=03/20250223T032153Z_MIR6Xkg7R9jr3g0N.parquet\n",
      "2025-02-23 03:33:55      12567 aai-540-group-3-final-project/data/db_source/242201273368/sagemaker/us-east-1/offline-store/employee-attrition-feature-store-1740280320/data/year=2025/month=02/day=23/hour=03/20250223T032153Z_MZUwnfoZqR9QZrrR.parquet\n",
      "2025-02-23 03:33:56      13882 aai-540-group-3-final-project/data/db_source/242201273368/sagemaker/us-east-1/offline-store/employee-attrition-feature-store-1740280320/data/year=2025/month=02/day=23/hour=03/20250223T032153Z_MkaIMcawXwriK4a9.parquet\n",
      "2025-02-23 03:23:46      24446 aai-540-group-3-final-project/data/db_source/242201273368/sagemaker/us-east-1/offline-store/employee-attrition-feature-store-1740280320/data/year=2025/month=02/day=23/hour=03/20250223T032153Z_MvrewK25doBgZgZO.parquet\n",
      "2025-02-23 03:28:46      24044 aai-540-group-3-final-project/data/db_source/242201273368/sagemaker/us-east-1/offline-store/employee-attrition-feature-store-1740280320/data/year=2025/month=02/day=23/hour=03/20250223T032153Z_NdwTDX4QuEfZFjbw.parquet\n",
      "2025-02-23 03:23:46      24197 aai-540-group-3-final-project/data/db_source/242201273368/sagemaker/us-east-1/offline-store/employee-attrition-feature-store-1740280320/data/year=2025/month=02/day=23/hour=03/20250223T032153Z_O1NDZRRqqCJCx0sI.parquet\n",
      "2025-02-23 03:33:56      12273 aai-540-group-3-final-project/data/db_source/242201273368/sagemaker/us-east-1/offline-store/employee-attrition-feature-store-1740280320/data/year=2025/month=02/day=23/hour=03/20250223T032153Z_O6WW9pHxQVxbspPT.parquet\n",
      "2025-02-23 03:28:46      24283 aai-540-group-3-final-project/data/db_source/242201273368/sagemaker/us-east-1/offline-store/employee-attrition-feature-store-1740280320/data/year=2025/month=02/day=23/hour=03/20250223T032153Z_Odopsubp1Wms8k0d.parquet\n",
      "2025-02-23 03:33:55      13153 aai-540-group-3-final-project/data/db_source/242201273368/sagemaker/us-east-1/offline-store/employee-attrition-feature-store-1740280320/data/year=2025/month=02/day=23/hour=03/20250223T032153Z_OeAyk0V0lGkURUV8.parquet\n",
      "2025-02-23 03:28:46      23031 aai-540-group-3-final-project/data/db_source/242201273368/sagemaker/us-east-1/offline-store/employee-attrition-feature-store-1740280320/data/year=2025/month=02/day=23/hour=03/20250223T032153Z_P3qtLfYSopINXRyw.parquet\n",
      "2025-02-23 03:33:46      13336 aai-540-group-3-final-project/data/db_source/242201273368/sagemaker/us-east-1/offline-store/employee-attrition-feature-store-1740280320/data/year=2025/month=02/day=23/hour=03/20250223T032153Z_P4uIUTe3tom2jv1v.parquet\n",
      "2025-02-23 03:33:54      13753 aai-540-group-3-final-project/data/db_source/242201273368/sagemaker/us-east-1/offline-store/employee-attrition-feature-store-1740280320/data/year=2025/month=02/day=23/hour=03/20250223T032153Z_PLidH054NM4At7jv.parquet\n",
      "2025-02-23 03:33:46      13545 aai-540-group-3-final-project/data/db_source/242201273368/sagemaker/us-east-1/offline-store/employee-attrition-feature-store-1740280320/data/year=2025/month=02/day=23/hour=03/20250223T032153Z_QKvQpL0E21OFTL12.parquet\n",
      "2025-02-23 03:28:46      24086 aai-540-group-3-final-project/data/db_source/242201273368/sagemaker/us-east-1/offline-store/employee-attrition-feature-store-1740280320/data/year=2025/month=02/day=23/hour=03/20250223T032153Z_QY8bhmpg5xUBNVkS.parquet\n",
      "2025-02-23 03:23:46      23661 aai-540-group-3-final-project/data/db_source/242201273368/sagemaker/us-east-1/offline-store/employee-attrition-feature-store-1740280320/data/year=2025/month=02/day=23/hour=03/20250223T032153Z_QYKrAm0hyo6Vl8Ea.parquet\n",
      "2025-02-23 03:33:56      12779 aai-540-group-3-final-project/data/db_source/242201273368/sagemaker/us-east-1/offline-store/employee-attrition-feature-store-1740280320/data/year=2025/month=02/day=23/hour=03/20250223T032153Z_QjuouUzVJpaLynBL.parquet\n",
      "2025-02-23 03:28:46      24452 aai-540-group-3-final-project/data/db_source/242201273368/sagemaker/us-east-1/offline-store/employee-attrition-feature-store-1740280320/data/year=2025/month=02/day=23/hour=03/20250223T032153Z_QzBJyONSjvYAnho1.parquet\n",
      "2025-02-23 03:23:46      22890 aai-540-group-3-final-project/data/db_source/242201273368/sagemaker/us-east-1/offline-store/employee-attrition-feature-store-1740280320/data/year=2025/month=02/day=23/hour=03/20250223T032153Z_RXlonE8OuGIz0qiU.parquet\n",
      "2025-02-23 03:28:46      24424 aai-540-group-3-final-project/data/db_source/242201273368/sagemaker/us-east-1/offline-store/employee-attrition-feature-store-1740280320/data/year=2025/month=02/day=23/hour=03/20250223T032153Z_SDfM4iuADMKkBzUb.parquet\n",
      "2025-02-23 03:23:46      23491 aai-540-group-3-final-project/data/db_source/242201273368/sagemaker/us-east-1/offline-store/employee-attrition-feature-store-1740280320/data/year=2025/month=02/day=23/hour=03/20250223T032153Z_SLgEFGMb4r57PACb.parquet\n",
      "2025-02-23 03:23:46      23857 aai-540-group-3-final-project/data/db_source/242201273368/sagemaker/us-east-1/offline-store/employee-attrition-feature-store-1740280320/data/year=2025/month=02/day=23/hour=03/20250223T032153Z_T4gStKPo57vMgFO8.parquet\n",
      "2025-02-23 03:33:46      12539 aai-540-group-3-final-project/data/db_source/242201273368/sagemaker/us-east-1/offline-store/employee-attrition-feature-store-1740280320/data/year=2025/month=02/day=23/hour=03/20250223T032153Z_TaJkAUb1zXPGPkDU.parquet\n",
      "2025-02-23 03:23:46      24064 aai-540-group-3-final-project/data/db_source/242201273368/sagemaker/us-east-1/offline-store/employee-attrition-feature-store-1740280320/data/year=2025/month=02/day=23/hour=03/20250223T032153Z_UhI87AkY3VuGSfZ4.parquet\n",
      "2025-02-23 03:28:46      24544 aai-540-group-3-final-project/data/db_source/242201273368/sagemaker/us-east-1/offline-store/employee-attrition-feature-store-1740280320/data/year=2025/month=02/day=23/hour=03/20250223T032153Z_VB6Ium5RGVd55sIF.parquet\n",
      "2025-02-23 03:23:46      24399 aai-540-group-3-final-project/data/db_source/242201273368/sagemaker/us-east-1/offline-store/employee-attrition-feature-store-1740280320/data/year=2025/month=02/day=23/hour=03/20250223T032153Z_Wz0rRAWimoLslDYO.parquet\n",
      "2025-02-23 03:23:46      24598 aai-540-group-3-final-project/data/db_source/242201273368/sagemaker/us-east-1/offline-store/employee-attrition-feature-store-1740280320/data/year=2025/month=02/day=23/hour=03/20250223T032153Z_XE3ZSooGTpNoGnBV.parquet\n",
      "2025-02-23 03:28:46      23177 aai-540-group-3-final-project/data/db_source/242201273368/sagemaker/us-east-1/offline-store/employee-attrition-feature-store-1740280320/data/year=2025/month=02/day=23/hour=03/20250223T032153Z_XrU5X4wdOxKfkQmb.parquet\n",
      "2025-02-23 03:33:46      13986 aai-540-group-3-final-project/data/db_source/242201273368/sagemaker/us-east-1/offline-store/employee-attrition-feature-store-1740280320/data/year=2025/month=02/day=23/hour=03/20250223T032153Z_YRQGAymZ9oHeXGsN.parquet\n",
      "2025-02-23 03:28:46      23842 aai-540-group-3-final-project/data/db_source/242201273368/sagemaker/us-east-1/offline-store/employee-attrition-feature-store-1740280320/data/year=2025/month=02/day=23/hour=03/20250223T032153Z_Yw8eN6OfiRUDQA3s.parquet\n",
      "2025-02-23 03:28:46      24511 aai-540-group-3-final-project/data/db_source/242201273368/sagemaker/us-east-1/offline-store/employee-attrition-feature-store-1740280320/data/year=2025/month=02/day=23/hour=03/20250223T032153Z_ZQ3gUHUpPgdTBF6g.parquet\n",
      "2025-02-23 03:28:46      22902 aai-540-group-3-final-project/data/db_source/242201273368/sagemaker/us-east-1/offline-store/employee-attrition-feature-store-1740280320/data/year=2025/month=02/day=23/hour=03/20250223T032153Z_ZpQSUwwlFB9rF8ik.parquet\n",
      "2025-02-23 03:33:46      12568 aai-540-group-3-final-project/data/db_source/242201273368/sagemaker/us-east-1/offline-store/employee-attrition-feature-store-1740280320/data/year=2025/month=02/day=23/hour=03/20250223T032153Z_ZuCnwD1P5UADPbqh.parquet\n",
      "2025-02-23 03:23:46      24077 aai-540-group-3-final-project/data/db_source/242201273368/sagemaker/us-east-1/offline-store/employee-attrition-feature-store-1740280320/data/year=2025/month=02/day=23/hour=03/20250223T032153Z_Zy398q5CpzD9riEz.parquet\n",
      "2025-02-23 03:28:46      25210 aai-540-group-3-final-project/data/db_source/242201273368/sagemaker/us-east-1/offline-store/employee-attrition-feature-store-1740280320/data/year=2025/month=02/day=23/hour=03/20250223T032153Z_a8Opw0EbBEJDXil3.parquet\n",
      "2025-02-23 03:28:46      24673 aai-540-group-3-final-project/data/db_source/242201273368/sagemaker/us-east-1/offline-store/employee-attrition-feature-store-1740280320/data/year=2025/month=02/day=23/hour=03/20250223T032153Z_aC4rctL2RzfAe0w9.parquet\n",
      "2025-02-23 03:23:46      23948 aai-540-group-3-final-project/data/db_source/242201273368/sagemaker/us-east-1/offline-store/employee-attrition-feature-store-1740280320/data/year=2025/month=02/day=23/hour=03/20250223T032153Z_aekCi5aFwqZZsQSu.parquet\n",
      "2025-02-23 03:23:46      23995 aai-540-group-3-final-project/data/db_source/242201273368/sagemaker/us-east-1/offline-store/employee-attrition-feature-store-1740280320/data/year=2025/month=02/day=23/hour=03/20250223T032153Z_b076QAkuCjYBOoEp.parquet\n",
      "2025-02-23 03:33:46      13241 aai-540-group-3-final-project/data/db_source/242201273368/sagemaker/us-east-1/offline-store/employee-attrition-feature-store-1740280320/data/year=2025/month=02/day=23/hour=03/20250223T032153Z_bArmrGFXOsRFIk8e.parquet\n",
      "2025-02-23 03:23:46      24993 aai-540-group-3-final-project/data/db_source/242201273368/sagemaker/us-east-1/offline-store/employee-attrition-feature-store-1740280320/data/year=2025/month=02/day=23/hour=03/20250223T032153Z_cALoOVzOKeGxo85U.parquet\n",
      "2025-02-23 03:28:46      24528 aai-540-group-3-final-project/data/db_source/242201273368/sagemaker/us-east-1/offline-store/employee-attrition-feature-store-1740280320/data/year=2025/month=02/day=23/hour=03/20250223T032153Z_cRW6BfN77ypeiNGE.parquet\n",
      "2025-02-23 03:33:46      12047 aai-540-group-3-final-project/data/db_source/242201273368/sagemaker/us-east-1/offline-store/employee-attrition-feature-store-1740280320/data/year=2025/month=02/day=23/hour=03/20250223T032153Z_cT3MMbaZnsWiYliR.parquet\n",
      "2025-02-23 03:23:46      24980 aai-540-group-3-final-project/data/db_source/242201273368/sagemaker/us-east-1/offline-store/employee-attrition-feature-store-1740280320/data/year=2025/month=02/day=23/hour=03/20250223T032153Z_cWYeUSl9UWwVPAhL.parquet\n",
      "2025-02-23 03:23:46      22824 aai-540-group-3-final-project/data/db_source/242201273368/sagemaker/us-east-1/offline-store/employee-attrition-feature-store-1740280320/data/year=2025/month=02/day=23/hour=03/20250223T032153Z_ceobmcRe9YfGqeTf.parquet\n",
      "2025-02-23 03:23:46      24625 aai-540-group-3-final-project/data/db_source/242201273368/sagemaker/us-east-1/offline-store/employee-attrition-feature-store-1740280320/data/year=2025/month=02/day=23/hour=03/20250223T032153Z_d70EubpM46GpViLu.parquet\n",
      "2025-02-23 03:33:56      13000 aai-540-group-3-final-project/data/db_source/242201273368/sagemaker/us-east-1/offline-store/employee-attrition-feature-store-1740280320/data/year=2025/month=02/day=23/hour=03/20250223T032153Z_e0JlYv7CfzVxWWD4.parquet\n",
      "2025-02-23 03:33:55      13385 aai-540-group-3-final-project/data/db_source/242201273368/sagemaker/us-east-1/offline-store/employee-attrition-feature-store-1740280320/data/year=2025/month=02/day=23/hour=03/20250223T032153Z_e31OLaHtCBcYhsik.parquet\n",
      "2025-02-23 03:33:54      13147 aai-540-group-3-final-project/data/db_source/242201273368/sagemaker/us-east-1/offline-store/employee-attrition-feature-store-1740280320/data/year=2025/month=02/day=23/hour=03/20250223T032153Z_e70RN5ncgkkWJ4Iz.parquet\n",
      "2025-02-23 03:33:46      13205 aai-540-group-3-final-project/data/db_source/242201273368/sagemaker/us-east-1/offline-store/employee-attrition-feature-store-1740280320/data/year=2025/month=02/day=23/hour=03/20250223T032153Z_eMY70IHPXodewQZF.parquet\n",
      "2025-02-23 03:23:46      23266 aai-540-group-3-final-project/data/db_source/242201273368/sagemaker/us-east-1/offline-store/employee-attrition-feature-store-1740280320/data/year=2025/month=02/day=23/hour=03/20250223T032153Z_et0NCgplFbBEx1RM.parquet\n",
      "2025-02-23 03:23:46      24058 aai-540-group-3-final-project/data/db_source/242201273368/sagemaker/us-east-1/offline-store/employee-attrition-feature-store-1740280320/data/year=2025/month=02/day=23/hour=03/20250223T032153Z_euZOm2E30Q5DiVBJ.parquet\n",
      "2025-02-23 03:28:46      23021 aai-540-group-3-final-project/data/db_source/242201273368/sagemaker/us-east-1/offline-store/employee-attrition-feature-store-1740280320/data/year=2025/month=02/day=23/hour=03/20250223T032153Z_ewxoaHAH99Ib0Shj.parquet\n",
      "2025-02-23 03:33:56      13180 aai-540-group-3-final-project/data/db_source/242201273368/sagemaker/us-east-1/offline-store/employee-attrition-feature-store-1740280320/data/year=2025/month=02/day=23/hour=03/20250223T032153Z_f6R9IqO1n8qiIcEQ.parquet\n",
      "2025-02-23 03:23:46      23316 aai-540-group-3-final-project/data/db_source/242201273368/sagemaker/us-east-1/offline-store/employee-attrition-feature-store-1740280320/data/year=2025/month=02/day=23/hour=03/20250223T032153Z_fJTF2CeUNZxAmzjP.parquet\n",
      "2025-02-23 03:23:46      25445 aai-540-group-3-final-project/data/db_source/242201273368/sagemaker/us-east-1/offline-store/employee-attrition-feature-store-1740280320/data/year=2025/month=02/day=23/hour=03/20250223T032153Z_fiBGEz7Xuyg5fSlE.parquet\n",
      "2025-02-23 03:33:46      13387 aai-540-group-3-final-project/data/db_source/242201273368/sagemaker/us-east-1/offline-store/employee-attrition-feature-store-1740280320/data/year=2025/month=02/day=23/hour=03/20250223T032153Z_fjYhJutXykeAudkd.parquet\n",
      "2025-02-23 03:23:46      22890 aai-540-group-3-final-project/data/db_source/242201273368/sagemaker/us-east-1/offline-store/employee-attrition-feature-store-1740280320/data/year=2025/month=02/day=23/hour=03/20250223T032153Z_fmmlJiL8vVoYMX5e.parquet\n",
      "2025-02-23 03:23:46      24821 aai-540-group-3-final-project/data/db_source/242201273368/sagemaker/us-east-1/offline-store/employee-attrition-feature-store-1740280320/data/year=2025/month=02/day=23/hour=03/20250223T032153Z_gWHrKpnP9uXYmXzz.parquet\n",
      "2025-02-23 03:23:46      22865 aai-540-group-3-final-project/data/db_source/242201273368/sagemaker/us-east-1/offline-store/employee-attrition-feature-store-1740280320/data/year=2025/month=02/day=23/hour=03/20250223T032153Z_gnz6H99MEKSwVTuw.parquet\n",
      "2025-02-23 03:28:46      24147 aai-540-group-3-final-project/data/db_source/242201273368/sagemaker/us-east-1/offline-store/employee-attrition-feature-store-1740280320/data/year=2025/month=02/day=23/hour=03/20250223T032153Z_goAwtTV7VJDcJcO9.parquet\n",
      "2025-02-23 03:33:46      12897 aai-540-group-3-final-project/data/db_source/242201273368/sagemaker/us-east-1/offline-store/employee-attrition-feature-store-1740280320/data/year=2025/month=02/day=23/hour=03/20250223T032153Z_gu6fNiFn0BkNFVd9.parquet\n",
      "2025-02-23 03:33:55      12993 aai-540-group-3-final-project/data/db_source/242201273368/sagemaker/us-east-1/offline-store/employee-attrition-feature-store-1740280320/data/year=2025/month=02/day=23/hour=03/20250223T032153Z_hNTC3H3my29ihQQz.parquet\n",
      "2025-02-23 03:23:46      24395 aai-540-group-3-final-project/data/db_source/242201273368/sagemaker/us-east-1/offline-store/employee-attrition-feature-store-1740280320/data/year=2025/month=02/day=23/hour=03/20250223T032153Z_i855FXWHacb29yXg.parquet\n",
      "2025-02-23 03:33:49      13672 aai-540-group-3-final-project/data/db_source/242201273368/sagemaker/us-east-1/offline-store/employee-attrition-feature-store-1740280320/data/year=2025/month=02/day=23/hour=03/20250223T032153Z_ikhrBc3c4xNbMIBf.parquet\n",
      "2025-02-23 03:28:46      25276 aai-540-group-3-final-project/data/db_source/242201273368/sagemaker/us-east-1/offline-store/employee-attrition-feature-store-1740280320/data/year=2025/month=02/day=23/hour=03/20250223T032153Z_ilx2GtVuilmRqXnb.parquet\n",
      "2025-02-23 03:33:46      12600 aai-540-group-3-final-project/data/db_source/242201273368/sagemaker/us-east-1/offline-store/employee-attrition-feature-store-1740280320/data/year=2025/month=02/day=23/hour=03/20250223T032153Z_imgpl48uc89pDxcC.parquet\n",
      "2025-02-23 03:28:46      24602 aai-540-group-3-final-project/data/db_source/242201273368/sagemaker/us-east-1/offline-store/employee-attrition-feature-store-1740280320/data/year=2025/month=02/day=23/hour=03/20250223T032153Z_jrkxXPJES4tc4WeN.parquet\n",
      "2025-02-23 03:23:46      23993 aai-540-group-3-final-project/data/db_source/242201273368/sagemaker/us-east-1/offline-store/employee-attrition-feature-store-1740280320/data/year=2025/month=02/day=23/hour=03/20250223T032153Z_jtV3NrSM2RkxYbvL.parquet\n",
      "2025-02-23 03:28:46      24108 aai-540-group-3-final-project/data/db_source/242201273368/sagemaker/us-east-1/offline-store/employee-attrition-feature-store-1740280320/data/year=2025/month=02/day=23/hour=03/20250223T032153Z_k7mj65ikW89lgQFf.parquet\n",
      "2025-02-23 03:33:46      12830 aai-540-group-3-final-project/data/db_source/242201273368/sagemaker/us-east-1/offline-store/employee-attrition-feature-store-1740280320/data/year=2025/month=02/day=23/hour=03/20250223T032153Z_kiac9zjvVPKAq7Jj.parquet\n",
      "2025-02-23 03:23:46      24348 aai-540-group-3-final-project/data/db_source/242201273368/sagemaker/us-east-1/offline-store/employee-attrition-feature-store-1740280320/data/year=2025/month=02/day=23/hour=03/20250223T032153Z_ktcESkbwFRZTushE.parquet\n",
      "2025-02-23 03:33:46      13361 aai-540-group-3-final-project/data/db_source/242201273368/sagemaker/us-east-1/offline-store/employee-attrition-feature-store-1740280320/data/year=2025/month=02/day=23/hour=03/20250223T032153Z_lwGL8b9NIbhMtK8X.parquet\n",
      "2025-02-23 03:33:46      12388 aai-540-group-3-final-project/data/db_source/242201273368/sagemaker/us-east-1/offline-store/employee-attrition-feature-store-1740280320/data/year=2025/month=02/day=23/hour=03/20250223T032153Z_mM7plC8N48jXHYLo.parquet\n",
      "2025-02-23 03:33:46      12346 aai-540-group-3-final-project/data/db_source/242201273368/sagemaker/us-east-1/offline-store/employee-attrition-feature-store-1740280320/data/year=2025/month=02/day=23/hour=03/20250223T032153Z_mXGUe2GeJTEG49d8.parquet\n",
      "2025-02-23 03:33:46      13558 aai-540-group-3-final-project/data/db_source/242201273368/sagemaker/us-east-1/offline-store/employee-attrition-feature-store-1740280320/data/year=2025/month=02/day=23/hour=03/20250223T032153Z_mqqIPBFevqHFpPeG.parquet\n",
      "2025-02-23 03:33:49      13176 aai-540-group-3-final-project/data/db_source/242201273368/sagemaker/us-east-1/offline-store/employee-attrition-feature-store-1740280320/data/year=2025/month=02/day=23/hour=03/20250223T032153Z_nBuQEKOQRvduAG66.parquet\n",
      "2025-02-23 03:33:46      13668 aai-540-group-3-final-project/data/db_source/242201273368/sagemaker/us-east-1/offline-store/employee-attrition-feature-store-1740280320/data/year=2025/month=02/day=23/hour=03/20250223T032153Z_nGbfERUJtucZK515.parquet\n",
      "2025-02-23 03:23:46      24062 aai-540-group-3-final-project/data/db_source/242201273368/sagemaker/us-east-1/offline-store/employee-attrition-feature-store-1740280320/data/year=2025/month=02/day=23/hour=03/20250223T032153Z_ndsd8dxqwwGFYWtk.parquet\n",
      "2025-02-23 03:28:48      24750 aai-540-group-3-final-project/data/db_source/242201273368/sagemaker/us-east-1/offline-store/employee-attrition-feature-store-1740280320/data/year=2025/month=02/day=23/hour=03/20250223T032153Z_nrpO9pdR4SprzQEe.parquet\n",
      "2025-02-23 03:28:46      23867 aai-540-group-3-final-project/data/db_source/242201273368/sagemaker/us-east-1/offline-store/employee-attrition-feature-store-1740280320/data/year=2025/month=02/day=23/hour=03/20250223T032153Z_o2l6sxLT0J7uhPiJ.parquet\n",
      "2025-02-23 03:23:46      22995 aai-540-group-3-final-project/data/db_source/242201273368/sagemaker/us-east-1/offline-store/employee-attrition-feature-store-1740280320/data/year=2025/month=02/day=23/hour=03/20250223T032153Z_oC7JuYYlmQ6yhDCq.parquet\n",
      "2025-02-23 03:33:46      13241 aai-540-group-3-final-project/data/db_source/242201273368/sagemaker/us-east-1/offline-store/employee-attrition-feature-store-1740280320/data/year=2025/month=02/day=23/hour=03/20250223T032153Z_oF1LAlHhl3cNLJh5.parquet\n",
      "2025-02-23 03:23:46      23701 aai-540-group-3-final-project/data/db_source/242201273368/sagemaker/us-east-1/offline-store/employee-attrition-feature-store-1740280320/data/year=2025/month=02/day=23/hour=03/20250223T032153Z_oZ4Dkidw9WbAP7Wt.parquet\n",
      "2025-02-23 03:28:46      23021 aai-540-group-3-final-project/data/db_source/242201273368/sagemaker/us-east-1/offline-store/employee-attrition-feature-store-1740280320/data/year=2025/month=02/day=23/hour=03/20250223T032153Z_pKSO50WbnIo2jCz7.parquet\n",
      "2025-02-23 03:23:46      24595 aai-540-group-3-final-project/data/db_source/242201273368/sagemaker/us-east-1/offline-store/employee-attrition-feature-store-1740280320/data/year=2025/month=02/day=23/hour=03/20250223T032153Z_pYX2YNPQaJ9uJ1UD.parquet\n",
      "2025-02-23 03:28:46      24403 aai-540-group-3-final-project/data/db_source/242201273368/sagemaker/us-east-1/offline-store/employee-attrition-feature-store-1740280320/data/year=2025/month=02/day=23/hour=03/20250223T032153Z_pl3TTLCyZLV9qDPH.parquet\n",
      "2025-02-23 03:28:46      25047 aai-540-group-3-final-project/data/db_source/242201273368/sagemaker/us-east-1/offline-store/employee-attrition-feature-store-1740280320/data/year=2025/month=02/day=23/hour=03/20250223T032153Z_qajjNibgkOb60TRf.parquet\n",
      "2025-02-23 03:33:46      12678 aai-540-group-3-final-project/data/db_source/242201273368/sagemaker/us-east-1/offline-store/employee-attrition-feature-store-1740280320/data/year=2025/month=02/day=23/hour=03/20250223T032153Z_rHwusmVRcD6NvWCA.parquet\n",
      "2025-02-23 03:33:46      13127 aai-540-group-3-final-project/data/db_source/242201273368/sagemaker/us-east-1/offline-store/employee-attrition-feature-store-1740280320/data/year=2025/month=02/day=23/hour=03/20250223T032153Z_rXZnb10sDNeTg8q1.parquet\n",
      "2025-02-23 03:28:46      24333 aai-540-group-3-final-project/data/db_source/242201273368/sagemaker/us-east-1/offline-store/employee-attrition-feature-store-1740280320/data/year=2025/month=02/day=23/hour=03/20250223T032153Z_rbkbDWJINuDXdKqK.parquet\n",
      "2025-02-23 03:23:46      24981 aai-540-group-3-final-project/data/db_source/242201273368/sagemaker/us-east-1/offline-store/employee-attrition-feature-store-1740280320/data/year=2025/month=02/day=23/hour=03/20250223T032153Z_rlHfaIR4QTJWfut9.parquet\n",
      "2025-02-23 03:33:46      12824 aai-540-group-3-final-project/data/db_source/242201273368/sagemaker/us-east-1/offline-store/employee-attrition-feature-store-1740280320/data/year=2025/month=02/day=23/hour=03/20250223T032153Z_rt3rDhD3Qoc5Vfyn.parquet\n",
      "2025-02-23 03:23:46      23666 aai-540-group-3-final-project/data/db_source/242201273368/sagemaker/us-east-1/offline-store/employee-attrition-feature-store-1740280320/data/year=2025/month=02/day=23/hour=03/20250223T032153Z_sv5igHPOJNRX0ECd.parquet\n",
      "2025-02-23 03:28:46      24142 aai-540-group-3-final-project/data/db_source/242201273368/sagemaker/us-east-1/offline-store/employee-attrition-feature-store-1740280320/data/year=2025/month=02/day=23/hour=03/20250223T032153Z_t5pZYPJCvMSnD9Cy.parquet\n",
      "2025-02-23 03:33:46      12440 aai-540-group-3-final-project/data/db_source/242201273368/sagemaker/us-east-1/offline-store/employee-attrition-feature-store-1740280320/data/year=2025/month=02/day=23/hour=03/20250223T032153Z_tGEOxLj0T9Tl7niQ.parquet\n",
      "2025-02-23 03:23:46      23136 aai-540-group-3-final-project/data/db_source/242201273368/sagemaker/us-east-1/offline-store/employee-attrition-feature-store-1740280320/data/year=2025/month=02/day=23/hour=03/20250223T032153Z_tJXwsmXCcITr6M3i.parquet\n",
      "2025-02-23 03:33:55      12908 aai-540-group-3-final-project/data/db_source/242201273368/sagemaker/us-east-1/offline-store/employee-attrition-feature-store-1740280320/data/year=2025/month=02/day=23/hour=03/20250223T032153Z_tK9NiwEE5MyVRp2W.parquet\n",
      "2025-02-23 03:33:55      13549 aai-540-group-3-final-project/data/db_source/242201273368/sagemaker/us-east-1/offline-store/employee-attrition-feature-store-1740280320/data/year=2025/month=02/day=23/hour=03/20250223T032153Z_tTOuFDE6W7xYZV0e.parquet\n",
      "2025-02-23 03:33:49      13144 aai-540-group-3-final-project/data/db_source/242201273368/sagemaker/us-east-1/offline-store/employee-attrition-feature-store-1740280320/data/year=2025/month=02/day=23/hour=03/20250223T032153Z_taNE4qDa5tm9cIA0.parquet\n",
      "2025-02-23 03:23:46      23614 aai-540-group-3-final-project/data/db_source/242201273368/sagemaker/us-east-1/offline-store/employee-attrition-feature-store-1740280320/data/year=2025/month=02/day=23/hour=03/20250223T032153Z_tlTgYMznsra7hK7H.parquet\n",
      "2025-02-23 03:28:46      23752 aai-540-group-3-final-project/data/db_source/242201273368/sagemaker/us-east-1/offline-store/employee-attrition-feature-store-1740280320/data/year=2025/month=02/day=23/hour=03/20250223T032153Z_u3fonclPtiZ3qXrb.parquet\n",
      "2025-02-23 03:28:46      24408 aai-540-group-3-final-project/data/db_source/242201273368/sagemaker/us-east-1/offline-store/employee-attrition-feature-store-1740280320/data/year=2025/month=02/day=23/hour=03/20250223T032153Z_unkCKMnv3loV7Wmg.parquet\n",
      "2025-02-23 03:28:46      24050 aai-540-group-3-final-project/data/db_source/242201273368/sagemaker/us-east-1/offline-store/employee-attrition-feature-store-1740280320/data/year=2025/month=02/day=23/hour=03/20250223T032153Z_v0pxlI6j7wo6Wm6u.parquet\n",
      "2025-02-23 03:28:46      24601 aai-540-group-3-final-project/data/db_source/242201273368/sagemaker/us-east-1/offline-store/employee-attrition-feature-store-1740280320/data/year=2025/month=02/day=23/hour=03/20250223T032153Z_vY8EnAvAsOfIKAck.parquet\n",
      "2025-02-23 03:28:46      24071 aai-540-group-3-final-project/data/db_source/242201273368/sagemaker/us-east-1/offline-store/employee-attrition-feature-store-1740280320/data/year=2025/month=02/day=23/hour=03/20250223T032153Z_wPT2ZlZMm76hfauS.parquet\n",
      "2025-02-23 03:28:46      24469 aai-540-group-3-final-project/data/db_source/242201273368/sagemaker/us-east-1/offline-store/employee-attrition-feature-store-1740280320/data/year=2025/month=02/day=23/hour=03/20250223T032153Z_wYAyLvwTZuupKdnO.parquet\n",
      "2025-02-23 03:28:46      24731 aai-540-group-3-final-project/data/db_source/242201273368/sagemaker/us-east-1/offline-store/employee-attrition-feature-store-1740280320/data/year=2025/month=02/day=23/hour=03/20250223T032153Z_xyLXRCMRYK8dwR1D.parquet\n",
      "2025-02-23 03:28:46      24066 aai-540-group-3-final-project/data/db_source/242201273368/sagemaker/us-east-1/offline-store/employee-attrition-feature-store-1740280320/data/year=2025/month=02/day=23/hour=03/20250223T032153Z_y8Q4I1P2YsrzxvRd.parquet\n",
      "2025-02-23 03:28:46      24104 aai-540-group-3-final-project/data/db_source/242201273368/sagemaker/us-east-1/offline-store/employee-attrition-feature-store-1740280320/data/year=2025/month=02/day=23/hour=03/20250223T032153Z_yAvUtCoLsL6IgE2A.parquet\n",
      "2025-02-23 03:28:46      25240 aai-540-group-3-final-project/data/db_source/242201273368/sagemaker/us-east-1/offline-store/employee-attrition-feature-store-1740280320/data/year=2025/month=02/day=23/hour=03/20250223T032153Z_zXWyBSH6ibsX9zPA.parquet\n",
      "2025-02-23 03:23:46      23427 aai-540-group-3-final-project/data/db_source/242201273368/sagemaker/us-east-1/offline-store/employee-attrition-feature-store-1740280320/data/year=2025/month=02/day=23/hour=03/20250223T032153Z_zlTda4FhhSgNK3Q7.parquet\n",
      "2025-02-23 03:33:46      12983 aai-540-group-3-final-project/data/db_source/242201273368/sagemaker/us-east-1/offline-store/employee-attrition-feature-store-1740280320/data/year=2025/month=02/day=23/hour=03/20250223T032153Z_ztZFOg40D10QEOZU.parquet\n",
      "2025-02-23 03:23:46      24812 aai-540-group-3-final-project/data/db_source/242201273368/sagemaker/us-east-1/offline-store/employee-attrition-feature-store-1740280320/data/year=2025/month=02/day=23/hour=03/20250223T032153Z_zwVca2W8ItwVyZUA.parquet\n",
      "2025-02-23 03:45:36    2616747 aai-540-group-3-final-project/data/db_source/remaining_data.csv\n",
      "2025-02-23 03:45:38    9550295 aai-540-group-3-final-project/data/eda/data.csv\n",
      "2025-02-23 03:45:37    1744315 aai-540-group-3-final-project/data/holdout/holdout.csv\n"
     ]
    }
   ],
   "source": [
    "# check what is in DATA_FOLDER\n",
    "!aws s3 ls $DATA_FOLDER --recursive"
   ]
  },
  {
   "cell_type": "markdown",
   "id": "281cc76f-2383-465e-b3b4-bdd3627d7cf8",
   "metadata": {},
   "source": [
    "## Creating Athena Schema"
   ]
  },
  {
   "cell_type": "code",
   "execution_count": 6,
   "id": "49aef035-2f73-40fd-8f64-c3c3472701ee",
   "metadata": {
    "tags": []
   },
   "outputs": [
    {
     "data": {
      "text/html": [
       "<pre style=\"white-space:pre;overflow-x:auto;line-height:normal;font-family:Menlo,'DejaVu Sans Mono',consolas,'Courier New',monospace\"><span style=\"color: #7fbfbf; text-decoration-color: #7fbfbf\">[02/23/25 03:46:49] </span><span style=\"color: #0069ff; text-decoration-color: #0069ff; font-weight: bold\">INFO    </span> Found credentials from IAM Role:                                   <a href=\"file:///home/ec2-user/anaconda3/envs/python3/lib/python3.10/site-packages/botocore/credentials.py\" target=\"_blank\"><span style=\"color: #7f7f7f; text-decoration-color: #7f7f7f\">credentials.py</span></a><span style=\"color: #7f7f7f; text-decoration-color: #7f7f7f\">:</span><a href=\"file:///home/ec2-user/anaconda3/envs/python3/lib/python3.10/site-packages/botocore/credentials.py#1075\" target=\"_blank\"><span style=\"color: #7f7f7f; text-decoration-color: #7f7f7f\">1075</span></a>\n",
       "<span style=\"color: #7fbfbf; text-decoration-color: #7fbfbf\">                    </span>         BaseNotebookInstanceEc2InstanceRole                                <span style=\"color: #7f7f7f; text-decoration-color: #7f7f7f\">                   </span>\n",
       "</pre>\n"
      ],
      "text/plain": [
       "\u001b[2;36m[02/23/25 03:46:49]\u001b[0m\u001b[2;36m \u001b[0m\u001b[1;38;2;0;105;255mINFO    \u001b[0m Found credentials from IAM Role:                                   \u001b]8;id=114041;file:///home/ec2-user/anaconda3/envs/python3/lib/python3.10/site-packages/botocore/credentials.py\u001b\\\u001b[2mcredentials.py\u001b[0m\u001b]8;;\u001b\\\u001b[2m:\u001b[0m\u001b]8;id=73507;file:///home/ec2-user/anaconda3/envs/python3/lib/python3.10/site-packages/botocore/credentials.py#1075\u001b\\\u001b[2m1075\u001b[0m\u001b]8;;\u001b\\\n",
       "\u001b[2;36m                    \u001b[0m         BaseNotebookInstanceEc2InstanceRole                                \u001b[2m                   \u001b[0m\n"
      ]
     },
     "metadata": {},
     "output_type": "display_data"
    }
   ],
   "source": [
    "# Establish a connection to the AWS Athena service, specifying the region and an S3 staging directory\n",
    "# where query results will be stored.\n",
    "conn = connect(region_name=region, s3_staging_dir=STAGE_DIR)"
   ]
  },
  {
   "cell_type": "code",
   "execution_count": 7,
   "id": "90ae3b90-e169-405d-a7f8-1b7f24df55d3",
   "metadata": {
    "tags": []
   },
   "outputs": [
    {
     "name": "stdout",
     "output_type": "stream",
     "text": [
      "{'QueryExecutionId': '6b070633-fb34-43d9-a97b-203eb5d81168', 'ResponseMetadata': {'RequestId': '6efd65c1-9095-45e6-989f-8b72c93abd4d', 'HTTPStatusCode': 200, 'HTTPHeaders': {'date': 'Sun, 23 Feb 2025 03:46:49 GMT', 'content-type': 'application/x-amz-json-1.1', 'content-length': '59', 'connection': 'keep-alive', 'x-amzn-requestid': '6efd65c1-9095-45e6-989f-8b72c93abd4d'}, 'RetryAttempts': 0}}\n"
     ]
    }
   ],
   "source": [
    "# Delete Athena db if exists \n",
    "db_drop_statement = f\"DROP DATABASE IF EXISTS {DATABASE} CASCADE;\"\n",
    "\n",
    "# Run the DROP DATABASE query\n",
    "response = athena_client.start_query_execution(\n",
    "    QueryString=db_drop_statement,\n",
    "    QueryExecutionContext={\n",
    "        'Database': DATABASE  # Specify your database here\n",
    "    },\n",
    "    ResultConfiguration={\n",
    "        'OutputLocation': STAGE_DIR\n",
    "    }\n",
    ")\n",
    "\n",
    "print(response)"
   ]
  },
  {
   "cell_type": "code",
   "execution_count": 8,
   "id": "847c2a5c-185b-4e10-8c51-fedcb93946b1",
   "metadata": {
    "tags": []
   },
   "outputs": [
    {
     "name": "stderr",
     "output_type": "stream",
     "text": [
      "/tmp/ipykernel_10718/3777991661.py:7: UserWarning: pandas only supports SQLAlchemy connectable (engine/connection) or database string URI or sqlite3 DBAPI2 connection. Other DBAPI2 objects are not tested. Please consider using SQLAlchemy.\n",
      "  pd.read_sql(db_create_statement, conn)\n"
     ]
    },
    {
     "data": {
      "text/html": [
       "<div>\n",
       "<style scoped>\n",
       "    .dataframe tbody tr th:only-of-type {\n",
       "        vertical-align: middle;\n",
       "    }\n",
       "\n",
       "    .dataframe tbody tr th {\n",
       "        vertical-align: top;\n",
       "    }\n",
       "\n",
       "    .dataframe thead th {\n",
       "        text-align: right;\n",
       "    }\n",
       "</style>\n",
       "<table border=\"1\" class=\"dataframe\">\n",
       "  <thead>\n",
       "    <tr style=\"text-align: right;\">\n",
       "      <th></th>\n",
       "    </tr>\n",
       "  </thead>\n",
       "  <tbody>\n",
       "  </tbody>\n",
       "</table>\n",
       "</div>"
      ],
      "text/plain": [
       "Empty DataFrame\n",
       "Columns: []\n",
       "Index: []"
      ]
     },
     "execution_count": 8,
     "metadata": {},
     "output_type": "execute_result"
    }
   ],
   "source": [
    "# Define a SQL statement to create a database in Athena if it doesn't already exist.\n",
    "# The database name is dynamically determined by the variable `DATABASE`.\n",
    "db_create_statement = f\"CREATE DATABASE IF NOT EXISTS {DATABASE}\"\n",
    "\n",
    "# Execute the SQL statement using the established connection and Pandas, \n",
    "# which sends the query to Athena and ensures the database is created.\n",
    "pd.read_sql(db_create_statement, conn)"
   ]
  },
  {
   "cell_type": "code",
   "execution_count": 9,
   "id": "c4f007f6-f9fd-4e7c-9bfc-e380f18e6b01",
   "metadata": {
    "tags": []
   },
   "outputs": [
    {
     "name": "stderr",
     "output_type": "stream",
     "text": [
      "/tmp/ipykernel_10718/1619648943.py:5: UserWarning: pandas only supports SQLAlchemy connectable (engine/connection) or database string URI or sqlite3 DBAPI2 connection. Other DBAPI2 objects are not tested. Please consider using SQLAlchemy.\n",
      "  df_show = pd.read_sql(show_db_statement, conn)\n"
     ]
    },
    {
     "data": {
      "text/html": [
       "<div>\n",
       "<style scoped>\n",
       "    .dataframe tbody tr th:only-of-type {\n",
       "        vertical-align: middle;\n",
       "    }\n",
       "\n",
       "    .dataframe tbody tr th {\n",
       "        vertical-align: top;\n",
       "    }\n",
       "\n",
       "    .dataframe thead th {\n",
       "        text-align: right;\n",
       "    }\n",
       "</style>\n",
       "<table border=\"1\" class=\"dataframe\">\n",
       "  <thead>\n",
       "    <tr style=\"text-align: right;\">\n",
       "      <th></th>\n",
       "      <th>database_name</th>\n",
       "    </tr>\n",
       "  </thead>\n",
       "  <tbody>\n",
       "    <tr>\n",
       "      <th>0</th>\n",
       "      <td>default</td>\n",
       "    </tr>\n",
       "    <tr>\n",
       "      <th>1</th>\n",
       "      <td>retainai</td>\n",
       "    </tr>\n",
       "    <tr>\n",
       "      <th>2</th>\n",
       "      <td>sagemaker_featurestore</td>\n",
       "    </tr>\n",
       "  </tbody>\n",
       "</table>\n",
       "</div>"
      ],
      "text/plain": [
       "            database_name\n",
       "0                 default\n",
       "1                retainai\n",
       "2  sagemaker_featurestore"
      ]
     },
     "execution_count": 9,
     "metadata": {},
     "output_type": "execute_result"
    }
   ],
   "source": [
    "# Define a SQL statement to list all existing databases in the AWS Athena service.\n",
    "show_db_statement = \"SHOW DATABASES\"\n",
    "\n",
    "# Execute the SQL query using the established connection, and store the results in a Pandas DataFrame.\n",
    "df_show = pd.read_sql(show_db_statement, conn)\n",
    "\n",
    "# Display the first 5 rows of the DataFrame to view the list of databases.\n",
    "df_show.head(5)"
   ]
  },
  {
   "cell_type": "markdown",
   "id": "9919765c-6ea6-4e1a-8f59-972ff7b07dbc",
   "metadata": {},
   "source": [
    "## Registering Data with Athena"
   ]
  },
  {
   "cell_type": "markdown",
   "id": "c7d033f4-15c1-44c6-9a9a-cf86d0dd1f27",
   "metadata": {},
   "source": [
    "### Creating Employee Data Table"
   ]
  },
  {
   "cell_type": "code",
   "execution_count": 10,
   "id": "48f7639c-e68f-4c58-9a94-609797e49e80",
   "metadata": {
    "tags": []
   },
   "outputs": [
    {
     "name": "stdout",
     "output_type": "stream",
     "text": [
      "\n",
      "CREATE EXTERNAL TABLE IF NOT EXISTS retainAI.employee_table (\n",
      "    employee_id INT,\n",
      "    age INT,\n",
      "    gender STRING,\n",
      "    years_at_company INT,\n",
      "    job_role STRING,\n",
      "    monthly_income INT,\n",
      "    work_life_balance STRING,\n",
      "    job_satisfaction STRING,\n",
      "    performance_rating STRING,\n",
      "    number_of_promotions INT,\n",
      "    distance_from_home INT,\n",
      "    education_level STRING,\n",
      "    marital_status STRING,\n",
      "    number_of_dependents INT,\n",
      "    job_level STRING,\n",
      "    company_size STRING,\n",
      "    company_tenure INT,\n",
      "    remote_work STRING,\n",
      "    leadership_opportunities STRING,\n",
      "    innovation_opportunities STRING,\n",
      "    company_reputation STRING,\n",
      "    employee_recognition STRING,\n",
      "    attrition STRING\n",
      ")\n",
      "ROW FORMAT DELIMITED\n",
      "FIELDS TERMINATED BY ','\n",
      "LINES TERMINATED BY '\\n'\n",
      "LOCATION 's3://sagemaker-us-east-1-242201273368/aai-540-group-3-final-project/data/db_source/'\n",
      "TBLPROPERTIES ('skip.header.line.count'='1')\n",
      "\n"
     ]
    }
   ],
   "source": [
    "CREATE_STATEMENT = \"\"\"\n",
    "CREATE EXTERNAL TABLE IF NOT EXISTS {}.{} (\n",
    "    employee_id INT,\n",
    "    age INT,\n",
    "    gender STRING,\n",
    "    years_at_company INT,\n",
    "    job_role STRING,\n",
    "    monthly_income INT,\n",
    "    work_life_balance STRING,\n",
    "    job_satisfaction STRING,\n",
    "    performance_rating STRING,\n",
    "    number_of_promotions INT,\n",
    "    distance_from_home INT,\n",
    "    education_level STRING,\n",
    "    marital_status STRING,\n",
    "    number_of_dependents INT,\n",
    "    job_level STRING,\n",
    "    company_size STRING,\n",
    "    company_tenure INT,\n",
    "    remote_work STRING,\n",
    "    leadership_opportunities STRING,\n",
    "    innovation_opportunities STRING,\n",
    "    company_reputation STRING,\n",
    "    employee_recognition STRING,\n",
    "    attrition STRING\n",
    ")\n",
    "ROW FORMAT DELIMITED\n",
    "FIELDS TERMINATED BY ','\n",
    "LINES TERMINATED BY '\\\\n'\n",
    "LOCATION '{}'\n",
    "TBLPROPERTIES ('skip.header.line.count'='1')\n",
    "\"\"\".format(DATABASE, EMPLOYEE_TABLE, DATA_PATH)\n",
    "\n",
    "# Ensuring everything is formatted correctly\n",
    "print(CREATE_STATEMENT)"
   ]
  },
  {
   "cell_type": "code",
   "execution_count": 11,
   "id": "efa40d9f-4f2b-47a3-9bfd-ab3bf53bd1ac",
   "metadata": {
    "tags": []
   },
   "outputs": [
    {
     "name": "stderr",
     "output_type": "stream",
     "text": [
      "/tmp/ipykernel_10718/75521144.py:2: UserWarning: pandas only supports SQLAlchemy connectable (engine/connection) or database string URI or sqlite3 DBAPI2 connection. Other DBAPI2 objects are not tested. Please consider using SQLAlchemy.\n",
      "  pd.read_sql(CREATE_STATEMENT, conn)\n"
     ]
    },
    {
     "data": {
      "text/html": [
       "<div>\n",
       "<style scoped>\n",
       "    .dataframe tbody tr th:only-of-type {\n",
       "        vertical-align: middle;\n",
       "    }\n",
       "\n",
       "    .dataframe tbody tr th {\n",
       "        vertical-align: top;\n",
       "    }\n",
       "\n",
       "    .dataframe thead th {\n",
       "        text-align: right;\n",
       "    }\n",
       "</style>\n",
       "<table border=\"1\" class=\"dataframe\">\n",
       "  <thead>\n",
       "    <tr style=\"text-align: right;\">\n",
       "      <th></th>\n",
       "    </tr>\n",
       "  </thead>\n",
       "  <tbody>\n",
       "  </tbody>\n",
       "</table>\n",
       "</div>"
      ],
      "text/plain": [
       "Empty DataFrame\n",
       "Columns: []\n",
       "Index: []"
      ]
     },
     "execution_count": 11,
     "metadata": {},
     "output_type": "execute_result"
    }
   ],
   "source": [
    "# Execute the SQL query defined in CREATE_STATEMENT to create the employee data table in Athena. \n",
    "pd.read_sql(CREATE_STATEMENT, conn)"
   ]
  },
  {
   "cell_type": "markdown",
   "id": "85a45a7c-54db-498f-9dbe-4d72a1dd27e8",
   "metadata": {},
   "source": [
    "### Check Tables and Ensure Correctness\n",
    "\n",
    "If everything runs correctly, you should see tab_name = employee_table"
   ]
  },
  {
   "cell_type": "code",
   "execution_count": 12,
   "id": "b3bd24ac-f463-42e9-b203-6c9982498fc9",
   "metadata": {
    "tags": []
   },
   "outputs": [
    {
     "name": "stderr",
     "output_type": "stream",
     "text": [
      "/tmp/ipykernel_10718/457795480.py:3: UserWarning: pandas only supports SQLAlchemy connectable (engine/connection) or database string URI or sqlite3 DBAPI2 connection. Other DBAPI2 objects are not tested. Please consider using SQLAlchemy.\n",
      "  df_show = pd.read_sql(check_table_statement, conn)\n"
     ]
    },
    {
     "data": {
      "text/html": [
       "<div>\n",
       "<style scoped>\n",
       "    .dataframe tbody tr th:only-of-type {\n",
       "        vertical-align: middle;\n",
       "    }\n",
       "\n",
       "    .dataframe tbody tr th {\n",
       "        vertical-align: top;\n",
       "    }\n",
       "\n",
       "    .dataframe thead th {\n",
       "        text-align: right;\n",
       "    }\n",
       "</style>\n",
       "<table border=\"1\" class=\"dataframe\">\n",
       "  <thead>\n",
       "    <tr style=\"text-align: right;\">\n",
       "      <th></th>\n",
       "      <th>tab_name</th>\n",
       "    </tr>\n",
       "  </thead>\n",
       "  <tbody>\n",
       "    <tr>\n",
       "      <th>0</th>\n",
       "      <td>employee_table</td>\n",
       "    </tr>\n",
       "  </tbody>\n",
       "</table>\n",
       "</div>"
      ],
      "text/plain": [
       "         tab_name\n",
       "0  employee_table"
      ]
     },
     "execution_count": 12,
     "metadata": {},
     "output_type": "execute_result"
    }
   ],
   "source": [
    "check_table_statement = \"SHOW TABLES in {}\".format(DATABASE)\n",
    "\n",
    "df_show = pd.read_sql(check_table_statement, conn)\n",
    "df_show"
   ]
  },
  {
   "cell_type": "code",
   "execution_count": 13,
   "id": "fd390768-ae1c-458b-8103-1b63812a3fec",
   "metadata": {
    "tags": []
   },
   "outputs": [
    {
     "name": "stderr",
     "output_type": "stream",
     "text": [
      "/tmp/ipykernel_10718/2012675176.py:3: UserWarning: pandas only supports SQLAlchemy connectable (engine/connection) or database string URI or sqlite3 DBAPI2 connection. Other DBAPI2 objects are not tested. Please consider using SQLAlchemy.\n",
      "  count_show = pd.read_sql(count_records,conn)\n"
     ]
    },
    {
     "data": {
      "text/html": [
       "<div>\n",
       "<style scoped>\n",
       "    .dataframe tbody tr th:only-of-type {\n",
       "        vertical-align: middle;\n",
       "    }\n",
       "\n",
       "    .dataframe tbody tr th {\n",
       "        vertical-align: top;\n",
       "    }\n",
       "\n",
       "    .dataframe thead th {\n",
       "        text-align: right;\n",
       "    }\n",
       "</style>\n",
       "<table border=\"1\" class=\"dataframe\">\n",
       "  <thead>\n",
       "    <tr style=\"text-align: right;\">\n",
       "      <th></th>\n",
       "      <th>_col0</th>\n",
       "    </tr>\n",
       "  </thead>\n",
       "  <tbody>\n",
       "    <tr>\n",
       "      <th>0</th>\n",
       "      <td>58763</td>\n",
       "    </tr>\n",
       "  </tbody>\n",
       "</table>\n",
       "</div>"
      ],
      "text/plain": [
       "   _col0\n",
       "0  58763"
      ]
     },
     "execution_count": 13,
     "metadata": {},
     "output_type": "execute_result"
    }
   ],
   "source": [
    "# If everything runs as expected, you should get a return value of 74,498 instances in our table\n",
    "count_records = f\"\"\"SELECT COUNT(*) FROM {DATABASE}.{EMPLOYEE_TABLE}\"\"\"\n",
    "count_show = pd.read_sql(count_records,conn)\n",
    "count_show"
   ]
  },
  {
   "cell_type": "markdown",
   "id": "e3a61743-f119-4a47-90a5-3f0bc2f3a59b",
   "metadata": {},
   "source": [
    "## Release Resources"
   ]
  },
  {
   "cell_type": "code",
   "execution_count": 2,
   "id": "7c6fa35c-1fc0-4ca5-a91c-ecbfa4aa46ea",
   "metadata": {
    "tags": []
   },
   "outputs": [
    {
     "data": {
      "text/html": [
       "\n",
       "<p><b>Shutting down your kernel for this notebook to release resources.</b></p>\n",
       "<button class=\"sm-command-button\" data-commandlinker-command=\"kernelmenu:shutdown\" style=\"display:none;\">Shutdown Kernel</button>\n",
       "        \n",
       "<script>\n",
       "try {\n",
       "    els = document.getElementsByClassName(\"sm-command-button\");\n",
       "    els[0].click();\n",
       "}\n",
       "catch(err) {\n",
       "    // NoOp\n",
       "}    \n",
       "</script>\n"
      ],
      "text/plain": [
       "<IPython.core.display.HTML object>"
      ]
     },
     "metadata": {},
     "output_type": "display_data"
    }
   ],
   "source": [
    "%%html\n",
    "\n",
    "<p><b>Shutting down your kernel for this notebook to release resources.</b></p>\n",
    "<button class=\"sm-command-button\" data-commandlinker-command=\"kernelmenu:shutdown\" style=\"display:none;\">Shutdown Kernel</button>\n",
    "        \n",
    "<script>\n",
    "try {\n",
    "    els = document.getElementsByClassName(\"sm-command-button\");\n",
    "    els[0].click();\n",
    "}\n",
    "catch(err) {\n",
    "    // NoOp\n",
    "}    \n",
    "</script>"
   ]
  },
  {
   "cell_type": "code",
   "execution_count": 1,
   "id": "3d581123-55b9-4644-926f-2cc149873ac0",
   "metadata": {
    "tags": []
   },
   "outputs": [
    {
     "data": {
      "application/javascript": "\ntry {\n    Jupyter.notebook.save_checkpoint();\n    Jupyter.notebook.session.delete();\n}\ncatch(err) {\n    // NoOp\n}\n",
      "text/plain": [
       "<IPython.core.display.Javascript object>"
      ]
     },
     "metadata": {},
     "output_type": "display_data"
    }
   ],
   "source": [
    "%%javascript\n",
    "\n",
    "try {\n",
    "    Jupyter.notebook.save_checkpoint();\n",
    "    Jupyter.notebook.session.delete();\n",
    "}\n",
    "catch(err) {\n",
    "    // NoOp\n",
    "}"
   ]
  },
  {
   "cell_type": "code",
   "execution_count": null,
   "id": "4ce4ce84-9298-4da9-9e63-98204b9311b0",
   "metadata": {},
   "outputs": [],
   "source": []
  }
 ],
 "metadata": {
  "availableInstances": [
   {
    "_defaultOrder": 0,
    "_isFastLaunch": true,
    "category": "General purpose",
    "gpuNum": 0,
    "hideHardwareSpecs": false,
    "memoryGiB": 4,
    "name": "ml.t3.medium",
    "vcpuNum": 2
   },
   {
    "_defaultOrder": 1,
    "_isFastLaunch": false,
    "category": "General purpose",
    "gpuNum": 0,
    "hideHardwareSpecs": false,
    "memoryGiB": 8,
    "name": "ml.t3.large",
    "vcpuNum": 2
   },
   {
    "_defaultOrder": 2,
    "_isFastLaunch": false,
    "category": "General purpose",
    "gpuNum": 0,
    "hideHardwareSpecs": false,
    "memoryGiB": 16,
    "name": "ml.t3.xlarge",
    "vcpuNum": 4
   },
   {
    "_defaultOrder": 3,
    "_isFastLaunch": false,
    "category": "General purpose",
    "gpuNum": 0,
    "hideHardwareSpecs": false,
    "memoryGiB": 32,
    "name": "ml.t3.2xlarge",
    "vcpuNum": 8
   },
   {
    "_defaultOrder": 4,
    "_isFastLaunch": true,
    "category": "General purpose",
    "gpuNum": 0,
    "hideHardwareSpecs": false,
    "memoryGiB": 8,
    "name": "ml.m5.large",
    "vcpuNum": 2
   },
   {
    "_defaultOrder": 5,
    "_isFastLaunch": false,
    "category": "General purpose",
    "gpuNum": 0,
    "hideHardwareSpecs": false,
    "memoryGiB": 16,
    "name": "ml.m5.xlarge",
    "vcpuNum": 4
   },
   {
    "_defaultOrder": 6,
    "_isFastLaunch": false,
    "category": "General purpose",
    "gpuNum": 0,
    "hideHardwareSpecs": false,
    "memoryGiB": 32,
    "name": "ml.m5.2xlarge",
    "vcpuNum": 8
   },
   {
    "_defaultOrder": 7,
    "_isFastLaunch": false,
    "category": "General purpose",
    "gpuNum": 0,
    "hideHardwareSpecs": false,
    "memoryGiB": 64,
    "name": "ml.m5.4xlarge",
    "vcpuNum": 16
   },
   {
    "_defaultOrder": 8,
    "_isFastLaunch": false,
    "category": "General purpose",
    "gpuNum": 0,
    "hideHardwareSpecs": false,
    "memoryGiB": 128,
    "name": "ml.m5.8xlarge",
    "vcpuNum": 32
   },
   {
    "_defaultOrder": 9,
    "_isFastLaunch": false,
    "category": "General purpose",
    "gpuNum": 0,
    "hideHardwareSpecs": false,
    "memoryGiB": 192,
    "name": "ml.m5.12xlarge",
    "vcpuNum": 48
   },
   {
    "_defaultOrder": 10,
    "_isFastLaunch": false,
    "category": "General purpose",
    "gpuNum": 0,
    "hideHardwareSpecs": false,
    "memoryGiB": 256,
    "name": "ml.m5.16xlarge",
    "vcpuNum": 64
   },
   {
    "_defaultOrder": 11,
    "_isFastLaunch": false,
    "category": "General purpose",
    "gpuNum": 0,
    "hideHardwareSpecs": false,
    "memoryGiB": 384,
    "name": "ml.m5.24xlarge",
    "vcpuNum": 96
   },
   {
    "_defaultOrder": 12,
    "_isFastLaunch": false,
    "category": "General purpose",
    "gpuNum": 0,
    "hideHardwareSpecs": false,
    "memoryGiB": 8,
    "name": "ml.m5d.large",
    "vcpuNum": 2
   },
   {
    "_defaultOrder": 13,
    "_isFastLaunch": false,
    "category": "General purpose",
    "gpuNum": 0,
    "hideHardwareSpecs": false,
    "memoryGiB": 16,
    "name": "ml.m5d.xlarge",
    "vcpuNum": 4
   },
   {
    "_defaultOrder": 14,
    "_isFastLaunch": false,
    "category": "General purpose",
    "gpuNum": 0,
    "hideHardwareSpecs": false,
    "memoryGiB": 32,
    "name": "ml.m5d.2xlarge",
    "vcpuNum": 8
   },
   {
    "_defaultOrder": 15,
    "_isFastLaunch": false,
    "category": "General purpose",
    "gpuNum": 0,
    "hideHardwareSpecs": false,
    "memoryGiB": 64,
    "name": "ml.m5d.4xlarge",
    "vcpuNum": 16
   },
   {
    "_defaultOrder": 16,
    "_isFastLaunch": false,
    "category": "General purpose",
    "gpuNum": 0,
    "hideHardwareSpecs": false,
    "memoryGiB": 128,
    "name": "ml.m5d.8xlarge",
    "vcpuNum": 32
   },
   {
    "_defaultOrder": 17,
    "_isFastLaunch": false,
    "category": "General purpose",
    "gpuNum": 0,
    "hideHardwareSpecs": false,
    "memoryGiB": 192,
    "name": "ml.m5d.12xlarge",
    "vcpuNum": 48
   },
   {
    "_defaultOrder": 18,
    "_isFastLaunch": false,
    "category": "General purpose",
    "gpuNum": 0,
    "hideHardwareSpecs": false,
    "memoryGiB": 256,
    "name": "ml.m5d.16xlarge",
    "vcpuNum": 64
   },
   {
    "_defaultOrder": 19,
    "_isFastLaunch": false,
    "category": "General purpose",
    "gpuNum": 0,
    "hideHardwareSpecs": false,
    "memoryGiB": 384,
    "name": "ml.m5d.24xlarge",
    "vcpuNum": 96
   },
   {
    "_defaultOrder": 20,
    "_isFastLaunch": false,
    "category": "General purpose",
    "gpuNum": 0,
    "hideHardwareSpecs": true,
    "memoryGiB": 0,
    "name": "ml.geospatial.interactive",
    "supportedImageNames": [
     "sagemaker-geospatial-v1-0"
    ],
    "vcpuNum": 0
   },
   {
    "_defaultOrder": 21,
    "_isFastLaunch": true,
    "category": "Compute optimized",
    "gpuNum": 0,
    "hideHardwareSpecs": false,
    "memoryGiB": 4,
    "name": "ml.c5.large",
    "vcpuNum": 2
   },
   {
    "_defaultOrder": 22,
    "_isFastLaunch": false,
    "category": "Compute optimized",
    "gpuNum": 0,
    "hideHardwareSpecs": false,
    "memoryGiB": 8,
    "name": "ml.c5.xlarge",
    "vcpuNum": 4
   },
   {
    "_defaultOrder": 23,
    "_isFastLaunch": false,
    "category": "Compute optimized",
    "gpuNum": 0,
    "hideHardwareSpecs": false,
    "memoryGiB": 16,
    "name": "ml.c5.2xlarge",
    "vcpuNum": 8
   },
   {
    "_defaultOrder": 24,
    "_isFastLaunch": false,
    "category": "Compute optimized",
    "gpuNum": 0,
    "hideHardwareSpecs": false,
    "memoryGiB": 32,
    "name": "ml.c5.4xlarge",
    "vcpuNum": 16
   },
   {
    "_defaultOrder": 25,
    "_isFastLaunch": false,
    "category": "Compute optimized",
    "gpuNum": 0,
    "hideHardwareSpecs": false,
    "memoryGiB": 72,
    "name": "ml.c5.9xlarge",
    "vcpuNum": 36
   },
   {
    "_defaultOrder": 26,
    "_isFastLaunch": false,
    "category": "Compute optimized",
    "gpuNum": 0,
    "hideHardwareSpecs": false,
    "memoryGiB": 96,
    "name": "ml.c5.12xlarge",
    "vcpuNum": 48
   },
   {
    "_defaultOrder": 27,
    "_isFastLaunch": false,
    "category": "Compute optimized",
    "gpuNum": 0,
    "hideHardwareSpecs": false,
    "memoryGiB": 144,
    "name": "ml.c5.18xlarge",
    "vcpuNum": 72
   },
   {
    "_defaultOrder": 28,
    "_isFastLaunch": false,
    "category": "Compute optimized",
    "gpuNum": 0,
    "hideHardwareSpecs": false,
    "memoryGiB": 192,
    "name": "ml.c5.24xlarge",
    "vcpuNum": 96
   },
   {
    "_defaultOrder": 29,
    "_isFastLaunch": true,
    "category": "Accelerated computing",
    "gpuNum": 1,
    "hideHardwareSpecs": false,
    "memoryGiB": 16,
    "name": "ml.g4dn.xlarge",
    "vcpuNum": 4
   },
   {
    "_defaultOrder": 30,
    "_isFastLaunch": false,
    "category": "Accelerated computing",
    "gpuNum": 1,
    "hideHardwareSpecs": false,
    "memoryGiB": 32,
    "name": "ml.g4dn.2xlarge",
    "vcpuNum": 8
   },
   {
    "_defaultOrder": 31,
    "_isFastLaunch": false,
    "category": "Accelerated computing",
    "gpuNum": 1,
    "hideHardwareSpecs": false,
    "memoryGiB": 64,
    "name": "ml.g4dn.4xlarge",
    "vcpuNum": 16
   },
   {
    "_defaultOrder": 32,
    "_isFastLaunch": false,
    "category": "Accelerated computing",
    "gpuNum": 1,
    "hideHardwareSpecs": false,
    "memoryGiB": 128,
    "name": "ml.g4dn.8xlarge",
    "vcpuNum": 32
   },
   {
    "_defaultOrder": 33,
    "_isFastLaunch": false,
    "category": "Accelerated computing",
    "gpuNum": 4,
    "hideHardwareSpecs": false,
    "memoryGiB": 192,
    "name": "ml.g4dn.12xlarge",
    "vcpuNum": 48
   },
   {
    "_defaultOrder": 34,
    "_isFastLaunch": false,
    "category": "Accelerated computing",
    "gpuNum": 1,
    "hideHardwareSpecs": false,
    "memoryGiB": 256,
    "name": "ml.g4dn.16xlarge",
    "vcpuNum": 64
   },
   {
    "_defaultOrder": 35,
    "_isFastLaunch": false,
    "category": "Accelerated computing",
    "gpuNum": 1,
    "hideHardwareSpecs": false,
    "memoryGiB": 61,
    "name": "ml.p3.2xlarge",
    "vcpuNum": 8
   },
   {
    "_defaultOrder": 36,
    "_isFastLaunch": false,
    "category": "Accelerated computing",
    "gpuNum": 4,
    "hideHardwareSpecs": false,
    "memoryGiB": 244,
    "name": "ml.p3.8xlarge",
    "vcpuNum": 32
   },
   {
    "_defaultOrder": 37,
    "_isFastLaunch": false,
    "category": "Accelerated computing",
    "gpuNum": 8,
    "hideHardwareSpecs": false,
    "memoryGiB": 488,
    "name": "ml.p3.16xlarge",
    "vcpuNum": 64
   },
   {
    "_defaultOrder": 38,
    "_isFastLaunch": false,
    "category": "Accelerated computing",
    "gpuNum": 8,
    "hideHardwareSpecs": false,
    "memoryGiB": 768,
    "name": "ml.p3dn.24xlarge",
    "vcpuNum": 96
   },
   {
    "_defaultOrder": 39,
    "_isFastLaunch": false,
    "category": "Memory Optimized",
    "gpuNum": 0,
    "hideHardwareSpecs": false,
    "memoryGiB": 16,
    "name": "ml.r5.large",
    "vcpuNum": 2
   },
   {
    "_defaultOrder": 40,
    "_isFastLaunch": false,
    "category": "Memory Optimized",
    "gpuNum": 0,
    "hideHardwareSpecs": false,
    "memoryGiB": 32,
    "name": "ml.r5.xlarge",
    "vcpuNum": 4
   },
   {
    "_defaultOrder": 41,
    "_isFastLaunch": false,
    "category": "Memory Optimized",
    "gpuNum": 0,
    "hideHardwareSpecs": false,
    "memoryGiB": 64,
    "name": "ml.r5.2xlarge",
    "vcpuNum": 8
   },
   {
    "_defaultOrder": 42,
    "_isFastLaunch": false,
    "category": "Memory Optimized",
    "gpuNum": 0,
    "hideHardwareSpecs": false,
    "memoryGiB": 128,
    "name": "ml.r5.4xlarge",
    "vcpuNum": 16
   },
   {
    "_defaultOrder": 43,
    "_isFastLaunch": false,
    "category": "Memory Optimized",
    "gpuNum": 0,
    "hideHardwareSpecs": false,
    "memoryGiB": 256,
    "name": "ml.r5.8xlarge",
    "vcpuNum": 32
   },
   {
    "_defaultOrder": 44,
    "_isFastLaunch": false,
    "category": "Memory Optimized",
    "gpuNum": 0,
    "hideHardwareSpecs": false,
    "memoryGiB": 384,
    "name": "ml.r5.12xlarge",
    "vcpuNum": 48
   },
   {
    "_defaultOrder": 45,
    "_isFastLaunch": false,
    "category": "Memory Optimized",
    "gpuNum": 0,
    "hideHardwareSpecs": false,
    "memoryGiB": 512,
    "name": "ml.r5.16xlarge",
    "vcpuNum": 64
   },
   {
    "_defaultOrder": 46,
    "_isFastLaunch": false,
    "category": "Memory Optimized",
    "gpuNum": 0,
    "hideHardwareSpecs": false,
    "memoryGiB": 768,
    "name": "ml.r5.24xlarge",
    "vcpuNum": 96
   },
   {
    "_defaultOrder": 47,
    "_isFastLaunch": false,
    "category": "Accelerated computing",
    "gpuNum": 1,
    "hideHardwareSpecs": false,
    "memoryGiB": 16,
    "name": "ml.g5.xlarge",
    "vcpuNum": 4
   },
   {
    "_defaultOrder": 48,
    "_isFastLaunch": false,
    "category": "Accelerated computing",
    "gpuNum": 1,
    "hideHardwareSpecs": false,
    "memoryGiB": 32,
    "name": "ml.g5.2xlarge",
    "vcpuNum": 8
   },
   {
    "_defaultOrder": 49,
    "_isFastLaunch": false,
    "category": "Accelerated computing",
    "gpuNum": 1,
    "hideHardwareSpecs": false,
    "memoryGiB": 64,
    "name": "ml.g5.4xlarge",
    "vcpuNum": 16
   },
   {
    "_defaultOrder": 50,
    "_isFastLaunch": false,
    "category": "Accelerated computing",
    "gpuNum": 1,
    "hideHardwareSpecs": false,
    "memoryGiB": 128,
    "name": "ml.g5.8xlarge",
    "vcpuNum": 32
   },
   {
    "_defaultOrder": 51,
    "_isFastLaunch": false,
    "category": "Accelerated computing",
    "gpuNum": 1,
    "hideHardwareSpecs": false,
    "memoryGiB": 256,
    "name": "ml.g5.16xlarge",
    "vcpuNum": 64
   },
   {
    "_defaultOrder": 52,
    "_isFastLaunch": false,
    "category": "Accelerated computing",
    "gpuNum": 4,
    "hideHardwareSpecs": false,
    "memoryGiB": 192,
    "name": "ml.g5.12xlarge",
    "vcpuNum": 48
   },
   {
    "_defaultOrder": 53,
    "_isFastLaunch": false,
    "category": "Accelerated computing",
    "gpuNum": 4,
    "hideHardwareSpecs": false,
    "memoryGiB": 384,
    "name": "ml.g5.24xlarge",
    "vcpuNum": 96
   },
   {
    "_defaultOrder": 54,
    "_isFastLaunch": false,
    "category": "Accelerated computing",
    "gpuNum": 8,
    "hideHardwareSpecs": false,
    "memoryGiB": 768,
    "name": "ml.g5.48xlarge",
    "vcpuNum": 192
   },
   {
    "_defaultOrder": 55,
    "_isFastLaunch": false,
    "category": "Accelerated computing",
    "gpuNum": 8,
    "hideHardwareSpecs": false,
    "memoryGiB": 1152,
    "name": "ml.p4d.24xlarge",
    "vcpuNum": 96
   },
   {
    "_defaultOrder": 56,
    "_isFastLaunch": false,
    "category": "Accelerated computing",
    "gpuNum": 8,
    "hideHardwareSpecs": false,
    "memoryGiB": 1152,
    "name": "ml.p4de.24xlarge",
    "vcpuNum": 96
   },
   {
    "_defaultOrder": 57,
    "_isFastLaunch": false,
    "category": "Accelerated computing",
    "gpuNum": 0,
    "hideHardwareSpecs": false,
    "memoryGiB": 32,
    "name": "ml.trn1.2xlarge",
    "vcpuNum": 8
   },
   {
    "_defaultOrder": 58,
    "_isFastLaunch": false,
    "category": "Accelerated computing",
    "gpuNum": 0,
    "hideHardwareSpecs": false,
    "memoryGiB": 512,
    "name": "ml.trn1.32xlarge",
    "vcpuNum": 128
   },
   {
    "_defaultOrder": 59,
    "_isFastLaunch": false,
    "category": "Accelerated computing",
    "gpuNum": 0,
    "hideHardwareSpecs": false,
    "memoryGiB": 512,
    "name": "ml.trn1n.32xlarge",
    "vcpuNum": 128
   }
  ],
  "instance_type": "ml.t3.medium",
  "kernelspec": {
   "display_name": "conda_python3",
   "language": "python",
   "name": "conda_python3"
  },
  "language_info": {
   "codemirror_mode": {
    "name": "ipython",
    "version": 3
   },
   "file_extension": ".py",
   "mimetype": "text/x-python",
   "name": "python",
   "nbconvert_exporter": "python",
   "pygments_lexer": "ipython3",
   "version": "3.10.16"
  }
 },
 "nbformat": 4,
 "nbformat_minor": 5
}
