{
 "cells": [
  {
   "cell_type": "markdown",
   "id": "93bdbfa9-94d9-4f17-bf15-dd107f65d8e3",
   "metadata": {},
   "source": [
    "## Dependencies"
   ]
  },
  {
   "cell_type": "code",
   "execution_count": 3,
   "id": "96c3ac2b-d030-4dbe-b79b-570ce37d1fe8",
   "metadata": {},
   "outputs": [
    {
     "name": "stdout",
     "output_type": "stream",
     "text": [
      "sagemaker.config INFO - Not applying SDK defaults from location: /etc/xdg/sagemaker/config.yaml\n",
      "sagemaker.config INFO - Not applying SDK defaults from location: /home/sagemaker-user/.config/sagemaker/config.yaml\n"
     ]
    }
   ],
   "source": [
    "# AWS Imports\n",
    "import boto3\n",
    "from botocore.client import ClientError\n",
    "import sagemaker\n",
    "from pyathena import connect\n",
    "import awswrangler as wr\n",
    "\n",
    "# Data Transformation Imports\n",
    "import pandas as pd\n",
    "from io import StringIO\n",
    "\n",
    "# Misc Imports\n",
    "from IPython.display import display, HTML"
   ]
  },
  {
   "cell_type": "markdown",
   "id": "eee844f8-9796-4b77-ac82-aceefb5f7c6e",
   "metadata": {},
   "source": [
    "## Sagemaker Details and Variable Init"
   ]
  },
  {
   "cell_type": "code",
   "execution_count": 6,
   "id": "423ea0c9-df98-4633-bdfe-9b1294f0a11b",
   "metadata": {},
   "outputs": [],
   "source": [
    "# Create a SageMaker session object, which is used to manage interactions with SageMaker resources.\n",
    "sess = sagemaker.Session()\n",
    "\n",
    "# Retrieve the default Amazon S3 bucket associated with the SageMaker session.\n",
    "bucket = sess.default_bucket()\n",
    "\n",
    "# Get the IAM role associated with the current SageMaker notebook or environment.\n",
    "role = sagemaker.get_execution_role()\n",
    "\n",
    "# Get the AWS region name for the current session.\n",
    "region = boto3.Session().region_name\n",
    "\n",
    "# Retrieve the AWS account ID of the caller using the Security Token Service (STS) client.\n",
    "account_id = boto3.client(\"sts\").get_caller_identity().get(\"Account\")\n",
    "\n",
    "# Create a Boto3 client for the SageMaker service, specifying the AWS region.\n",
    "sm = boto3.Session().client(service_name=\"sagemaker\", region_name=region)"
   ]
  },
  {
   "cell_type": "code",
   "execution_count": 41,
   "id": "c3a56901-1715-48a9-bd9a-56eac8099e4e",
   "metadata": {},
   "outputs": [
    {
     "name": "stdout",
     "output_type": "stream",
     "text": [
      "Training and Testing Path: s3://sagemaker-us-east-1-203012117619/aai-540-group-3-final-project/data/\n",
      "Production and Staging Database Directories: s3://sagemaker-us-east-1-203012117619/athena/prod,s3://sagemaker-us-east-1-203012117619/athena/staging\n",
      "Database Name, Training Table and Testing Table: retainAI, employee_table\n"
     ]
    }
   ],
   "source": [
    "# Initializing variables for reproducibility\n",
    "DATA_PATH = f\"s3://{bucket}/aai-540-group-3-final-project/data/\"\n",
    "DATABASE = \"retainAI\"\n",
    "PROD_DIR = f\"s3://{bucket}/athena/prod\"\n",
    "STAGE_DIR = f\"s3://{bucket}/athena/staging\"\n",
    "EMPLOYEE_TABLE = \"employee_table\"\n",
    "\n",
    "# Making sure all variables are correct\n",
    "\n",
    "print(f\"Training and Testing Path: {DATA_PATH}\")\n",
    "print(f\"Production and Staging Database Directories: {PROD_DIR},{STAGE_DIR}\")\n",
    "print(f\"Database Name, Training Table and Testing Table: {DATABASE}, {EMPLOYEE_TABLE}\")"
   ]
  },
  {
   "cell_type": "markdown",
   "id": "281cc76f-2383-465e-b3b4-bdd3627d7cf8",
   "metadata": {},
   "source": [
    "## Creating Athena Schema"
   ]
  },
  {
   "cell_type": "code",
   "execution_count": 29,
   "id": "49aef035-2f73-40fd-8f64-c3c3472701ee",
   "metadata": {},
   "outputs": [
    {
     "name": "stderr",
     "output_type": "stream",
     "text": [
      "/tmp/ipykernel_2563/693278258.py:11: UserWarning: pandas only supports SQLAlchemy connectable (engine/connection) or database string URI or sqlite3 DBAPI2 connection. Other DBAPI2 objects are not tested. Please consider using SQLAlchemy.\n",
      "  pd.read_sql(db_create_statement, conn)\n"
     ]
    },
    {
     "data": {
      "text/html": [
       "<div>\n",
       "<style scoped>\n",
       "    .dataframe tbody tr th:only-of-type {\n",
       "        vertical-align: middle;\n",
       "    }\n",
       "\n",
       "    .dataframe tbody tr th {\n",
       "        vertical-align: top;\n",
       "    }\n",
       "\n",
       "    .dataframe thead th {\n",
       "        text-align: right;\n",
       "    }\n",
       "</style>\n",
       "<table border=\"1\" class=\"dataframe\">\n",
       "  <thead>\n",
       "    <tr style=\"text-align: right;\">\n",
       "      <th></th>\n",
       "    </tr>\n",
       "  </thead>\n",
       "  <tbody>\n",
       "  </tbody>\n",
       "</table>\n",
       "</div>"
      ],
      "text/plain": [
       "Empty DataFrame\n",
       "Columns: []\n",
       "Index: []"
      ]
     },
     "execution_count": 29,
     "metadata": {},
     "output_type": "execute_result"
    }
   ],
   "source": [
    "# Establish a connection to the AWS Athena service, specifying the region and an S3 staging directory\n",
    "# where query results will be stored.\n",
    "conn = connect(region_name=region, s3_staging_dir=STAGE_DIR)\n",
    "\n",
    "# Define a SQL statement to create a database in Athena if it doesn't already exist.\n",
    "# The database name is dynamically determined by the variable `DATABASE`.\n",
    "db_create_statement = f\"CREATE DATABASE IF NOT EXISTS {DATABASE}\"\n",
    "\n",
    "# Execute the SQL statement using the established connection and Pandas, \n",
    "# which sends the query to Athena and ensures the database is created.\n",
    "pd.read_sql(db_create_statement, conn)"
   ]
  },
  {
   "cell_type": "code",
   "execution_count": 30,
   "id": "c4f007f6-f9fd-4e7c-9bfc-e380f18e6b01",
   "metadata": {},
   "outputs": [
    {
     "name": "stderr",
     "output_type": "stream",
     "text": [
      "/tmp/ipykernel_2563/1619648943.py:5: UserWarning: pandas only supports SQLAlchemy connectable (engine/connection) or database string URI or sqlite3 DBAPI2 connection. Other DBAPI2 objects are not tested. Please consider using SQLAlchemy.\n",
      "  df_show = pd.read_sql(show_db_statement, conn)\n"
     ]
    },
    {
     "data": {
      "text/html": [
       "<div>\n",
       "<style scoped>\n",
       "    .dataframe tbody tr th:only-of-type {\n",
       "        vertical-align: middle;\n",
       "    }\n",
       "\n",
       "    .dataframe tbody tr th {\n",
       "        vertical-align: top;\n",
       "    }\n",
       "\n",
       "    .dataframe thead th {\n",
       "        text-align: right;\n",
       "    }\n",
       "</style>\n",
       "<table border=\"1\" class=\"dataframe\">\n",
       "  <thead>\n",
       "    <tr style=\"text-align: right;\">\n",
       "      <th></th>\n",
       "      <th>database_name</th>\n",
       "    </tr>\n",
       "  </thead>\n",
       "  <tbody>\n",
       "    <tr>\n",
       "      <th>0</th>\n",
       "      <td>aws</td>\n",
       "    </tr>\n",
       "    <tr>\n",
       "      <th>1</th>\n",
       "      <td>default</td>\n",
       "    </tr>\n",
       "    <tr>\n",
       "      <th>2</th>\n",
       "      <td>dsoaws</td>\n",
       "    </tr>\n",
       "    <tr>\n",
       "      <th>3</th>\n",
       "      <td>retainai</td>\n",
       "    </tr>\n",
       "  </tbody>\n",
       "</table>\n",
       "</div>"
      ],
      "text/plain": [
       "  database_name\n",
       "0           aws\n",
       "1       default\n",
       "2        dsoaws\n",
       "3      retainai"
      ]
     },
     "execution_count": 30,
     "metadata": {},
     "output_type": "execute_result"
    }
   ],
   "source": [
    "# Define a SQL statement to list all existing databases in the AWS Athena service.\n",
    "show_db_statement = \"SHOW DATABASES\"\n",
    "\n",
    "# Execute the SQL query using the established connection, and store the results in a Pandas DataFrame.\n",
    "df_show = pd.read_sql(show_db_statement, conn)\n",
    "\n",
    "# Display the first 5 rows of the DataFrame to view the list of databases.\n",
    "df_show.head(5)"
   ]
  },
  {
   "cell_type": "markdown",
   "id": "9919765c-6ea6-4e1a-8f59-972ff7b07dbc",
   "metadata": {},
   "source": [
    "## Registering Data with Athena"
   ]
  },
  {
   "cell_type": "markdown",
   "id": "c7d033f4-15c1-44c6-9a9a-cf86d0dd1f27",
   "metadata": {},
   "source": [
    "### Creating Employee Data Table"
   ]
  },
  {
   "cell_type": "code",
   "execution_count": 42,
   "id": "48f7639c-e68f-4c58-9a94-609797e49e80",
   "metadata": {},
   "outputs": [
    {
     "name": "stdout",
     "output_type": "stream",
     "text": [
      "\n",
      "CREATE EXTERNAL TABLE IF NOT EXISTS retainAI.employee_table (\n",
      "    employee_id INT,\n",
      "    age INT,\n",
      "    gender STRING,\n",
      "    years_at_company INT,\n",
      "    job_role STRING,\n",
      "    monthly_income INT,\n",
      "    work_life_balance STRING,\n",
      "    job_satisfaction STRING,\n",
      "    performance_rating STRING,\n",
      "    number_of_promotions INT,\n",
      "    distance_from_home INT,\n",
      "    education_level STRING,\n",
      "    marital_status STRING,\n",
      "    number_of_dependents INT,\n",
      "    job_level STRING,\n",
      "    company_size STRING,\n",
      "    company_tenure INT,\n",
      "    remote_work STRING,\n",
      "    leadership_opportunities STRING,\n",
      "    innovation_opportunities STRING,\n",
      "    company_reputation STRING,\n",
      "    employee_recognition STRING,\n",
      "    attrition STRING\n",
      ")\n",
      "ROW FORMAT DELIMITED\n",
      "FIELDS TERMINATED BY ','\n",
      "LINES TERMINATED BY '\\n'\n",
      "LOCATION 's3://sagemaker-us-east-1-203012117619/aai-540-group-3-final-project/data/'\n",
      "TBLPROPERTIES ('skip.header.line.count'='1')\n",
      "\n"
     ]
    }
   ],
   "source": [
    "CREATE_STATEMENT = \"\"\"\n",
    "CREATE EXTERNAL TABLE IF NOT EXISTS {}.{} (\n",
    "    employee_id INT,\n",
    "    age INT,\n",
    "    gender STRING,\n",
    "    years_at_company INT,\n",
    "    job_role STRING,\n",
    "    monthly_income INT,\n",
    "    work_life_balance STRING,\n",
    "    job_satisfaction STRING,\n",
    "    performance_rating STRING,\n",
    "    number_of_promotions INT,\n",
    "    distance_from_home INT,\n",
    "    education_level STRING,\n",
    "    marital_status STRING,\n",
    "    number_of_dependents INT,\n",
    "    job_level STRING,\n",
    "    company_size STRING,\n",
    "    company_tenure INT,\n",
    "    remote_work STRING,\n",
    "    leadership_opportunities STRING,\n",
    "    innovation_opportunities STRING,\n",
    "    company_reputation STRING,\n",
    "    employee_recognition STRING,\n",
    "    attrition STRING\n",
    ")\n",
    "ROW FORMAT DELIMITED\n",
    "FIELDS TERMINATED BY ','\n",
    "LINES TERMINATED BY '\\\\n'\n",
    "LOCATION '{}'\n",
    "TBLPROPERTIES ('skip.header.line.count'='1')\n",
    "\"\"\".format(DATABASE, EMPLOYEE_TABLE, DATA_PATH)\n",
    "\n",
    "# Ensuring everything is formatted correctly\n",
    "print(CREATE_STATEMENT)"
   ]
  },
  {
   "cell_type": "code",
   "execution_count": 37,
   "id": "efa40d9f-4f2b-47a3-9bfd-ab3bf53bd1ac",
   "metadata": {},
   "outputs": [
    {
     "name": "stderr",
     "output_type": "stream",
     "text": [
      "/tmp/ipykernel_2563/3582723373.py:2: UserWarning: pandas only supports SQLAlchemy connectable (engine/connection) or database string URI or sqlite3 DBAPI2 connection. Other DBAPI2 objects are not tested. Please consider using SQLAlchemy.\n",
      "  pd.read_sql(TRAIN_CREATE_STATEMENT, conn)\n"
     ]
    },
    {
     "data": {
      "text/html": [
       "<div>\n",
       "<style scoped>\n",
       "    .dataframe tbody tr th:only-of-type {\n",
       "        vertical-align: middle;\n",
       "    }\n",
       "\n",
       "    .dataframe tbody tr th {\n",
       "        vertical-align: top;\n",
       "    }\n",
       "\n",
       "    .dataframe thead th {\n",
       "        text-align: right;\n",
       "    }\n",
       "</style>\n",
       "<table border=\"1\" class=\"dataframe\">\n",
       "  <thead>\n",
       "    <tr style=\"text-align: right;\">\n",
       "      <th></th>\n",
       "    </tr>\n",
       "  </thead>\n",
       "  <tbody>\n",
       "  </tbody>\n",
       "</table>\n",
       "</div>"
      ],
      "text/plain": [
       "Empty DataFrame\n",
       "Columns: []\n",
       "Index: []"
      ]
     },
     "execution_count": 37,
     "metadata": {},
     "output_type": "execute_result"
    }
   ],
   "source": [
    "# Execute the SQL query defined in CREATE_STATEMENT to create the employee data table in Athena. \n",
    "pd.read_sql(CREATE_STATEMENT, conn)"
   ]
  },
  {
   "cell_type": "code",
   "execution_count": 32,
   "id": "36bfe015-0bcd-44e7-9159-77966e8ab397",
   "metadata": {},
   "outputs": [
    {
     "name": "stdout",
     "output_type": "stream",
     "text": [
      "\n",
      "CREATE EXTERNAL TABLE IF NOT EXISTS retainAI.testing_table (\n",
      "    employee_id INT,\n",
      "    age INT,\n",
      "    gender STRING,\n",
      "    years_at_company INT,\n",
      "    job_role STRING,\n",
      "    monthly_income INT,\n",
      "    work_life_balance STRING,\n",
      "    job_satisfaction STRING,\n",
      "    performance_rating STRING,\n",
      "    number_of_promotions INT,\n",
      "    distance_from_home INT,\n",
      "    education_level STRING,\n",
      "    marital_status STRING,\n",
      "    number_of_dependents INT,\n",
      "    job_level STRING,\n",
      "    company_size STRING,\n",
      "    company_tenure INT,\n",
      "    remote_work STRING,\n",
      "    leadership_opportunities STRING,\n",
      "    innovation_opportunities STRING,\n",
      "    company_reputation STRING,\n",
      "    employee_recognition STRING,\n",
      "    attrition STRING\n",
      ")\n",
      "ROW FORMAT DELIMITED\n",
      "FIELDS TERMINATED BY ','\n",
      "LINES TERMINATED BY '\\n'\n",
      "LOCATION 's3://sagemaker-us-east-1-203012117619/aai-540-group-3-final-project/data/test.csv'\n",
      "TBLPROPERTIES ('skip.header.line.count'='1')\n",
      "\n"
     ]
    }
   ],
   "source": [
    "TEST_CREATE_STATEMENT = \"\"\"\n",
    "CREATE EXTERNAL TABLE IF NOT EXISTS {}.{} (\n",
    "    employee_id INT,\n",
    "    age INT,\n",
    "    gender STRING,\n",
    "    years_at_company INT,\n",
    "    job_role STRING,\n",
    "    monthly_income INT,\n",
    "    work_life_balance STRING,\n",
    "    job_satisfaction STRING,\n",
    "    performance_rating STRING,\n",
    "    number_of_promotions INT,\n",
    "    distance_from_home INT,\n",
    "    education_level STRING,\n",
    "    marital_status STRING,\n",
    "    number_of_dependents INT,\n",
    "    job_level STRING,\n",
    "    company_size STRING,\n",
    "    company_tenure INT,\n",
    "    remote_work STRING,\n",
    "    leadership_opportunities STRING,\n",
    "    innovation_opportunities STRING,\n",
    "    company_reputation STRING,\n",
    "    employee_recognition STRING,\n",
    "    attrition STRING\n",
    ")\n",
    "ROW FORMAT DELIMITED\n",
    "FIELDS TERMINATED BY ','\n",
    "LINES TERMINATED BY '\\\\n'\n",
    "LOCATION '{}'\n",
    "TBLPROPERTIES ('skip.header.line.count'='1')\n",
    "\"\"\".format(DATABASE, TESTING_TABLE, BUCKET_PATH_TEST)\n",
    "\n",
    "# Ensuring everything is formatted correctly\n",
    "print(TEST_CREATE_STATEMENT)"
   ]
  },
  {
   "cell_type": "markdown",
   "id": "85a45a7c-54db-498f-9dbe-4d72a1dd27e8",
   "metadata": {},
   "source": [
    "### Check Tables and Ensure Correctness\n",
    "\n",
    "If everything runs correctly, you should see tab_name = employee_table"
   ]
  },
  {
   "cell_type": "code",
   "execution_count": 43,
   "id": "b3bd24ac-f463-42e9-b203-6c9982498fc9",
   "metadata": {},
   "outputs": [
    {
     "name": "stderr",
     "output_type": "stream",
     "text": [
      "/tmp/ipykernel_2563/457795480.py:3: UserWarning: pandas only supports SQLAlchemy connectable (engine/connection) or database string URI or sqlite3 DBAPI2 connection. Other DBAPI2 objects are not tested. Please consider using SQLAlchemy.\n",
      "  df_show = pd.read_sql(check_table_statement, conn)\n"
     ]
    },
    {
     "data": {
      "text/html": [
       "<div>\n",
       "<style scoped>\n",
       "    .dataframe tbody tr th:only-of-type {\n",
       "        vertical-align: middle;\n",
       "    }\n",
       "\n",
       "    .dataframe tbody tr th {\n",
       "        vertical-align: top;\n",
       "    }\n",
       "\n",
       "    .dataframe thead th {\n",
       "        text-align: right;\n",
       "    }\n",
       "</style>\n",
       "<table border=\"1\" class=\"dataframe\">\n",
       "  <thead>\n",
       "    <tr style=\"text-align: right;\">\n",
       "      <th></th>\n",
       "      <th>tab_name</th>\n",
       "    </tr>\n",
       "  </thead>\n",
       "  <tbody>\n",
       "    <tr>\n",
       "      <th>0</th>\n",
       "      <td>employee_table</td>\n",
       "    </tr>\n",
       "  </tbody>\n",
       "</table>\n",
       "</div>"
      ],
      "text/plain": [
       "         tab_name\n",
       "0  employee_table"
      ]
     },
     "execution_count": 43,
     "metadata": {},
     "output_type": "execute_result"
    }
   ],
   "source": [
    "check_table_statement = \"SHOW TABLES in {}\".format(DATABASE)\n",
    "\n",
    "df_show = pd.read_sql(check_table_statement, conn)\n",
    "df_show"
   ]
  },
  {
   "cell_type": "code",
   "execution_count": 44,
   "id": "fd390768-ae1c-458b-8103-1b63812a3fec",
   "metadata": {},
   "outputs": [
    {
     "name": "stderr",
     "output_type": "stream",
     "text": [
      "/tmp/ipykernel_2563/2187136526.py:2: UserWarning: pandas only supports SQLAlchemy connectable (engine/connection) or database string URI or sqlite3 DBAPI2 connection. Other DBAPI2 objects are not tested. Please consider using SQLAlchemy.\n",
      "  count_show = pd.read_sql(count_records,conn)\n"
     ]
    },
    {
     "data": {
      "text/html": [
       "<div>\n",
       "<style scoped>\n",
       "    .dataframe tbody tr th:only-of-type {\n",
       "        vertical-align: middle;\n",
       "    }\n",
       "\n",
       "    .dataframe tbody tr th {\n",
       "        vertical-align: top;\n",
       "    }\n",
       "\n",
       "    .dataframe thead th {\n",
       "        text-align: right;\n",
       "    }\n",
       "</style>\n",
       "<table border=\"1\" class=\"dataframe\">\n",
       "  <thead>\n",
       "    <tr style=\"text-align: right;\">\n",
       "      <th></th>\n",
       "      <th>_col0</th>\n",
       "    </tr>\n",
       "  </thead>\n",
       "  <tbody>\n",
       "    <tr>\n",
       "      <th>0</th>\n",
       "      <td>74498</td>\n",
       "    </tr>\n",
       "  </tbody>\n",
       "</table>\n",
       "</div>"
      ],
      "text/plain": [
       "   _col0\n",
       "0  74498"
      ]
     },
     "execution_count": 44,
     "metadata": {},
     "output_type": "execute_result"
    }
   ],
   "source": [
    "# If everything runs as expected, you should get a return value of 74,498 instances in our table\n",
    "count_records = f\"\"\"SELECT COUNT(*) FROM {DATABASE}.{EMPLOYEE_TABLE}\"\"\"\n",
    "count_show = pd.read_sql(count_records,conn)\n",
    "count_show"
   ]
  },
  {
   "cell_type": "markdown",
   "id": "e3a61743-f119-4a47-90a5-3f0bc2f3a59b",
   "metadata": {},
   "source": [
    "## Release Resources"
   ]
  },
  {
   "cell_type": "code",
   "execution_count": null,
   "id": "7c6fa35c-1fc0-4ca5-a91c-ecbfa4aa46ea",
   "metadata": {},
   "outputs": [],
   "source": [
    "%%html\n",
    "\n",
    "<p><b>Shutting down your kernel for this notebook to release resources.</b></p>\n",
    "<button class=\"sm-command-button\" data-commandlinker-command=\"kernelmenu:shutdown\" style=\"display:none;\">Shutdown Kernel</button>\n",
    "        \n",
    "<script>\n",
    "try {\n",
    "    els = document.getElementsByClassName(\"sm-command-button\");\n",
    "    els[0].click();\n",
    "}\n",
    "catch(err) {\n",
    "    // NoOp\n",
    "}    \n",
    "</script>"
   ]
  },
  {
   "cell_type": "code",
   "execution_count": null,
   "id": "3d581123-55b9-4644-926f-2cc149873ac0",
   "metadata": {},
   "outputs": [],
   "source": [
    "%%javascript\n",
    "\n",
    "try {\n",
    "    Jupyter.notebook.save_checkpoint();\n",
    "    Jupyter.notebook.session.delete();\n",
    "}\n",
    "catch(err) {\n",
    "    // NoOp\n",
    "}"
   ]
  }
 ],
 "metadata": {
  "kernelspec": {
   "display_name": "Python 3 (ipykernel)",
   "language": "python",
   "name": "python3"
  },
  "language_info": {
   "codemirror_mode": {
    "name": "ipython",
    "version": 3
   },
   "file_extension": ".py",
   "mimetype": "text/x-python",
   "name": "python",
   "nbconvert_exporter": "python",
   "pygments_lexer": "ipython3",
   "version": "3.11.11"
  }
 },
 "nbformat": 4,
 "nbformat_minor": 5
}
