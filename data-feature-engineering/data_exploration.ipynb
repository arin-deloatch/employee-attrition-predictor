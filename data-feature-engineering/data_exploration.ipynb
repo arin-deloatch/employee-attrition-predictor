{
 "cells": [
  {
   "cell_type": "markdown",
   "metadata": {
    "id": "FRPpSSZmQFur"
   },
   "source": [
    "## Exploratory Data Analysis"
   ]
  },
  {
   "cell_type": "code",
   "execution_count": 6,
   "metadata": {
    "executionInfo": {
     "elapsed": 243,
     "status": "ok",
     "timestamp": 1736832749445,
     "user": {
      "displayName": "Arin Deloatch",
      "userId": "01812992026619020686"
     },
     "user_tz": 480
    },
    "id": "-Nnn6PsGRg3j"
   },
   "outputs": [],
   "source": [
    "# Data Analysis\n",
    "import kagglehub\n",
    "import pandas as pd\n",
    "from io import StringIO\n",
    "\n",
    "# AWS Imports\n",
    "import boto3\n",
    "from botocore.client import ClientError\n",
    "import sagemaker\n",
    "from pyathena import connect\n",
    "import awswrangler as wr"
   ]
  }
 ],
 "metadata": {
  "colab": {
   "authorship_tag": "ABX9TyOjFRrvahGd+upE3+6/pW6q",
   "provenance": []
  },
  "kernelspec": {
   "display_name": "Python 3 (ipykernel)",
   "language": "python",
   "name": "python3"
  },
  "language_info": {
   "codemirror_mode": {
    "name": "ipython",
    "version": 3
   },
   "file_extension": ".py",
   "mimetype": "text/x-python",
   "name": "python",
   "nbconvert_exporter": "python",
   "pygments_lexer": "ipython3",
   "version": "3.11.11"
  }
 },
 "nbformat": 4,
 "nbformat_minor": 4
}
